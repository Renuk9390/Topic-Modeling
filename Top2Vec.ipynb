{
 "cells": [
  {
   "cell_type": "code",
   "execution_count": 1,
   "id": "b4195e87",
   "metadata": {
    "scrolled": true
   },
   "outputs": [
    {
     "data": {
      "text/html": [
       "<div>\n",
       "<style scoped>\n",
       "    .dataframe tbody tr th:only-of-type {\n",
       "        vertical-align: middle;\n",
       "    }\n",
       "\n",
       "    .dataframe tbody tr th {\n",
       "        vertical-align: top;\n",
       "    }\n",
       "\n",
       "    .dataframe thead th {\n",
       "        text-align: right;\n",
       "    }\n",
       "</style>\n",
       "<table border=\"1\" class=\"dataframe\">\n",
       "  <thead>\n",
       "    <tr style=\"text-align: right;\">\n",
       "      <th></th>\n",
       "      <th>grant_id</th>\n",
       "      <th>claims_text</th>\n",
       "      <th>abstract</th>\n",
       "      <th>tokenized_claims_text</th>\n",
       "    </tr>\n",
       "  </thead>\n",
       "  <tbody>\n",
       "    <tr>\n",
       "      <th>0</th>\n",
       "      <td>USPP030977</td>\n",
       "      <td>1. A new and distinct Mango plant characterize...</td>\n",
       "      <td>A new and distinct variety of Mango plant, her...</td>\n",
       "      <td>[A, new, and, distinct, variety, of, Mango, pl...</td>\n",
       "    </tr>\n",
       "    <tr>\n",
       "      <th>1</th>\n",
       "      <td>USPP030978</td>\n",
       "      <td>1. A new and distinct apple tree substantially...</td>\n",
       "      <td>&amp;#x2018;Honeysuckle Rose #1-6&amp;#x2019; is a new...</td>\n",
       "      <td>[&amp;, #, x2018, ;, Honeysuckle, Rose, #, 1-6, &amp;,...</td>\n",
       "    </tr>\n",
       "    <tr>\n",
       "      <th>2</th>\n",
       "      <td>USPP030979</td>\n",
       "      <td>1. A new and distinct variety of peach tree as...</td>\n",
       "      <td>A new and distinct peach tree variety, &lt;i&gt;Prun...</td>\n",
       "      <td>[A, new, and, distinct, peach, tree, variety, ...</td>\n",
       "    </tr>\n",
       "    <tr>\n",
       "      <th>3</th>\n",
       "      <td>USPP030980</td>\n",
       "      <td>1. A new and distinct variety of raspberry pla...</td>\n",
       "      <td>This invention relates to a new and distinct v...</td>\n",
       "      <td>[This, invention, relates, to, a, new, and, di...</td>\n",
       "    </tr>\n",
       "    <tr>\n",
       "      <th>4</th>\n",
       "      <td>USPP030981</td>\n",
       "      <td>1. A new and distinct Strawberry plant named &amp;...</td>\n",
       "      <td>A new and distinct cultivar of Strawberry plan...</td>\n",
       "      <td>[A, new, and, distinct, cultivar, of, Strawber...</td>\n",
       "    </tr>\n",
       "  </tbody>\n",
       "</table>\n",
       "</div>"
      ],
      "text/plain": [
       "     grant_id                                        claims_text  \\\n",
       "0  USPP030977  1. A new and distinct Mango plant characterize...   \n",
       "1  USPP030978  1. A new and distinct apple tree substantially...   \n",
       "2  USPP030979  1. A new and distinct variety of peach tree as...   \n",
       "3  USPP030980  1. A new and distinct variety of raspberry pla...   \n",
       "4  USPP030981  1. A new and distinct Strawberry plant named &...   \n",
       "\n",
       "                                            abstract  \\\n",
       "0  A new and distinct variety of Mango plant, her...   \n",
       "1  &#x2018;Honeysuckle Rose #1-6&#x2019; is a new...   \n",
       "2  A new and distinct peach tree variety, <i>Prun...   \n",
       "3  This invention relates to a new and distinct v...   \n",
       "4  A new and distinct cultivar of Strawberry plan...   \n",
       "\n",
       "                               tokenized_claims_text  \n",
       "0  [A, new, and, distinct, variety, of, Mango, pl...  \n",
       "1  [&, #, x2018, ;, Honeysuckle, Rose, #, 1-6, &,...  \n",
       "2  [A, new, and, distinct, peach, tree, variety, ...  \n",
       "3  [This, invention, relates, to, a, new, and, di...  \n",
       "4  [A, new, and, distinct, cultivar, of, Strawber...  "
      ]
     },
     "execution_count": 1,
     "metadata": {},
     "output_type": "execute_result"
    }
   ],
   "source": [
    "# Read uspto dataset\n",
    "import pandas as pd\n",
    "import numpy as np\n",
    "import nltk\n",
    "\n",
    "usptodata = pd.read_csv('U.S. Patents.csv')\n",
    "usptodataset=usptodata[[\"grant_id\",\"claims_text\",\"abstract\"]]\n",
    "usptodataset= usptodataset.dropna()\n",
    "usptodataset = usptodataset.reset_index(drop=True)\n",
    "\n",
    "#Tokenize\n",
    "usptodataset['tokenized_claims_text'] = usptodataset.apply(lambda row: nltk.word_tokenize(row['abstract']), axis=1)\n",
    "usptodataset.head()\n"
   ]
  },
  {
   "cell_type": "code",
   "execution_count": 2,
   "id": "dc78ec58",
   "metadata": {},
   "outputs": [],
   "source": [
    "from top2vec import Top2Vec\n",
    "import spacy\n",
    "import gensim\n",
    "import gensim.corpora as corpora\n",
    "from gensim.utils import simple_preprocess\n",
    "import en_core_web_sm \n",
    "\n",
    "allowed_postags = [\"NOUN\", \"ADJ\", \"VERB\", \"ADV\"]\n",
    "docs = docs = list(usptodataset.loc[:, \"abstract\"].values)\n",
    "\n",
    "def lemmatize(docs, allowed_postags = [\"NOUN\", \"ADJ\", \"VERB\", \"ADV\"]):\n",
    "\n",
    "    nlp = spacy.load(\"en_core_web_sm\", disable = [\"parser\", \"ner\"])\n",
    "    lemmatized_docs = []\n",
    "    for doc in docs:\n",
    "        doc = nlp(doc)\n",
    "        tokens = []\n",
    "        for token in doc:\n",
    "            if token.pos_ in allowed_postags:\n",
    "                tokens.append(token.lemma_)\n",
    "        lemmatized_docs.append(\" \".join(tokens))\n",
    "    return (lemmatized_docs)\n",
    "\n",
    "\n",
    "def tokenize(docs):\n",
    "\n",
    "    tokenized_docs = []\n",
    "    for doc in docs:\n",
    "        tokens = gensim.utils.simple_preprocess(doc, deacc=True)\n",
    "        tokenized_docs.append(tokens)\n",
    "    return (tokenized_docs)\n",
    "\n",
    "\n",
    "# Pre-process input: lemmatization and tokenization\n",
    "lemmatized_docs = lemmatize(docs)\n",
    "tokenized_docs = tokenize(lemmatized_docs)\n",
    "\n",
    "# Mapping from word IDs to words\n",
    "id2word = corpora.Dictionary(tokenized_docs)\n",
    "\n",
    "# Prepare Document-Term Matrix\n",
    "corpus = []\n",
    "for doc in tokenized_docs:\n",
    "    corpus.append(id2word.doc2bow(doc))"
   ]
  },
  {
   "cell_type": "code",
   "execution_count": 3,
   "id": "02f2365e",
   "metadata": {},
   "outputs": [
    {
     "name": "stderr",
     "output_type": "stream",
     "text": [
      "2023-01-08 20:48:15,829 - top2vec - INFO - Pre-processing documents for training\n",
      "2023-01-08 20:48:17,251 - top2vec - INFO - Creating joint document/word embedding\n",
      "2023-01-08 20:48:39,435 - top2vec - INFO - Creating lower dimension embedding of documents\n",
      "2023-01-08 20:49:01,375 - top2vec - INFO - Finding dense areas of documents\n",
      "2023-01-08 20:49:01,663 - top2vec - INFO - Finding topics\n"
     ]
    }
   ],
   "source": [
    "from top2vec import Top2Vec\n",
    "import spacy\n",
    "import gensim\n",
    "import gensim.corpora as corpora\n",
    "from gensim.utils import simple_preprocess\n",
    "import en_core_web_sm \n",
    "\n",
    "docs = list(usptodataset.loc[:, \"abstract\"].values)\n",
    "\n",
    "\n",
    "# Create jointly embedded topic, document and word vectors\n",
    "Top2Vec_model = Top2Vec(\n",
    "  docs, \n",
    "  embedding_model = 'doc2vec', # Embedding model: See [1,2] for supported models\n",
    "  min_count = 50,              # Ignore words less frequent than this value\n",
    "  umap_args = None,            # Dict of custom args for UMAP\n",
    "  hdbscan_args = None          # Dict of custom argd for HDBSCAN\n",
    "  )\n",
    "\n",
    "# Visualization examples: See [1,2] for more details\n",
    "\n",
    "# Search the closest 5 topics to the input query \"faith\"\n",
    "# topic_words, word_scores, topic_scores, topic_nums = Top2Vec_model.search_topics(\n",
    "#     keywords = [\"faith\"], \n",
    "#     num_topics = 5)\n",
    "\n",
    "# Plot the resulting topics as wordclouds\n",
    "# for topic in topic_nums:\n",
    "#     topic_model.generate_topic_wordcloud(topic)"
   ]
  },
  {
   "cell_type": "code",
   "execution_count": 4,
   "id": "28b20258",
   "metadata": {},
   "outputs": [
    {
     "name": "stdout",
     "output_type": "stream",
     "text": [
      "[['user' 'information' 'server' ... 'program' 'implemented' 'determine']\n",
      " ['shaft' 'axial' 'engaging' ... 'wall' 'rotation' 'along']\n",
      " ['voltage' 'converter' 'circuit' ... 'driving' 'exceeds' 'time']\n",
      " ...\n",
      " ['implant' 'bone' 'joint' ... 'distal' 'hollow' 'wall']\n",
      " ['neural' 'learning' 'networks' ... 'packets' 'audio' 'features']\n",
      " ['compounds' 'compositions' 'treating' ... 'reaction' 'chain' 'activity']]\n"
     ]
    }
   ],
   "source": [
    "topic_words, word_scores, topic_nums = Top2Vec_model.get_topics()\n",
    "print(topic_words)"
   ]
  },
  {
   "cell_type": "code",
   "execution_count": 13,
   "id": "1c9ee8c4",
   "metadata": {},
   "outputs": [],
   "source": [
    "from gensim.test.utils import common_corpus, common_dictionary\n",
    "from gensim.models.coherencemodel import CoherenceModel\n",
    "\n",
    "cm = CoherenceModel(topics=topic_words, corpus=corpus, dictionary=id2word, coherence='u_mass')\n",
    "coherence_Umass = cm.get_coherence()  # get coherence value"
   ]
  },
  {
   "cell_type": "code",
   "execution_count": 14,
   "id": "8af0c7a6",
   "metadata": {},
   "outputs": [
    {
     "name": "stdout",
     "output_type": "stream",
     "text": [
      "u_mass is:  -7.170394440167691\n"
     ]
    }
   ],
   "source": [
    "print(\"u_mass is: \", coherence_Umass)"
   ]
  },
  {
   "cell_type": "code",
   "execution_count": 28,
   "id": "d7f778be",
   "metadata": {},
   "outputs": [],
   "source": [
    "from gensim.test.utils import common_corpus, common_dictionary\n",
    "from gensim.models.coherencemodel import CoherenceModel\n",
    "\n",
    "cm = CoherenceModel(topics=topic_words, corpus=corpus, texts=tokenized_docs, dictionary=id2word, coherence='c_v')\n",
    "coherence_CV = cm.get_coherence()  # get coherence value"
   ]
  },
  {
   "cell_type": "code",
   "execution_count": 29,
   "id": "a69b9a35",
   "metadata": {},
   "outputs": [
    {
     "name": "stdout",
     "output_type": "stream",
     "text": [
      "c_v is:  0.49601431280473146\n"
     ]
    }
   ],
   "source": [
    "print(\"c_v is: \", coherence_CV)"
   ]
  },
  {
   "cell_type": "code",
   "execution_count": 30,
   "id": "6e15fd06",
   "metadata": {},
   "outputs": [],
   "source": [
    "from gensim.test.utils import common_corpus, common_dictionary\n",
    "from gensim.models.coherencemodel import CoherenceModel\n",
    "\n",
    "cm = CoherenceModel(topics=topic_words, corpus=corpus, texts=tokenized_docs, dictionary=id2word, coherence='c_npmi')\n",
    "coherence_npmi = cm.get_coherence() "
   ]
  },
  {
   "cell_type": "code",
   "execution_count": 31,
   "id": "e6561781",
   "metadata": {},
   "outputs": [
    {
     "name": "stdout",
     "output_type": "stream",
     "text": [
      "c_npmi is:  -0.04580006351283724\n"
     ]
    }
   ],
   "source": [
    "print(\"c_npmi is: \", coherence_npmi)"
   ]
  },
  {
   "cell_type": "code",
   "execution_count": null,
   "id": "9a50718c",
   "metadata": {},
   "outputs": [],
   "source": []
  }
 ],
 "metadata": {
  "kernelspec": {
   "display_name": "Python 3 (ipykernel)",
   "language": "python",
   "name": "python3"
  },
  "language_info": {
   "codemirror_mode": {
    "name": "ipython",
    "version": 3
   },
   "file_extension": ".py",
   "mimetype": "text/x-python",
   "name": "python",
   "nbconvert_exporter": "python",
   "pygments_lexer": "ipython3",
   "version": "3.9.7"
  }
 },
 "nbformat": 4,
 "nbformat_minor": 5
}
