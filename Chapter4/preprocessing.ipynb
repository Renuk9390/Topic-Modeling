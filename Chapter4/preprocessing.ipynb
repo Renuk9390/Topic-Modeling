{
 "cells": [
  {
   "cell_type": "code",
   "execution_count": 149,
   "id": "97f55b79",
   "metadata": {},
   "outputs": [
    {
     "data": {
      "text/html": [
       "<div>\n",
       "<style scoped>\n",
       "    .dataframe tbody tr th:only-of-type {\n",
       "        vertical-align: middle;\n",
       "    }\n",
       "\n",
       "    .dataframe tbody tr th {\n",
       "        vertical-align: top;\n",
       "    }\n",
       "\n",
       "    .dataframe thead th {\n",
       "        text-align: right;\n",
       "    }\n",
       "</style>\n",
       "<table border=\"1\" class=\"dataframe\">\n",
       "  <thead>\n",
       "    <tr style=\"text-align: right;\">\n",
       "      <th></th>\n",
       "      <th>grant_id</th>\n",
       "      <th>abstract</th>\n",
       "    </tr>\n",
       "  </thead>\n",
       "  <tbody>\n",
       "    <tr>\n",
       "      <th>0</th>\n",
       "      <td>USPP030977</td>\n",
       "      <td>A new and distinct variety of Mango plant, her...</td>\n",
       "    </tr>\n",
       "    <tr>\n",
       "      <th>1</th>\n",
       "      <td>USPP030978</td>\n",
       "      <td>&amp;#x2018;Honeysuckle Rose #1-6&amp;#x2019; is a new...</td>\n",
       "    </tr>\n",
       "    <tr>\n",
       "      <th>2</th>\n",
       "      <td>USPP030979</td>\n",
       "      <td>A new and distinct peach tree variety, &lt;i&gt;Prun...</td>\n",
       "    </tr>\n",
       "    <tr>\n",
       "      <th>3</th>\n",
       "      <td>USPP030980</td>\n",
       "      <td>This invention relates to a new and distinct v...</td>\n",
       "    </tr>\n",
       "    <tr>\n",
       "      <th>4</th>\n",
       "      <td>USPP030981</td>\n",
       "      <td>A new and distinct cultivar of Strawberry plan...</td>\n",
       "    </tr>\n",
       "    <tr>\n",
       "      <th>...</th>\n",
       "      <td>...</td>\n",
       "      <td>...</td>\n",
       "    </tr>\n",
       "    <tr>\n",
       "      <th>7008</th>\n",
       "      <td>US10462947</td>\n",
       "      <td>Provided are a first component holding tool op...</td>\n",
       "    </tr>\n",
       "    <tr>\n",
       "      <th>7009</th>\n",
       "      <td>US10462948</td>\n",
       "      <td>In a case in which mounting deviation is occur...</td>\n",
       "    </tr>\n",
       "    <tr>\n",
       "      <th>7010</th>\n",
       "      <td>US10462949</td>\n",
       "      <td>A reel holding device is provided. The device ...</td>\n",
       "    </tr>\n",
       "    <tr>\n",
       "      <th>7011</th>\n",
       "      <td>US10462950</td>\n",
       "      <td>An electronic component bonding device include...</td>\n",
       "    </tr>\n",
       "    <tr>\n",
       "      <th>7012</th>\n",
       "      <td>US10462951</td>\n",
       "      <td>A control device that determines tape referenc...</td>\n",
       "    </tr>\n",
       "  </tbody>\n",
       "</table>\n",
       "<p>7013 rows × 2 columns</p>\n",
       "</div>"
      ],
      "text/plain": [
       "        grant_id                                           abstract\n",
       "0     USPP030977  A new and distinct variety of Mango plant, her...\n",
       "1     USPP030978  &#x2018;Honeysuckle Rose #1-6&#x2019; is a new...\n",
       "2     USPP030979  A new and distinct peach tree variety, <i>Prun...\n",
       "3     USPP030980  This invention relates to a new and distinct v...\n",
       "4     USPP030981  A new and distinct cultivar of Strawberry plan...\n",
       "...          ...                                                ...\n",
       "7008  US10462947  Provided are a first component holding tool op...\n",
       "7009  US10462948  In a case in which mounting deviation is occur...\n",
       "7010  US10462949  A reel holding device is provided. The device ...\n",
       "7011  US10462950  An electronic component bonding device include...\n",
       "7012  US10462951  A control device that determines tape referenc...\n",
       "\n",
       "[7013 rows x 2 columns]"
      ]
     },
     "execution_count": 149,
     "metadata": {},
     "output_type": "execute_result"
    }
   ],
   "source": [
    "#small dataset\n",
    "import numpy as np  \n",
    "import pandas as pd\n",
    "\n",
    "usptodata = pd.read_csv('U.S. Patents.csv')\n",
    "usptodataset=usptodata[[\"grant_id\",\"claims_text\",\"abstract\"]]\n",
    "usptodataset= usptodata.dropna()\n",
    "US_Patent_df = usptodataset.reset_index(drop=True)\n",
    "US_Patent_df= US_Patent_df[['grant_id','abstract']]\n",
    "US_Patent_df"
   ]
  },
  {
   "cell_type": "code",
   "execution_count": 150,
   "id": "0a06fd3c",
   "metadata": {},
   "outputs": [],
   "source": [
    "def cleantext(df): \n",
    "    \n",
    "    US_Patent_df['cleaned_text'] = US_Patent_df['abstract'].replace(r'\\'|\\\"|\\,|\\.|\\?|\\+|\\-|\\/|\\=|\\(|\\)|\\n|\"', '', regex=True)\n",
    "    \n",
    "    # convert to lowercase\n",
    "    US_Patent_df['cleaned_text'] = US_Patent_df['cleaned_text'].str.lower()\n",
    "    \n",
    "    #remove numbers\n",
    "    US_Patent_df['cleaned_text'] =US_Patent_df['cleaned_text'].replace(r'\\d+', '', regex = True)\n",
    "        \n",
    "    #remove_symbols\n",
    "    US_Patent_df['cleaned_text']  = US_Patent_df['cleaned_text'].replace(r'[^a-zA-Z0-9]', \" \", regex=True)\n",
    "    \n",
    "    #remove punctuations \n",
    "    US_Patent_df['cleaned_text'] = US_Patent_df['cleaned_text'].replace(r'[[]!\"#$%\\'()\\*+,-./:;<=>?^_`{|}]+',\"\", regex = True)\n",
    "    \n",
    "    #remove_URL(x):\n",
    "    US_Patent_df['cleaned_text']  = US_Patent_df['cleaned_text'].replace(r'https.*$', \"\", regex = True)\n",
    "    US_Patent_df['cleaned_text'] = US_Patent_df['cleaned_text'].replace(\"   \", \" \", regex = True)\n",
    "    US_Patent_df['cleaned_text'] = US_Patent_df['cleaned_text'].replace(\"  \", \" \", regex = True)\n",
    "   \n",
    "    return US_Patent_df\n",
    "\n",
    "df = cleantext(US_Patent_df)"
   ]
  },
  {
   "cell_type": "code",
   "execution_count": 151,
   "id": "6fa64a0c",
   "metadata": {},
   "outputs": [
    {
     "data": {
      "text/plain": [
       "'A new and distinct variety of Mango plant, herein referred to by its cultivar name, &#x2018;NMBP-1201&#x2019;, is provided which forms fruit with an average weight of 361 grams with skin that is soft red to dark red blush over a yellow background in coloration. The new variety is an early to mid-season variety.'"
      ]
     },
     "execution_count": 151,
     "metadata": {},
     "output_type": "execute_result"
    }
   ],
   "source": [
    "df['abstract'][0]"
   ]
  },
  {
   "cell_type": "code",
   "execution_count": 152,
   "id": "4ddf15c4",
   "metadata": {},
   "outputs": [
    {
     "data": {
      "text/plain": [
       "'a new and distinct variety of mango plant herein referred to by its cultivar name x nmbp x is provided which forms fruit with an average weight of grams with skin that is soft red to dark red blush over a yellow background in coloration the new variety is an early to midseason variety'"
      ]
     },
     "execution_count": 152,
     "metadata": {},
     "output_type": "execute_result"
    }
   ],
   "source": [
    "df['cleaned_text'][0]"
   ]
  },
  {
   "cell_type": "code",
   "execution_count": 153,
   "id": "680f3462",
   "metadata": {},
   "outputs": [
    {
     "data": {
      "text/plain": [
       "'&#x2018;Honeysuckle Rose #1-6&#x2019; is a new variety derived from &#x2018;Simmons Gala&#x2019; characterized by a unique red tint extending into the flesh and a combination of crispness, a thick fruit skin, long stem, resistance to early fruit drop, resistance to fire blight, and late ripening.'"
      ]
     },
     "execution_count": 153,
     "metadata": {},
     "output_type": "execute_result"
    }
   ],
   "source": [
    "df['abstract'][1]"
   ]
  },
  {
   "cell_type": "code",
   "execution_count": 154,
   "id": "de35d240",
   "metadata": {},
   "outputs": [
    {
     "data": {
      "text/plain": [
       "' x honeysuckle rose x is a new variety derived from x simmons gala x characterized by a unique red tint extending into the flesh and a combination of crispness a thick fruit skin long stem resistance to early fruit drop resistance to fire blight and late ripening'"
      ]
     },
     "execution_count": 154,
     "metadata": {},
     "output_type": "execute_result"
    }
   ],
   "source": [
    "df['cleaned_text'][1]"
   ]
  },
  {
   "cell_type": "code",
   "execution_count": 155,
   "id": "45bc6e37",
   "metadata": {},
   "outputs": [
    {
     "data": {
      "text/html": [
       "<div>\n",
       "<style scoped>\n",
       "    .dataframe tbody tr th:only-of-type {\n",
       "        vertical-align: middle;\n",
       "    }\n",
       "\n",
       "    .dataframe tbody tr th {\n",
       "        vertical-align: top;\n",
       "    }\n",
       "\n",
       "    .dataframe thead th {\n",
       "        text-align: right;\n",
       "    }\n",
       "</style>\n",
       "<table border=\"1\" class=\"dataframe\">\n",
       "  <thead>\n",
       "    <tr style=\"text-align: right;\">\n",
       "      <th></th>\n",
       "      <th>grant_id</th>\n",
       "      <th>abstract</th>\n",
       "      <th>cleaned_text</th>\n",
       "      <th>cleaned_text_without_Stopwprd</th>\n",
       "    </tr>\n",
       "  </thead>\n",
       "  <tbody>\n",
       "    <tr>\n",
       "      <th>0</th>\n",
       "      <td>USPP030977</td>\n",
       "      <td>A new and distinct variety of Mango plant, her...</td>\n",
       "      <td>a new and distinct variety of mango plant here...</td>\n",
       "      <td>new distinct variety mango plant herein referr...</td>\n",
       "    </tr>\n",
       "    <tr>\n",
       "      <th>1</th>\n",
       "      <td>USPP030978</td>\n",
       "      <td>&amp;#x2018;Honeysuckle Rose #1-6&amp;#x2019; is a new...</td>\n",
       "      <td>x honeysuckle rose x is a new variety derived...</td>\n",
       "      <td>x honeysuckle rose x new variety derived x sim...</td>\n",
       "    </tr>\n",
       "    <tr>\n",
       "      <th>2</th>\n",
       "      <td>USPP030979</td>\n",
       "      <td>A new and distinct peach tree variety, &lt;i&gt;Prun...</td>\n",
       "      <td>a new and distinct peach tree variety i prunus...</td>\n",
       "      <td>new distinct peach tree variety prunus persica...</td>\n",
       "    </tr>\n",
       "    <tr>\n",
       "      <th>3</th>\n",
       "      <td>USPP030980</td>\n",
       "      <td>This invention relates to a new and distinct v...</td>\n",
       "      <td>this invention relates to a new and distinct v...</td>\n",
       "      <td>invention relates new distinct variety red ras...</td>\n",
       "    </tr>\n",
       "    <tr>\n",
       "      <th>4</th>\n",
       "      <td>USPP030981</td>\n",
       "      <td>A new and distinct cultivar of Strawberry plan...</td>\n",
       "      <td>a new and distinct cultivar of strawberry plan...</td>\n",
       "      <td>new distinct cultivar strawberry plant named x...</td>\n",
       "    </tr>\n",
       "    <tr>\n",
       "      <th>...</th>\n",
       "      <td>...</td>\n",
       "      <td>...</td>\n",
       "      <td>...</td>\n",
       "      <td>...</td>\n",
       "    </tr>\n",
       "    <tr>\n",
       "      <th>7008</th>\n",
       "      <td>US10462947</td>\n",
       "      <td>Provided are a first component holding tool op...</td>\n",
       "      <td>provided are a first component holding tool op...</td>\n",
       "      <td>provided first component holding tool operatin...</td>\n",
       "    </tr>\n",
       "    <tr>\n",
       "      <th>7009</th>\n",
       "      <td>US10462948</td>\n",
       "      <td>In a case in which mounting deviation is occur...</td>\n",
       "      <td>in a case in which mounting deviation is occur...</td>\n",
       "      <td>case mounting deviation occurring component mo...</td>\n",
       "    </tr>\n",
       "    <tr>\n",
       "      <th>7010</th>\n",
       "      <td>US10462949</td>\n",
       "      <td>A reel holding device is provided. The device ...</td>\n",
       "      <td>a reel holding device is provided the device i...</td>\n",
       "      <td>reel holding device provided device includes c...</td>\n",
       "    </tr>\n",
       "    <tr>\n",
       "      <th>7011</th>\n",
       "      <td>US10462950</td>\n",
       "      <td>An electronic component bonding device include...</td>\n",
       "      <td>an electronic component bonding device include...</td>\n",
       "      <td>electronic component bonding device includes m...</td>\n",
       "    </tr>\n",
       "    <tr>\n",
       "      <th>7012</th>\n",
       "      <td>US10462951</td>\n",
       "      <td>A control device that determines tape referenc...</td>\n",
       "      <td>a control device that determines tape referenc...</td>\n",
       "      <td>control device determines tape reference posit...</td>\n",
       "    </tr>\n",
       "  </tbody>\n",
       "</table>\n",
       "<p>7013 rows × 4 columns</p>\n",
       "</div>"
      ],
      "text/plain": [
       "        grant_id                                           abstract  \\\n",
       "0     USPP030977  A new and distinct variety of Mango plant, her...   \n",
       "1     USPP030978  &#x2018;Honeysuckle Rose #1-6&#x2019; is a new...   \n",
       "2     USPP030979  A new and distinct peach tree variety, <i>Prun...   \n",
       "3     USPP030980  This invention relates to a new and distinct v...   \n",
       "4     USPP030981  A new and distinct cultivar of Strawberry plan...   \n",
       "...          ...                                                ...   \n",
       "7008  US10462947  Provided are a first component holding tool op...   \n",
       "7009  US10462948  In a case in which mounting deviation is occur...   \n",
       "7010  US10462949  A reel holding device is provided. The device ...   \n",
       "7011  US10462950  An electronic component bonding device include...   \n",
       "7012  US10462951  A control device that determines tape referenc...   \n",
       "\n",
       "                                           cleaned_text  \\\n",
       "0     a new and distinct variety of mango plant here...   \n",
       "1      x honeysuckle rose x is a new variety derived...   \n",
       "2     a new and distinct peach tree variety i prunus...   \n",
       "3     this invention relates to a new and distinct v...   \n",
       "4     a new and distinct cultivar of strawberry plan...   \n",
       "...                                                 ...   \n",
       "7008  provided are a first component holding tool op...   \n",
       "7009  in a case in which mounting deviation is occur...   \n",
       "7010  a reel holding device is provided the device i...   \n",
       "7011  an electronic component bonding device include...   \n",
       "7012  a control device that determines tape referenc...   \n",
       "\n",
       "                          cleaned_text_without_Stopwprd  \n",
       "0     new distinct variety mango plant herein referr...  \n",
       "1     x honeysuckle rose x new variety derived x sim...  \n",
       "2     new distinct peach tree variety prunus persica...  \n",
       "3     invention relates new distinct variety red ras...  \n",
       "4     new distinct cultivar strawberry plant named x...  \n",
       "...                                                 ...  \n",
       "7008  provided first component holding tool operatin...  \n",
       "7009  case mounting deviation occurring component mo...  \n",
       "7010  reel holding device provided device includes c...  \n",
       "7011  electronic component bonding device includes m...  \n",
       "7012  control device determines tape reference posit...  \n",
       "\n",
       "[7013 rows x 4 columns]"
      ]
     },
     "execution_count": 155,
     "metadata": {},
     "output_type": "execute_result"
    }
   ],
   "source": [
    "#remove stopwords and words_to_remove\n",
    "import nltk\n",
    "stopwords = nltk.corpus.stopwords.words('english')\n",
    "df['cleaned_text_without_Stopwprd'] = df['cleaned_text'].apply(lambda x: ' '.join([word for word in str(x).split() if word not in stopwords]))\n",
    "df"
   ]
  },
  {
   "cell_type": "code",
   "execution_count": 156,
   "id": "df05723b",
   "metadata": {},
   "outputs": [
    {
     "name": "stdout",
     "output_type": "stream",
     "text": [
      "['i', 'me', 'my', 'myself', 'we', 'our', 'ours', 'ourselves', 'you', \"you're\", \"you've\", \"you'll\", \"you'd\", 'your', 'yours', 'yourself', 'yourselves', 'he', 'him', 'his', 'himself', 'she', \"she's\", 'her', 'hers', 'herself', 'it', \"it's\", 'its', 'itself', 'they', 'them', 'their', 'theirs', 'themselves', 'what', 'which', 'who', 'whom', 'this', 'that', \"that'll\", 'these', 'those', 'am', 'is', 'are', 'was', 'were', 'be', 'been', 'being', 'have', 'has', 'had', 'having', 'do', 'does', 'did', 'doing', 'a', 'an', 'the', 'and', 'but', 'if', 'or', 'because', 'as', 'until', 'while', 'of', 'at', 'by', 'for', 'with', 'about', 'against', 'between', 'into', 'through', 'during', 'before', 'after', 'above', 'below', 'to', 'from', 'up', 'down', 'in', 'out', 'on', 'off', 'over', 'under', 'again', 'further', 'then', 'once', 'here', 'there', 'when', 'where', 'why', 'how', 'all', 'any', 'both', 'each', 'few', 'more', 'most', 'other', 'some', 'such', 'no', 'nor', 'not', 'only', 'own', 'same', 'so', 'than', 'too', 'very', 's', 't', 'can', 'will', 'just', 'don', \"don't\", 'should', \"should've\", 'now', 'd', 'll', 'm', 'o', 're', 've', 'y', 'ain', 'aren', \"aren't\", 'couldn', \"couldn't\", 'didn', \"didn't\", 'doesn', \"doesn't\", 'hadn', \"hadn't\", 'hasn', \"hasn't\", 'haven', \"haven't\", 'isn', \"isn't\", 'ma', 'mightn', \"mightn't\", 'mustn', \"mustn't\", 'needn', \"needn't\", 'shan', \"shan't\", 'shouldn', \"shouldn't\", 'wasn', \"wasn't\", 'weren', \"weren't\", 'won', \"won't\", 'wouldn', \"wouldn't\"]\n"
     ]
    }
   ],
   "source": [
    "print(stopwords)"
   ]
  },
  {
   "cell_type": "code",
   "execution_count": 157,
   "id": "75003e3f",
   "metadata": {},
   "outputs": [
    {
     "data": {
      "text/plain": [
       "'x honeysuckle rose x new variety derived x simmons gala x characterized unique red tint extending flesh combination crispness thick fruit skin long stem resistance early fruit drop resistance fire blight late ripening'"
      ]
     },
     "execution_count": 157,
     "metadata": {},
     "output_type": "execute_result"
    }
   ],
   "source": [
    "df['cleaned_text_without_Stopwprd'][1]"
   ]
  },
  {
   "cell_type": "code",
   "execution_count": 158,
   "id": "48e69096",
   "metadata": {},
   "outputs": [],
   "source": [
    "#stemming\n",
    "from nltk.stem import PorterStemmer\n",
    "stemmer = PorterStemmer()\n",
    "def stem_words(text):\n",
    "    return \" \".join([stemmer.stem(word) for word in text.split()])\n",
    "df[\"Stemming\"] = df[\"cleaned_text_without_Stopwprd\"].apply(lambda x: stem_words(x))"
   ]
  },
  {
   "cell_type": "code",
   "execution_count": 159,
   "id": "4dcb43f7",
   "metadata": {},
   "outputs": [
    {
     "data": {
      "text/plain": [
       "'new distinct varieti mango plant herein refer cultivar name x nmbp x provid form fruit averag weight gram skin soft red dark red blush yellow background color new varieti earli midseason varieti'"
      ]
     },
     "execution_count": 159,
     "metadata": {},
     "output_type": "execute_result"
    }
   ],
   "source": [
    "df[\"Stemming\"][0]"
   ]
  },
  {
   "cell_type": "code",
   "execution_count": 160,
   "id": "bfb0daec",
   "metadata": {},
   "outputs": [],
   "source": [
    "from nltk.stem import WordNetLemmatizer\n",
    "lemmatizer = WordNetLemmatizer()\n",
    "def lemmatize_words(text):\n",
    "    return \" \".join([lemmatizer.lemmatize(word) for word in text.split()])\n",
    "df[\"Lemmatization\"] = df[\"cleaned_text_without_Stopwprd\"].apply(lambda text: lemmatize_words(text))"
   ]
  },
  {
   "cell_type": "code",
   "execution_count": 161,
   "id": "33631475",
   "metadata": {},
   "outputs": [
    {
     "data": {
      "text/plain": [
       "'x honeysuckle rose x new variety derived x simmons gala x characterized unique red tint extending flesh combination crispness thick fruit skin long stem resistance early fruit drop resistance fire blight late ripening'"
      ]
     },
     "execution_count": 161,
     "metadata": {},
     "output_type": "execute_result"
    }
   ],
   "source": [
    "df[\"Lemmatization\"][1]"
   ]
  },
  {
   "cell_type": "code",
   "execution_count": 164,
   "id": "6bc26a88",
   "metadata": {},
   "outputs": [
    {
     "data": {
      "text/html": [
       "<div>\n",
       "<style scoped>\n",
       "    .dataframe tbody tr th:only-of-type {\n",
       "        vertical-align: middle;\n",
       "    }\n",
       "\n",
       "    .dataframe tbody tr th {\n",
       "        vertical-align: top;\n",
       "    }\n",
       "\n",
       "    .dataframe thead th {\n",
       "        text-align: right;\n",
       "    }\n",
       "</style>\n",
       "<table border=\"1\" class=\"dataframe\">\n",
       "  <thead>\n",
       "    <tr style=\"text-align: right;\">\n",
       "      <th></th>\n",
       "      <th>grant_id</th>\n",
       "      <th>abstract</th>\n",
       "      <th>cleaned_text</th>\n",
       "      <th>cleaned_text_without_Stopwprd</th>\n",
       "      <th>Stemming</th>\n",
       "      <th>Lemmatization</th>\n",
       "      <th>preprocessed_Abstract</th>\n",
       "      <th>Origin_Abstract</th>\n",
       "    </tr>\n",
       "  </thead>\n",
       "  <tbody>\n",
       "    <tr>\n",
       "      <th>0</th>\n",
       "      <td>USPP030977</td>\n",
       "      <td>A new and distinct variety of Mango plant, her...</td>\n",
       "      <td>a new and distinct variety of mango plant here...</td>\n",
       "      <td>new distinct variety mango plant herein referr...</td>\n",
       "      <td>new distinct varieti mango plant herein refer ...</td>\n",
       "      <td>new distinct variety mango plant herein referr...</td>\n",
       "      <td>32</td>\n",
       "      <td>53</td>\n",
       "    </tr>\n",
       "    <tr>\n",
       "      <th>1</th>\n",
       "      <td>USPP030978</td>\n",
       "      <td>&amp;#x2018;Honeysuckle Rose #1-6&amp;#x2019; is a new...</td>\n",
       "      <td>x honeysuckle rose x is a new variety derived...</td>\n",
       "      <td>x honeysuckle rose x new variety derived x sim...</td>\n",
       "      <td>x honeysuckl rose x new varieti deriv x simmon...</td>\n",
       "      <td>x honeysuckle rose x new variety derived x sim...</td>\n",
       "      <td>33</td>\n",
       "      <td>44</td>\n",
       "    </tr>\n",
       "    <tr>\n",
       "      <th>2</th>\n",
       "      <td>USPP030979</td>\n",
       "      <td>A new and distinct peach tree variety, &lt;i&gt;Prun...</td>\n",
       "      <td>a new and distinct peach tree variety i prunus...</td>\n",
       "      <td>new distinct peach tree variety prunus persica...</td>\n",
       "      <td>new distinct peach tree varieti prunu persica ...</td>\n",
       "      <td>new distinct peach tree variety prunus persica...</td>\n",
       "      <td>22</td>\n",
       "      <td>29</td>\n",
       "    </tr>\n",
       "    <tr>\n",
       "      <th>3</th>\n",
       "      <td>USPP030980</td>\n",
       "      <td>This invention relates to a new and distinct v...</td>\n",
       "      <td>this invention relates to a new and distinct v...</td>\n",
       "      <td>invention relates new distinct variety red ras...</td>\n",
       "      <td>invent relat new distinct varieti red raspberr...</td>\n",
       "      <td>invention relates new distinct variety red ras...</td>\n",
       "      <td>40</td>\n",
       "      <td>57</td>\n",
       "    </tr>\n",
       "    <tr>\n",
       "      <th>4</th>\n",
       "      <td>USPP030981</td>\n",
       "      <td>A new and distinct cultivar of Strawberry plan...</td>\n",
       "      <td>a new and distinct cultivar of strawberry plan...</td>\n",
       "      <td>new distinct cultivar strawberry plant named x...</td>\n",
       "      <td>new distinct cultivar strawberri plant name x ...</td>\n",
       "      <td>new distinct cultivar strawberry plant named x...</td>\n",
       "      <td>53</td>\n",
       "      <td>70</td>\n",
       "    </tr>\n",
       "  </tbody>\n",
       "</table>\n",
       "</div>"
      ],
      "text/plain": [
       "     grant_id                                           abstract  \\\n",
       "0  USPP030977  A new and distinct variety of Mango plant, her...   \n",
       "1  USPP030978  &#x2018;Honeysuckle Rose #1-6&#x2019; is a new...   \n",
       "2  USPP030979  A new and distinct peach tree variety, <i>Prun...   \n",
       "3  USPP030980  This invention relates to a new and distinct v...   \n",
       "4  USPP030981  A new and distinct cultivar of Strawberry plan...   \n",
       "\n",
       "                                        cleaned_text  \\\n",
       "0  a new and distinct variety of mango plant here...   \n",
       "1   x honeysuckle rose x is a new variety derived...   \n",
       "2  a new and distinct peach tree variety i prunus...   \n",
       "3  this invention relates to a new and distinct v...   \n",
       "4  a new and distinct cultivar of strawberry plan...   \n",
       "\n",
       "                       cleaned_text_without_Stopwprd  \\\n",
       "0  new distinct variety mango plant herein referr...   \n",
       "1  x honeysuckle rose x new variety derived x sim...   \n",
       "2  new distinct peach tree variety prunus persica...   \n",
       "3  invention relates new distinct variety red ras...   \n",
       "4  new distinct cultivar strawberry plant named x...   \n",
       "\n",
       "                                            Stemming  \\\n",
       "0  new distinct varieti mango plant herein refer ...   \n",
       "1  x honeysuckl rose x new varieti deriv x simmon...   \n",
       "2  new distinct peach tree varieti prunu persica ...   \n",
       "3  invent relat new distinct varieti red raspberr...   \n",
       "4  new distinct cultivar strawberri plant name x ...   \n",
       "\n",
       "                                       Lemmatization  preprocessed_Abstract  \\\n",
       "0  new distinct variety mango plant herein referr...                     32   \n",
       "1  x honeysuckle rose x new variety derived x sim...                     33   \n",
       "2  new distinct peach tree variety prunus persica...                     22   \n",
       "3  invention relates new distinct variety red ras...                     40   \n",
       "4  new distinct cultivar strawberry plant named x...                     53   \n",
       "\n",
       "   Origin_Abstract  \n",
       "0               53  \n",
       "1               44  \n",
       "2               29  \n",
       "3               57  \n",
       "4               70  "
      ]
     },
     "execution_count": 164,
     "metadata": {},
     "output_type": "execute_result"
    }
   ],
   "source": [
    "df[\"preprocessed_Abstract\"] = df[\"Lemmatization\"].apply(lambda n: len(n.split()))\n",
    "df[\"Origin_Abstract\"] = df[\"abstract\"].apply(lambda n: len(n.split()))\n",
    "df.head()"
   ]
  },
  {
   "cell_type": "code",
   "execution_count": 168,
   "id": "8977e331",
   "metadata": {},
   "outputs": [
    {
     "data": {
      "image/png": "[encoded data removed]",
      "text/plain": [
       "<Figure size 1080x432 with 1 Axes>"
      ]
     },
     "metadata": {
      "needs_background": "light"
     },
     "output_type": "display_data"
    }
   ],
   "source": [
    "import matplotlib.pyplot as plt\n",
    "\n",
    "# gca stands for 'get current axis'\n",
    "ax = plt.gca()\n",
    "\n",
    "df[:100].plot(kind='line',x='grant_id',y='preprocessed_Abstract',ax=ax, figsize=(15,6),  ylabel='Number of abstract words per patent')\n",
    "df[:100].plot(kind='line',x='grant_id',y='Origin_Abstract', color='red', ax=ax,figsize=(15,6))\n",
    "\n",
    "plt.show()"
   ]
  },
  {
   "cell_type": "code",
   "execution_count": null,
   "id": "bc5cfec5",
   "metadata": {},
   "outputs": [],
   "source": []
  },
  {
   "cell_type": "code",
   "execution_count": null,
   "id": "c4ea012e",
   "metadata": {},
   "outputs": [],
   "source": []
  }
 ],
 "metadata": {
  "kernelspec": {
   "display_name": "Python 3 (ipykernel)",
   "language": "python",
   "name": "python3"
  },
  "language_info": {
   "codemirror_mode": {
    "name": "ipython",
    "version": 3
   },
   "file_extension": ".py",
   "mimetype": "text/x-python",
   "name": "python",
   "nbconvert_exporter": "python",
   "pygments_lexer": "ipython3",
   "version": "3.9.7"
  }
 },
 "nbformat": 4,
 "nbformat_minor": 5
}
