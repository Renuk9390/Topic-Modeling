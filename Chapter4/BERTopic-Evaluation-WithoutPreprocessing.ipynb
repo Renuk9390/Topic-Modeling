{
 "cells": [
  {
   "cell_type": "code",
   "execution_count": 3,
   "id": "4156bafd",
   "metadata": {},
   "outputs": [
    {
     "data": {
      "text/html": [
       "<div>\n",
       "<style scoped>\n",
       "    .dataframe tbody tr th:only-of-type {\n",
       "        vertical-align: middle;\n",
       "    }\n",
       "\n",
       "    .dataframe tbody tr th {\n",
       "        vertical-align: top;\n",
       "    }\n",
       "\n",
       "    .dataframe thead th {\n",
       "        text-align: right;\n",
       "    }\n",
       "</style>\n",
       "<table border=\"1\" class=\"dataframe\">\n",
       "  <thead>\n",
       "    <tr style=\"text-align: right;\">\n",
       "      <th></th>\n",
       "      <th>grant_id</th>\n",
       "      <th>abstract</th>\n",
       "    </tr>\n",
       "  </thead>\n",
       "  <tbody>\n",
       "    <tr>\n",
       "      <th>0</th>\n",
       "      <td>USPP030977</td>\n",
       "      <td>A new and distinct variety of Mango plant, her...</td>\n",
       "    </tr>\n",
       "    <tr>\n",
       "      <th>1</th>\n",
       "      <td>USPP030978</td>\n",
       "      <td>&amp;#x2018;Honeysuckle Rose #1-6&amp;#x2019; is a new...</td>\n",
       "    </tr>\n",
       "    <tr>\n",
       "      <th>2</th>\n",
       "      <td>USPP030979</td>\n",
       "      <td>A new and distinct peach tree variety, &lt;i&gt;Prun...</td>\n",
       "    </tr>\n",
       "    <tr>\n",
       "      <th>3</th>\n",
       "      <td>USPP030980</td>\n",
       "      <td>This invention relates to a new and distinct v...</td>\n",
       "    </tr>\n",
       "    <tr>\n",
       "      <th>4</th>\n",
       "      <td>USPP030981</td>\n",
       "      <td>A new and distinct cultivar of Strawberry plan...</td>\n",
       "    </tr>\n",
       "    <tr>\n",
       "      <th>...</th>\n",
       "      <td>...</td>\n",
       "      <td>...</td>\n",
       "    </tr>\n",
       "    <tr>\n",
       "      <th>7008</th>\n",
       "      <td>US10462947</td>\n",
       "      <td>Provided are a first component holding tool op...</td>\n",
       "    </tr>\n",
       "    <tr>\n",
       "      <th>7009</th>\n",
       "      <td>US10462948</td>\n",
       "      <td>In a case in which mounting deviation is occur...</td>\n",
       "    </tr>\n",
       "    <tr>\n",
       "      <th>7010</th>\n",
       "      <td>US10462949</td>\n",
       "      <td>A reel holding device is provided. The device ...</td>\n",
       "    </tr>\n",
       "    <tr>\n",
       "      <th>7011</th>\n",
       "      <td>US10462950</td>\n",
       "      <td>An electronic component bonding device include...</td>\n",
       "    </tr>\n",
       "    <tr>\n",
       "      <th>7012</th>\n",
       "      <td>US10462951</td>\n",
       "      <td>A control device that determines tape referenc...</td>\n",
       "    </tr>\n",
       "  </tbody>\n",
       "</table>\n",
       "<p>7013 rows × 2 columns</p>\n",
       "</div>"
      ],
      "text/plain": [
       "        grant_id                                           abstract\n",
       "0     USPP030977  A new and distinct variety of Mango plant, her...\n",
       "1     USPP030978  &#x2018;Honeysuckle Rose #1-6&#x2019; is a new...\n",
       "2     USPP030979  A new and distinct peach tree variety, <i>Prun...\n",
       "3     USPP030980  This invention relates to a new and distinct v...\n",
       "4     USPP030981  A new and distinct cultivar of Strawberry plan...\n",
       "...          ...                                                ...\n",
       "7008  US10462947  Provided are a first component holding tool op...\n",
       "7009  US10462948  In a case in which mounting deviation is occur...\n",
       "7010  US10462949  A reel holding device is provided. The device ...\n",
       "7011  US10462950  An electronic component bonding device include...\n",
       "7012  US10462951  A control device that determines tape referenc...\n",
       "\n",
       "[7013 rows x 2 columns]"
      ]
     },
     "execution_count": 3,
     "metadata": {},
     "output_type": "execute_result"
    }
   ],
   "source": [
    "#small dataset\n",
    "import numpy as np  \n",
    "import pandas as pd\n",
    "\n",
    "usptodata = pd.read_csv('U.S. Patents.csv')\n",
    "usptodataset=usptodata[[\"grant_id\",\"claims_text\",\"abstract\"]]\n",
    "usptodataset= usptodata.dropna()\n",
    "US_Patent_df = usptodataset.reset_index(drop=True)\n",
    "df= US_Patent_df[['grant_id','abstract']]\n",
    "df"
   ]
  },
  {
   "cell_type": "code",
   "execution_count": 4,
   "id": "36e46c08",
   "metadata": {},
   "outputs": [
    {
     "data": {
      "text/html": [
       "<div>\n",
       "<style scoped>\n",
       "    .dataframe tbody tr th:only-of-type {\n",
       "        vertical-align: middle;\n",
       "    }\n",
       "\n",
       "    .dataframe tbody tr th {\n",
       "        vertical-align: top;\n",
       "    }\n",
       "\n",
       "    .dataframe thead th {\n",
       "        text-align: right;\n",
       "    }\n",
       "</style>\n",
       "<table border=\"1\" class=\"dataframe\">\n",
       "  <thead>\n",
       "    <tr style=\"text-align: right;\">\n",
       "      <th></th>\n",
       "      <th>Topic</th>\n",
       "      <th>Count</th>\n",
       "      <th>Name</th>\n",
       "    </tr>\n",
       "  </thead>\n",
       "  <tbody>\n",
       "    <tr>\n",
       "      <th>1</th>\n",
       "      <td>0</td>\n",
       "      <td>311</td>\n",
       "      <td>0_compositions_invention_acid_methods</td>\n",
       "    </tr>\n",
       "    <tr>\n",
       "      <th>2</th>\n",
       "      <td>1</td>\n",
       "      <td>242</td>\n",
       "      <td>1_wireless_ue_station_communication</td>\n",
       "    </tr>\n",
       "    <tr>\n",
       "      <th>3</th>\n",
       "      <td>2</td>\n",
       "      <td>217</td>\n",
       "      <td>2_semiconductor_layer_gate_substrate</td>\n",
       "    </tr>\n",
       "    <tr>\n",
       "      <th>4</th>\n",
       "      <td>3</td>\n",
       "      <td>161</td>\n",
       "      <td>3_composition_catalyst_polymer_acid</td>\n",
       "    </tr>\n",
       "    <tr>\n",
       "      <th>5</th>\n",
       "      <td>4</td>\n",
       "      <td>111</td>\n",
       "      <td>4_audio_sound_acoustic_speaker</td>\n",
       "    </tr>\n",
       "    <tr>\n",
       "      <th>6</th>\n",
       "      <td>5</td>\n",
       "      <td>101</td>\n",
       "      <td>5_heat_cooling_air_exchanger</td>\n",
       "    </tr>\n",
       "    <tr>\n",
       "      <th>7</th>\n",
       "      <td>6</td>\n",
       "      <td>87</td>\n",
       "      <td>6_display_panel_area_lines</td>\n",
       "    </tr>\n",
       "    <tr>\n",
       "      <th>8</th>\n",
       "      <td>7</td>\n",
       "      <td>86</td>\n",
       "      <td>7_content_search_language_document</td>\n",
       "    </tr>\n",
       "    <tr>\n",
       "      <th>9</th>\n",
       "      <td>8</td>\n",
       "      <td>74</td>\n",
       "      <td>8_composite_material_component_forming</td>\n",
       "    </tr>\n",
       "    <tr>\n",
       "      <th>10</th>\n",
       "      <td>9</td>\n",
       "      <td>69</td>\n",
       "      <td>9_voltage_power_converter_load</td>\n",
       "    </tr>\n",
       "  </tbody>\n",
       "</table>\n",
       "</div>"
      ],
      "text/plain": [
       "    Topic  Count                                    Name\n",
       "1       0    311   0_compositions_invention_acid_methods\n",
       "2       1    242     1_wireless_ue_station_communication\n",
       "3       2    217    2_semiconductor_layer_gate_substrate\n",
       "4       3    161     3_composition_catalyst_polymer_acid\n",
       "5       4    111          4_audio_sound_acoustic_speaker\n",
       "6       5    101            5_heat_cooling_air_exchanger\n",
       "7       6     87              6_display_panel_area_lines\n",
       "8       7     86      7_content_search_language_document\n",
       "9       8     74  8_composite_material_component_forming\n",
       "10      9     69          9_voltage_power_converter_load"
      ]
     },
     "execution_count": 4,
     "metadata": {},
     "output_type": "execute_result"
    }
   ],
   "source": [
    "# Default BERTopic\n",
    "from bertopic import BERTopic\n",
    "\n",
    "\n",
    "topic_model = BERTopic()\n",
    "\n",
    "# Run BERTopic model\n",
    "topics, probabilities = topic_model.fit_transform(df['abstract']) \n",
    "\n",
    "topic_model.get_topic_info()[1:11]"
   ]
  },
  {
   "cell_type": "code",
   "execution_count": 6,
   "id": "d51a8951",
   "metadata": {},
   "outputs": [
    {
     "name": "stdout",
     "output_type": "stream",
     "text": [
      "C_V is:  0.5790462775102138\n"
     ]
    }
   ],
   "source": [
    "import gensim.corpora as corpora\n",
    "from gensim.models.coherencemodel import CoherenceModel\n",
    "\n",
    "documents = pd.DataFrame({\"Document\": df['abstract'],\n",
    "                          \"ID\": range(len(df['abstract'])),\n",
    "                          \"Topic\": topics})\n",
    "documents_per_topic = documents.groupby(['Topic'], as_index=False).agg({'Document': ' '.join})\n",
    "cleaned_docs = topic_model._preprocess_text(documents_per_topic.Document.values)\n",
    "\n",
    "# Extract vectorizer and analyzer from BERTopic\n",
    "vectorizer = topic_model.vectorizer_model\n",
    "analyzer = vectorizer.build_analyzer()\n",
    "\n",
    "# Extract features for Topic Coherence evaluation\n",
    "words = vectorizer.get_feature_names_out()\n",
    "tokens = [analyzer(doc) for doc in cleaned_docs]\n",
    "dictionary = corpora.Dictionary(tokens)\n",
    "corpus = [dictionary.doc2bow(token) for token in tokens]\n",
    "topic_words = [[words for words, _ in topic_model.get_topic(topic)] \n",
    "               for topic in range(len(set(topics))-1)]\n",
    "\n",
    "# Evaluate\n",
    "coherence_model = CoherenceModel(topics=topic_words, \n",
    "                                 texts=tokens, \n",
    "                                 corpus=corpus,\n",
    "                                 dictionary=dictionary, \n",
    "                                 coherence='c_v')\n",
    "coherence_CV= coherence_model.get_coherence()\n",
    "print(\"C_V is: \", coherence_CV)"
   ]
  },
  {
   "cell_type": "code",
   "execution_count": 8,
   "id": "7d01ea46",
   "metadata": {},
   "outputs": [
    {
     "name": "stdout",
     "output_type": "stream",
     "text": [
      "u_mass is:  -0.9942423314098539\n"
     ]
    }
   ],
   "source": [
    "documents = pd.DataFrame({\"Document\": df['abstract'],\n",
    "                          \"ID\": range(len(df['abstract'])),\n",
    "                          \"Topic\": topics})\n",
    "\n",
    "documents_per_topic = documents.groupby(['Topic'], as_index=False).agg({'Document': ' '.join})\n",
    "cleaned_docs = topic_model._preprocess_text(documents_per_topic.Document.values)\n",
    "\n",
    "# Extract vectorizer and analyzer from BERTopic\n",
    "vectorizer = topic_model.vectorizer_model\n",
    "analyzer = vectorizer.build_analyzer()\n",
    "\n",
    "# Extract features for Topic Coherence evaluation\n",
    "words = vectorizer.get_feature_names_out()\n",
    "tokens = [analyzer(doc) for doc in cleaned_docs]\n",
    "dictionary = corpora.Dictionary(tokens)\n",
    "corpus = [dictionary.doc2bow(token) for token in tokens]\n",
    "topic_words = [[words for words, _ in topic_model.get_topic(topic)] \n",
    "               for topic in range(len(set(topics))-1)]\n",
    "\n",
    "# Evaluate\n",
    "coherence_model = CoherenceModel(topics=topic_words, \n",
    "                                 texts=tokens, \n",
    "                                 corpus=corpus,\n",
    "                                 dictionary=dictionary, \n",
    "                                 coherence='u_mass')\n",
    "coherence_u_mass = coherence_model.get_coherence()\n",
    "print(\"u_mass is: \",coherence_u_mass)"
   ]
  },
  {
   "cell_type": "code",
   "execution_count": 10,
   "id": "d34b3a8f",
   "metadata": {},
   "outputs": [
    {
     "name": "stdout",
     "output_type": "stream",
     "text": [
      "c_npmi is:  0.03070224968721843\n"
     ]
    }
   ],
   "source": [
    "documents = pd.DataFrame({\"Document\": df['abstract'],\n",
    "                          \"ID\": range(len(df['abstract'])),\n",
    "                          \"Topic\": topics})\n",
    "\n",
    "documents_per_topic = documents.groupby(['Topic'], as_index=False).agg({'Document': ' '.join})\n",
    "cleaned_docs = topic_model._preprocess_text(documents_per_topic.Document.values)\n",
    "\n",
    "# Extract vectorizer and analyzer from BERTopic\n",
    "vectorizer = topic_model.vectorizer_model\n",
    "analyzer = vectorizer.build_analyzer()\n",
    "\n",
    "# Extract features for Topic Coherence evaluation\n",
    "words = vectorizer.get_feature_names_out()\n",
    "tokens = [analyzer(doc) for doc in cleaned_docs]\n",
    "dictionary = corpora.Dictionary(tokens)\n",
    "corpus = [dictionary.doc2bow(token) for token in tokens]\n",
    "topic_words = [[words for words, _ in topic_model.get_topic(topic)] \n",
    "               for topic in range(len(set(topics))-1)]\n",
    "\n",
    "# Evaluate\n",
    "coherence_model = CoherenceModel(topics=topic_words, \n",
    "                                 texts=tokens, \n",
    "                                 corpus=corpus,\n",
    "                                 dictionary=dictionary, \n",
    "                                 coherence='c_npmi')\n",
    "coherence_c_nmpi = coherence_model.get_coherence()\n",
    "print(\"c_npmi is: \",coherence_c_nmpi)"
   ]
  },
  {
   "cell_type": "code",
   "execution_count": 11,
   "id": "1c034638",
   "metadata": {},
   "outputs": [],
   "source": [
    "#Document Embedding"
   ]
  },
  {
   "cell_type": "code",
   "execution_count": 23,
   "id": "0f656a9f",
   "metadata": {},
   "outputs": [],
   "source": [
    "# SBert\n",
    "from bertopic import BERTopic\n",
    "from sentence_transformers import SentenceTransformer\n",
    "\n",
    "sentence_model = SentenceTransformer(\"all-MiniLM-L6-v2\")\n",
    "\n",
    "                  \n",
    "# Initiate BERTopic\n",
    "topic_model = BERTopic(embedding_model=sentence_model)\n",
    "\n",
    "# Run BERTopic model\n",
    "topics, probabilities = topic_model.fit_transform(df['abstract']) "
   ]
  },
  {
   "cell_type": "code",
   "execution_count": 24,
   "id": "c92c0e8b",
   "metadata": {},
   "outputs": [
    {
     "name": "stdout",
     "output_type": "stream",
     "text": [
      "C_V is:  0.5776808930163991\n"
     ]
    }
   ],
   "source": [
    "import gensim.corpora as corpora\n",
    "from gensim.models.coherencemodel import CoherenceModel\n",
    "\n",
    "documents = pd.DataFrame({\"Document\": df['abstract'],\n",
    "                          \"ID\": range(len(df['abstract'])),\n",
    "                          \"Topic\": topics})\n",
    "documents_per_topic = documents.groupby(['Topic'], as_index=False).agg({'Document': ' '.join})\n",
    "cleaned_docs = topic_model._preprocess_text(documents_per_topic.Document.values)\n",
    "\n",
    "# Extract vectorizer and analyzer from BERTopic\n",
    "vectorizer = topic_model.vectorizer_model\n",
    "analyzer = vectorizer.build_analyzer()\n",
    "\n",
    "# Extract features for Topic Coherence evaluation\n",
    "words = vectorizer.get_feature_names_out()\n",
    "tokens = [analyzer(doc) for doc in cleaned_docs]\n",
    "dictionary = corpora.Dictionary(tokens)\n",
    "corpus = [dictionary.doc2bow(token) for token in tokens]\n",
    "topic_words = [[words for words, _ in topic_model.get_topic(topic)] \n",
    "               for topic in range(len(set(topics))-1)]\n",
    "\n",
    "# Evaluate\n",
    "coherence_model = CoherenceModel(topics=topic_words, \n",
    "                                 texts=tokens, \n",
    "                                 corpus=corpus,\n",
    "                                 dictionary=dictionary, \n",
    "                                 coherence='c_v')\n",
    "coherence_CV= coherence_model.get_coherence()\n",
    "print(\"C_V is: \", coherence_CV)"
   ]
  },
  {
   "cell_type": "code",
   "execution_count": 14,
   "id": "1e838384",
   "metadata": {},
   "outputs": [
    {
     "name": "stdout",
     "output_type": "stream",
     "text": [
      "u_mass is:  -0.9987578856203695\n"
     ]
    }
   ],
   "source": [
    "documents = pd.DataFrame({\"Document\": df['abstract'],\n",
    "                          \"ID\": range(len(df['abstract'])),\n",
    "                          \"Topic\": topics})\n",
    "\n",
    "documents_per_topic = documents.groupby(['Topic'], as_index=False).agg({'Document': ' '.join})\n",
    "cleaned_docs = topic_model._preprocess_text(documents_per_topic.Document.values)\n",
    "\n",
    "# Extract vectorizer and analyzer from BERTopic\n",
    "vectorizer = topic_model.vectorizer_model\n",
    "analyzer = vectorizer.build_analyzer()\n",
    "\n",
    "# Extract features for Topic Coherence evaluation\n",
    "words = vectorizer.get_feature_names_out()\n",
    "tokens = [analyzer(doc) for doc in cleaned_docs]\n",
    "dictionary = corpora.Dictionary(tokens)\n",
    "corpus = [dictionary.doc2bow(token) for token in tokens]\n",
    "topic_words = [[words for words, _ in topic_model.get_topic(topic)] \n",
    "               for topic in range(len(set(topics))-1)]\n",
    "\n",
    "# Evaluate\n",
    "coherence_model = CoherenceModel(topics=topic_words, \n",
    "                                 texts=tokens, \n",
    "                                 corpus=corpus,\n",
    "                                 dictionary=dictionary, \n",
    "                                 coherence='u_mass')\n",
    "coherence_u_mass = coherence_model.get_coherence()\n",
    "print(\"u_mass is: \",coherence_u_mass)"
   ]
  },
  {
   "cell_type": "code",
   "execution_count": 15,
   "id": "df879269",
   "metadata": {},
   "outputs": [
    {
     "name": "stdout",
     "output_type": "stream",
     "text": [
      "c_npmi is:  0.02983151604335143\n"
     ]
    }
   ],
   "source": [
    "documents = pd.DataFrame({\"Document\": df['abstract'],\n",
    "                          \"ID\": range(len(df['abstract'])),\n",
    "                          \"Topic\": topics})\n",
    "\n",
    "documents_per_topic = documents.groupby(['Topic'], as_index=False).agg({'Document': ' '.join})\n",
    "cleaned_docs = topic_model._preprocess_text(documents_per_topic.Document.values)\n",
    "\n",
    "# Extract vectorizer and analyzer from BERTopic\n",
    "vectorizer = topic_model.vectorizer_model\n",
    "analyzer = vectorizer.build_analyzer()\n",
    "\n",
    "# Extract features for Topic Coherence evaluation\n",
    "words = vectorizer.get_feature_names_out()\n",
    "tokens = [analyzer(doc) for doc in cleaned_docs]\n",
    "dictionary = corpora.Dictionary(tokens)\n",
    "corpus = [dictionary.doc2bow(token) for token in tokens]\n",
    "topic_words = [[words for words, _ in topic_model.get_topic(topic)] \n",
    "               for topic in range(len(set(topics))-1)]\n",
    "\n",
    "# Evaluate\n",
    "coherence_model = CoherenceModel(topics=topic_words, \n",
    "                                 texts=tokens, \n",
    "                                 corpus=corpus,\n",
    "                                 dictionary=dictionary, \n",
    "                                 coherence='c_npmi')\n",
    "coherence_c_nmpi = coherence_model.get_coherence()\n",
    "print(\"c_npmi is: \",coherence_c_nmpi)"
   ]
  },
  {
   "cell_type": "code",
   "execution_count": null,
   "id": "2534348e",
   "metadata": {},
   "outputs": [],
   "source": [
    "#Flair Document RNN Embeddings"
   ]
  },
  {
   "cell_type": "code",
   "execution_count": 16,
   "id": "184fb071",
   "metadata": {},
   "outputs": [],
   "source": [
    "#Flair Document RNN Embeddings\n",
    "from flair.embeddings import WordEmbeddings, DocumentRNNEmbeddings\n",
    "\n",
    "glove_embedding = WordEmbeddings('glove')\n",
    "\n",
    "document_embeddings_RNN = DocumentRNNEmbeddings([glove_embedding])\n",
    "\n",
    "# Initiate BERTopic\n",
    "topic_model = BERTopic(embedding_model=document_embeddings_RNN)\n",
    "\n",
    "# Run BERTopic model\n",
    "topics, probabilities = topic_model.fit_transform(df['abstract']) \n"
   ]
  },
  {
   "cell_type": "code",
   "execution_count": 17,
   "id": "0ad79731",
   "metadata": {},
   "outputs": [
    {
     "name": "stdout",
     "output_type": "stream",
     "text": [
      "C_V is:  0.3688731222285405\n"
     ]
    }
   ],
   "source": [
    "import gensim.corpora as corpora\n",
    "from gensim.models.coherencemodel import CoherenceModel\n",
    "\n",
    "documents = pd.DataFrame({\"Document\": df['abstract'],\n",
    "                          \"ID\": range(len(df['abstract'])),\n",
    "                          \"Topic\": topics})\n",
    "documents_per_topic = documents.groupby(['Topic'], as_index=False).agg({'Document': ' '.join})\n",
    "cleaned_docs = topic_model._preprocess_text(documents_per_topic.Document.values)\n",
    "\n",
    "# Extract vectorizer and analyzer from BERTopic\n",
    "vectorizer = topic_model.vectorizer_model\n",
    "analyzer = vectorizer.build_analyzer()\n",
    "\n",
    "# Extract features for Topic Coherence evaluation\n",
    "words = vectorizer.get_feature_names_out()\n",
    "tokens = [analyzer(doc) for doc in cleaned_docs]\n",
    "dictionary = corpora.Dictionary(tokens)\n",
    "corpus = [dictionary.doc2bow(token) for token in tokens]\n",
    "topic_words = [[words for words, _ in topic_model.get_topic(topic)] \n",
    "               for topic in range(len(set(topics))-1)]\n",
    "\n",
    "# Evaluate\n",
    "coherence_model = CoherenceModel(topics=topic_words, \n",
    "                                 texts=tokens, \n",
    "                                 corpus=corpus,\n",
    "                                 dictionary=dictionary, \n",
    "                                 coherence='c_v')\n",
    "coherence_CV= coherence_model.get_coherence()\n",
    "print(\"C_V is: \", coherence_CV)"
   ]
  },
  {
   "cell_type": "code",
   "execution_count": 18,
   "id": "6fbb2ef5",
   "metadata": {},
   "outputs": [
    {
     "name": "stdout",
     "output_type": "stream",
     "text": [
      "u_mass is:  -1.3973022807541868\n"
     ]
    }
   ],
   "source": [
    "documents = pd.DataFrame({\"Document\": df['abstract'],\n",
    "                          \"ID\": range(len(df['abstract'])),\n",
    "                          \"Topic\": topics})\n",
    "\n",
    "documents_per_topic = documents.groupby(['Topic'], as_index=False).agg({'Document': ' '.join})\n",
    "cleaned_docs = topic_model._preprocess_text(documents_per_topic.Document.values)\n",
    "\n",
    "# Extract vectorizer and analyzer from BERTopic\n",
    "vectorizer = topic_model.vectorizer_model\n",
    "analyzer = vectorizer.build_analyzer()\n",
    "\n",
    "# Extract features for Topic Coherence evaluation\n",
    "words = vectorizer.get_feature_names_out()\n",
    "tokens = [analyzer(doc) for doc in cleaned_docs]\n",
    "dictionary = corpora.Dictionary(tokens)\n",
    "corpus = [dictionary.doc2bow(token) for token in tokens]\n",
    "topic_words = [[words for words, _ in topic_model.get_topic(topic)] \n",
    "               for topic in range(len(set(topics))-1)]\n",
    "\n",
    "# Evaluate\n",
    "coherence_model = CoherenceModel(topics=topic_words, \n",
    "                                 texts=tokens, \n",
    "                                 corpus=corpus,\n",
    "                                 dictionary=dictionary, \n",
    "                                 coherence='u_mass')\n",
    "coherence_u_mass = coherence_model.get_coherence()\n",
    "print(\"u_mass is: \",coherence_u_mass)"
   ]
  },
  {
   "cell_type": "code",
   "execution_count": 20,
   "id": "dddacf54",
   "metadata": {},
   "outputs": [
    {
     "name": "stdout",
     "output_type": "stream",
     "text": [
      "c_npmi is:  -0.1686189482985781\n"
     ]
    }
   ],
   "source": [
    "documents = pd.DataFrame({\"Document\": df['abstract'],\n",
    "                          \"ID\": range(len(df['abstract'])),\n",
    "                          \"Topic\": topics})\n",
    "\n",
    "documents_per_topic = documents.groupby(['Topic'], as_index=False).agg({'Document': ' '.join})\n",
    "cleaned_docs = topic_model._preprocess_text(documents_per_topic.Document.values)\n",
    "\n",
    "# Extract vectorizer and analyzer from BERTopic\n",
    "vectorizer = topic_model.vectorizer_model\n",
    "analyzer = vectorizer.build_analyzer()\n",
    "\n",
    "# Extract features for Topic Coherence evaluation\n",
    "words = vectorizer.get_feature_names_out()\n",
    "tokens = [analyzer(doc) for doc in cleaned_docs]\n",
    "dictionary = corpora.Dictionary(tokens)\n",
    "corpus = [dictionary.doc2bow(token) for token in tokens]\n",
    "topic_words = [[words for words, _ in topic_model.get_topic(topic)] \n",
    "               for topic in range(len(set(topics))-1)]\n",
    "\n",
    "# Evaluate\n",
    "coherence_model = CoherenceModel(topics=topic_words, \n",
    "                                 texts=tokens, \n",
    "                                 corpus=corpus,\n",
    "                                 dictionary=dictionary, \n",
    "                                 coherence='c_npmi')\n",
    "coherence_c_nmpi = coherence_model.get_coherence()\n",
    "print(\"c_npmi is: \",coherence_c_nmpi)"
   ]
  },
  {
   "cell_type": "code",
   "execution_count": 25,
   "id": "5bda99b2",
   "metadata": {},
   "outputs": [],
   "source": [
    "# Scikit-Learn Embeddings"
   ]
  },
  {
   "cell_type": "code",
   "execution_count": 27,
   "id": "5ea2e2c1",
   "metadata": {},
   "outputs": [],
   "source": [
    "# Scikit-Learn Embeddings\n",
    "from sklearn.pipeline import make_pipeline\n",
    "from sklearn.decomposition import TruncatedSVD\n",
    "from sklearn.feature_extraction.text import TfidfVectorizer\n",
    "\n",
    "pipe = make_pipeline(\n",
    "    TfidfVectorizer(),\n",
    "    TruncatedSVD(100)\n",
    ")\n",
    "\n",
    "topic_model = BERTopic(embedding_model=pipe)\n",
    "\n",
    "# Run BERTopic model\n",
    "topics, probabilities = topic_model.fit_transform(df['abstract']) \n"
   ]
  },
  {
   "cell_type": "code",
   "execution_count": 28,
   "id": "b68e6789",
   "metadata": {},
   "outputs": [
    {
     "name": "stdout",
     "output_type": "stream",
     "text": [
      "C_V is:  0.5787289984553984\n"
     ]
    }
   ],
   "source": [
    "import gensim.corpora as corpora\n",
    "from gensim.models.coherencemodel import CoherenceModel\n",
    "\n",
    "documents = pd.DataFrame({\"Document\": df['abstract'],\n",
    "                          \"ID\": range(len(df['abstract'])),\n",
    "                          \"Topic\": topics})\n",
    "documents_per_topic = documents.groupby(['Topic'], as_index=False).agg({'Document': ' '.join})\n",
    "cleaned_docs = topic_model._preprocess_text(documents_per_topic.Document.values)\n",
    "\n",
    "# Extract vectorizer and analyzer from BERTopic\n",
    "vectorizer = topic_model.vectorizer_model\n",
    "analyzer = vectorizer.build_analyzer()\n",
    "\n",
    "# Extract features for Topic Coherence evaluation\n",
    "words = vectorizer.get_feature_names_out()\n",
    "tokens = [analyzer(doc) for doc in cleaned_docs]\n",
    "dictionary = corpora.Dictionary(tokens)\n",
    "corpus = [dictionary.doc2bow(token) for token in tokens]\n",
    "topic_words = [[words for words, _ in topic_model.get_topic(topic)] \n",
    "               for topic in range(len(set(topics))-1)]\n",
    "\n",
    "# Evaluate\n",
    "coherence_model = CoherenceModel(topics=topic_words, \n",
    "                                 texts=tokens, \n",
    "                                 corpus=corpus,\n",
    "                                 dictionary=dictionary, \n",
    "                                 coherence='c_v')\n",
    "coherence_CV= coherence_model.get_coherence()\n",
    "print(\"C_V is: \", coherence_CV)"
   ]
  },
  {
   "cell_type": "code",
   "execution_count": 29,
   "id": "b28e2fae",
   "metadata": {},
   "outputs": [
    {
     "name": "stdout",
     "output_type": "stream",
     "text": [
      "u_mass is:  -0.9486350112854466\n"
     ]
    }
   ],
   "source": [
    "documents = pd.DataFrame({\"Document\": df['abstract'],\n",
    "                          \"ID\": range(len(df['abstract'])),\n",
    "                          \"Topic\": topics})\n",
    "\n",
    "documents_per_topic = documents.groupby(['Topic'], as_index=False).agg({'Document': ' '.join})\n",
    "cleaned_docs = topic_model._preprocess_text(documents_per_topic.Document.values)\n",
    "\n",
    "# Extract vectorizer and analyzer from BERTopic\n",
    "vectorizer = topic_model.vectorizer_model\n",
    "analyzer = vectorizer.build_analyzer()\n",
    "\n",
    "# Extract features for Topic Coherence evaluation\n",
    "words = vectorizer.get_feature_names_out()\n",
    "tokens = [analyzer(doc) for doc in cleaned_docs]\n",
    "dictionary = corpora.Dictionary(tokens)\n",
    "corpus = [dictionary.doc2bow(token) for token in tokens]\n",
    "topic_words = [[words for words, _ in topic_model.get_topic(topic)] \n",
    "               for topic in range(len(set(topics))-1)]\n",
    "\n",
    "# Evaluate\n",
    "coherence_model = CoherenceModel(topics=topic_words, \n",
    "                                 texts=tokens, \n",
    "                                 corpus=corpus,\n",
    "                                 dictionary=dictionary, \n",
    "                                 coherence='u_mass')\n",
    "coherence_u_mass = coherence_model.get_coherence()\n",
    "print(\"u_mass is: \",coherence_u_mass)"
   ]
  },
  {
   "cell_type": "code",
   "execution_count": 30,
   "id": "b59b7423",
   "metadata": {},
   "outputs": [
    {
     "name": "stdout",
     "output_type": "stream",
     "text": [
      "c_npmi is:  0.03643839864634053\n"
     ]
    }
   ],
   "source": [
    "documents = pd.DataFrame({\"Document\": df['abstract'],\n",
    "                          \"ID\": range(len(df['abstract'])),\n",
    "                          \"Topic\": topics})\n",
    "\n",
    "documents_per_topic = documents.groupby(['Topic'], as_index=False).agg({'Document': ' '.join})\n",
    "cleaned_docs = topic_model._preprocess_text(documents_per_topic.Document.values)\n",
    "\n",
    "# Extract vectorizer and analyzer from BERTopic\n",
    "vectorizer = topic_model.vectorizer_model\n",
    "analyzer = vectorizer.build_analyzer()\n",
    "\n",
    "# Extract features for Topic Coherence evaluation\n",
    "words = vectorizer.get_feature_names_out()\n",
    "tokens = [analyzer(doc) for doc in cleaned_docs]\n",
    "dictionary = corpora.Dictionary(tokens)\n",
    "corpus = [dictionary.doc2bow(token) for token in tokens]\n",
    "topic_words = [[words for words, _ in topic_model.get_topic(topic)] \n",
    "               for topic in range(len(set(topics))-1)]\n",
    "\n",
    "# Evaluate\n",
    "coherence_model = CoherenceModel(topics=topic_words, \n",
    "                                 texts=tokens, \n",
    "                                 corpus=corpus,\n",
    "                                 dictionary=dictionary, \n",
    "                                 coherence='c_npmi')\n",
    "coherence_c_nmpi = coherence_model.get_coherence()\n",
    "print(\"c_npmi is: \",coherence_c_nmpi)"
   ]
  },
  {
   "cell_type": "code",
   "execution_count": null,
   "id": "21473b99",
   "metadata": {},
   "outputs": [],
   "source": [
    "#Word + Document Embeddings"
   ]
  },
  {
   "cell_type": "code",
   "execution_count": 32,
   "id": "5cdba0bd",
   "metadata": {},
   "outputs": [],
   "source": [
    "#Word + Document Embeddings\n",
    "\n",
    "from bertopic.backend import WordDocEmbedder\n",
    "import gensim.downloader as api\n",
    "from sentence_transformers import SentenceTransformer\n",
    "\n",
    "# Word embedding model\n",
    "ft = api.load('fasttext-wiki-news-subwords-300')\n",
    "\n",
    "# Document embedding model\n",
    "embedding_model = SentenceTransformer(\"all-MiniLM-L6-v2\")\n",
    "\n",
    "# Create a model that uses both language models and pass it through BERTopic\n",
    "word_doc_embedder = WordDocEmbedder(embedding_model=embedding_model, word_embedding_model=ft)\n",
    "topic_model = BERTopic(embedding_model=word_doc_embedder)\n",
    "\n",
    "# Run BERTopic model\n",
    "topics, probabilities = topic_model.fit_transform(df['abstract']) \n"
   ]
  },
  {
   "cell_type": "code",
   "execution_count": 33,
   "id": "c8de8c8d",
   "metadata": {},
   "outputs": [
    {
     "name": "stdout",
     "output_type": "stream",
     "text": [
      "C_V is:  0.5830973504252722\n"
     ]
    }
   ],
   "source": [
    "import gensim.corpora as corpora\n",
    "from gensim.models.coherencemodel import CoherenceModel\n",
    "\n",
    "documents = pd.DataFrame({\"Document\": df['abstract'],\n",
    "                          \"ID\": range(len(df['abstract'])),\n",
    "                          \"Topic\": topics})\n",
    "documents_per_topic = documents.groupby(['Topic'], as_index=False).agg({'Document': ' '.join})\n",
    "cleaned_docs = topic_model._preprocess_text(documents_per_topic.Document.values)\n",
    "\n",
    "# Extract vectorizer and analyzer from BERTopic\n",
    "vectorizer = topic_model.vectorizer_model\n",
    "analyzer = vectorizer.build_analyzer()\n",
    "\n",
    "# Extract features for Topic Coherence evaluation\n",
    "words = vectorizer.get_feature_names_out()\n",
    "tokens = [analyzer(doc) for doc in cleaned_docs]\n",
    "dictionary = corpora.Dictionary(tokens)\n",
    "corpus = [dictionary.doc2bow(token) for token in tokens]\n",
    "topic_words = [[words for words, _ in topic_model.get_topic(topic)] \n",
    "               for topic in range(len(set(topics))-1)]\n",
    "\n",
    "# Evaluate\n",
    "coherence_model = CoherenceModel(topics=topic_words, \n",
    "                                 texts=tokens, \n",
    "                                 corpus=corpus,\n",
    "                                 dictionary=dictionary, \n",
    "                                 coherence='c_v')\n",
    "coherence_CV= coherence_model.get_coherence()\n",
    "print(\"C_V is: \", coherence_CV)"
   ]
  },
  {
   "cell_type": "code",
   "execution_count": 34,
   "id": "9ae26b53",
   "metadata": {},
   "outputs": [
    {
     "name": "stdout",
     "output_type": "stream",
     "text": [
      "u_mass is:  -0.94175020479732\n"
     ]
    }
   ],
   "source": [
    "documents = pd.DataFrame({\"Document\": df['abstract'],\n",
    "                          \"ID\": range(len(df['abstract'])),\n",
    "                          \"Topic\": topics})\n",
    "\n",
    "documents_per_topic = documents.groupby(['Topic'], as_index=False).agg({'Document': ' '.join})\n",
    "cleaned_docs = topic_model._preprocess_text(documents_per_topic.Document.values)\n",
    "\n",
    "# Extract vectorizer and analyzer from BERTopic\n",
    "vectorizer = topic_model.vectorizer_model\n",
    "analyzer = vectorizer.build_analyzer()\n",
    "\n",
    "# Extract features for Topic Coherence evaluation\n",
    "words = vectorizer.get_feature_names_out()\n",
    "tokens = [analyzer(doc) for doc in cleaned_docs]\n",
    "dictionary = corpora.Dictionary(tokens)\n",
    "corpus = [dictionary.doc2bow(token) for token in tokens]\n",
    "topic_words = [[words for words, _ in topic_model.get_topic(topic)] \n",
    "               for topic in range(len(set(topics))-1)]\n",
    "\n",
    "# Evaluate\n",
    "coherence_model = CoherenceModel(topics=topic_words, \n",
    "                                 texts=tokens, \n",
    "                                 corpus=corpus,\n",
    "                                 dictionary=dictionary, \n",
    "                                 coherence='u_mass')\n",
    "coherence_u_mass = coherence_model.get_coherence()\n",
    "print(\"u_mass is: \",coherence_u_mass)"
   ]
  },
  {
   "cell_type": "code",
   "execution_count": 35,
   "id": "8161f99c",
   "metadata": {},
   "outputs": [
    {
     "name": "stdout",
     "output_type": "stream",
     "text": [
      "c_npmi is:  0.04597434245096353\n"
     ]
    }
   ],
   "source": [
    "documents = pd.DataFrame({\"Document\": df['abstract'],\n",
    "                          \"ID\": range(len(df['abstract'])),\n",
    "                          \"Topic\": topics})\n",
    "\n",
    "documents_per_topic = documents.groupby(['Topic'], as_index=False).agg({'Document': ' '.join})\n",
    "cleaned_docs = topic_model._preprocess_text(documents_per_topic.Document.values)\n",
    "\n",
    "# Extract vectorizer and analyzer from BERTopic\n",
    "vectorizer = topic_model.vectorizer_model\n",
    "analyzer = vectorizer.build_analyzer()\n",
    "\n",
    "# Extract features for Topic Coherence evaluation\n",
    "words = vectorizer.get_feature_names_out()\n",
    "tokens = [analyzer(doc) for doc in cleaned_docs]\n",
    "dictionary = corpora.Dictionary(tokens)\n",
    "corpus = [dictionary.doc2bow(token) for token in tokens]\n",
    "topic_words = [[words for words, _ in topic_model.get_topic(topic)] \n",
    "               for topic in range(len(set(topics))-1)]\n",
    "\n",
    "# Evaluate\n",
    "coherence_model = CoherenceModel(topics=topic_words, \n",
    "                                 texts=tokens, \n",
    "                                 corpus=corpus,\n",
    "                                 dictionary=dictionary, \n",
    "                                 coherence='c_npmi')\n",
    "coherence_c_nmpi = coherence_model.get_coherence()\n",
    "print(\"c_npmi is: \",coherence_c_nmpi)"
   ]
  },
  {
   "cell_type": "code",
   "execution_count": 36,
   "id": "ac78579e",
   "metadata": {},
   "outputs": [],
   "source": [
    "#Dimention Reduction hyperparameter Tunung n_neighbors=5"
   ]
  },
  {
   "cell_type": "code",
   "execution_count": 37,
   "id": "b9e9bce1",
   "metadata": {},
   "outputs": [],
   "source": [
    "# n_neighbors\n",
    "from bertopic import BERTopic\n",
    "import plotly.express as px\n",
    "# Dimension reduction\n",
    "from umap import UMAP\n",
    "from sentence_transformers import SentenceTransformer\n",
    "\n",
    "\n",
    "# Initiate UMAP\n",
    "umap_model = UMAP(n_neighbors=5, \n",
    "                  n_components=5, \n",
    "                  min_dist=0.0, \n",
    "                  metric='cosine', \n",
    "                  random_state=100)\n",
    "\n",
    "\n",
    "# Initiate BERTopic\n",
    "topic_model = BERTopic(umap_model=umap_model)\n",
    "\n",
    "# Run BERTopic model\n",
    "topics, probabilities = topic_model.fit_transform(df['abstract']) "
   ]
  },
  {
   "cell_type": "code",
   "execution_count": 38,
   "id": "f944488d",
   "metadata": {},
   "outputs": [
    {
     "name": "stdout",
     "output_type": "stream",
     "text": [
      "C_V is:  0.5013702955528961\n"
     ]
    }
   ],
   "source": [
    "import gensim.corpora as corpora\n",
    "from gensim.models.coherencemodel import CoherenceModel\n",
    "\n",
    "documents = pd.DataFrame({\"Document\": df['abstract'],\n",
    "                          \"ID\": range(len(df['abstract'])),\n",
    "                          \"Topic\": topics})\n",
    "documents_per_topic = documents.groupby(['Topic'], as_index=False).agg({'Document': ' '.join})\n",
    "cleaned_docs = topic_model._preprocess_text(documents_per_topic.Document.values)\n",
    "\n",
    "# Extract vectorizer and analyzer from BERTopic\n",
    "vectorizer = topic_model.vectorizer_model\n",
    "analyzer = vectorizer.build_analyzer()\n",
    "\n",
    "# Extract features for Topic Coherence evaluation\n",
    "words = vectorizer.get_feature_names_out()\n",
    "tokens = [analyzer(doc) for doc in cleaned_docs]\n",
    "dictionary = corpora.Dictionary(tokens)\n",
    "corpus = [dictionary.doc2bow(token) for token in tokens]\n",
    "topic_words = [[words for words, _ in topic_model.get_topic(topic)] \n",
    "               for topic in range(len(set(topics))-1)]\n",
    "\n",
    "# Evaluate\n",
    "coherence_model = CoherenceModel(topics=topic_words, \n",
    "                                 texts=tokens, \n",
    "                                 corpus=corpus,\n",
    "                                 dictionary=dictionary, \n",
    "                                 coherence='c_v')\n",
    "coherence_CV= coherence_model.get_coherence()\n",
    "print(\"C_V is: \", coherence_CV)"
   ]
  },
  {
   "cell_type": "code",
   "execution_count": 39,
   "id": "85ddf9d8",
   "metadata": {},
   "outputs": [
    {
     "name": "stdout",
     "output_type": "stream",
     "text": [
      "u_mass is:  -1.1670694887120743\n"
     ]
    }
   ],
   "source": [
    "documents = pd.DataFrame({\"Document\": df['abstract'],\n",
    "                          \"ID\": range(len(df['abstract'])),\n",
    "                          \"Topic\": topics})\n",
    "\n",
    "documents_per_topic = documents.groupby(['Topic'], as_index=False).agg({'Document': ' '.join})\n",
    "cleaned_docs = topic_model._preprocess_text(documents_per_topic.Document.values)\n",
    "\n",
    "# Extract vectorizer and analyzer from BERTopic\n",
    "vectorizer = topic_model.vectorizer_model\n",
    "analyzer = vectorizer.build_analyzer()\n",
    "\n",
    "# Extract features for Topic Coherence evaluation\n",
    "words = vectorizer.get_feature_names_out()\n",
    "tokens = [analyzer(doc) for doc in cleaned_docs]\n",
    "dictionary = corpora.Dictionary(tokens)\n",
    "corpus = [dictionary.doc2bow(token) for token in tokens]\n",
    "topic_words = [[words for words, _ in topic_model.get_topic(topic)] \n",
    "               for topic in range(len(set(topics))-1)]\n",
    "\n",
    "# Evaluate\n",
    "coherence_model = CoherenceModel(topics=topic_words, \n",
    "                                 texts=tokens, \n",
    "                                 corpus=corpus,\n",
    "                                 dictionary=dictionary, \n",
    "                                 coherence='u_mass')\n",
    "coherence_u_mass = coherence_model.get_coherence()\n",
    "print(\"u_mass is: \",coherence_u_mass)"
   ]
  },
  {
   "cell_type": "code",
   "execution_count": 40,
   "id": "7d068387",
   "metadata": {},
   "outputs": [
    {
     "name": "stdout",
     "output_type": "stream",
     "text": [
      "c_npmi is:  -0.024187934840512\n"
     ]
    }
   ],
   "source": [
    "documents = pd.DataFrame({\"Document\": df['abstract'],\n",
    "                          \"ID\": range(len(df['abstract'])),\n",
    "                          \"Topic\": topics})\n",
    "\n",
    "documents_per_topic = documents.groupby(['Topic'], as_index=False).agg({'Document': ' '.join})\n",
    "cleaned_docs = topic_model._preprocess_text(documents_per_topic.Document.values)\n",
    "\n",
    "# Extract vectorizer and analyzer from BERTopic\n",
    "vectorizer = topic_model.vectorizer_model\n",
    "analyzer = vectorizer.build_analyzer()\n",
    "\n",
    "# Extract features for Topic Coherence evaluation\n",
    "words = vectorizer.get_feature_names_out()\n",
    "tokens = [analyzer(doc) for doc in cleaned_docs]\n",
    "dictionary = corpora.Dictionary(tokens)\n",
    "corpus = [dictionary.doc2bow(token) for token in tokens]\n",
    "topic_words = [[words for words, _ in topic_model.get_topic(topic)] \n",
    "               for topic in range(len(set(topics))-1)]\n",
    "\n",
    "# Evaluate\n",
    "coherence_model = CoherenceModel(topics=topic_words, \n",
    "                                 texts=tokens, \n",
    "                                 corpus=corpus,\n",
    "                                 dictionary=dictionary, \n",
    "                                 coherence='c_npmi')\n",
    "coherence_c_nmpi = coherence_model.get_coherence()\n",
    "print(\"c_npmi is: \",coherence_c_nmpi)"
   ]
  },
  {
   "cell_type": "code",
   "execution_count": 41,
   "id": "bc17ceb2",
   "metadata": {},
   "outputs": [],
   "source": [
    "#Dimention Reduction hyperparameter Tunung n_neighbors=20"
   ]
  },
  {
   "cell_type": "code",
   "execution_count": 42,
   "id": "a1bc194f",
   "metadata": {},
   "outputs": [],
   "source": [
    "# n_neighbors\n",
    "from bertopic import BERTopic\n",
    "import plotly.express as px\n",
    "# Dimension reduction\n",
    "from umap import UMAP\n",
    "from sentence_transformers import SentenceTransformer\n",
    "\n",
    "\n",
    "# Initiate UMAP\n",
    "umap_model = UMAP(n_neighbors=20, \n",
    "                  n_components=5, \n",
    "                  min_dist=0.0, \n",
    "                  metric='cosine', \n",
    "                  random_state=100)\n",
    "\n",
    "\n",
    "# Initiate BERTopic\n",
    "topic_model = BERTopic(umap_model=umap_model)\n",
    "\n",
    "# Run BERTopic model\n",
    "topics, probabilities = topic_model.fit_transform(df['abstract']) "
   ]
  },
  {
   "cell_type": "code",
   "execution_count": 43,
   "id": "4222b312",
   "metadata": {},
   "outputs": [
    {
     "name": "stdout",
     "output_type": "stream",
     "text": [
      "C_V is:  0.5863461790688316\n"
     ]
    }
   ],
   "source": [
    "import gensim.corpora as corpora\n",
    "from gensim.models.coherencemodel import CoherenceModel\n",
    "\n",
    "documents = pd.DataFrame({\"Document\": df['abstract'],\n",
    "                          \"ID\": range(len(df['abstract'])),\n",
    "                          \"Topic\": topics})\n",
    "documents_per_topic = documents.groupby(['Topic'], as_index=False).agg({'Document': ' '.join})\n",
    "cleaned_docs = topic_model._preprocess_text(documents_per_topic.Document.values)\n",
    "\n",
    "# Extract vectorizer and analyzer from BERTopic\n",
    "vectorizer = topic_model.vectorizer_model\n",
    "analyzer = vectorizer.build_analyzer()\n",
    "\n",
    "# Extract features for Topic Coherence evaluation\n",
    "words = vectorizer.get_feature_names_out()\n",
    "tokens = [analyzer(doc) for doc in cleaned_docs]\n",
    "dictionary = corpora.Dictionary(tokens)\n",
    "corpus = [dictionary.doc2bow(token) for token in tokens]\n",
    "topic_words = [[words for words, _ in topic_model.get_topic(topic)] \n",
    "               for topic in range(len(set(topics))-1)]\n",
    "\n",
    "# Evaluate\n",
    "coherence_model = CoherenceModel(topics=topic_words, \n",
    "                                 texts=tokens, \n",
    "                                 corpus=corpus,\n",
    "                                 dictionary=dictionary, \n",
    "                                 coherence='c_v')\n",
    "coherence_CV= coherence_model.get_coherence()\n",
    "print(\"C_V is: \", coherence_CV)"
   ]
  },
  {
   "cell_type": "code",
   "execution_count": 44,
   "id": "9f3bd0d2",
   "metadata": {},
   "outputs": [
    {
     "name": "stdout",
     "output_type": "stream",
     "text": [
      "u_mass is:  -0.9309368855585765\n"
     ]
    }
   ],
   "source": [
    "documents = pd.DataFrame({\"Document\": df['abstract'],\n",
    "                          \"ID\": range(len(df['abstract'])),\n",
    "                          \"Topic\": topics})\n",
    "\n",
    "documents_per_topic = documents.groupby(['Topic'], as_index=False).agg({'Document': ' '.join})\n",
    "cleaned_docs = topic_model._preprocess_text(documents_per_topic.Document.values)\n",
    "\n",
    "# Extract vectorizer and analyzer from BERTopic\n",
    "vectorizer = topic_model.vectorizer_model\n",
    "analyzer = vectorizer.build_analyzer()\n",
    "\n",
    "# Extract features for Topic Coherence evaluation\n",
    "words = vectorizer.get_feature_names_out()\n",
    "tokens = [analyzer(doc) for doc in cleaned_docs]\n",
    "dictionary = corpora.Dictionary(tokens)\n",
    "corpus = [dictionary.doc2bow(token) for token in tokens]\n",
    "topic_words = [[words for words, _ in topic_model.get_topic(topic)] \n",
    "               for topic in range(len(set(topics))-1)]\n",
    "\n",
    "# Evaluate\n",
    "coherence_model = CoherenceModel(topics=topic_words, \n",
    "                                 texts=tokens, \n",
    "                                 corpus=corpus,\n",
    "                                 dictionary=dictionary, \n",
    "                                 coherence='u_mass')\n",
    "coherence_u_mass = coherence_model.get_coherence()\n",
    "print(\"u_mass is: \",coherence_u_mass)"
   ]
  },
  {
   "cell_type": "code",
   "execution_count": 45,
   "id": "e9bb9658",
   "metadata": {},
   "outputs": [
    {
     "name": "stdout",
     "output_type": "stream",
     "text": [
      "c_npmi is:  0.035621089038955306\n"
     ]
    }
   ],
   "source": [
    "documents = pd.DataFrame({\"Document\": df['abstract'],\n",
    "                          \"ID\": range(len(df['abstract'])),\n",
    "                          \"Topic\": topics})\n",
    "\n",
    "documents_per_topic = documents.groupby(['Topic'], as_index=False).agg({'Document': ' '.join})\n",
    "cleaned_docs = topic_model._preprocess_text(documents_per_topic.Document.values)\n",
    "\n",
    "# Extract vectorizer and analyzer from BERTopic\n",
    "vectorizer = topic_model.vectorizer_model\n",
    "analyzer = vectorizer.build_analyzer()\n",
    "\n",
    "# Extract features for Topic Coherence evaluation\n",
    "words = vectorizer.get_feature_names_out()\n",
    "tokens = [analyzer(doc) for doc in cleaned_docs]\n",
    "dictionary = corpora.Dictionary(tokens)\n",
    "corpus = [dictionary.doc2bow(token) for token in tokens]\n",
    "topic_words = [[words for words, _ in topic_model.get_topic(topic)] \n",
    "               for topic in range(len(set(topics))-1)]\n",
    "\n",
    "# Evaluate\n",
    "coherence_model = CoherenceModel(topics=topic_words, \n",
    "                                 texts=tokens, \n",
    "                                 corpus=corpus,\n",
    "                                 dictionary=dictionary, \n",
    "                                 coherence='c_npmi')\n",
    "coherence_c_nmpi = coherence_model.get_coherence()\n",
    "print(\"c_npmi is: \",coherence_c_nmpi)"
   ]
  },
  {
   "cell_type": "code",
   "execution_count": 46,
   "id": "07c8a1b8",
   "metadata": {},
   "outputs": [],
   "source": [
    "#Dimention Reduction hyperparameter Tunung n_neighbors=30"
   ]
  },
  {
   "cell_type": "code",
   "execution_count": 47,
   "id": "bfed8621",
   "metadata": {},
   "outputs": [],
   "source": [
    "# n_neighbors\n",
    "from bertopic import BERTopic\n",
    "import plotly.express as px\n",
    "# Dimension reduction\n",
    "from umap import UMAP\n",
    "from sentence_transformers import SentenceTransformer\n",
    "\n",
    "\n",
    "# Initiate UMAP\n",
    "umap_model = UMAP(n_neighbors=30, \n",
    "                  n_components=5, \n",
    "                  min_dist=0.0, \n",
    "                  metric='cosine', \n",
    "                  random_state=100)\n",
    "\n",
    "\n",
    "# Initiate BERTopic\n",
    "topic_model = BERTopic(umap_model=umap_model)\n",
    "\n",
    "# Run BERTopic model\n",
    "topics, probabilities = topic_model.fit_transform(df['abstract'])"
   ]
  },
  {
   "cell_type": "code",
   "execution_count": 48,
   "id": "2993fe32",
   "metadata": {},
   "outputs": [
    {
     "name": "stdout",
     "output_type": "stream",
     "text": [
      "C_V is:  0.6091321743644926\n"
     ]
    }
   ],
   "source": [
    "import gensim.corpora as corpora\n",
    "from gensim.models.coherencemodel import CoherenceModel\n",
    "\n",
    "documents = pd.DataFrame({\"Document\": df['abstract'],\n",
    "                          \"ID\": range(len(df['abstract'])),\n",
    "                          \"Topic\": topics})\n",
    "documents_per_topic = documents.groupby(['Topic'], as_index=False).agg({'Document': ' '.join})\n",
    "cleaned_docs = topic_model._preprocess_text(documents_per_topic.Document.values)\n",
    "\n",
    "# Extract vectorizer and analyzer from BERTopic\n",
    "vectorizer = topic_model.vectorizer_model\n",
    "analyzer = vectorizer.build_analyzer()\n",
    "\n",
    "# Extract features for Topic Coherence evaluation\n",
    "words = vectorizer.get_feature_names_out()\n",
    "tokens = [analyzer(doc) for doc in cleaned_docs]\n",
    "dictionary = corpora.Dictionary(tokens)\n",
    "corpus = [dictionary.doc2bow(token) for token in tokens]\n",
    "topic_words = [[words for words, _ in topic_model.get_topic(topic)] \n",
    "               for topic in range(len(set(topics))-1)]\n",
    "\n",
    "# Evaluate\n",
    "coherence_model = CoherenceModel(topics=topic_words, \n",
    "                                 texts=tokens, \n",
    "                                 corpus=corpus,\n",
    "                                 dictionary=dictionary, \n",
    "                                 coherence='c_v')\n",
    "coherence_CV= coherence_model.get_coherence()\n",
    "print(\"C_V is: \", coherence_CV)"
   ]
  },
  {
   "cell_type": "code",
   "execution_count": 49,
   "id": "bfcac883",
   "metadata": {},
   "outputs": [
    {
     "name": "stdout",
     "output_type": "stream",
     "text": [
      "u_mass is:  -0.864861939881414\n"
     ]
    }
   ],
   "source": [
    "documents = pd.DataFrame({\"Document\": df['abstract'],\n",
    "                          \"ID\": range(len(df['abstract'])),\n",
    "                          \"Topic\": topics})\n",
    "\n",
    "documents_per_topic = documents.groupby(['Topic'], as_index=False).agg({'Document': ' '.join})\n",
    "cleaned_docs = topic_model._preprocess_text(documents_per_topic.Document.values)\n",
    "\n",
    "# Extract vectorizer and analyzer from BERTopic\n",
    "vectorizer = topic_model.vectorizer_model\n",
    "analyzer = vectorizer.build_analyzer()\n",
    "\n",
    "# Extract features for Topic Coherence evaluation\n",
    "words = vectorizer.get_feature_names_out()\n",
    "tokens = [analyzer(doc) for doc in cleaned_docs]\n",
    "dictionary = corpora.Dictionary(tokens)\n",
    "corpus = [dictionary.doc2bow(token) for token in tokens]\n",
    "topic_words = [[words for words, _ in topic_model.get_topic(topic)] \n",
    "               for topic in range(len(set(topics))-1)]\n",
    "\n",
    "# Evaluate\n",
    "coherence_model = CoherenceModel(topics=topic_words, \n",
    "                                 texts=tokens, \n",
    "                                 corpus=corpus,\n",
    "                                 dictionary=dictionary, \n",
    "                                 coherence='u_mass')\n",
    "coherence_u_mass = coherence_model.get_coherence()\n",
    "print(\"u_mass is: \",coherence_u_mass)"
   ]
  },
  {
   "cell_type": "code",
   "execution_count": 50,
   "id": "54af5dfc",
   "metadata": {},
   "outputs": [
    {
     "name": "stdout",
     "output_type": "stream",
     "text": [
      "c_npmi is:  0.04944747004044802\n"
     ]
    }
   ],
   "source": [
    "documents = pd.DataFrame({\"Document\": df['abstract'],\n",
    "                          \"ID\": range(len(df['abstract'])),\n",
    "                          \"Topic\": topics})\n",
    "\n",
    "documents_per_topic = documents.groupby(['Topic'], as_index=False).agg({'Document': ' '.join})\n",
    "cleaned_docs = topic_model._preprocess_text(documents_per_topic.Document.values)\n",
    "\n",
    "# Extract vectorizer and analyzer from BERTopic\n",
    "vectorizer = topic_model.vectorizer_model\n",
    "analyzer = vectorizer.build_analyzer()\n",
    "\n",
    "# Extract features for Topic Coherence evaluation\n",
    "words = vectorizer.get_feature_names_out()\n",
    "tokens = [analyzer(doc) for doc in cleaned_docs]\n",
    "dictionary = corpora.Dictionary(tokens)\n",
    "corpus = [dictionary.doc2bow(token) for token in tokens]\n",
    "topic_words = [[words for words, _ in topic_model.get_topic(topic)] \n",
    "               for topic in range(len(set(topics))-1)]\n",
    "\n",
    "# Evaluate\n",
    "coherence_model = CoherenceModel(topics=topic_words, \n",
    "                                 texts=tokens, \n",
    "                                 corpus=corpus,\n",
    "                                 dictionary=dictionary, \n",
    "                                 coherence='c_npmi')\n",
    "coherence_c_nmpi = coherence_model.get_coherence()\n",
    "print(\"c_npmi is: \",coherence_c_nmpi)"
   ]
  },
  {
   "cell_type": "code",
   "execution_count": 51,
   "id": "8112c4b5",
   "metadata": {},
   "outputs": [],
   "source": [
    "# PCA"
   ]
  },
  {
   "cell_type": "code",
   "execution_count": 57,
   "id": "90711940",
   "metadata": {},
   "outputs": [],
   "source": [
    "#PCA\n",
    "from bertopic import BERTopic\n",
    "from sklearn.decomposition import PCA\n",
    "\n",
    "dim_model = PCA(n_components=5)\n",
    "topic_model = BERTopic(umap_model=dim_model)\n",
    "\n",
    "# Run BERTopic model\n",
    "topics, probabilities = topic_model.fit_transform(df['abstract']) "
   ]
  },
  {
   "cell_type": "code",
   "execution_count": 58,
   "id": "78675727",
   "metadata": {},
   "outputs": [
    {
     "name": "stdout",
     "output_type": "stream",
     "text": [
      "C_V is:  0.33397736306910086\n"
     ]
    }
   ],
   "source": [
    "import gensim.corpora as corpora\n",
    "from gensim.models.coherencemodel import CoherenceModel\n",
    "\n",
    "documents = pd.DataFrame({\"Document\": df['abstract'],\n",
    "                          \"ID\": range(len(df['abstract'])),\n",
    "                          \"Topic\": topics})\n",
    "documents_per_topic = documents.groupby(['Topic'], as_index=False).agg({'Document': ' '.join})\n",
    "cleaned_docs = topic_model._preprocess_text(documents_per_topic.Document.values)\n",
    "\n",
    "# Extract vectorizer and analyzer from BERTopic\n",
    "vectorizer = topic_model.vectorizer_model\n",
    "analyzer = vectorizer.build_analyzer()\n",
    "\n",
    "# Extract features for Topic Coherence evaluation\n",
    "words = vectorizer.get_feature_names_out()\n",
    "tokens = [analyzer(doc) for doc in cleaned_docs]\n",
    "dictionary = corpora.Dictionary(tokens)\n",
    "corpus = [dictionary.doc2bow(token) for token in tokens]\n",
    "topic_words = [[words for words, _ in topic_model.get_topic(topic)] \n",
    "               for topic in range(len(set(topics))-1)]\n",
    "\n",
    "# Evaluate\n",
    "coherence_model = CoherenceModel(topics=topic_words, \n",
    "                                 texts=tokens, \n",
    "                                 corpus=corpus,\n",
    "                                 dictionary=dictionary, \n",
    "                                 coherence='c_v')\n",
    "coherence_CV= coherence_model.get_coherence()\n",
    "print(\"C_V is: \", coherence_CV)"
   ]
  },
  {
   "cell_type": "code",
   "execution_count": 60,
   "id": "9b274534",
   "metadata": {},
   "outputs": [
    {
     "name": "stdout",
     "output_type": "stream",
     "text": [
      "u_mass is:  1.0000889005818412e-12\n"
     ]
    }
   ],
   "source": [
    "documents = pd.DataFrame({\"Document\": df['abstract'],\n",
    "                          \"ID\": range(len(df['abstract'])),\n",
    "                          \"Topic\": topics})\n",
    "\n",
    "documents_per_topic = documents.groupby(['Topic'], as_index=False).agg({'Document': ' '.join})\n",
    "cleaned_docs = topic_model._preprocess_text(documents_per_topic.Document.values)\n",
    "\n",
    "# Extract vectorizer and analyzer from BERTopic\n",
    "vectorizer = topic_model.vectorizer_model\n",
    "analyzer = vectorizer.build_analyzer()\n",
    "\n",
    "# Extract features for Topic Coherence evaluation\n",
    "words = vectorizer.get_feature_names_out()\n",
    "tokens = [analyzer(doc) for doc in cleaned_docs]\n",
    "dictionary = corpora.Dictionary(tokens)\n",
    "corpus = [dictionary.doc2bow(token) for token in tokens]\n",
    "topic_words = [[words for words, _ in topic_model.get_topic(topic)] \n",
    "               for topic in range(len(set(topics))-1)]\n",
    "\n",
    "# Evaluate\n",
    "coherence_model = CoherenceModel(topics=topic_words, \n",
    "                                 texts=tokens, \n",
    "                                 corpus=corpus,\n",
    "                                 dictionary=dictionary, \n",
    "                                 coherence='u_mass')\n",
    "coherence_u_mass = coherence_model.get_coherence()\n",
    "print(\"u_mass is: \",coherence_u_mass)"
   ]
  },
  {
   "cell_type": "code",
   "execution_count": 61,
   "id": "a3991415",
   "metadata": {},
   "outputs": [
    {
     "name": "stdout",
     "output_type": "stream",
     "text": [
      "c_npmi is:  -0.02117719297772275\n"
     ]
    }
   ],
   "source": [
    "documents = pd.DataFrame({\"Document\": df['abstract'],\n",
    "                          \"ID\": range(len(df['abstract'])),\n",
    "                          \"Topic\": topics})\n",
    "\n",
    "documents_per_topic = documents.groupby(['Topic'], as_index=False).agg({'Document': ' '.join})\n",
    "cleaned_docs = topic_model._preprocess_text(documents_per_topic.Document.values)\n",
    "\n",
    "# Extract vectorizer and analyzer from BERTopic\n",
    "vectorizer = topic_model.vectorizer_model\n",
    "analyzer = vectorizer.build_analyzer()\n",
    "\n",
    "# Extract features for Topic Coherence evaluation\n",
    "words = vectorizer.get_feature_names_out()\n",
    "tokens = [analyzer(doc) for doc in cleaned_docs]\n",
    "dictionary = corpora.Dictionary(tokens)\n",
    "corpus = [dictionary.doc2bow(token) for token in tokens]\n",
    "topic_words = [[words for words, _ in topic_model.get_topic(topic)] \n",
    "               for topic in range(len(set(topics))-1)]\n",
    "\n",
    "# Evaluate\n",
    "coherence_model = CoherenceModel(topics=topic_words, \n",
    "                                 texts=tokens, \n",
    "                                 corpus=corpus,\n",
    "                                 dictionary=dictionary, \n",
    "                                 coherence='c_npmi')\n",
    "coherence_c_nmpi = coherence_model.get_coherence()\n",
    "print(\"c_npmi is: \",coherence_c_nmpi)"
   ]
  },
  {
   "cell_type": "code",
   "execution_count": 56,
   "id": "0c32a184",
   "metadata": {},
   "outputs": [],
   "source": [
    "# Truncated SVD"
   ]
  },
  {
   "cell_type": "code",
   "execution_count": 62,
   "id": "fd1bfa23",
   "metadata": {},
   "outputs": [],
   "source": [
    "# Truncated SVD\n",
    "from bertopic import BERTopic\n",
    "from sklearn.decomposition import TruncatedSVD\n",
    "\n",
    "dim_model = TruncatedSVD(n_components=5)\n",
    "topic_model = BERTopic(umap_model=dim_model)\n",
    "\n",
    "# Run BERTopic model\n",
    "topics, probabilities = topic_model.fit_transform(df['abstract']) \n"
   ]
  },
  {
   "cell_type": "code",
   "execution_count": 63,
   "id": "2e5bc055",
   "metadata": {},
   "outputs": [
    {
     "name": "stdout",
     "output_type": "stream",
     "text": [
      "C_V is:  0.406916986487947\n"
     ]
    }
   ],
   "source": [
    "import gensim.corpora as corpora\n",
    "from gensim.models.coherencemodel import CoherenceModel\n",
    "\n",
    "documents = pd.DataFrame({\"Document\": df['abstract'],\n",
    "                          \"ID\": range(len(df['abstract'])),\n",
    "                          \"Topic\": topics})\n",
    "documents_per_topic = documents.groupby(['Topic'], as_index=False).agg({'Document': ' '.join})\n",
    "cleaned_docs = topic_model._preprocess_text(documents_per_topic.Document.values)\n",
    "\n",
    "# Extract vectorizer and analyzer from BERTopic\n",
    "vectorizer = topic_model.vectorizer_model\n",
    "analyzer = vectorizer.build_analyzer()\n",
    "\n",
    "# Extract features for Topic Coherence evaluation\n",
    "words = vectorizer.get_feature_names_out()\n",
    "tokens = [analyzer(doc) for doc in cleaned_docs]\n",
    "dictionary = corpora.Dictionary(tokens)\n",
    "corpus = [dictionary.doc2bow(token) for token in tokens]\n",
    "topic_words = [[words for words, _ in topic_model.get_topic(topic)] \n",
    "               for topic in range(len(set(topics))-1)]\n",
    "\n",
    "# Evaluate\n",
    "coherence_model = CoherenceModel(topics=topic_words, \n",
    "                                 texts=tokens, \n",
    "                                 corpus=corpus,\n",
    "                                 dictionary=dictionary, \n",
    "                                 coherence='c_v')\n",
    "coherence_CV= coherence_model.get_coherence()\n",
    "print(\"C_V is: \", coherence_CV)"
   ]
  },
  {
   "cell_type": "code",
   "execution_count": 64,
   "id": "8cbdb668",
   "metadata": {},
   "outputs": [
    {
     "name": "stdout",
     "output_type": "stream",
     "text": [
      "u_mass is:  -0.10346056009858706\n"
     ]
    }
   ],
   "source": [
    "documents = pd.DataFrame({\"Document\": df['abstract'],\n",
    "                          \"ID\": range(len(df['abstract'])),\n",
    "                          \"Topic\": topics})\n",
    "\n",
    "documents_per_topic = documents.groupby(['Topic'], as_index=False).agg({'Document': ' '.join})\n",
    "cleaned_docs = topic_model._preprocess_text(documents_per_topic.Document.values)\n",
    "\n",
    "# Extract vectorizer and analyzer from BERTopic\n",
    "vectorizer = topic_model.vectorizer_model\n",
    "analyzer = vectorizer.build_analyzer()\n",
    "\n",
    "# Extract features for Topic Coherence evaluation\n",
    "words = vectorizer.get_feature_names_out()\n",
    "tokens = [analyzer(doc) for doc in cleaned_docs]\n",
    "dictionary = corpora.Dictionary(tokens)\n",
    "corpus = [dictionary.doc2bow(token) for token in tokens]\n",
    "topic_words = [[words for words, _ in topic_model.get_topic(topic)] \n",
    "               for topic in range(len(set(topics))-1)]\n",
    "\n",
    "# Evaluate\n",
    "coherence_model = CoherenceModel(topics=topic_words, \n",
    "                                 texts=tokens, \n",
    "                                 corpus=corpus,\n",
    "                                 dictionary=dictionary, \n",
    "                                 coherence='u_mass')\n",
    "coherence_u_mass = coherence_model.get_coherence()\n",
    "print(\"u_mass is: \",coherence_u_mass)"
   ]
  },
  {
   "cell_type": "code",
   "execution_count": 65,
   "id": "0b497817",
   "metadata": {},
   "outputs": [
    {
     "name": "stdout",
     "output_type": "stream",
     "text": [
      "c_npmi is:  0.018397746967304947\n"
     ]
    }
   ],
   "source": [
    "documents = pd.DataFrame({\"Document\": df['abstract'],\n",
    "                          \"ID\": range(len(df['abstract'])),\n",
    "                          \"Topic\": topics})\n",
    "\n",
    "documents_per_topic = documents.groupby(['Topic'], as_index=False).agg({'Document': ' '.join})\n",
    "cleaned_docs = topic_model._preprocess_text(documents_per_topic.Document.values)\n",
    "\n",
    "# Extract vectorizer and analyzer from BERTopic\n",
    "vectorizer = topic_model.vectorizer_model\n",
    "analyzer = vectorizer.build_analyzer()\n",
    "\n",
    "# Extract features for Topic Coherence evaluation\n",
    "words = vectorizer.get_feature_names_out()\n",
    "tokens = [analyzer(doc) for doc in cleaned_docs]\n",
    "dictionary = corpora.Dictionary(tokens)\n",
    "corpus = [dictionary.doc2bow(token) for token in tokens]\n",
    "topic_words = [[words for words, _ in topic_model.get_topic(topic)] \n",
    "               for topic in range(len(set(topics))-1)]\n",
    "\n",
    "# Evaluate\n",
    "coherence_model = CoherenceModel(topics=topic_words, \n",
    "                                 texts=tokens, \n",
    "                                 corpus=corpus,\n",
    "                                 dictionary=dictionary, \n",
    "                                 coherence='c_npmi')\n",
    "coherence_c_nmpi = coherence_model.get_coherence()\n",
    "print(\"c_npmi is: \",coherence_c_nmpi)"
   ]
  },
  {
   "cell_type": "code",
   "execution_count": null,
   "id": "f611d26c",
   "metadata": {},
   "outputs": [],
   "source": [
    "#Clustering Hyperparameter Tuning HDBSCAN(min_cluster_size=5)"
   ]
  },
  {
   "cell_type": "code",
   "execution_count": 70,
   "id": "efd585ac",
   "metadata": {},
   "outputs": [],
   "source": [
    "# HDBSCAN\n",
    "from bertopic import BERTopic\n",
    "from hdbscan import HDBSCAN\n",
    "from umap import UMAP\n",
    "from sentence_transformers import SentenceTransformer\n",
    "\n",
    "sentence_model = SentenceTransformer(\"all-MiniLM-L6-v2\")\n",
    "\n",
    "# Initiate UMAP\n",
    "umap_model = UMAP(n_neighbors=30, \n",
    "                  n_components=5, \n",
    "                  min_dist=0.0, \n",
    "                  metric='cosine', \n",
    "                  random_state=100)\n",
    "\n",
    "\n",
    "hdbscan_model = HDBSCAN(min_cluster_size=30,min_samples = 10, metric='euclidean', cluster_selection_method='eom', prediction_data=True)\n",
    "topic_model = BERTopic(umap_model=umap_model, hdbscan_model=hdbscan_model,embedding_model=sentence_model)\n",
    "\n",
    "# Run BERTopic model\n",
    "topics, probabilities = topic_model.fit_transform(df['abstract']) \n"
   ]
  },
  {
   "cell_type": "code",
   "execution_count": 71,
   "id": "01df9437",
   "metadata": {},
   "outputs": [
    {
     "name": "stdout",
     "output_type": "stream",
     "text": [
      "C_V is:  0.6040011226893\n"
     ]
    }
   ],
   "source": [
    "import gensim.corpora as corpora\n",
    "from gensim.models.coherencemodel import CoherenceModel\n",
    "\n",
    "documents = pd.DataFrame({\"Document\": df['abstract'],\n",
    "                          \"ID\": range(len(df['abstract'])),\n",
    "                          \"Topic\": topics})\n",
    "documents_per_topic = documents.groupby(['Topic'], as_index=False).agg({'Document': ' '.join})\n",
    "cleaned_docs = topic_model._preprocess_text(documents_per_topic.Document.values)\n",
    "\n",
    "# Extract vectorizer and analyzer from BERTopic\n",
    "vectorizer = topic_model.vectorizer_model\n",
    "analyzer = vectorizer.build_analyzer()\n",
    "\n",
    "# Extract features for Topic Coherence evaluation\n",
    "words = vectorizer.get_feature_names_out()\n",
    "tokens = [analyzer(doc) for doc in cleaned_docs]\n",
    "dictionary = corpora.Dictionary(tokens)\n",
    "corpus = [dictionary.doc2bow(token) for token in tokens]\n",
    "topic_words = [[words for words, _ in topic_model.get_topic(topic)] \n",
    "               for topic in range(len(set(topics))-1)]\n",
    "\n",
    "# Evaluate\n",
    "coherence_model = CoherenceModel(topics=topic_words, \n",
    "                                 texts=tokens, \n",
    "                                 corpus=corpus,\n",
    "                                 dictionary=dictionary, \n",
    "                                 coherence='c_v')\n",
    "coherence_CV= coherence_model.get_coherence()\n",
    "print(\"C_V is: \", coherence_CV)"
   ]
  },
  {
   "cell_type": "code",
   "execution_count": 72,
   "id": "03e6425f",
   "metadata": {},
   "outputs": [
    {
     "name": "stdout",
     "output_type": "stream",
     "text": [
      "u_mass is:  -0.5050614584843319\n"
     ]
    }
   ],
   "source": [
    "documents = pd.DataFrame({\"Document\": df['abstract'],\n",
    "                          \"ID\": range(len(df['abstract'])),\n",
    "                          \"Topic\": topics})\n",
    "\n",
    "documents_per_topic = documents.groupby(['Topic'], as_index=False).agg({'Document': ' '.join})\n",
    "cleaned_docs = topic_model._preprocess_text(documents_per_topic.Document.values)\n",
    "\n",
    "# Extract vectorizer and analyzer from BERTopic\n",
    "vectorizer = topic_model.vectorizer_model\n",
    "analyzer = vectorizer.build_analyzer()\n",
    "\n",
    "# Extract features for Topic Coherence evaluation\n",
    "words = vectorizer.get_feature_names_out()\n",
    "tokens = [analyzer(doc) for doc in cleaned_docs]\n",
    "dictionary = corpora.Dictionary(tokens)\n",
    "corpus = [dictionary.doc2bow(token) for token in tokens]\n",
    "topic_words = [[words for words, _ in topic_model.get_topic(topic)] \n",
    "               for topic in range(len(set(topics))-1)]\n",
    "\n",
    "# Evaluate\n",
    "coherence_model = CoherenceModel(topics=topic_words, \n",
    "                                 texts=tokens, \n",
    "                                 corpus=corpus,\n",
    "                                 dictionary=dictionary, \n",
    "                                 coherence='u_mass')\n",
    "coherence_u_mass = coherence_model.get_coherence()\n",
    "print(\"u_mass is: \",coherence_u_mass)"
   ]
  },
  {
   "cell_type": "code",
   "execution_count": 73,
   "id": "b188c5bb",
   "metadata": {},
   "outputs": [
    {
     "name": "stdout",
     "output_type": "stream",
     "text": [
      "c_npmi is:  0.08455293928381574\n"
     ]
    }
   ],
   "source": [
    "documents = pd.DataFrame({\"Document\": df['abstract'],\n",
    "                          \"ID\": range(len(df['abstract'])),\n",
    "                          \"Topic\": topics})\n",
    "\n",
    "documents_per_topic = documents.groupby(['Topic'], as_index=False).agg({'Document': ' '.join})\n",
    "cleaned_docs = topic_model._preprocess_text(documents_per_topic.Document.values)\n",
    "\n",
    "# Extract vectorizer and analyzer from BERTopic\n",
    "vectorizer = topic_model.vectorizer_model\n",
    "analyzer = vectorizer.build_analyzer()\n",
    "\n",
    "# Extract features for Topic Coherence evaluation\n",
    "words = vectorizer.get_feature_names_out()\n",
    "tokens = [analyzer(doc) for doc in cleaned_docs]\n",
    "dictionary = corpora.Dictionary(tokens)\n",
    "corpus = [dictionary.doc2bow(token) for token in tokens]\n",
    "topic_words = [[words for words, _ in topic_model.get_topic(topic)] \n",
    "               for topic in range(len(set(topics))-1)]\n",
    "\n",
    "# Evaluate\n",
    "coherence_model = CoherenceModel(topics=topic_words, \n",
    "                                 texts=tokens, \n",
    "                                 corpus=corpus,\n",
    "                                 dictionary=dictionary, \n",
    "                                 coherence='c_npmi')\n",
    "coherence_c_nmpi = coherence_model.get_coherence()\n",
    "print(\"c_npmi is: \",coherence_c_nmpi)"
   ]
  },
  {
   "cell_type": "code",
   "execution_count": 74,
   "id": "cc49b4f7",
   "metadata": {},
   "outputs": [],
   "source": [
    "#K-Means"
   ]
  },
  {
   "cell_type": "code",
   "execution_count": 75,
   "id": "9e878f48",
   "metadata": {},
   "outputs": [],
   "source": [
    "#K-mean\n",
    "from bertopic import BERTopic\n",
    "from sklearn.cluster import KMeans\n",
    "from umap import UMAP\n",
    "from sentence_transformers import SentenceTransformer\n",
    "\n",
    "sentence_model = SentenceTransformer(\"all-MiniLM-L6-v2\")\n",
    "\n",
    "# Initiate UMAP\n",
    "umap_model = UMAP(n_neighbors=30, \n",
    "                  n_components=5, \n",
    "                  min_dist=0.0, \n",
    "                  metric='cosine', \n",
    "                  random_state=100)\n",
    "\n",
    "\n",
    "cluster_model = KMeans(n_clusters=30)\n",
    "topic_model = BERTopic(umap_model=umap_model, embedding_model=sentence_model, hdbscan_model=cluster_model)\n",
    "\n",
    "# Run BERTopic model\n",
    "topics, probabilities = topic_model.fit_transform(df['abstract']) \n"
   ]
  },
  {
   "cell_type": "code",
   "execution_count": 76,
   "id": "10598156",
   "metadata": {},
   "outputs": [
    {
     "name": "stdout",
     "output_type": "stream",
     "text": [
      "C_V is:  0.4438974770383022\n"
     ]
    }
   ],
   "source": [
    "import gensim.corpora as corpora\n",
    "from gensim.models.coherencemodel import CoherenceModel\n",
    "\n",
    "documents = pd.DataFrame({\"Document\": df['abstract'],\n",
    "                          \"ID\": range(len(df['abstract'])),\n",
    "                          \"Topic\": topics})\n",
    "documents_per_topic = documents.groupby(['Topic'], as_index=False).agg({'Document': ' '.join})\n",
    "cleaned_docs = topic_model._preprocess_text(documents_per_topic.Document.values)\n",
    "\n",
    "# Extract vectorizer and analyzer from BERTopic\n",
    "vectorizer = topic_model.vectorizer_model\n",
    "analyzer = vectorizer.build_analyzer()\n",
    "\n",
    "# Extract features for Topic Coherence evaluation\n",
    "words = vectorizer.get_feature_names_out()\n",
    "tokens = [analyzer(doc) for doc in cleaned_docs]\n",
    "dictionary = corpora.Dictionary(tokens)\n",
    "corpus = [dictionary.doc2bow(token) for token in tokens]\n",
    "topic_words = [[words for words, _ in topic_model.get_topic(topic)] \n",
    "               for topic in range(len(set(topics))-1)]\n",
    "\n",
    "# Evaluate\n",
    "coherence_model = CoherenceModel(topics=topic_words, \n",
    "                                 texts=tokens, \n",
    "                                 corpus=corpus,\n",
    "                                 dictionary=dictionary, \n",
    "                                 coherence='c_v')\n",
    "coherence_CV= coherence_model.get_coherence()\n",
    "print(\"C_V is: \", coherence_CV)"
   ]
  },
  {
   "cell_type": "code",
   "execution_count": 77,
   "id": "dd29d15a",
   "metadata": {},
   "outputs": [
    {
     "name": "stdout",
     "output_type": "stream",
     "text": [
      "u_mass is:  -0.16209198073742098\n"
     ]
    }
   ],
   "source": [
    "documents = pd.DataFrame({\"Document\": df['abstract'],\n",
    "                          \"ID\": range(len(df['abstract'])),\n",
    "                          \"Topic\": topics})\n",
    "\n",
    "documents_per_topic = documents.groupby(['Topic'], as_index=False).agg({'Document': ' '.join})\n",
    "cleaned_docs = topic_model._preprocess_text(documents_per_topic.Document.values)\n",
    "\n",
    "# Extract vectorizer and analyzer from BERTopic\n",
    "vectorizer = topic_model.vectorizer_model\n",
    "analyzer = vectorizer.build_analyzer()\n",
    "\n",
    "# Extract features for Topic Coherence evaluation\n",
    "words = vectorizer.get_feature_names_out()\n",
    "tokens = [analyzer(doc) for doc in cleaned_docs]\n",
    "dictionary = corpora.Dictionary(tokens)\n",
    "corpus = [dictionary.doc2bow(token) for token in tokens]\n",
    "topic_words = [[words for words, _ in topic_model.get_topic(topic)] \n",
    "               for topic in range(len(set(topics))-1)]\n",
    "\n",
    "# Evaluate\n",
    "coherence_model = CoherenceModel(topics=topic_words, \n",
    "                                 texts=tokens, \n",
    "                                 corpus=corpus,\n",
    "                                 dictionary=dictionary, \n",
    "                                 coherence='u_mass')\n",
    "coherence_u_mass = coherence_model.get_coherence()\n",
    "print(\"u_mass is: \",coherence_u_mass)"
   ]
  },
  {
   "cell_type": "code",
   "execution_count": 78,
   "id": "3a2617c5",
   "metadata": {},
   "outputs": [
    {
     "name": "stdout",
     "output_type": "stream",
     "text": [
      "c_npmi is:  0.03282558049581263\n"
     ]
    }
   ],
   "source": [
    "documents = pd.DataFrame({\"Document\": df['abstract'],\n",
    "                          \"ID\": range(len(df['abstract'])),\n",
    "                          \"Topic\": topics})\n",
    "\n",
    "documents_per_topic = documents.groupby(['Topic'], as_index=False).agg({'Document': ' '.join})\n",
    "cleaned_docs = topic_model._preprocess_text(documents_per_topic.Document.values)\n",
    "\n",
    "# Extract vectorizer and analyzer from BERTopic\n",
    "vectorizer = topic_model.vectorizer_model\n",
    "analyzer = vectorizer.build_analyzer()\n",
    "\n",
    "# Extract features for Topic Coherence evaluation\n",
    "words = vectorizer.get_feature_names_out()\n",
    "tokens = [analyzer(doc) for doc in cleaned_docs]\n",
    "dictionary = corpora.Dictionary(tokens)\n",
    "corpus = [dictionary.doc2bow(token) for token in tokens]\n",
    "topic_words = [[words for words, _ in topic_model.get_topic(topic)] \n",
    "               for topic in range(len(set(topics))-1)]\n",
    "\n",
    "# Evaluate\n",
    "coherence_model = CoherenceModel(topics=topic_words, \n",
    "                                 texts=tokens, \n",
    "                                 corpus=corpus,\n",
    "                                 dictionary=dictionary, \n",
    "                                 coherence='c_npmi')\n",
    "coherence_c_nmpi = coherence_model.get_coherence()\n",
    "print(\"c_npmi is: \",coherence_c_nmpi)"
   ]
  },
  {
   "cell_type": "code",
   "execution_count": 79,
   "id": "223ebe7b",
   "metadata": {},
   "outputs": [],
   "source": [
    "#Hyperparameter Tuning for Topic Representation"
   ]
  },
  {
   "cell_type": "code",
   "execution_count": 80,
   "id": "d9b9a9a6",
   "metadata": {},
   "outputs": [],
   "source": [
    "# set CountVetorizer, c-TF-IDF\n",
    "from bertopic import BERTopic\n",
    "from hdbscan import HDBSCAN\n",
    "from umap import UMAP\n",
    "from sentence_transformers import SentenceTransformer\n",
    "from sklearn.feature_extraction.text import CountVectorizer\n",
    "from bertopic.vectorizers import ClassTfidfTransformer\n",
    "\n",
    "sentence_model = SentenceTransformer(\"all-MiniLM-L6-v2\")\n",
    "\n",
    "# Initiate UMAP\n",
    "umap_model = UMAP(n_neighbors=30, \n",
    "                  n_components=5, \n",
    "                  min_dist=0.0, \n",
    "                  metric='cosine', \n",
    "                  random_state=100)\n",
    "\n",
    "#HDBSCAN\n",
    "hdbscan_model = HDBSCAN(min_cluster_size=30, min_samples = 10, metric='euclidean', cluster_selection_method='eom', prediction_data=True)\n",
    "\n",
    "\n",
    "#CountVectorizer\n",
    "vectorizer_model = CountVectorizer(max_features=1_000, min_df=10, ngram_range=(1, 3))\n",
    "\n",
    "#c-TF-IDF\n",
    "ctfidf_model = ClassTfidfTransformer(reduce_frequent_words=True)\n",
    "\n",
    "#Run Model\n",
    "topic_model = BERTopic(umap_model=umap_model,\n",
    "                       embedding_model=sentence_model, \n",
    "                       hdbscan_model=hdbscan_model, \n",
    "                       vectorizer_model=vectorizer_model,\n",
    "                       ctfidf_model=ctfidf_model,\n",
    "                       diversity=None)\n",
    "\n",
    "# Run BERTopic model\n",
    "topics, probabilities = topic_model.fit_transform(df['abstract']) "
   ]
  },
  {
   "cell_type": "code",
   "execution_count": 81,
   "id": "651c08c7",
   "metadata": {},
   "outputs": [
    {
     "name": "stdout",
     "output_type": "stream",
     "text": [
      "C_V is:  0.640818345308697\n"
     ]
    }
   ],
   "source": [
    "import gensim.corpora as corpora\n",
    "from gensim.models.coherencemodel import CoherenceModel\n",
    "\n",
    "documents = pd.DataFrame({\"Document\": df['abstract'],\n",
    "                          \"ID\": range(len(df['abstract'])),\n",
    "                          \"Topic\": topics})\n",
    "documents_per_topic = documents.groupby(['Topic'], as_index=False).agg({'Document': ' '.join})\n",
    "cleaned_docs = topic_model._preprocess_text(documents_per_topic.Document.values)\n",
    "\n",
    "# Extract vectorizer and analyzer from BERTopic\n",
    "vectorizer = topic_model.vectorizer_model\n",
    "analyzer = vectorizer.build_analyzer()\n",
    "\n",
    "# Extract features for Topic Coherence evaluation\n",
    "words = vectorizer.get_feature_names_out()\n",
    "tokens = [analyzer(doc) for doc in cleaned_docs]\n",
    "dictionary = corpora.Dictionary(tokens)\n",
    "corpus = [dictionary.doc2bow(token) for token in tokens]\n",
    "topic_words = [[words for words, _ in topic_model.get_topic(topic)] \n",
    "               for topic in range(len(set(topics))-1)]\n",
    "\n",
    "# Evaluate\n",
    "coherence_model = CoherenceModel(topics=topic_words, \n",
    "                                 texts=tokens, \n",
    "                                 corpus=corpus,\n",
    "                                 dictionary=dictionary, \n",
    "                                 coherence='c_v')\n",
    "coherence_CV= coherence_model.get_coherence()\n",
    "print(\"C_V is: \", coherence_CV)"
   ]
  },
  {
   "cell_type": "code",
   "execution_count": 82,
   "id": "ee45087b",
   "metadata": {},
   "outputs": [
    {
     "name": "stdout",
     "output_type": "stream",
     "text": [
      "u_mass is:  -0.4149948371121392\n"
     ]
    }
   ],
   "source": [
    "documents = pd.DataFrame({\"Document\": df['abstract'],\n",
    "                          \"ID\": range(len(df['abstract'])),\n",
    "                          \"Topic\": topics})\n",
    "\n",
    "documents_per_topic = documents.groupby(['Topic'], as_index=False).agg({'Document': ' '.join})\n",
    "cleaned_docs = topic_model._preprocess_text(documents_per_topic.Document.values)\n",
    "\n",
    "# Extract vectorizer and analyzer from BERTopic\n",
    "vectorizer = topic_model.vectorizer_model\n",
    "analyzer = vectorizer.build_analyzer()\n",
    "\n",
    "# Extract features for Topic Coherence evaluation\n",
    "words = vectorizer.get_feature_names_out()\n",
    "tokens = [analyzer(doc) for doc in cleaned_docs]\n",
    "dictionary = corpora.Dictionary(tokens)\n",
    "corpus = [dictionary.doc2bow(token) for token in tokens]\n",
    "topic_words = [[words for words, _ in topic_model.get_topic(topic)] \n",
    "               for topic in range(len(set(topics))-1)]\n",
    "\n",
    "# Evaluate\n",
    "coherence_model = CoherenceModel(topics=topic_words, \n",
    "                                 texts=tokens, \n",
    "                                 corpus=corpus,\n",
    "                                 dictionary=dictionary, \n",
    "                                 coherence='u_mass')\n",
    "coherence_u_mass = coherence_model.get_coherence()\n",
    "print(\"u_mass is: \",coherence_u_mass)"
   ]
  },
  {
   "cell_type": "code",
   "execution_count": 83,
   "id": "a3bebf36",
   "metadata": {},
   "outputs": [
    {
     "name": "stdout",
     "output_type": "stream",
     "text": [
      "c_npmi is:  0.012140635891276336\n"
     ]
    }
   ],
   "source": [
    "documents = pd.DataFrame({\"Document\": df['abstract'],\n",
    "                          \"ID\": range(len(df['abstract'])),\n",
    "                          \"Topic\": topics})\n",
    "\n",
    "documents_per_topic = documents.groupby(['Topic'], as_index=False).agg({'Document': ' '.join})\n",
    "cleaned_docs = topic_model._preprocess_text(documents_per_topic.Document.values)\n",
    "\n",
    "# Extract vectorizer and analyzer from BERTopic\n",
    "vectorizer = topic_model.vectorizer_model\n",
    "analyzer = vectorizer.build_analyzer()\n",
    "\n",
    "# Extract features for Topic Coherence evaluation\n",
    "words = vectorizer.get_feature_names_out()\n",
    "tokens = [analyzer(doc) for doc in cleaned_docs]\n",
    "dictionary = corpora.Dictionary(tokens)\n",
    "corpus = [dictionary.doc2bow(token) for token in tokens]\n",
    "topic_words = [[words for words, _ in topic_model.get_topic(topic)] \n",
    "               for topic in range(len(set(topics))-1)]\n",
    "\n",
    "# Evaluate\n",
    "coherence_model = CoherenceModel(topics=topic_words, \n",
    "                                 texts=tokens, \n",
    "                                 corpus=corpus,\n",
    "                                 dictionary=dictionary, \n",
    "                                 coherence='c_npmi')\n",
    "coherence_c_nmpi = coherence_model.get_coherence()\n",
    "print(\"c_npmi is: \",coherence_c_nmpi)"
   ]
  },
  {
   "cell_type": "code",
   "execution_count": 84,
   "id": "4ee6f03f",
   "metadata": {},
   "outputs": [],
   "source": [
    "#Set Diversity"
   ]
  },
  {
   "cell_type": "code",
   "execution_count": 92,
   "id": "a9c3ecda",
   "metadata": {},
   "outputs": [],
   "source": [
    "from bertopic import BERTopic\n",
    "from hdbscan import HDBSCAN\n",
    "from umap import UMAP\n",
    "from sentence_transformers import SentenceTransformer\n",
    "from sklearn.feature_extraction.text import CountVectorizer\n",
    "from bertopic.vectorizers import ClassTfidfTransformer\n",
    "\n",
    "sentence_model = SentenceTransformer(\"all-MiniLM-L6-v2\")\n",
    "\n",
    "# Initiate UMAP\n",
    "umap_model = UMAP(n_neighbors=30, \n",
    "                  n_components=5, \n",
    "                  min_dist=0.0, \n",
    "                  metric='cosine', \n",
    "                  random_state=100)\n",
    "\n",
    "#HDBSCAN\n",
    "hdbscan_model = HDBSCAN(min_cluster_size=30, min_samples = 10, metric='euclidean', cluster_selection_method='eom', prediction_data=True)\n",
    "\n",
    "\n",
    "#CountVectorizer\n",
    "vectorizer_model = CountVectorizer(max_features=1_000, min_df=10, ngram_range=(1, 3))\n",
    "\n",
    "#c-TF-IDF\n",
    "ctfidf_model = ClassTfidfTransformer(reduce_frequent_words=True)\n",
    "\n",
    "#Run Model\n",
    "topic_model = BERTopic(umap_model=umap_model,\n",
    "                       embedding_model=sentence_model, \n",
    "                       hdbscan_model=hdbscan_model, \n",
    "                       vectorizer_model=vectorizer_model,\n",
    "                       ctfidf_model=ctfidf_model,\n",
    "                       diversity=0.8)\n",
    "\n",
    "# Run BERTopic model\n",
    "topics, probabilities = topic_model.fit_transform(df['abstract']) "
   ]
  },
  {
   "cell_type": "code",
   "execution_count": 93,
   "id": "a0dccab9",
   "metadata": {},
   "outputs": [
    {
     "name": "stdout",
     "output_type": "stream",
     "text": [
      "C_V is:  0.49297913677618826\n"
     ]
    }
   ],
   "source": [
    "import gensim.corpora as corpora\n",
    "from gensim.models.coherencemodel import CoherenceModel\n",
    "\n",
    "documents = pd.DataFrame({\"Document\": df['abstract'],\n",
    "                          \"ID\": range(len(df['abstract'])),\n",
    "                          \"Topic\": topics})\n",
    "documents_per_topic = documents.groupby(['Topic'], as_index=False).agg({'Document': ' '.join})\n",
    "cleaned_docs = topic_model._preprocess_text(documents_per_topic.Document.values)\n",
    "\n",
    "# Extract vectorizer and analyzer from BERTopic\n",
    "vectorizer = topic_model.vectorizer_model\n",
    "analyzer = vectorizer.build_analyzer()\n",
    "\n",
    "# Extract features for Topic Coherence evaluation\n",
    "words = vectorizer.get_feature_names_out()\n",
    "tokens = [analyzer(doc) for doc in cleaned_docs]\n",
    "dictionary = corpora.Dictionary(tokens)\n",
    "corpus = [dictionary.doc2bow(token) for token in tokens]\n",
    "topic_words = [[words for words, _ in topic_model.get_topic(topic)] \n",
    "               for topic in range(len(set(topics))-1)]\n",
    "\n",
    "# Evaluate\n",
    "coherence_model = CoherenceModel(topics=topic_words, \n",
    "                                 texts=tokens, \n",
    "                                 corpus=corpus,\n",
    "                                 dictionary=dictionary, \n",
    "                                 coherence='c_v')\n",
    "coherence_CV= coherence_model.get_coherence()\n",
    "print(\"C_V is: \", coherence_CV)"
   ]
  },
  {
   "cell_type": "code",
   "execution_count": 94,
   "id": "aa1c6b02",
   "metadata": {},
   "outputs": [
    {
     "name": "stdout",
     "output_type": "stream",
     "text": [
      "u_mass is:  -0.3957143515403035\n"
     ]
    }
   ],
   "source": [
    "documents = pd.DataFrame({\"Document\": df['abstract'],\n",
    "                          \"ID\": range(len(df['abstract'])),\n",
    "                          \"Topic\": topics})\n",
    "\n",
    "documents_per_topic = documents.groupby(['Topic'], as_index=False).agg({'Document': ' '.join})\n",
    "cleaned_docs = topic_model._preprocess_text(documents_per_topic.Document.values)\n",
    "\n",
    "# Extract vectorizer and analyzer from BERTopic\n",
    "vectorizer = topic_model.vectorizer_model\n",
    "analyzer = vectorizer.build_analyzer()\n",
    "\n",
    "# Extract features for Topic Coherence evaluation\n",
    "words = vectorizer.get_feature_names_out()\n",
    "tokens = [analyzer(doc) for doc in cleaned_docs]\n",
    "dictionary = corpora.Dictionary(tokens)\n",
    "corpus = [dictionary.doc2bow(token) for token in tokens]\n",
    "topic_words = [[words for words, _ in topic_model.get_topic(topic)] \n",
    "               for topic in range(len(set(topics))-1)]\n",
    "\n",
    "# Evaluate\n",
    "coherence_model = CoherenceModel(topics=topic_words, \n",
    "                                 texts=tokens, \n",
    "                                 corpus=corpus,\n",
    "                                 dictionary=dictionary, \n",
    "                                 coherence='u_mass')\n",
    "coherence_u_mass = coherence_model.get_coherence()\n",
    "print(\"u_mass is: \",coherence_u_mass)"
   ]
  },
  {
   "cell_type": "code",
   "execution_count": 95,
   "id": "ac34aee2",
   "metadata": {},
   "outputs": [
    {
     "name": "stdout",
     "output_type": "stream",
     "text": [
      "c_npmi is:  -0.15957406872900107\n"
     ]
    }
   ],
   "source": [
    "documents = pd.DataFrame({\"Document\": df['abstract'],\n",
    "                          \"ID\": range(len(df['abstract'])),\n",
    "                          \"Topic\": topics})\n",
    "\n",
    "documents_per_topic = documents.groupby(['Topic'], as_index=False).agg({'Document': ' '.join})\n",
    "cleaned_docs = topic_model._preprocess_text(documents_per_topic.Document.values)\n",
    "\n",
    "# Extract vectorizer and analyzer from BERTopic\n",
    "vectorizer = topic_model.vectorizer_model\n",
    "analyzer = vectorizer.build_analyzer()\n",
    "\n",
    "# Extract features for Topic Coherence evaluation\n",
    "words = vectorizer.get_feature_names_out()\n",
    "tokens = [analyzer(doc) for doc in cleaned_docs]\n",
    "dictionary = corpora.Dictionary(tokens)\n",
    "corpus = [dictionary.doc2bow(token) for token in tokens]\n",
    "topic_words = [[words for words, _ in topic_model.get_topic(topic)] \n",
    "               for topic in range(len(set(topics))-1)]\n",
    "\n",
    "# Evaluate\n",
    "coherence_model = CoherenceModel(topics=topic_words, \n",
    "                                 texts=tokens, \n",
    "                                 corpus=corpus,\n",
    "                                 dictionary=dictionary, \n",
    "                                 coherence='c_npmi')\n",
    "coherence_c_nmpi = coherence_model.get_coherence()\n",
    "print(\"c_npmi is: \",coherence_c_nmpi)"
   ]
  },
  {
   "cell_type": "code",
   "execution_count": 96,
   "id": "2cdf0cca",
   "metadata": {},
   "outputs": [],
   "source": [
    "#Topic Visualization without Hyperparameter Tuning"
   ]
  },
  {
   "cell_type": "code",
   "execution_count": 97,
   "id": "78cc94bd",
   "metadata": {},
   "outputs": [
    {
     "name": "stderr",
     "output_type": "stream",
     "text": [
      "100%|███████████████████████████████████████████████████████████████████████████████| 103/103 [00:00<00:00, 200.36it/s]\n"
     ]
    },
    {
     "name": "stdout",
     "output_type": "stream",
     "text": [
      ".\n",
      "├─data_to_information_the_for\n",
      "│    ├─signal_audio_image_power_output\n",
      "│    │    ├─power_voltage_converter_output_circuit\n",
      "│    │    │    ├─voltage_converter_output_signal_circuit\n",
      "│    │    │    │    ├─■──transistor_stage_amplifier_cascode_terminal ── Topic: 97\n",
      "│    │    │    │    └─voltage_converter_signal_circuit_power\n",
      "│    │    │    │         ├─■──voltage_converter_power_load_output ── Topic: 13\n",
      "│    │    │    │         └─■──clock_signal_circuit_frequency_comparator ── Topic: 28\n",
      "│    │    │    └─charging_power_coil_wireless_charge\n",
      "│    │    │         ├─■──coil_power_wireless_transmitter_electronic ── Topic: 78\n",
      "│    │    │         └─■──charging_power_charge_adapter_supercapacitor ── Topic: 56\n",
      "│    │    └─audio_image_vehicle_sensor_acoustic\n",
      "│    │         ├─audio_vehicle_acoustic_sensor_sound\n",
      "│    │         │    ├─audio_acoustic_sound_sensor_signal\n",
      "│    │         │    │    ├─sensor_temperature_wearable_thermoelectric_detector\n",
      "│    │         │    │    │    ├─■──temperature_thermoelectric_thermocouple_sensor_thermal ── Topic: 75\n",
      "│    │         │    │    │    └─sensor_wearable_detector_watch_operator\n",
      "│    │         │    │    │         ├─■──sensor_detector_sensitivity_magnetic_enclosure ── Topic: 63\n",
      "│    │         │    │    │         └─■──wearable_watch_operator_wrist_piloting ── Topic: 60\n",
      "│    │         │    │    └─audio_acoustic_sound_signal_ultrasonic\n",
      "│    │         │    │         ├─audio_sound_acoustic_signal_speaker\n",
      "│    │         │    │         │    ├─■──stimulation_nerve_cardiac_blood_electrodes ── Topic: 55\n",
      "│    │         │    │         │    └─audio_sound_acoustic_signal_speaker\n",
      "│    │         │    │         │         ├─■──bg_medication_patient_heart_value ── Topic: 43\n",
      "│    │         │    │         │         └─■──audio_sound_acoustic_signal_speaker ── Topic: 6\n",
      "│    │         │    │         └─■──ultrasonic_transducer_ultrasound_acoustic_transmitting ── Topic: 61\n",
      "│    │         │    └─vehicle_road_speed_driving_control\n",
      "│    │         │         ├─■──vehicle_road_driving_autonomous_traffic ── Topic: 21\n",
      "│    │         │         └─■──vehicle_speed_torque_acceleration_engine ── Topic: 44\n",
      "│    │         └─image_object_3d_images_information\n",
      "│    │              ├─image_3d_object_images_model\n",
      "│    │              │    ├─3d_image_object_images_model\n",
      "│    │              │    │    ├─■──augmented_reality_witness_display_buried ── Topic: 85\n",
      "│    │              │    │    └─3d_image_images_object_model\n",
      "│    │              │    │         ├─■──3d_depth_image_model_object ── Topic: 27\n",
      "│    │              │    │         └─■──images_image_salient_dental_recognition ── Topic: 86\n",
      "│    │              │    └─image_unit_processing_object_images\n",
      "│    │              │         ├─■──image_processing_object_boundary_unit ── Topic: 48\n",
      "│    │              │         └─■──image_scan_af_scanning_unit ── Topic: 92\n",
      "│    │              └─information_camera_log_unit_processing\n",
      "│    │                   ├─■──camera_imager_image_photosharing_preset ── Topic: 99\n",
      "│    │                   └─log_information_unit_terminal_robot\n",
      "│    │                        ├─■──robot_terminal_telematics_mobile_unit ── Topic: 94\n",
      "│    │                        └─■──log_information_processing_life_unit ── Topic: 96\n",
      "│    └─data_network_information_user_device\n",
      "│         ├─data_network_information_wireless_user\n",
      "│         │    ├─memory_storage_data_logical_write\n",
      "│         │    │    ├─■──memory_cell_bit_nonvolatile_cells ── Topic: 50\n",
      "│         │    │    └─■──storage_memory_data_logical_write ── Topic: 9\n",
      "│         │    └─network_wireless_information_data_user\n",
      "│         │         ├─content_video_media_data_search\n",
      "│         │         │    ├─video_media_content_picture_block\n",
      "│         │         │    │    ├─■──video_picture_block_encoding_transform ── Topic: 12\n",
      "│         │         │    │    └─■──media_content_video_presentation_multimedia ── Topic: 29\n",
      "│         │         │    └─content_search_query_data_language\n",
      "│         │         │         ├─■──search_content_text_user_document ── Topic: 8\n",
      "│         │         │         └─■──data_query_metadata_database_table ── Topic: 24\n",
      "│         │         └─network_wireless_communication_information_access\n",
      "│         │              ├─network_authentication_packet_device_key\n",
      "│         │              │    ├─■──authentication_key_user_account_identity ── Topic: 20\n",
      "│         │              │    └─network_packet_message_device_node\n",
      "│         │              │         ├─■──communication_conference_service_sais_address ── Topic: 70\n",
      "│         │              │         └─■──network_packet_message_node_multicast ── Topic: 10\n",
      "│         │              └─■──wireless_ue_station_communication_transmission ── Topic: 1\n",
      "│         └─game_payment_user_data_cloud\n",
      "│              ├─game_payment_cloud_threat_user\n",
      "│              │    ├─cloud_threat_management_security_data\n",
      "│              │    │    ├─■──energy_consumption_usage_building_utility ── Topic: 95\n",
      "│              │    │    └─cloud_threat_security_management_network\n",
      "│              │    │         ├─■──threat_security_management_endpoint_traffic ── Topic: 57\n",
      "│              │    │         └─■──cloud_service_instance_application_computing ── Topic: 38\n",
      "│              │    └─game_payment_user_location_player\n",
      "│              │         ├─payment_location_user_merchant_transaction\n",
      "│              │         │    ├─location_user_geographic_tracking_online\n",
      "│              │         │    │    ├─■──location_tracking_geographic_mobile_device ── Topic: 65\n",
      "│              │         │    │    └─■──online_ad_user_customer_sale ── Topic: 81\n",
      "│              │         │    └─■──payment_merchant_card_transaction_account ── Topic: 66\n",
      "│              │         └─■──game_player_gaming_players_objects ── Topic: 49\n",
      "│              └─■──call_caller_telephone_number_calling ── Topic: 84\n",
      "└─and_the_of_layer_first\n",
      "     ├─layer_the_first_second_and\n",
      "     │    ├─the_portion_end_and_valve\n",
      "     │    │    ├─gas_valve_heat_fluid_air\n",
      "     │    │    │    ├─gas_heat_turbine_air_cooling\n",
      "     │    │    │    │    ├─heat_turbine_cooling_air_compressor\n",
      "     │    │    │    │    │    ├─■──turbine_fan_blade_compressor_engine ── Topic: 11\n",
      "     │    │    │    │    │    └─■──heat_cooling_air_heating_exchanger ── Topic: 5\n",
      "     │    │    │    │    └─gas_fuel_exhaust_pressure_chamber\n",
      "     │    │    │    │         ├─pressure_gas_chamber_fluid_processing\n",
      "     │    │    │    │         │    ├─■──processing_plasma_chamber_substrate_gas ── Topic: 40\n",
      "     │    │    │    │         │    └─■──pressure_fluid_sensor_gas_flow ── Topic: 33\n",
      "     │    │    │    │         └─■──fuel_exhaust_gas_combustion_engine ── Topic: 17\n",
      "     │    │    │    └─valve_water_fluid_filter_outlet\n",
      "     │    │    │         ├─■──valve_fluid_pressure_inlet_piston ── Topic: 25\n",
      "     │    │    │         └─■──filter_water_vacuum_air_flow ── Topic: 47\n",
      "     │    │    └─portion_end_member_the_and\n",
      "     │    │         ├─container_implant_dispensing_the_bone\n",
      "     │    │         │    ├─implant_bone_stent_valve_distal\n",
      "     │    │         │    │    ├─■──stent_valve_heart_prosthetic_native ── Topic: 68\n",
      "     │    │         │    │    └─implant_bone_patient_tube_distal\n",
      "     │    │         │    │         ├─■──catheter_tube_distal_nasal_patient ── Topic: 37\n",
      "     │    │         │    │         └─■──implant_bone_anvil_knee_patient ── Topic: 16\n",
      "     │    │         │    └─container_dispensing_cartridge_conveyor_beverage\n",
      "     │    │         │         ├─container_dispensing_cartridge_conveyor_beverage\n",
      "     │    │         │         │    ├─conveyor_toner_transfer_forming_image\n",
      "     │    │         │         │    │    ├─■──toner_forming_image_developing_apparatus ── Topic: 64\n",
      "     │    │         │         │    │    └─■──conveyor_transfer_roller_transport_freight ── Topic: 46\n",
      "     │    │         │         │    └─container_dispensing_beverage_cartridge_cap\n",
      "     │    │         │         │         ├─■──container_portion_shipping_flange_wall ── Topic: 41\n",
      "     │    │         │         │         └─■──dispensing_beverage_cartridge_container_dispenser ── Topic: 14\n",
      "     │    │         │         └─■──lock_locking_door_locks_unlocking ── Topic: 93\n",
      "     │    │         └─portion_antenna_end_member_second\n",
      "     │    │              ├─ring_bearing_seal_outer_inner\n",
      "     │    │              │    ├─ring_bearing_seal_outer_shaft\n",
      "     │    │              │    │    ├─■──seal_pipe_tube_hose_sealing ── Topic: 42\n",
      "     │    │              │    │    └─■──ring_bearing_shaft_outer_inner ── Topic: 36\n",
      "     │    │              │    └─actuator_damper_damping_member_vibration\n",
      "     │    │              │         ├─■──damper_damping_spring_vibration_shockabsorbing ── Topic: 88\n",
      "     │    │              │         └─■──actuator_slide_member_direction_snare ── Topic: 90\n",
      "     │    │              └─antenna_portion_seat_side_end\n",
      "     │    │                   ├─seat_portion_connector_member_end\n",
      "     │    │                   │    ├─■──garment_partition_rear_walls_portion ── Topic: 51\n",
      "     │    │                   │    └─seat_connector_portion_member_end\n",
      "     │    │                   │         ├─■──seat_support_member_portion_frame ── Topic: 4\n",
      "     │    │                   │         └─■──connector_cable_electrical_contact_housing ── Topic: 23\n",
      "     │    │                   └─antenna_radiator_solar_conductor_rf\n",
      "     │    │                        ├─■──antenna_radiator_conductor_rf_feed ── Topic: 19\n",
      "     │    │                        └─■──solar_photovoltaic_panel_pv_electrode ── Topic: 35\n",
      "     │    └─layer_substrate_semiconductor_light_display\n",
      "     │         ├─layer_semiconductor_substrate_gate_display\n",
      "     │         │    ├─display_touch_panel_substrate_pixel\n",
      "     │         │    │    ├─■──crystal_liquid_display_transparent_panel ── Topic: 67\n",
      "     │         │    │    └─display_touch_substrate_panel_pixel\n",
      "     │         │    │         ├─■──display_panel_pixel_substrate_lines ── Topic: 7\n",
      "     │         │    │         └─■──touch_electrode_screen_electrodes_sensing ── Topic: 22\n",
      "     │         │    └─semiconductor_layer_gate_substrate_region\n",
      "     │         │         ├─■──semiconductor_layer_gate_substrate_conductive ── Topic: 2\n",
      "     │         │         └─■──memory_mram_region_layer_layers ── Topic: 32\n",
      "     │         └─light_emitting_lightemitting_organic_layer\n",
      "     │              ├─light_source_lighting_plate_led\n",
      "     │              │    ├─■──photoelectric_light_conversion_sensor_image ── Topic: 45\n",
      "     │              │    └─light_source_lighting_led_plate\n",
      "     │              │         ├─■──light_lighting_led_source_lamp ── Topic: 15\n",
      "     │              │         └─■──light_plate_guide_display_backlight ── Topic: 59\n",
      "     │              └─organic_emitting_lightemitting_light_layer\n",
      "     │                   ├─■──emitting_lightemitting_light_led_layer ── Topic: 69\n",
      "     │                   └─■──organic_pixel_emitting_el_light ── Topic: 79\n",
      "     └─invention_and_or_of_optical\n",
      "          ├─and_or_of_optical_invention\n",
      "          │    ├─optical_lens_laser_the_an\n",
      "          │    │    ├─gear_cutting_magnetic_rotor_brake\n",
      "          │    │    │    ├─magnetic_resonance_pulse_gradient_readout\n",
      "          │    │    │    │    ├─■──resonance_magnetic_pulse_gradient_readout ── Topic: 83\n",
      "          │    │    │    │    └─■──magnetic_suspension_magnetization_pole_piece ── Topic: 89\n",
      "          │    │    │    └─gear_cutting_rotor_brake_shaft\n",
      "          │    │    │         ├─gear_rotor_brake_clutch_planetary\n",
      "          │    │    │         │    ├─gear_rotor_planetary_clutch_stator\n",
      "          │    │    │         │    │    ├─■──rotor_stator_core_motor_proprotor ── Topic: 71\n",
      "          │    │    │         │    │    └─■──gear_planetary_clutch_shaft_drive ── Topic: 39\n",
      "          │    │    │         │    └─brake_hydraulic_wheel_agricultural_crop\n",
      "          │    │    │         │         ├─■──brake_hydraulic_wheel_braking_pressure ── Topic: 82\n",
      "          │    │    │         │         └─■──agricultural_crop_weeding_seed_row ── Topic: 91\n",
      "          │    │    │         └─cutting_xray_golf_sole_handle\n",
      "          │    │    │              ├─cutting_golf_sole_tool_shoe\n",
      "          │    │    │              │    ├─cutting_golf_tool_swing_handle\n",
      "          │    │    │              │    │    ├─■──golf_swing_ball_club_bat ── Topic: 54\n",
      "          │    │    │              │    │    └─cutting_tool_handle_blade_clamping\n",
      "          │    │    │              │    │         ├─■──exercise_resistance_pulley_ergonomic_apparatus ── Topic: 103\n",
      "          │    │    │              │    │         └─cutting_tool_blade_clamping_handle\n",
      "          │    │    │              │    │              ├─■──clamping_handle_grip_sheath_holding ── Topic: 80\n",
      "          │    │    │              │    │              └─■──cutting_tool_blade_pipe_blades ── Topic: 58\n",
      "          │    │    │              │    └─■──sole_shoe_sock_ski_heel ── Topic: 87\n",
      "          │    │    │              └─xray_bolt_xrays_gun_firearm\n",
      "          │    │    │                   ├─■──bolt_gun_firearm_trigger_lug ── Topic: 102\n",
      "          │    │    │                   └─■──xray_xrays_tube_detector_modification ── Topic: 98\n",
      "          │    │    └─optical_lens_laser_ink_print\n",
      "          │    │         ├─optical_lens_laser_refractive_beam\n",
      "          │    │         │    ├─optical_lens_refractive_photonic_waveguide\n",
      "          │    │         │    │    ├─■──lens_optical_refractive_imageside_concave ── Topic: 31\n",
      "          │    │         │    │    └─■──optical_photonic_waveguide_fiber_refractive ── Topic: 18\n",
      "          │    │         │    └─laser_beam_irradiation_radiation_particle\n",
      "          │    │         │         ├─■──laser_beam_workpiece_treatment_energy ── Topic: 73\n",
      "          │    │         │         └─■──beam_radiation_irradiation_particle_dose ── Topic: 72\n",
      "          │    │         └─ink_print_printing_printer_head\n",
      "          │    │              ├─■──print_printing_printer_setting_page ── Topic: 76\n",
      "          │    │              └─■──ink_printing_head_print_nozzle ── Topic: 34\n",
      "          │    └─invention_composition_acid_compositions_or\n",
      "          │         ├─invention_acid_composition_compositions_or\n",
      "          │         │    ├─invention_acid_compositions_composition_or\n",
      "          │         │    │    ├─acid_invention_compositions_composition_methods\n",
      "          │         │    │    │    ├─■──compositions_invention_acid_methods_nucleic ── Topic: 0\n",
      "          │         │    │    │    └─■──composition_catalyst_polymer_comprising_step ── Topic: 3\n",
      "          │         │    │    └─alloy_layer_aluminum_weight_coating\n",
      "          │         │    │         ├─■──alloy_layer_aluminum_glass_weight ── Topic: 30\n",
      "          │         │    │         └─■──part_material_additive_manufacturing_formed ── Topic: 62\n",
      "          │         │    └─battery_electrolyte_electrode_lithium_anode\n",
      "          │         │         ├─■──electrolyte_battery_electrode_lithium_anode ── Topic: 26\n",
      "          │         │         └─■──battery_electrode_case_terminal_connecting ── Topic: 74\n",
      "          │         └─tire_rubber_composite_carbon_tread\n",
      "          │              ├─■──graphene_boron_nitride_nanotubes_borane ── Topic: 100\n",
      "          │              └─tire_rubber_composite_tread_carbon\n",
      "          │                   ├─■──composite_constituent_ply_fibers_ceramic ── Topic: 101\n",
      "          │                   └─■──tire_rubber_tread_carbon_tirederived ── Topic: 77\n",
      "          └─soybean_cultivar_plant_plants_variety\n",
      "               ├─■──iplant_habit_new_characterized_named ── Topic: 52\n",
      "               └─■──soybean_cultivar_plant_plants_parts ── Topic: 53\n",
      "\n"
     ]
    }
   ],
   "source": [
    "# Default BERTopic\n",
    "from bertopic import BERTopic\n",
    "\n",
    "\n",
    "topic_model = BERTopic()\n",
    "\n",
    "# Run BERTopic model\n",
    "topics, probabilities = topic_model.fit_transform(df['abstract']) \n",
    "hierarchical_topics = topic_model.hierarchical_topics(df['abstract'])\n",
    "tree = topic_model.get_topic_tree(hierarchical_topics)\n",
    "print(tree)"
   ]
  },
  {
   "cell_type": "code",
   "execution_count": null,
   "id": "f85230e8",
   "metadata": {},
   "outputs": [],
   "source": []
  }
 ],
 "metadata": {
  "kernelspec": {
   "display_name": "Python 3 (ipykernel)",
   "language": "python",
   "name": "python3"
  },
  "language_info": {
   "codemirror_mode": {
    "name": "ipython",
    "version": 3
   },
   "file_extension": ".py",
   "mimetype": "text/x-python",
   "name": "python",
   "nbconvert_exporter": "python",
   "pygments_lexer": "ipython3",
   "version": "3.9.7"
  }
 },
 "nbformat": 4,
 "nbformat_minor": 5
}
