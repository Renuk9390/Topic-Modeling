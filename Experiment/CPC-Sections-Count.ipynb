{
 "cells": [
  {
   "cell_type": "markdown",
   "id": "ddbd4082",
   "metadata": {},
   "source": [
    "# Claim Dataset"
   ]
  },
  {
   "cell_type": "code",
   "execution_count": 146,
   "id": "44edd122",
   "metadata": {},
   "outputs": [
    {
     "data": {
      "text/html": [
       "<div>\n",
       "<style scoped>\n",
       "    .dataframe tbody tr th:only-of-type {\n",
       "        vertical-align: middle;\n",
       "    }\n",
       "\n",
       "    .dataframe tbody tr th {\n",
       "        vertical-align: top;\n",
       "    }\n",
       "\n",
       "    .dataframe thead th {\n",
       "        text-align: right;\n",
       "    }\n",
       "</style>\n",
       "<table border=\"1\" class=\"dataframe\">\n",
       "  <thead>\n",
       "    <tr style=\"text-align: right;\">\n",
       "      <th></th>\n",
       "      <th>ID</th>\n",
       "      <th>Title</th>\n",
       "      <th>Claim</th>\n",
       "      <th>cpc_subclass</th>\n",
       "    </tr>\n",
       "  </thead>\n",
       "  <tbody>\n",
       "    <tr>\n",
       "      <th>0</th>\n",
       "      <td>8927300</td>\n",
       "      <td>Method and compositions for the detection of p...</td>\n",
       "      <td>1. A compound of the formula: wherein R is a s...</td>\n",
       "      <td>C07H,C07K,C12N,C12Q,G01N</td>\n",
       "    </tr>\n",
       "    <tr>\n",
       "      <th>1</th>\n",
       "      <td>8930992</td>\n",
       "      <td>TV social network advertising</td>\n",
       "      <td>1. An advertising method, comprising: displayi...</td>\n",
       "      <td>G06Q,H04N</td>\n",
       "    </tr>\n",
       "    <tr>\n",
       "      <th>2</th>\n",
       "      <td>8929358</td>\n",
       "      <td>Call flow system and method for use in a legac...</td>\n",
       "      <td>1. A method, comprising: receiving, from a mob...</td>\n",
       "      <td>H04L,H04M,H04Q,H04W,H05K</td>\n",
       "    </tr>\n",
       "    <tr>\n",
       "      <th>3</th>\n",
       "      <td>8925531</td>\n",
       "      <td>Spark plug degradation detection</td>\n",
       "      <td>1. A method of controlling an engine cylinder ...</td>\n",
       "      <td>F02D,F02P,Y02T</td>\n",
       "    </tr>\n",
       "    <tr>\n",
       "      <th>4</th>\n",
       "      <td>8927955</td>\n",
       "      <td>Resistance change memory</td>\n",
       "      <td>1. A resistance change memory comprising: a fi...</td>\n",
       "      <td>B82Y,G11C,H01L</td>\n",
       "    </tr>\n",
       "  </tbody>\n",
       "</table>\n",
       "</div>"
      ],
      "text/plain": [
       "        ID                                              Title  \\\n",
       "0  8927300  Method and compositions for the detection of p...   \n",
       "1  8930992                      TV social network advertising   \n",
       "2  8929358  Call flow system and method for use in a legac...   \n",
       "3  8925531                   Spark plug degradation detection   \n",
       "4  8927955                           Resistance change memory   \n",
       "\n",
       "                                               Claim              cpc_subclass  \n",
       "0  1. A compound of the formula: wherein R is a s...  C07H,C07K,C12N,C12Q,G01N  \n",
       "1  1. An advertising method, comprising: displayi...                 G06Q,H04N  \n",
       "2  1. A method, comprising: receiving, from a mob...  H04L,H04M,H04Q,H04W,H05K  \n",
       "3  1. A method of controlling an engine cylinder ...            F02D,F02P,Y02T  \n",
       "4  1. A resistance change memory comprising: a fi...            B82Y,G11C,H01L  "
      ]
     },
     "execution_count": 146,
     "metadata": {},
     "output_type": "execute_result"
    }
   ],
   "source": [
    "# Read uspto dataset\n",
    "import pandas as pd\n",
    "import numpy as np\n",
    "import nltk\n",
    "\n",
    "\n",
    "df = pd.read_csv('./dataset/df-claim-A.csv')\n",
    "df_claim=df[[\"ID\",\"Title\",\"Claim\",\"cpc_subclass\"]]\n",
    "df_claim= df_claim.dropna()\n",
    "df_claim = df_claim.reset_index(drop=True)\n",
    "df_claim.head()"
   ]
  },
  {
   "cell_type": "code",
   "execution_count": 147,
   "id": "1e513103",
   "metadata": {},
   "outputs": [
    {
     "data": {
      "text/plain": [
       "1428600"
      ]
     },
     "execution_count": 147,
     "metadata": {},
     "output_type": "execute_result"
    }
   ],
   "source": [
    "len(df_claim)"
   ]
  },
  {
   "cell_type": "markdown",
   "id": "d319d73b",
   "metadata": {},
   "source": [
    "# caculate the count of each section for each document"
   ]
  },
  {
   "cell_type": "code",
   "execution_count": 148,
   "id": "38cabdf0",
   "metadata": {},
   "outputs": [],
   "source": [
    "import pandas as pd\n",
    "import squarify\n",
    "import matplotlib.pyplot as plt\n",
    "\n",
    "# dictionary to store the counts for each section prefix\n",
    "section_prefix_counts = {}\n",
    "\n",
    "# loop over the subclasses in the dataset\n",
    "for subclasses in df_claim['cpc_subclass'].str.split(\",\"):\n",
    "    # create a set to store unique section prefixes for each document\n",
    "    unique_sections = set()\n",
    "    for subclass in subclasses:\n",
    "        # extract the section prefix from the subclass\n",
    "        section_prefix = subclass.split()[0][0]\n",
    "        # add the section prefix to the set\n",
    "        unique_sections.add(section_prefix)\n",
    "    # loop over the set and increment the count for each section prefix\n",
    "    for section_prefix in unique_sections:\n",
    "        if section_prefix in section_prefix_counts:\n",
    "            section_prefix_counts[section_prefix] += 1\n",
    "        else:\n",
    "            section_prefix_counts[section_prefix] = 1\n",
    "\n",
    "# create a dataframe from the section prefix counts dictionary\n",
    "df_section_prefix_counts = pd.DataFrame.from_dict(section_prefix_counts, orient='index', columns=['count'])\n",
    "# sort the dataframe by count in descending order\n",
    "df_section_prefix_counts = df_section_prefix_counts.sort_values('count', ascending=False)\n"
   ]
  },
  {
   "cell_type": "code",
   "execution_count": 149,
   "id": "e604462a",
   "metadata": {},
   "outputs": [],
   "source": [
    "#draw the Treemap for each section"
   ]
  },
  {
   "cell_type": "code",
   "execution_count": 150,
   "id": "1f0e123c",
   "metadata": {},
   "outputs": [
    {
     "data": {
      "image/png": "[encoded data removed]",
      "text/plain": [
       "<Figure size 720x432 with 1 Axes>"
      ]
     },
     "metadata": {
      "needs_background": "light"
     },
     "output_type": "display_data"
    }
   ],
   "source": [
    "# define the color palette\n",
    "color_palette = ['#3498db', '#2ecc71', '#f1c40f', '#f39c12', '#27ae60', '#1abc9c', '#f7dc6f', '#9b59b6', '#e74c3c']\n",
    "\n",
    "# set the size of the figure\n",
    "plt.figure(figsize=(10, 6))\n",
    "\n",
    "# create a squarify layout for the treemap and display the count inside each rectangle\n",
    "squarify.plot(sizes=df_section_prefix_counts['count'], label=[f\"{i}\\n{c}\" for i, c in zip(df_section_prefix_counts.index, df_section_prefix_counts['count'])], alpha=.8, color=color_palette)\n",
    "plt.title(\"Counts of Section Prefixes in CPC Classification for each Claim\")\n",
    "plt.axis('off')\n",
    "\n",
    "# display the treemap\n",
    "plt.show()"
   ]
  },
  {
   "cell_type": "code",
   "execution_count": 151,
   "id": "2dfd5fec",
   "metadata": {},
   "outputs": [
    {
     "name": "stdout",
     "output_type": "stream",
     "text": [
      "Section C count: 176995\n",
      "Section G count: 559840\n",
      "Section H count: 570658\n",
      "Section Y count: 196135\n",
      "Section F count: 145927\n",
      "Section B count: 266958\n",
      "Section A count: 247404\n",
      "Section E count: 49413\n",
      "Section D count: 11392\n"
     ]
    }
   ],
   "source": [
    "for prefix, count in section_prefix_counts.items():\n",
    "    print(f\"Section {prefix} count: {count}\")"
   ]
  },
  {
   "cell_type": "markdown",
   "id": "1cdb02a5",
   "metadata": {},
   "source": [
    "# caculate the lenght of claim"
   ]
  },
  {
   "cell_type": "code",
   "execution_count": 161,
   "id": "e646629b",
   "metadata": {},
   "outputs": [
    {
     "data": {
      "image/png": "[encoded data removed]",
      "text/plain": [
       "<Figure size 432x288 with 1 Axes>"
      ]
     },
     "metadata": {
      "needs_background": "light"
     },
     "output_type": "display_data"
    }
   ],
   "source": [
    "import pandas as pd\n",
    "import matplotlib.pyplot as plt\n",
    "\n",
    "# calculate the length of each claim and add it as a new column in the dataframe\n",
    "df_claim['claim_length'] = df_claim['Claim'].apply(lambda x: len(x.split()))\n",
    "\n",
    "# calculate summary statistics of claim lengths\n",
    "summary_stats = df_claim['claim_length'].describe()\n",
    "\n",
    "# extract the values of X and Y\n",
    "X = int(summary_stats['25%'])\n",
    "Y = int(summary_stats['75%'])\n",
    "\n",
    "# create histogram of claim lengths with X and Y labeled\n",
    "plt.hist(df_claim['claim_length'], bins=50)\n",
    "plt.axvline(x=X, color='red', linestyle='--', label=f'X = {X}')\n",
    "plt.axvline(x=Y, color='green', linestyle='--', label=f'Y = {Y}')\n",
    "plt.xlabel('Claim Length (in words)')\n",
    "plt.ylabel('Number of Documents')\n",
    "plt.title('Distribution of Claim Lengths in Patent Dataset')\n",
    "plt.legend()\n",
    "plt.show()"
   ]
  },
  {
   "cell_type": "markdown",
   "id": "ba106346",
   "metadata": {},
   "source": [
    "# filter the dataset base on secttion H"
   ]
  },
  {
   "cell_type": "code",
   "execution_count": 162,
   "id": "e1173c6d",
   "metadata": {},
   "outputs": [
    {
     "data": {
      "text/plain": [
       "570658"
      ]
     },
     "execution_count": 162,
     "metadata": {},
     "output_type": "execute_result"
    }
   ],
   "source": [
    "df_claim_filter = df_claim[df_claim['cpc_subclass'].str.contains(r'\\bH[\\w]*|,[\\s]*H[\\w]*')]\n",
    "len(df_claim_filter)"
   ]
  },
  {
   "cell_type": "code",
   "execution_count": 163,
   "id": "0cba805d",
   "metadata": {},
   "outputs": [
    {
     "data": {
      "text/html": [
       "<div>\n",
       "<style scoped>\n",
       "    .dataframe tbody tr th:only-of-type {\n",
       "        vertical-align: middle;\n",
       "    }\n",
       "\n",
       "    .dataframe tbody tr th {\n",
       "        vertical-align: top;\n",
       "    }\n",
       "\n",
       "    .dataframe thead th {\n",
       "        text-align: right;\n",
       "    }\n",
       "</style>\n",
       "<table border=\"1\" class=\"dataframe\">\n",
       "  <thead>\n",
       "    <tr style=\"text-align: right;\">\n",
       "      <th></th>\n",
       "      <th>ID</th>\n",
       "      <th>Title</th>\n",
       "      <th>Claim</th>\n",
       "      <th>cpc_subclass</th>\n",
       "      <th>claim_length</th>\n",
       "    </tr>\n",
       "  </thead>\n",
       "  <tbody>\n",
       "    <tr>\n",
       "      <th>1</th>\n",
       "      <td>8930992</td>\n",
       "      <td>TV social network advertising</td>\n",
       "      <td>1. An advertising method, comprising: displayi...</td>\n",
       "      <td>G06Q,H04N</td>\n",
       "      <td>184</td>\n",
       "    </tr>\n",
       "    <tr>\n",
       "      <th>2</th>\n",
       "      <td>8929358</td>\n",
       "      <td>Call flow system and method for use in a legac...</td>\n",
       "      <td>1. A method, comprising: receiving, from a mob...</td>\n",
       "      <td>H04L,H04M,H04Q,H04W,H05K</td>\n",
       "      <td>214</td>\n",
       "    </tr>\n",
       "    <tr>\n",
       "      <th>4</th>\n",
       "      <td>8927955</td>\n",
       "      <td>Resistance change memory</td>\n",
       "      <td>1. A resistance change memory comprising: a fi...</td>\n",
       "      <td>B82Y,G11C,H01L</td>\n",
       "      <td>168</td>\n",
       "    </tr>\n",
       "    <tr>\n",
       "      <th>6</th>\n",
       "      <td>8928653</td>\n",
       "      <td>Information processing system, information pro...</td>\n",
       "      <td>1. An information processing system comprising...</td>\n",
       "      <td>A63F,G06F,H04N</td>\n",
       "      <td>148</td>\n",
       "    </tr>\n",
       "    <tr>\n",
       "      <th>7</th>\n",
       "      <td>8930595</td>\n",
       "      <td>Memory switch for interconnecting server nodes</td>\n",
       "      <td>1. A computer-implemented method for transferr...</td>\n",
       "      <td>G06F,H04L</td>\n",
       "      <td>109</td>\n",
       "    </tr>\n",
       "  </tbody>\n",
       "</table>\n",
       "</div>"
      ],
      "text/plain": [
       "        ID                                              Title  \\\n",
       "1  8930992                      TV social network advertising   \n",
       "2  8929358  Call flow system and method for use in a legac...   \n",
       "4  8927955                           Resistance change memory   \n",
       "6  8928653  Information processing system, information pro...   \n",
       "7  8930595     Memory switch for interconnecting server nodes   \n",
       "\n",
       "                                               Claim  \\\n",
       "1  1. An advertising method, comprising: displayi...   \n",
       "2  1. A method, comprising: receiving, from a mob...   \n",
       "4  1. A resistance change memory comprising: a fi...   \n",
       "6  1. An information processing system comprising...   \n",
       "7  1. A computer-implemented method for transferr...   \n",
       "\n",
       "               cpc_subclass  claim_length  \n",
       "1                 G06Q,H04N           184  \n",
       "2  H04L,H04M,H04Q,H04W,H05K           214  \n",
       "4            B82Y,G11C,H01L           168  \n",
       "6            A63F,G06F,H04N           148  \n",
       "7                 G06F,H04L           109  "
      ]
     },
     "execution_count": 163,
     "metadata": {},
     "output_type": "execute_result"
    }
   ],
   "source": [
    "df_claim_filter.head()"
   ]
  },
  {
   "cell_type": "code",
   "execution_count": 177,
   "id": "d51b9770",
   "metadata": {},
   "outputs": [
    {
     "name": "stderr",
     "output_type": "stream",
     "text": [
      "C:\\Users\\admin\\AppData\\Local\\Temp/ipykernel_23752/2730942506.py:5: SettingWithCopyWarning: \n",
      "A value is trying to be set on a copy of a slice from a DataFrame.\n",
      "Try using .loc[row_indexer,col_indexer] = value instead\n",
      "\n",
      "See the caveats in the documentation: https://pandas.pydata.org/pandas-docs/stable/user_guide/indexing.html#returning-a-view-versus-a-copy\n",
      "  df_claim_filter['claim_length'] = df_claim_filter['Claim'].apply(lambda x: len(x.split()))\n"
     ]
    },
    {
     "data": {
      "image/png": "[encoded data removed]",
      "text/plain": [
       "<Figure size 432x288 with 1 Axes>"
      ]
     },
     "metadata": {
      "needs_background": "light"
     },
     "output_type": "display_data"
    }
   ],
   "source": [
    "import pandas as pd\n",
    "import matplotlib.pyplot as plt\n",
    "\n",
    "# calculate the length of each claim and add it as a new column in the dataframe\n",
    "df_claim_filter['claim_length'] = df_claim_filter['Claim'].apply(lambda x: len(x.split()))\n",
    "\n",
    "# calculate summary statistics of claim lengths\n",
    "summary_stats = df_claim_filter['claim_length'].describe()\n",
    "\n",
    "# extract the values of X and Y\n",
    "X = int(summary_stats['25%'])\n",
    "Y = int(summary_stats['75%'])\n",
    "\n",
    "# create histogram of claim lengths with X and Y labeled\n",
    "plt.hist(df_claim_filter['claim_length'], bins=50)\n",
    "plt.axvline(x=X, color='red', linestyle='--', label=f'X = {X}')\n",
    "plt.axvline(x=Y, color='green', linestyle='--', label=f'Y = {Y}')\n",
    "plt.xlabel('Claim Length (in words)')\n",
    "plt.ylabel('Number of Documents')\n",
    "plt.title('Distribution of Claim Lengths for Patents in CPC Section H')\n",
    "plt.legend()\n",
    "plt.show()"
   ]
  },
  {
   "cell_type": "markdown",
   "id": "c3b19f41",
   "metadata": {},
   "source": [
    "# Abstract Dataset"
   ]
  },
  {
   "cell_type": "code",
   "execution_count": 166,
   "id": "09326b58",
   "metadata": {},
   "outputs": [
    {
     "data": {
      "text/html": [
       "<div>\n",
       "<style scoped>\n",
       "    .dataframe tbody tr th:only-of-type {\n",
       "        vertical-align: middle;\n",
       "    }\n",
       "\n",
       "    .dataframe tbody tr th {\n",
       "        vertical-align: top;\n",
       "    }\n",
       "\n",
       "    .dataframe thead th {\n",
       "        text-align: right;\n",
       "    }\n",
       "</style>\n",
       "<table border=\"1\" class=\"dataframe\">\n",
       "  <thead>\n",
       "    <tr style=\"text-align: right;\">\n",
       "      <th></th>\n",
       "      <th>ID</th>\n",
       "      <th>Title</th>\n",
       "      <th>Abstract</th>\n",
       "      <th>cpc_subclass</th>\n",
       "    </tr>\n",
       "  </thead>\n",
       "  <tbody>\n",
       "    <tr>\n",
       "      <th>0</th>\n",
       "      <td>US07072141</td>\n",
       "      <td>magnetic disc unit with range of gap between d...</td>\n",
       "      <td>a magnetic disc unit having a rotating disc ty...</td>\n",
       "      <td>['G11B']</td>\n",
       "    </tr>\n",
       "    <tr>\n",
       "      <th>1</th>\n",
       "      <td>US06981282</td>\n",
       "      <td>systems and methods for transformable suits</td>\n",
       "      <td>methods and systems for transforming a volume ...</td>\n",
       "      <td>['A41D']</td>\n",
       "    </tr>\n",
       "    <tr>\n",
       "      <th>2</th>\n",
       "      <td>US06981283</td>\n",
       "      <td>gardening gloves with cushion insert to protec...</td>\n",
       "      <td>a gardening glove or the like designed to prev...</td>\n",
       "      <td>['A41D']</td>\n",
       "    </tr>\n",
       "    <tr>\n",
       "      <th>3</th>\n",
       "      <td>US06981284</td>\n",
       "      <td>hockey helmet comprising a lateral adjustment ...</td>\n",
       "      <td>a hockey helmet for receiving a head of a wear...</td>\n",
       "      <td>['A63B']</td>\n",
       "    </tr>\n",
       "    <tr>\n",
       "      <th>4</th>\n",
       "      <td>US06981285</td>\n",
       "      <td>toilet and method of operation</td>\n",
       "      <td>a toilet and toilet system suitable for a boat...</td>\n",
       "      <td>['E03D']</td>\n",
       "    </tr>\n",
       "    <tr>\n",
       "      <th>5</th>\n",
       "      <td>US06981286</td>\n",
       "      <td>hidden mounting of water valve body and headwo...</td>\n",
       "      <td>a water valve assembly is disclosed for mounti...</td>\n",
       "      <td>['E03C']</td>\n",
       "    </tr>\n",
       "    <tr>\n",
       "      <th>6</th>\n",
       "      <td>US06981287</td>\n",
       "      <td>inflatable bed unit</td>\n",
       "      <td>an inflatable bed unit includes an inflatable ...</td>\n",
       "      <td>['A47C']</td>\n",
       "    </tr>\n",
       "    <tr>\n",
       "      <th>7</th>\n",
       "      <td>US06981288</td>\n",
       "      <td>structure of a pillow</td>\n",
       "      <td>a pillow includes a main support part two seco...</td>\n",
       "      <td>['A47G']</td>\n",
       "    </tr>\n",
       "    <tr>\n",
       "      <th>8</th>\n",
       "      <td>US06981289</td>\n",
       "      <td>change aids for external articles</td>\n",
       "      <td>an external change aid having engaging means w...</td>\n",
       "      <td>['A47B', 'A47C', 'B68G']</td>\n",
       "    </tr>\n",
       "    <tr>\n",
       "      <th>9</th>\n",
       "      <td>US06981290</td>\n",
       "      <td>wire cutter and bayonet sheath combination</td>\n",
       "      <td>the present invention provides a scabbard for ...</td>\n",
       "      <td>['B26B']</td>\n",
       "    </tr>\n",
       "    <tr>\n",
       "      <th>10</th>\n",
       "      <td>US06981291</td>\n",
       "      <td>motorized cleaning apparatus</td>\n",
       "      <td>a cleaning apparatus includes a handle a suppo...</td>\n",
       "      <td>['A46B']</td>\n",
       "    </tr>\n",
       "    <tr>\n",
       "      <th>11</th>\n",
       "      <td>US06981292</td>\n",
       "      <td>cleaning apparatus for hair brushes and combs</td>\n",
       "      <td>described is an apparatus for removing hair en...</td>\n",
       "      <td>['A46B']</td>\n",
       "    </tr>\n",
       "    <tr>\n",
       "      <th>12</th>\n",
       "      <td>US06981293</td>\n",
       "      <td>personal hygiene accessory</td>\n",
       "      <td>a device for providing self assisting hygienic...</td>\n",
       "      <td>['A47K']</td>\n",
       "    </tr>\n",
       "    <tr>\n",
       "      <th>13</th>\n",
       "      <td>US06981294</td>\n",
       "      <td>carpet slide for recreational use</td>\n",
       "      <td>a carpet slide for use as a recreational enter...</td>\n",
       "      <td>['A47B']</td>\n",
       "    </tr>\n",
       "    <tr>\n",
       "      <th>14</th>\n",
       "      <td>US06981295</td>\n",
       "      <td>door closer hold open apparatus</td>\n",
       "      <td>the present invention relates to a hold open a...</td>\n",
       "      <td>['E05F']</td>\n",
       "    </tr>\n",
       "    <tr>\n",
       "      <th>15</th>\n",
       "      <td>US06981296</td>\n",
       "      <td>hinge apparatus for mobile phones</td>\n",
       "      <td>the object of this invention is to provide a h...</td>\n",
       "      <td>['E05D']</td>\n",
       "    </tr>\n",
       "    <tr>\n",
       "      <th>16</th>\n",
       "      <td>US06981297</td>\n",
       "      <td>controlled placement of a reinforcing web with...</td>\n",
       "      <td>apparatus for forming an air formed reinforced...</td>\n",
       "      <td>['D01G']</td>\n",
       "    </tr>\n",
       "    <tr>\n",
       "      <th>17</th>\n",
       "      <td>US06981298</td>\n",
       "      <td>clip structure and clip structure assembling m...</td>\n",
       "      <td>there is provided a clip structure that can be...</td>\n",
       "      <td>['B43K', 'A45F', 'A44B']</td>\n",
       "    </tr>\n",
       "    <tr>\n",
       "      <th>18</th>\n",
       "      <td>US06981299</td>\n",
       "      <td>closure device</td>\n",
       "      <td>a container includes a closure device the clos...</td>\n",
       "      <td>['A44B']</td>\n",
       "    </tr>\n",
       "    <tr>\n",
       "      <th>19</th>\n",
       "      <td>US06981317</td>\n",
       "      <td>method and device for mounting electronic comp...</td>\n",
       "      <td>when mounting an ic chip on a circuit board bu...</td>\n",
       "      <td>['H01L']</td>\n",
       "    </tr>\n",
       "  </tbody>\n",
       "</table>\n",
       "</div>"
      ],
      "text/plain": [
       "            ID                                              Title  \\\n",
       "0   US07072141  magnetic disc unit with range of gap between d...   \n",
       "1   US06981282        systems and methods for transformable suits   \n",
       "2   US06981283  gardening gloves with cushion insert to protec...   \n",
       "3   US06981284  hockey helmet comprising a lateral adjustment ...   \n",
       "4   US06981285                     toilet and method of operation   \n",
       "5   US06981286  hidden mounting of water valve body and headwo...   \n",
       "6   US06981287                                inflatable bed unit   \n",
       "7   US06981288                              structure of a pillow   \n",
       "8   US06981289                  change aids for external articles   \n",
       "9   US06981290         wire cutter and bayonet sheath combination   \n",
       "10  US06981291                       motorized cleaning apparatus   \n",
       "11  US06981292      cleaning apparatus for hair brushes and combs   \n",
       "12  US06981293                         personal hygiene accessory   \n",
       "13  US06981294                  carpet slide for recreational use   \n",
       "14  US06981295                    door closer hold open apparatus   \n",
       "15  US06981296                  hinge apparatus for mobile phones   \n",
       "16  US06981297  controlled placement of a reinforcing web with...   \n",
       "17  US06981298  clip structure and clip structure assembling m...   \n",
       "18  US06981299                                     closure device   \n",
       "19  US06981317  method and device for mounting electronic comp...   \n",
       "\n",
       "                                             Abstract  \\\n",
       "0   a magnetic disc unit having a rotating disc ty...   \n",
       "1   methods and systems for transforming a volume ...   \n",
       "2   a gardening glove or the like designed to prev...   \n",
       "3   a hockey helmet for receiving a head of a wear...   \n",
       "4   a toilet and toilet system suitable for a boat...   \n",
       "5   a water valve assembly is disclosed for mounti...   \n",
       "6   an inflatable bed unit includes an inflatable ...   \n",
       "7   a pillow includes a main support part two seco...   \n",
       "8   an external change aid having engaging means w...   \n",
       "9   the present invention provides a scabbard for ...   \n",
       "10  a cleaning apparatus includes a handle a suppo...   \n",
       "11  described is an apparatus for removing hair en...   \n",
       "12  a device for providing self assisting hygienic...   \n",
       "13  a carpet slide for use as a recreational enter...   \n",
       "14  the present invention relates to a hold open a...   \n",
       "15  the object of this invention is to provide a h...   \n",
       "16  apparatus for forming an air formed reinforced...   \n",
       "17  there is provided a clip structure that can be...   \n",
       "18  a container includes a closure device the clos...   \n",
       "19  when mounting an ic chip on a circuit board bu...   \n",
       "\n",
       "                cpc_subclass  \n",
       "0                   ['G11B']  \n",
       "1                   ['A41D']  \n",
       "2                   ['A41D']  \n",
       "3                   ['A63B']  \n",
       "4                   ['E03D']  \n",
       "5                   ['E03C']  \n",
       "6                   ['A47C']  \n",
       "7                   ['A47G']  \n",
       "8   ['A47B', 'A47C', 'B68G']  \n",
       "9                   ['B26B']  \n",
       "10                  ['A46B']  \n",
       "11                  ['A46B']  \n",
       "12                  ['A47K']  \n",
       "13                  ['A47B']  \n",
       "14                  ['E05F']  \n",
       "15                  ['E05D']  \n",
       "16                  ['D01G']  \n",
       "17  ['B43K', 'A45F', 'A44B']  \n",
       "18                  ['A44B']  \n",
       "19                  ['H01L']  "
      ]
     },
     "execution_count": 166,
     "metadata": {},
     "output_type": "execute_result"
    }
   ],
   "source": [
    "# Read uspto dataset\n",
    "import pandas as pd\n",
    "import numpy as np\n",
    "import nltk\n",
    "\n",
    "\n",
    "df = pd.read_csv('./dataset/AbstractDataset/df-Abstract.csv')\n",
    "df = df.rename(columns={'No': 'ID', 'Title': 'Title', 'Abstract': 'Abstract', 'Subclass_labels': 'cpc_subclass'})\n",
    "df_Abstract=df[[\"ID\",\"Title\",\"Abstract\",\"cpc_subclass\"]]\n",
    "df_Abstract= df_Abstract.dropna()\n",
    "df_Abstract = df_Abstract.reset_index(drop=True)\n",
    "df_Abstract.head(20)"
   ]
  },
  {
   "cell_type": "code",
   "execution_count": 167,
   "id": "61be9e16",
   "metadata": {},
   "outputs": [
    {
     "data": {
      "text/plain": [
       "2000111"
      ]
     },
     "execution_count": 167,
     "metadata": {},
     "output_type": "execute_result"
    }
   ],
   "source": [
    "len(df_Abstract)"
   ]
  },
  {
   "cell_type": "code",
   "execution_count": 168,
   "id": "368737d0",
   "metadata": {},
   "outputs": [
    {
     "name": "stderr",
     "output_type": "stream",
     "text": [
      "C:\\Users\\admin\\AppData\\Local\\Temp/ipykernel_23752/1975334883.py:2: FutureWarning: The default value of regex will change from True to False in a future version.\n",
      "  df_Abstract['cpc_subclass'] = df_Abstract['cpc_subclass'].str.replace('[\\[\\]]', '').str.replace(\"'\", \"\")\n"
     ]
    },
    {
     "data": {
      "text/html": [
       "<div>\n",
       "<style scoped>\n",
       "    .dataframe tbody tr th:only-of-type {\n",
       "        vertical-align: middle;\n",
       "    }\n",
       "\n",
       "    .dataframe tbody tr th {\n",
       "        vertical-align: top;\n",
       "    }\n",
       "\n",
       "    .dataframe thead th {\n",
       "        text-align: right;\n",
       "    }\n",
       "</style>\n",
       "<table border=\"1\" class=\"dataframe\">\n",
       "  <thead>\n",
       "    <tr style=\"text-align: right;\">\n",
       "      <th></th>\n",
       "      <th>ID</th>\n",
       "      <th>Title</th>\n",
       "      <th>Abstract</th>\n",
       "      <th>cpc_subclass</th>\n",
       "    </tr>\n",
       "  </thead>\n",
       "  <tbody>\n",
       "    <tr>\n",
       "      <th>0</th>\n",
       "      <td>US07072141</td>\n",
       "      <td>magnetic disc unit with range of gap between d...</td>\n",
       "      <td>a magnetic disc unit having a rotating disc ty...</td>\n",
       "      <td>G11B</td>\n",
       "    </tr>\n",
       "    <tr>\n",
       "      <th>1</th>\n",
       "      <td>US06981282</td>\n",
       "      <td>systems and methods for transformable suits</td>\n",
       "      <td>methods and systems for transforming a volume ...</td>\n",
       "      <td>A41D</td>\n",
       "    </tr>\n",
       "    <tr>\n",
       "      <th>2</th>\n",
       "      <td>US06981283</td>\n",
       "      <td>gardening gloves with cushion insert to protec...</td>\n",
       "      <td>a gardening glove or the like designed to prev...</td>\n",
       "      <td>A41D</td>\n",
       "    </tr>\n",
       "    <tr>\n",
       "      <th>3</th>\n",
       "      <td>US06981284</td>\n",
       "      <td>hockey helmet comprising a lateral adjustment ...</td>\n",
       "      <td>a hockey helmet for receiving a head of a wear...</td>\n",
       "      <td>A63B</td>\n",
       "    </tr>\n",
       "    <tr>\n",
       "      <th>4</th>\n",
       "      <td>US06981285</td>\n",
       "      <td>toilet and method of operation</td>\n",
       "      <td>a toilet and toilet system suitable for a boat...</td>\n",
       "      <td>E03D</td>\n",
       "    </tr>\n",
       "    <tr>\n",
       "      <th>...</th>\n",
       "      <td>...</td>\n",
       "      <td>...</td>\n",
       "      <td>...</td>\n",
       "      <td>...</td>\n",
       "    </tr>\n",
       "    <tr>\n",
       "      <th>2000106</th>\n",
       "      <td>US08976203</td>\n",
       "      <td>wavelength conversion device and image display...</td>\n",
       "      <td>a wavelength conversion device includes an exc...</td>\n",
       "      <td>G09G, G03B, H01S, H04N</td>\n",
       "    </tr>\n",
       "    <tr>\n",
       "      <th>2000107</th>\n",
       "      <td>US08976510</td>\n",
       "      <td>cable assembly and electronic device</td>\n",
       "      <td>an electronic device including an electronic u...</td>\n",
       "      <td>H05K, H01R</td>\n",
       "    </tr>\n",
       "    <tr>\n",
       "      <th>2000108</th>\n",
       "      <td>US08976819</td>\n",
       "      <td>circuit and method for metering electricity</td>\n",
       "      <td>a current detection module generates a first c...</td>\n",
       "      <td>H04J, G01R</td>\n",
       "    </tr>\n",
       "    <tr>\n",
       "      <th>2000109</th>\n",
       "      <td>US08977126</td>\n",
       "      <td>unified network management of hybrid fiber coa...</td>\n",
       "      <td>embodiments enable a network operator to use a...</td>\n",
       "      <td>H04Q, H04B, H04L</td>\n",
       "    </tr>\n",
       "    <tr>\n",
       "      <th>2000110</th>\n",
       "      <td>US08977434</td>\n",
       "      <td>vehicle attitude control system</td>\n",
       "      <td>a target sideslip angle computing unit calcula...</td>\n",
       "      <td>B60T, B62D, B60K</td>\n",
       "    </tr>\n",
       "  </tbody>\n",
       "</table>\n",
       "<p>2000111 rows × 4 columns</p>\n",
       "</div>"
      ],
      "text/plain": [
       "                 ID                                              Title  \\\n",
       "0        US07072141  magnetic disc unit with range of gap between d...   \n",
       "1        US06981282        systems and methods for transformable suits   \n",
       "2        US06981283  gardening gloves with cushion insert to protec...   \n",
       "3        US06981284  hockey helmet comprising a lateral adjustment ...   \n",
       "4        US06981285                     toilet and method of operation   \n",
       "...             ...                                                ...   \n",
       "2000106  US08976203  wavelength conversion device and image display...   \n",
       "2000107  US08976510               cable assembly and electronic device   \n",
       "2000108  US08976819        circuit and method for metering electricity   \n",
       "2000109  US08977126  unified network management of hybrid fiber coa...   \n",
       "2000110  US08977434                    vehicle attitude control system   \n",
       "\n",
       "                                                  Abstract  \\\n",
       "0        a magnetic disc unit having a rotating disc ty...   \n",
       "1        methods and systems for transforming a volume ...   \n",
       "2        a gardening glove or the like designed to prev...   \n",
       "3        a hockey helmet for receiving a head of a wear...   \n",
       "4        a toilet and toilet system suitable for a boat...   \n",
       "...                                                    ...   \n",
       "2000106  a wavelength conversion device includes an exc...   \n",
       "2000107  an electronic device including an electronic u...   \n",
       "2000108  a current detection module generates a first c...   \n",
       "2000109  embodiments enable a network operator to use a...   \n",
       "2000110  a target sideslip angle computing unit calcula...   \n",
       "\n",
       "                   cpc_subclass  \n",
       "0                          G11B  \n",
       "1                          A41D  \n",
       "2                          A41D  \n",
       "3                          A63B  \n",
       "4                          E03D  \n",
       "...                         ...  \n",
       "2000106  G09G, G03B, H01S, H04N  \n",
       "2000107              H05K, H01R  \n",
       "2000108              H04J, G01R  \n",
       "2000109        H04Q, H04B, H04L  \n",
       "2000110        B60T, B62D, B60K  \n",
       "\n",
       "[2000111 rows x 4 columns]"
      ]
     },
     "execution_count": 168,
     "metadata": {},
     "output_type": "execute_result"
    }
   ],
   "source": [
    "# Remove square brackets and '' from CPC subclasses\n",
    "df_Abstract['cpc_subclass'] = df_Abstract['cpc_subclass'].str.replace('[\\[\\]]', '').str.replace(\"'\", \"\")\n",
    "df_Abstract"
   ]
  },
  {
   "cell_type": "markdown",
   "id": "36da8f76",
   "metadata": {},
   "source": [
    "# caculate the count of each section for each document"
   ]
  },
  {
   "cell_type": "code",
   "execution_count": 169,
   "id": "9ee200ce",
   "metadata": {},
   "outputs": [],
   "source": [
    "import pandas as pd\n",
    "import squarify\n",
    "import matplotlib.pyplot as plt\n",
    "\n",
    "# dictionary to store the counts for each section prefix\n",
    "section_prefix_counts = {}\n",
    "\n",
    "# loop over the subclasses in the dataset\n",
    "for subclasses in df_Abstract['cpc_subclass'].str.split(\",\"):\n",
    "    # create a set to store unique section prefixes for each document\n",
    "    unique_sections = set()\n",
    "    for subclass in subclasses:\n",
    "        subclass = subclass.strip()  # remove leading/trailing whitespaces\n",
    "        if not subclass:  # skip empty subclasses\n",
    "            continue\n",
    "        # extract the section prefix from the subclass\n",
    "        section_prefix = subclass.split()[0][0]\n",
    "        # add the section prefix to the set\n",
    "        unique_sections.add(section_prefix)\n",
    "    # loop over the set and increment the count for each section prefix\n",
    "    for section_prefix in unique_sections:\n",
    "        if section_prefix in section_prefix_counts:\n",
    "            section_prefix_counts[section_prefix] += 1\n",
    "        else:\n",
    "            section_prefix_counts[section_prefix] = 1\n",
    "\n",
    "# create a dataframe from the section prefix counts dictionary\n",
    "df_section_prefix_counts = pd.DataFrame.from_dict(section_prefix_counts, orient='index', columns=['count'])\n",
    "# sort the dataframe by count in descending order\n",
    "df_section_prefix_counts = df_section_prefix_counts.sort_values('count', ascending=False)\n"
   ]
  },
  {
   "cell_type": "code",
   "execution_count": 170,
   "id": "348ba7fd",
   "metadata": {},
   "outputs": [
    {
     "name": "stdout",
     "output_type": "stream",
     "text": [
      "Section G count: 713719\n",
      "Section A count: 292708\n",
      "Section E count: 46933\n",
      "Section B count: 289190\n",
      "Section D count: 12495\n",
      "Section H count: 595466\n",
      "Section F count: 137137\n",
      "Section C count: 204885\n"
     ]
    }
   ],
   "source": [
    "for prefix, count in section_prefix_counts.items():\n",
    "    print(f\"Section {prefix} count: {count}\")"
   ]
  },
  {
   "cell_type": "code",
   "execution_count": 171,
   "id": "677f9fba",
   "metadata": {},
   "outputs": [],
   "source": [
    "#draw the Treemap for each section"
   ]
  },
  {
   "cell_type": "code",
   "execution_count": 172,
   "id": "8521d87f",
   "metadata": {},
   "outputs": [
    {
     "data": {
      "image/png": "[encoded data removed]",
      "text/plain": [
       "<Figure size 720x432 with 1 Axes>"
      ]
     },
     "metadata": {
      "needs_background": "light"
     },
     "output_type": "display_data"
    }
   ],
   "source": [
    "# define the color palette\n",
    "color_palette = ['#3498db', '#2ecc71', '#f1c40f', '#f39c12', '#27ae60', '#1abc9c', '#f7dc6f', '#9b59b6', '#e74c3c']\n",
    "\n",
    "# set the size of the figure\n",
    "plt.figure(figsize=(10, 6))\n",
    "\n",
    "# create a squarify layout for the treemap and display the count inside each rectangle\n",
    "squarify.plot(sizes=df_section_prefix_counts['count'], label=[f\"{i}\\n{c}\" for i, c in zip(df_section_prefix_counts.index, df_section_prefix_counts['count'])], alpha=.8, color=color_palette)\n",
    "plt.title(\"Counts of Section Prefixes in CPC Classification for each Abstract\")\n",
    "plt.axis('off')\n",
    "\n",
    "# display the treemap\n",
    "plt.show()"
   ]
  },
  {
   "cell_type": "markdown",
   "id": "6ad53cc4",
   "metadata": {},
   "source": [
    "# caculate the lenght of Abstract"
   ]
  },
  {
   "cell_type": "code",
   "execution_count": 173,
   "id": "a13c1075",
   "metadata": {},
   "outputs": [
    {
     "data": {
      "image/png": "[encoded data removed]",
      "text/plain": [
       "<Figure size 432x288 with 1 Axes>"
      ]
     },
     "metadata": {
      "needs_background": "light"
     },
     "output_type": "display_data"
    }
   ],
   "source": [
    "import pandas as pd\n",
    "import matplotlib.pyplot as plt\n",
    "\n",
    "# calculate the length of each Abstract and add it as a new column in the dataframe\n",
    "df_Abstract['Abstract_length'] = df_Abstract['Abstract'].apply(lambda x: len(x.split()))\n",
    "\n",
    "# calculate summary statistics of Abstract lengths\n",
    "summary_stats = df_Abstract['Abstract_length'].describe()\n",
    "\n",
    "# extract the values of X and Y\n",
    "X = int(summary_stats['25%'])\n",
    "Y = int(summary_stats['75%'])\n",
    "\n",
    "# create histogram of Abstract lengths with X and Y labeled\n",
    "plt.hist(df_Abstract['Abstract_length'], bins=50)\n",
    "plt.axvline(x=X, color='red', linestyle='--', label=f'X = {X}')\n",
    "plt.axvline(x=Y, color='green', linestyle='--', label=f'Y = {Y}')\n",
    "plt.xlabel('Abstract Length (in words)')\n",
    "plt.ylabel('Number of Documents')\n",
    "plt.title('Distribution of Abstract Lengths in Patent Dataset')\n",
    "plt.legend()\n",
    "plt.show()"
   ]
  },
  {
   "cell_type": "markdown",
   "id": "bf76b7fd",
   "metadata": {},
   "source": [
    "# filter the dataset base on secttion H"
   ]
  },
  {
   "cell_type": "code",
   "execution_count": 175,
   "id": "191cff83",
   "metadata": {},
   "outputs": [
    {
     "data": {
      "text/plain": [
       "595466"
      ]
     },
     "execution_count": 175,
     "metadata": {},
     "output_type": "execute_result"
    }
   ],
   "source": [
    "df_Abstract_filter = df_Abstract[df_Abstract['cpc_subclass'].str.contains(r'\\bH[\\w]*|,[\\s]*H[\\w]*')]\n",
    "len(df_Abstract_filter)"
   ]
  },
  {
   "cell_type": "code",
   "execution_count": 176,
   "id": "b005872c",
   "metadata": {},
   "outputs": [
    {
     "data": {
      "text/html": [
       "<div>\n",
       "<style scoped>\n",
       "    .dataframe tbody tr th:only-of-type {\n",
       "        vertical-align: middle;\n",
       "    }\n",
       "\n",
       "    .dataframe tbody tr th {\n",
       "        vertical-align: top;\n",
       "    }\n",
       "\n",
       "    .dataframe thead th {\n",
       "        text-align: right;\n",
       "    }\n",
       "</style>\n",
       "<table border=\"1\" class=\"dataframe\">\n",
       "  <thead>\n",
       "    <tr style=\"text-align: right;\">\n",
       "      <th></th>\n",
       "      <th>ID</th>\n",
       "      <th>Title</th>\n",
       "      <th>Abstract</th>\n",
       "      <th>cpc_subclass</th>\n",
       "      <th>Abstract_length</th>\n",
       "    </tr>\n",
       "  </thead>\n",
       "  <tbody>\n",
       "    <tr>\n",
       "      <th>19</th>\n",
       "      <td>US06981317</td>\n",
       "      <td>method and device for mounting electronic comp...</td>\n",
       "      <td>when mounting an ic chip on a circuit board bu...</td>\n",
       "      <td>H01L</td>\n",
       "      <td>118</td>\n",
       "    </tr>\n",
       "    <tr>\n",
       "      <th>20</th>\n",
       "      <td>US06981339</td>\n",
       "      <td>article of footwear with temperature regulatio...</td>\n",
       "      <td>article of footwear includes a sole an insole ...</td>\n",
       "      <td>H05B, A43B</td>\n",
       "      <td>102</td>\n",
       "    </tr>\n",
       "    <tr>\n",
       "      <th>57</th>\n",
       "      <td>US07032288</td>\n",
       "      <td>methods for magnetically establishing an elect...</td>\n",
       "      <td>an electrical connector configured to nonrigid...</td>\n",
       "      <td>H01S</td>\n",
       "      <td>135</td>\n",
       "    </tr>\n",
       "    <tr>\n",
       "      <th>58</th>\n",
       "      <td>US07032289</td>\n",
       "      <td>stator bar handler</td>\n",
       "      <td>a flexible bar handler that comprises a mobile...</td>\n",
       "      <td>H02K</td>\n",
       "      <td>269</td>\n",
       "    </tr>\n",
       "    <tr>\n",
       "      <th>59</th>\n",
       "      <td>US07032290</td>\n",
       "      <td>manufacturing method for brush holder</td>\n",
       "      <td>a brush holder incorporates a terminal integra...</td>\n",
       "      <td>H02K</td>\n",
       "      <td>118</td>\n",
       "    </tr>\n",
       "  </tbody>\n",
       "</table>\n",
       "</div>"
      ],
      "text/plain": [
       "            ID                                              Title  \\\n",
       "19  US06981317  method and device for mounting electronic comp...   \n",
       "20  US06981339  article of footwear with temperature regulatio...   \n",
       "57  US07032288  methods for magnetically establishing an elect...   \n",
       "58  US07032289                                 stator bar handler   \n",
       "59  US07032290              manufacturing method for brush holder   \n",
       "\n",
       "                                             Abstract cpc_subclass  \\\n",
       "19  when mounting an ic chip on a circuit board bu...         H01L   \n",
       "20  article of footwear includes a sole an insole ...   H05B, A43B   \n",
       "57  an electrical connector configured to nonrigid...         H01S   \n",
       "58  a flexible bar handler that comprises a mobile...         H02K   \n",
       "59  a brush holder incorporates a terminal integra...         H02K   \n",
       "\n",
       "    Abstract_length  \n",
       "19              118  \n",
       "20              102  \n",
       "57              135  \n",
       "58              269  \n",
       "59              118  "
      ]
     },
     "execution_count": 176,
     "metadata": {},
     "output_type": "execute_result"
    }
   ],
   "source": [
    "df_Abstract_filter.head()"
   ]
  },
  {
   "cell_type": "code",
   "execution_count": 178,
   "id": "c5123541",
   "metadata": {},
   "outputs": [
    {
     "data": {
      "image/png": "[encoded data removed]",
      "text/plain": [
       "<Figure size 432x288 with 1 Axes>"
      ]
     },
     "metadata": {
      "needs_background": "light"
     },
     "output_type": "display_data"
    }
   ],
   "source": [
    "import pandas as pd\n",
    "import matplotlib.pyplot as plt\n",
    "\n",
    "# calculate summary statistics of claim lengths\n",
    "summary_stats = df_Abstract_filter['Abstract_length'].describe()\n",
    "\n",
    "# extract the values of X and Y\n",
    "X = int(summary_stats['25%'])\n",
    "Y = int(summary_stats['75%'])\n",
    "\n",
    "# create histogram of claim lengths with X and Y labeled\n",
    "plt.hist(df_Abstract_filter['Abstract_length'], bins=50)\n",
    "plt.axvline(x=X, color='red', linestyle='--', label=f'X = {X}')\n",
    "plt.axvline(x=Y, color='green', linestyle='--', label=f'Y = {Y}')\n",
    "plt.xlabel('Abstract Length (in words)')\n",
    "plt.ylabel('Number of Documents')\n",
    "plt.title('Distribution of Abstract Lengths for Patents in CPC Section H')\n",
    "plt.legend()\n",
    "plt.show()"
   ]
  },
  {
   "cell_type": "code",
   "execution_count": 113,
   "id": "b60085cd",
   "metadata": {},
   "outputs": [],
   "source": [
    "#################################################################################################"
   ]
  },
  {
   "cell_type": "code",
   "execution_count": 42,
   "id": "b4fbee55",
   "metadata": {},
   "outputs": [],
   "source": [
    "# # get the unique values in the \"cpc_subclass\" column\n",
    "# unique_subclasses = df_claim[\"cpc_subclass\"].unique()\n",
    "\n",
    "# # print the unique subclasses as a list\n",
    "# print(unique_subclasses.tolist())"
   ]
  },
  {
   "cell_type": "code",
   "execution_count": 70,
   "id": "e2b2610c",
   "metadata": {},
   "outputs": [
    {
     "data": {
      "text/plain": [
       "0     C07H,C07K,C12N,C12Q,G01N\n",
       "1                    G06Q,H04N\n",
       "2     H04L,H04M,H04Q,H04W,H05K\n",
       "3               F02D,F02P,Y02T\n",
       "4               B82Y,G11C,H01L\n",
       "5                    A61B,G08B\n",
       "6               A63F,G06F,H04N\n",
       "7                    G06F,H04L\n",
       "8          A61F,A61L,C08L,G02C\n",
       "9                    G05F,H03K\n",
       "10              H04L,H04Q,H04W\n",
       "11                        A61B\n",
       "12         H03D,H03F,H04B,H04L\n",
       "13              C07H,C12Q,G16B\n",
       "14                        C07D\n",
       "15                        E06B\n",
       "16                   B60Q,B60R\n",
       "17                        H04M\n",
       "18                        E01F\n",
       "19              G06F,G06Q,G07F\n",
       "Name: cpc_subclass, dtype: object"
      ]
     },
     "execution_count": 70,
     "metadata": {},
     "output_type": "execute_result"
    }
   ],
   "source": [
    "df_claim[\"cpc_subclass\"].head(20)"
   ]
  },
  {
   "cell_type": "code",
   "execution_count": 15,
   "id": "a0436de5",
   "metadata": {},
   "outputs": [
    {
     "data": {
      "image/png": "[encoded data removed]",
      "text/plain": [
       "<Figure size 432x288 with 1 Axes>"
      ]
     },
     "metadata": {
      "needs_background": "light"
     },
     "output_type": "display_data"
    }
   ],
   "source": [
    "# # dictionary to store the counts for each section prefix\n",
    "# section_prefix_counts = {}\n",
    "\n",
    "# # loop over the subclasses in the dataset\n",
    "# for subclasses in df_claim.head(10)['cpc_subclass'].str.split(\",\"):\n",
    "#     # create a set to store unique section prefixes for each document\n",
    "#     unique_sections = set()\n",
    "#     for subclass in subclasses:\n",
    "#         # extract the section prefix from the subclass\n",
    "#         section_prefix = subclass.split()[0][0]\n",
    "#         # add the section prefix to the set\n",
    "#         unique_sections.add(section_prefix)\n",
    "#     # loop over the set and increment the count for each section prefix\n",
    "#     for section_prefix in unique_sections:\n",
    "#         if section_prefix in section_prefix_counts:\n",
    "#             section_prefix_counts[section_prefix] += 1\n",
    "#         else:\n",
    "#             section_prefix_counts[section_prefix] = 1\n",
    "\n",
    "# # create a bar chart\n",
    "# plt.bar(range(len(section_prefix_counts)), list(section_prefix_counts.values()), align='center')\n",
    "# plt.xticks(range(len(section_prefix_counts)), list(section_prefix_counts.keys()))\n",
    "\n",
    "# # set chart title and axis labels\n",
    "# plt.title(\"Distribution of Section Prefixes\")\n",
    "# plt.xlabel(\"Section Prefixes\")\n",
    "# plt.ylabel(\"Count\")\n",
    "\n",
    "# # display the chart\n",
    "# plt.show()"
   ]
  },
  {
   "cell_type": "code",
   "execution_count": 26,
   "id": "c7885691",
   "metadata": {},
   "outputs": [
    {
     "data": {
      "image/png": "[encoded data removed]",
      "text/plain": [
       "<Figure size 432x288 with 1 Axes>"
      ]
     },
     "metadata": {},
     "output_type": "display_data"
    }
   ],
   "source": [
    "# # create a pie chart\n",
    "# labels = list(section_prefix_counts.keys())\n",
    "# sizes = list(section_prefix_counts.values())\n",
    "# plt.pie(sizes, labels=labels, autopct='%1.1f%%')\n",
    "\n",
    "# # set chart title\n",
    "# plt.title(\"Distribution of Section Prefixes\")\n",
    "\n",
    "# # display the chart\n",
    "# plt.show()"
   ]
  },
  {
   "cell_type": "code",
   "execution_count": 19,
   "id": "17d1104b",
   "metadata": {},
   "outputs": [
    {
     "name": "stderr",
     "output_type": "stream",
     "text": [
      "\n",
      "[notice] A new release of pip available: 22.3.1 -> 23.0.1\n",
      "[notice] To update, run: python.exe -m pip install --upgrade pip\n"
     ]
    },
    {
     "name": "stdout",
     "output_type": "stream",
     "text": [
      "Collecting squarify\n",
      "  Downloading squarify-0.4.3-py3-none-any.whl (4.3 kB)\n",
      "Installing collected packages: squarify\n",
      "Successfully installed squarify-0.4.3\n"
     ]
    }
   ],
   "source": [
    "# !pip install squarify"
   ]
  },
  {
   "cell_type": "code",
   "execution_count": null,
   "id": "7fb49d1d",
   "metadata": {},
   "outputs": [],
   "source": [
    "# for section_prefix in section_prefix_counts:\n",
    "#     print(f\"Section {section_prefix} count: {section_prefix_counts[section_prefix]}\")"
   ]
  },
  {
   "cell_type": "code",
   "execution_count": 79,
   "id": "6ff8b09f",
   "metadata": {},
   "outputs": [],
   "source": [
    "#Abstract dataset"
   ]
  }
 ],
 "metadata": {
  "kernelspec": {
   "display_name": "Python 3 (ipykernel)",
   "language": "python",
   "name": "python3"
  },
  "language_info": {
   "codemirror_mode": {
    "name": "ipython",
    "version": 3
   },
   "file_extension": ".py",
   "mimetype": "text/x-python",
   "name": "python",
   "nbconvert_exporter": "python",
   "pygments_lexer": "ipython3",
   "version": "3.9.7"
  }
 },
 "nbformat": 4,
 "nbformat_minor": 5
}
