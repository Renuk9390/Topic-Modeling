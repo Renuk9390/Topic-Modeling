{
 "cells": [
  {
   "cell_type": "code",
   "execution_count": 1,
   "id": "84f15999",
   "metadata": {},
   "outputs": [
    {
     "data": {
      "text/html": [
       "<div>\n",
       "<style scoped>\n",
       "    .dataframe tbody tr th:only-of-type {\n",
       "        vertical-align: middle;\n",
       "    }\n",
       "\n",
       "    .dataframe tbody tr th {\n",
       "        vertical-align: top;\n",
       "    }\n",
       "\n",
       "    .dataframe thead th {\n",
       "        text-align: right;\n",
       "    }\n",
       "</style>\n",
       "<table border=\"1\" class=\"dataframe\">\n",
       "  <thead>\n",
       "    <tr style=\"text-align: right;\">\n",
       "      <th></th>\n",
       "      <th>ID</th>\n",
       "      <th>Title</th>\n",
       "      <th>Claim</th>\n",
       "      <th>cpc_subclass</th>\n",
       "    </tr>\n",
       "  </thead>\n",
       "  <tbody>\n",
       "    <tr>\n",
       "      <th>0</th>\n",
       "      <td>8927300</td>\n",
       "      <td>Method and compositions for the detection of p...</td>\n",
       "      <td>1. A compound of the formula: wherein R is a s...</td>\n",
       "      <td>C07H,C07K,C12N,C12Q,G01N</td>\n",
       "    </tr>\n",
       "    <tr>\n",
       "      <th>1</th>\n",
       "      <td>8930992</td>\n",
       "      <td>TV social network advertising</td>\n",
       "      <td>1. An advertising method, comprising: displayi...</td>\n",
       "      <td>G06Q,H04N</td>\n",
       "    </tr>\n",
       "    <tr>\n",
       "      <th>2</th>\n",
       "      <td>8929358</td>\n",
       "      <td>Call flow system and method for use in a legac...</td>\n",
       "      <td>1. A method, comprising: receiving, from a mob...</td>\n",
       "      <td>H04L,H04M,H04Q,H04W,H05K</td>\n",
       "    </tr>\n",
       "    <tr>\n",
       "      <th>3</th>\n",
       "      <td>8925531</td>\n",
       "      <td>Spark plug degradation detection</td>\n",
       "      <td>1. A method of controlling an engine cylinder ...</td>\n",
       "      <td>F02D,F02P,Y02T</td>\n",
       "    </tr>\n",
       "    <tr>\n",
       "      <th>4</th>\n",
       "      <td>8927955</td>\n",
       "      <td>Resistance change memory</td>\n",
       "      <td>1. A resistance change memory comprising: a fi...</td>\n",
       "      <td>B82Y,G11C,H01L</td>\n",
       "    </tr>\n",
       "  </tbody>\n",
       "</table>\n",
       "</div>"
      ],
      "text/plain": [
       "        ID                                              Title  \\\n",
       "0  8927300  Method and compositions for the detection of p...   \n",
       "1  8930992                      TV social network advertising   \n",
       "2  8929358  Call flow system and method for use in a legac...   \n",
       "3  8925531                   Spark plug degradation detection   \n",
       "4  8927955                           Resistance change memory   \n",
       "\n",
       "                                               Claim              cpc_subclass  \n",
       "0  1. A compound of the formula: wherein R is a s...  C07H,C07K,C12N,C12Q,G01N  \n",
       "1  1. An advertising method, comprising: displayi...                 G06Q,H04N  \n",
       "2  1. A method, comprising: receiving, from a mob...  H04L,H04M,H04Q,H04W,H05K  \n",
       "3  1. A method of controlling an engine cylinder ...            F02D,F02P,Y02T  \n",
       "4  1. A resistance change memory comprising: a fi...            B82Y,G11C,H01L  "
      ]
     },
     "execution_count": 1,
     "metadata": {},
     "output_type": "execute_result"
    }
   ],
   "source": [
    "# Read uspto dataset\n",
    "import pandas as pd\n",
    "import numpy as np\n",
    "import nltk\n",
    "\n",
    "\n",
    "df = pd.read_csv('./dataset/df-claim-A.csv')\n",
    "df_claim=df[[\"ID\",\"Title\",\"Claim\",\"cpc_subclass\"]]\n",
    "df_claim= df_claim.dropna()\n",
    "df_claim = df_claim.reset_index(drop=True)\n",
    "df_claim.head()"
   ]
  },
  {
   "cell_type": "code",
   "execution_count": 2,
   "id": "e185e3d9",
   "metadata": {},
   "outputs": [
    {
     "data": {
      "text/plain": [
       "1428600"
      ]
     },
     "execution_count": 2,
     "metadata": {},
     "output_type": "execute_result"
    }
   ],
   "source": [
    "len(df_claim)"
   ]
  },
  {
   "cell_type": "code",
   "execution_count": 3,
   "id": "f91f61b6",
   "metadata": {},
   "outputs": [
    {
     "data": {
      "text/html": [
       "<div>\n",
       "<style scoped>\n",
       "    .dataframe tbody tr th:only-of-type {\n",
       "        vertical-align: middle;\n",
       "    }\n",
       "\n",
       "    .dataframe tbody tr th {\n",
       "        vertical-align: top;\n",
       "    }\n",
       "\n",
       "    .dataframe thead th {\n",
       "        text-align: right;\n",
       "    }\n",
       "</style>\n",
       "<table border=\"1\" class=\"dataframe\">\n",
       "  <thead>\n",
       "    <tr style=\"text-align: right;\">\n",
       "      <th></th>\n",
       "      <th>ID</th>\n",
       "      <th>Title</th>\n",
       "      <th>Claim</th>\n",
       "      <th>cpc_subclass</th>\n",
       "    </tr>\n",
       "  </thead>\n",
       "  <tbody>\n",
       "    <tr>\n",
       "      <th>1</th>\n",
       "      <td>8930992</td>\n",
       "      <td>TV social network advertising</td>\n",
       "      <td>1. An advertising method, comprising: displayi...</td>\n",
       "      <td>G06Q,H04N</td>\n",
       "    </tr>\n",
       "    <tr>\n",
       "      <th>2</th>\n",
       "      <td>8929358</td>\n",
       "      <td>Call flow system and method for use in a legac...</td>\n",
       "      <td>1. A method, comprising: receiving, from a mob...</td>\n",
       "      <td>H04L,H04M,H04Q,H04W,H05K</td>\n",
       "    </tr>\n",
       "    <tr>\n",
       "      <th>4</th>\n",
       "      <td>8927955</td>\n",
       "      <td>Resistance change memory</td>\n",
       "      <td>1. A resistance change memory comprising: a fi...</td>\n",
       "      <td>B82Y,G11C,H01L</td>\n",
       "    </tr>\n",
       "    <tr>\n",
       "      <th>6</th>\n",
       "      <td>8928653</td>\n",
       "      <td>Information processing system, information pro...</td>\n",
       "      <td>1. An information processing system comprising...</td>\n",
       "      <td>A63F,G06F,H04N</td>\n",
       "    </tr>\n",
       "    <tr>\n",
       "      <th>7</th>\n",
       "      <td>8930595</td>\n",
       "      <td>Memory switch for interconnecting server nodes</td>\n",
       "      <td>1. A computer-implemented method for transferr...</td>\n",
       "      <td>G06F,H04L</td>\n",
       "    </tr>\n",
       "  </tbody>\n",
       "</table>\n",
       "</div>"
      ],
      "text/plain": [
       "        ID                                              Title  \\\n",
       "1  8930992                      TV social network advertising   \n",
       "2  8929358  Call flow system and method for use in a legac...   \n",
       "4  8927955                           Resistance change memory   \n",
       "6  8928653  Information processing system, information pro...   \n",
       "7  8930595     Memory switch for interconnecting server nodes   \n",
       "\n",
       "                                               Claim              cpc_subclass  \n",
       "1  1. An advertising method, comprising: displayi...                 G06Q,H04N  \n",
       "2  1. A method, comprising: receiving, from a mob...  H04L,H04M,H04Q,H04W,H05K  \n",
       "4  1. A resistance change memory comprising: a fi...            B82Y,G11C,H01L  \n",
       "6  1. An information processing system comprising...            A63F,G06F,H04N  \n",
       "7  1. A computer-implemented method for transferr...                 G06F,H04L  "
      ]
     },
     "execution_count": 3,
     "metadata": {},
     "output_type": "execute_result"
    }
   ],
   "source": [
    "df_claim_uspto = df_claim_uspto = df_claim[df_claim['cpc_subclass'].str.contains(r'\\bH[\\w]*|,[\\s]*H[\\w]*')]\n",
    "df_claim_uspto.head()"
   ]
  },
  {
   "cell_type": "code",
   "execution_count": 4,
   "id": "16279c04",
   "metadata": {},
   "outputs": [
    {
     "name": "stderr",
     "output_type": "stream",
     "text": [
      "C:\\Users\\admin\\AppData\\Local\\Temp/ipykernel_21232/1681520836.py:2: SettingWithCopyWarning: \n",
      "A value is trying to be set on a copy of a slice from a DataFrame.\n",
      "Try using .loc[row_indexer,col_indexer] = value instead\n",
      "\n",
      "See the caveats in the documentation: https://pandas.pydata.org/pandas-docs/stable/user_guide/indexing.html#returning-a-view-versus-a-copy\n",
      "  df_claim_uspto[\"Claim\"]= df_claim_uspto[\"Claim\"].dropna()\n"
     ]
    },
    {
     "data": {
      "text/html": [
       "<div>\n",
       "<style scoped>\n",
       "    .dataframe tbody tr th:only-of-type {\n",
       "        vertical-align: middle;\n",
       "    }\n",
       "\n",
       "    .dataframe tbody tr th {\n",
       "        vertical-align: top;\n",
       "    }\n",
       "\n",
       "    .dataframe thead th {\n",
       "        text-align: right;\n",
       "    }\n",
       "</style>\n",
       "<table border=\"1\" class=\"dataframe\">\n",
       "  <thead>\n",
       "    <tr style=\"text-align: right;\">\n",
       "      <th></th>\n",
       "      <th>ID</th>\n",
       "      <th>Title</th>\n",
       "      <th>Claim</th>\n",
       "      <th>cpc_subclass</th>\n",
       "    </tr>\n",
       "  </thead>\n",
       "  <tbody>\n",
       "    <tr>\n",
       "      <th>0</th>\n",
       "      <td>8930992</td>\n",
       "      <td>TV social network advertising</td>\n",
       "      <td>1. An advertising method, comprising: displayi...</td>\n",
       "      <td>G06Q,H04N</td>\n",
       "    </tr>\n",
       "    <tr>\n",
       "      <th>1</th>\n",
       "      <td>8929358</td>\n",
       "      <td>Call flow system and method for use in a legac...</td>\n",
       "      <td>1. A method, comprising: receiving, from a mob...</td>\n",
       "      <td>H04L,H04M,H04Q,H04W,H05K</td>\n",
       "    </tr>\n",
       "    <tr>\n",
       "      <th>2</th>\n",
       "      <td>8927955</td>\n",
       "      <td>Resistance change memory</td>\n",
       "      <td>1. A resistance change memory comprising: a fi...</td>\n",
       "      <td>B82Y,G11C,H01L</td>\n",
       "    </tr>\n",
       "    <tr>\n",
       "      <th>3</th>\n",
       "      <td>8928653</td>\n",
       "      <td>Information processing system, information pro...</td>\n",
       "      <td>1. An information processing system comprising...</td>\n",
       "      <td>A63F,G06F,H04N</td>\n",
       "    </tr>\n",
       "    <tr>\n",
       "      <th>4</th>\n",
       "      <td>8930595</td>\n",
       "      <td>Memory switch for interconnecting server nodes</td>\n",
       "      <td>1. A computer-implemented method for transferr...</td>\n",
       "      <td>G06F,H04L</td>\n",
       "    </tr>\n",
       "  </tbody>\n",
       "</table>\n",
       "</div>"
      ],
      "text/plain": [
       "        ID                                              Title  \\\n",
       "0  8930992                      TV social network advertising   \n",
       "1  8929358  Call flow system and method for use in a legac...   \n",
       "2  8927955                           Resistance change memory   \n",
       "3  8928653  Information processing system, information pro...   \n",
       "4  8930595     Memory switch for interconnecting server nodes   \n",
       "\n",
       "                                               Claim              cpc_subclass  \n",
       "0  1. An advertising method, comprising: displayi...                 G06Q,H04N  \n",
       "1  1. A method, comprising: receiving, from a mob...  H04L,H04M,H04Q,H04W,H05K  \n",
       "2  1. A resistance change memory comprising: a fi...            B82Y,G11C,H01L  \n",
       "3  1. An information processing system comprising...            A63F,G06F,H04N  \n",
       "4  1. A computer-implemented method for transferr...                 G06F,H04L  "
      ]
     },
     "execution_count": 4,
     "metadata": {},
     "output_type": "execute_result"
    }
   ],
   "source": [
    "#df_claim=df_claim[[\"grant_id\",\"patent_title\",\"claims_text\",\"abstract\", \"main_classification\"]]\n",
    "df_claim_uspto[\"Claim\"]= df_claim_uspto[\"Claim\"].dropna()\n",
    "df_claim_uspto = df_claim_uspto.reset_index(drop=True)\n",
    "df_claim_uspto.head()"
   ]
  },
  {
   "cell_type": "code",
   "execution_count": 5,
   "id": "dcc7cec8",
   "metadata": {},
   "outputs": [
    {
     "data": {
      "text/html": [
       "<div>\n",
       "<style scoped>\n",
       "    .dataframe tbody tr th:only-of-type {\n",
       "        vertical-align: middle;\n",
       "    }\n",
       "\n",
       "    .dataframe tbody tr th {\n",
       "        vertical-align: top;\n",
       "    }\n",
       "\n",
       "    .dataframe thead th {\n",
       "        text-align: right;\n",
       "    }\n",
       "</style>\n",
       "<table border=\"1\" class=\"dataframe\">\n",
       "  <thead>\n",
       "    <tr style=\"text-align: right;\">\n",
       "      <th></th>\n",
       "      <th>ID</th>\n",
       "      <th>Title</th>\n",
       "      <th>Claim</th>\n",
       "      <th>cpc_subclass</th>\n",
       "    </tr>\n",
       "  </thead>\n",
       "  <tbody>\n",
       "    <tr>\n",
       "      <th>0</th>\n",
       "      <td>8930992</td>\n",
       "      <td>TV social network advertising</td>\n",
       "      <td>1. An advertising method, comprising: displayi...</td>\n",
       "      <td>G06Q,H04N</td>\n",
       "    </tr>\n",
       "    <tr>\n",
       "      <th>1</th>\n",
       "      <td>8929358</td>\n",
       "      <td>Call flow system and method for use in a legac...</td>\n",
       "      <td>1. A method, comprising: receiving, from a mob...</td>\n",
       "      <td>H04L,H04M,H04Q,H04W,H05K</td>\n",
       "    </tr>\n",
       "    <tr>\n",
       "      <th>2</th>\n",
       "      <td>8927955</td>\n",
       "      <td>Resistance change memory</td>\n",
       "      <td>1. A resistance change memory comprising: a fi...</td>\n",
       "      <td>B82Y,G11C,H01L</td>\n",
       "    </tr>\n",
       "    <tr>\n",
       "      <th>3</th>\n",
       "      <td>8928653</td>\n",
       "      <td>Information processing system, information pro...</td>\n",
       "      <td>1. An information processing system comprising...</td>\n",
       "      <td>A63F,G06F,H04N</td>\n",
       "    </tr>\n",
       "    <tr>\n",
       "      <th>4</th>\n",
       "      <td>8930595</td>\n",
       "      <td>Memory switch for interconnecting server nodes</td>\n",
       "      <td>1. A computer-implemented method for transferr...</td>\n",
       "      <td>G06F,H04L</td>\n",
       "    </tr>\n",
       "  </tbody>\n",
       "</table>\n",
       "</div>"
      ],
      "text/plain": [
       "        ID                                              Title  \\\n",
       "0  8930992                      TV social network advertising   \n",
       "1  8929358  Call flow system and method for use in a legac...   \n",
       "2  8927955                           Resistance change memory   \n",
       "3  8928653  Information processing system, information pro...   \n",
       "4  8930595     Memory switch for interconnecting server nodes   \n",
       "\n",
       "                                               Claim              cpc_subclass  \n",
       "0  1. An advertising method, comprising: displayi...                 G06Q,H04N  \n",
       "1  1. A method, comprising: receiving, from a mob...  H04L,H04M,H04Q,H04W,H05K  \n",
       "2  1. A resistance change memory comprising: a fi...            B82Y,G11C,H01L  \n",
       "3  1. An information processing system comprising...            A63F,G06F,H04N  \n",
       "4  1. A computer-implemented method for transferr...                 G06F,H04L  "
      ]
     },
     "execution_count": 5,
     "metadata": {},
     "output_type": "execute_result"
    }
   ],
   "source": [
    "df_claim_uspto=df_claim_uspto[:60000]\n",
    "df_claim_uspto.head()"
   ]
  },
  {
   "cell_type": "markdown",
   "id": "28fc743d",
   "metadata": {},
   "source": [
    "# preprocessing"
   ]
  },
  {
   "cell_type": "code",
   "execution_count": 6,
   "id": "82b08e68",
   "metadata": {},
   "outputs": [
    {
     "name": "stderr",
     "output_type": "stream",
     "text": [
      "C:\\Users\\admin\\AppData\\Roaming\\Python\\Python39\\site-packages\\pandas\\core\\dtypes\\inference.py:181: FutureWarning: Possible nested set at position 1\n",
      "  re.compile(obj)\n"
     ]
    },
    {
     "data": {
      "text/html": [
       "<div>\n",
       "<style scoped>\n",
       "    .dataframe tbody tr th:only-of-type {\n",
       "        vertical-align: middle;\n",
       "    }\n",
       "\n",
       "    .dataframe tbody tr th {\n",
       "        vertical-align: top;\n",
       "    }\n",
       "\n",
       "    .dataframe thead th {\n",
       "        text-align: right;\n",
       "    }\n",
       "</style>\n",
       "<table border=\"1\" class=\"dataframe\">\n",
       "  <thead>\n",
       "    <tr style=\"text-align: right;\">\n",
       "      <th></th>\n",
       "      <th>ID</th>\n",
       "      <th>Title</th>\n",
       "      <th>Claim</th>\n",
       "      <th>cpc_subclass</th>\n",
       "      <th>cleaned_claims_text</th>\n",
       "    </tr>\n",
       "  </thead>\n",
       "  <tbody>\n",
       "    <tr>\n",
       "      <th>0</th>\n",
       "      <td>8930992</td>\n",
       "      <td>TV social network advertising</td>\n",
       "      <td>1. An advertising method, comprising: displayi...</td>\n",
       "      <td>G06Q,H04N</td>\n",
       "      <td>an advertising method comprising displaying a...</td>\n",
       "    </tr>\n",
       "    <tr>\n",
       "      <th>1</th>\n",
       "      <td>8929358</td>\n",
       "      <td>Call flow system and method for use in a legac...</td>\n",
       "      <td>1. A method, comprising: receiving, from a mob...</td>\n",
       "      <td>H04L,H04M,H04Q,H04W,H05K</td>\n",
       "      <td>a method comprising receiving from a mobile s...</td>\n",
       "    </tr>\n",
       "    <tr>\n",
       "      <th>2</th>\n",
       "      <td>8927955</td>\n",
       "      <td>Resistance change memory</td>\n",
       "      <td>1. A resistance change memory comprising: a fi...</td>\n",
       "      <td>B82Y,G11C,H01L</td>\n",
       "      <td>a resistance change memory comprising a first...</td>\n",
       "    </tr>\n",
       "    <tr>\n",
       "      <th>3</th>\n",
       "      <td>8928653</td>\n",
       "      <td>Information processing system, information pro...</td>\n",
       "      <td>1. An information processing system comprising...</td>\n",
       "      <td>A63F,G06F,H04N</td>\n",
       "      <td>an information processing system comprising a...</td>\n",
       "    </tr>\n",
       "    <tr>\n",
       "      <th>4</th>\n",
       "      <td>8930595</td>\n",
       "      <td>Memory switch for interconnecting server nodes</td>\n",
       "      <td>1. A computer-implemented method for transferr...</td>\n",
       "      <td>G06F,H04L</td>\n",
       "      <td>a computerimplemented method for transferring...</td>\n",
       "    </tr>\n",
       "  </tbody>\n",
       "</table>\n",
       "</div>"
      ],
      "text/plain": [
       "        ID                                              Title  \\\n",
       "0  8930992                      TV social network advertising   \n",
       "1  8929358  Call flow system and method for use in a legac...   \n",
       "2  8927955                           Resistance change memory   \n",
       "3  8928653  Information processing system, information pro...   \n",
       "4  8930595     Memory switch for interconnecting server nodes   \n",
       "\n",
       "                                               Claim  \\\n",
       "0  1. An advertising method, comprising: displayi...   \n",
       "1  1. A method, comprising: receiving, from a mob...   \n",
       "2  1. A resistance change memory comprising: a fi...   \n",
       "3  1. An information processing system comprising...   \n",
       "4  1. A computer-implemented method for transferr...   \n",
       "\n",
       "               cpc_subclass                                cleaned_claims_text  \n",
       "0                 G06Q,H04N   an advertising method comprising displaying a...  \n",
       "1  H04L,H04M,H04Q,H04W,H05K   a method comprising receiving from a mobile s...  \n",
       "2            B82Y,G11C,H01L   a resistance change memory comprising a first...  \n",
       "3            A63F,G06F,H04N   an information processing system comprising a...  \n",
       "4                 G06F,H04L   a computerimplemented method for transferring...  "
      ]
     },
     "execution_count": 6,
     "metadata": {},
     "output_type": "execute_result"
    }
   ],
   "source": [
    "def cleantext(df_claim_uspto): \n",
    "    \n",
    "    df_claim_uspto['cleaned_claims_text'] = df_claim_uspto['Claim'].replace(r'\\'|\\\"|\\,|\\.|\\?|\\+|\\-|\\/|\\=|\\(|\\)|\\n|\"', '', regex=True)\n",
    "    \n",
    "    # convert to lowercase\n",
    "    df_claim_uspto['cleaned_claims_text'] = df_claim_uspto['cleaned_claims_text'].str.lower()\n",
    "    \n",
    "    #remove numbers\n",
    "    df_claim_uspto['cleaned_claims_text'] =df_claim_uspto['cleaned_claims_text'].replace(r'\\d+', '', regex = True)\n",
    "        \n",
    "    #remove_symbols\n",
    "    df_claim_uspto['cleaned_claims_text']  = df_claim_uspto['cleaned_claims_text'].replace(r'[^a-zA-Z0-9]', \" \", regex=True)\n",
    "    \n",
    "    #remove punctuations \n",
    "    df_claim_uspto['cleaned_claims_text'] = df_claim_uspto['cleaned_claims_text'].replace(r'[[]!\"#$%\\'()\\*+,-./:;<=>?^_`{|}]+',\"\", regex = True)\n",
    "    \n",
    "    #remove_URL(x):\n",
    "    df_claim_uspto['cleaned_claims_text']  = df_claim_uspto['cleaned_claims_text'].replace(r'https.*$', \"\", regex = True)\n",
    "    df_claim_uspto['cleaned_claims_text'] = df_claim_uspto['cleaned_claims_text'].replace(\"   \", \" \", regex = True)\n",
    "    df_claim_uspto['cleaned_claims_text'] = df_claim_uspto['cleaned_claims_text'].replace(\"  \", \" \", regex = True)\n",
    "   \n",
    "    return df_claim_uspto\n",
    "\n",
    "df_claim_uspto = cleantext(df_claim_uspto)\n",
    "df_claim_uspto.head()"
   ]
  },
  {
   "cell_type": "code",
   "execution_count": 7,
   "id": "f63be0e8",
   "metadata": {},
   "outputs": [
    {
     "name": "stderr",
     "output_type": "stream",
     "text": [
      "[nltk_data] Downloading package stopwords to\n",
      "[nltk_data]     C:\\Users\\admin\\AppData\\Roaming\\nltk_data...\n",
      "[nltk_data]   Package stopwords is already up-to-date!\n"
     ]
    },
    {
     "data": {
      "text/html": [
       "<div>\n",
       "<style scoped>\n",
       "    .dataframe tbody tr th:only-of-type {\n",
       "        vertical-align: middle;\n",
       "    }\n",
       "\n",
       "    .dataframe tbody tr th {\n",
       "        vertical-align: top;\n",
       "    }\n",
       "\n",
       "    .dataframe thead th {\n",
       "        text-align: right;\n",
       "    }\n",
       "</style>\n",
       "<table border=\"1\" class=\"dataframe\">\n",
       "  <thead>\n",
       "    <tr style=\"text-align: right;\">\n",
       "      <th></th>\n",
       "      <th>ID</th>\n",
       "      <th>Title</th>\n",
       "      <th>Claim</th>\n",
       "      <th>cpc_subclass</th>\n",
       "      <th>cleaned_claims_text</th>\n",
       "      <th>cleaned_claim_text_without_Stopwprd</th>\n",
       "    </tr>\n",
       "  </thead>\n",
       "  <tbody>\n",
       "    <tr>\n",
       "      <th>0</th>\n",
       "      <td>8930992</td>\n",
       "      <td>TV social network advertising</td>\n",
       "      <td>1. An advertising method, comprising: displayi...</td>\n",
       "      <td>G06Q,H04N</td>\n",
       "      <td>an advertising method comprising displaying a...</td>\n",
       "      <td>advertising displaying television program vide...</td>\n",
       "    </tr>\n",
       "    <tr>\n",
       "      <th>1</th>\n",
       "      <td>8929358</td>\n",
       "      <td>Call flow system and method for use in a legac...</td>\n",
       "      <td>1. A method, comprising: receiving, from a mob...</td>\n",
       "      <td>H04L,H04M,H04Q,H04W,H05K</td>\n",
       "      <td>a method comprising receiving from a mobile s...</td>\n",
       "      <td>receiving mobile switching network carrier gat...</td>\n",
       "    </tr>\n",
       "    <tr>\n",
       "      <th>2</th>\n",
       "      <td>8927955</td>\n",
       "      <td>Resistance change memory</td>\n",
       "      <td>1. A resistance change memory comprising: a fi...</td>\n",
       "      <td>B82Y,G11C,H01L</td>\n",
       "      <td>a resistance change memory comprising a first...</td>\n",
       "      <td>resistance change memory first interconnect li...</td>\n",
       "    </tr>\n",
       "    <tr>\n",
       "      <th>3</th>\n",
       "      <td>8928653</td>\n",
       "      <td>Information processing system, information pro...</td>\n",
       "      <td>1. An information processing system comprising...</td>\n",
       "      <td>A63F,G06F,H04N</td>\n",
       "      <td>an information processing system comprising a...</td>\n",
       "      <td>processing first processing second processing ...</td>\n",
       "    </tr>\n",
       "    <tr>\n",
       "      <th>4</th>\n",
       "      <td>8930595</td>\n",
       "      <td>Memory switch for interconnecting server nodes</td>\n",
       "      <td>1. A computer-implemented method for transferr...</td>\n",
       "      <td>G06F,H04L</td>\n",
       "      <td>a computerimplemented method for transferring...</td>\n",
       "      <td>computerimplemented transferring electronic de...</td>\n",
       "    </tr>\n",
       "  </tbody>\n",
       "</table>\n",
       "</div>"
      ],
      "text/plain": [
       "        ID                                              Title  \\\n",
       "0  8930992                      TV social network advertising   \n",
       "1  8929358  Call flow system and method for use in a legac...   \n",
       "2  8927955                           Resistance change memory   \n",
       "3  8928653  Information processing system, information pro...   \n",
       "4  8930595     Memory switch for interconnecting server nodes   \n",
       "\n",
       "                                               Claim  \\\n",
       "0  1. An advertising method, comprising: displayi...   \n",
       "1  1. A method, comprising: receiving, from a mob...   \n",
       "2  1. A resistance change memory comprising: a fi...   \n",
       "3  1. An information processing system comprising...   \n",
       "4  1. A computer-implemented method for transferr...   \n",
       "\n",
       "               cpc_subclass  \\\n",
       "0                 G06Q,H04N   \n",
       "1  H04L,H04M,H04Q,H04W,H05K   \n",
       "2            B82Y,G11C,H01L   \n",
       "3            A63F,G06F,H04N   \n",
       "4                 G06F,H04L   \n",
       "\n",
       "                                 cleaned_claims_text  \\\n",
       "0   an advertising method comprising displaying a...   \n",
       "1   a method comprising receiving from a mobile s...   \n",
       "2   a resistance change memory comprising a first...   \n",
       "3   an information processing system comprising a...   \n",
       "4   a computerimplemented method for transferring...   \n",
       "\n",
       "                 cleaned_claim_text_without_Stopwprd  \n",
       "0  advertising displaying television program vide...  \n",
       "1  receiving mobile switching network carrier gat...  \n",
       "2  resistance change memory first interconnect li...  \n",
       "3  processing first processing second processing ...  \n",
       "4  computerimplemented transferring electronic de...  "
      ]
     },
     "execution_count": 7,
     "metadata": {},
     "output_type": "execute_result"
    }
   ],
   "source": [
    "import nltk\n",
    "from nltk.corpus import stopwords\n",
    "\n",
    "# Load the stop words\n",
    "nltk.download('stopwords')\n",
    "english_stop_words = set(stopwords.words('english'))\n",
    "\n",
    "# Define a set of patent-specific stop words\n",
    "patent_stop_words = set([\"invention\", \"apparatus\", \"method\", \"system\", \"device\",\n",
    "                         \"means\", \"comprising\", \"having\", \"including\", \"wherein\",\n",
    "                         \"according\", \"configured\", \"configured to\", \"configured for\",\n",
    "                         \"one or more\", \"plurality\", \"at least\", \"said\", \"and/or\",\n",
    "                         \"thereof\", \"thereto\", \"herein\", \"hereby\", \"hereof\", \"hereunder\",\n",
    "                         \"hereto\", \"herewith\", \"respectively\", \"corresponding\",\n",
    "                         \"respectively corresponding\", \"substantially\", \"generally\",\n",
    "                         \"typically\", \"usually\", \"often\", \"frequently\", \"commonly\",\n",
    "                         \"normally\", \"conventional\", \"traditional\", \"known\", \"prior\",\n",
    "                         \"art\", \"field\", \"related\", \"disclosed\", \"described\", \"illustrated\",\n",
    "                         \"embodiment\", \"example\", \"figure\", \"graph\", \"chart\", \"data\",\n",
    "                         \"information\", \"section\", \"portion\", \"aspect\", \"aspect of\",\n",
    "                         \"part\", \"feature\", \"detail\", \"particular\", \"certain\", \"some\",\n",
    "                         \"many\", \"various\", \"multiple\", \"different\", \"differentiate\",\n",
    "                         \"similar\", \"corresponding\", \"correspondingly\", \"also\",\n",
    "                         \"in addition\", \"furthermore\", \"moreover\", \"additionally\",\n",
    "                         \"especially\", \"particular\", \"particularity\", \"specific\",\n",
    "                         \"specifically\", \"example\", \"exemplary\", \"illustrative\",\n",
    "                         \"such as\", \"include\", \"includes\", \"including\", \"included\",\n",
    "                         \"contain\", \"contains\", \"containing\", \"contained\", \"shown\"])\n",
    "\n",
    "# Merge the sets of stop words\n",
    "stop_words = english_stop_words.union(patent_stop_words)\n",
    "\n",
    "df_claim_uspto['cleaned_claim_text_without_Stopwprd'] = df_claim_uspto['cleaned_claims_text'].apply(lambda x: ' '.join([word for word in str(x).split() if word not in stop_words]))\n",
    "df_claim_uspto.head()"
   ]
  },
  {
   "cell_type": "code",
   "execution_count": 8,
   "id": "29385f53",
   "metadata": {},
   "outputs": [
    {
     "data": {
      "text/html": [
       "<div>\n",
       "<style scoped>\n",
       "    .dataframe tbody tr th:only-of-type {\n",
       "        vertical-align: middle;\n",
       "    }\n",
       "\n",
       "    .dataframe tbody tr th {\n",
       "        vertical-align: top;\n",
       "    }\n",
       "\n",
       "    .dataframe thead th {\n",
       "        text-align: right;\n",
       "    }\n",
       "</style>\n",
       "<table border=\"1\" class=\"dataframe\">\n",
       "  <thead>\n",
       "    <tr style=\"text-align: right;\">\n",
       "      <th></th>\n",
       "      <th>ID</th>\n",
       "      <th>Title</th>\n",
       "      <th>Claim</th>\n",
       "      <th>cpc_subclass</th>\n",
       "      <th>cleaned_claims_text</th>\n",
       "      <th>cleaned_claim_text_without_Stopwprd</th>\n",
       "      <th>Lemmatized-Claim</th>\n",
       "    </tr>\n",
       "  </thead>\n",
       "  <tbody>\n",
       "    <tr>\n",
       "      <th>0</th>\n",
       "      <td>8930992</td>\n",
       "      <td>TV social network advertising</td>\n",
       "      <td>1. An advertising method, comprising: displayi...</td>\n",
       "      <td>G06Q,H04N</td>\n",
       "      <td>an advertising method comprising displaying a...</td>\n",
       "      <td>advertising displaying television program vide...</td>\n",
       "      <td>advertising displaying television program vide...</td>\n",
       "    </tr>\n",
       "    <tr>\n",
       "      <th>1</th>\n",
       "      <td>8929358</td>\n",
       "      <td>Call flow system and method for use in a legac...</td>\n",
       "      <td>1. A method, comprising: receiving, from a mob...</td>\n",
       "      <td>H04L,H04M,H04Q,H04W,H05K</td>\n",
       "      <td>a method comprising receiving from a mobile s...</td>\n",
       "      <td>receiving mobile switching network carrier gat...</td>\n",
       "      <td>receiving mobile switching network carrier gat...</td>\n",
       "    </tr>\n",
       "    <tr>\n",
       "      <th>2</th>\n",
       "      <td>8927955</td>\n",
       "      <td>Resistance change memory</td>\n",
       "      <td>1. A resistance change memory comprising: a fi...</td>\n",
       "      <td>B82Y,G11C,H01L</td>\n",
       "      <td>a resistance change memory comprising a first...</td>\n",
       "      <td>resistance change memory first interconnect li...</td>\n",
       "      <td>resistance change memory first interconnect li...</td>\n",
       "    </tr>\n",
       "    <tr>\n",
       "      <th>3</th>\n",
       "      <td>8928653</td>\n",
       "      <td>Information processing system, information pro...</td>\n",
       "      <td>1. An information processing system comprising...</td>\n",
       "      <td>A63F,G06F,H04N</td>\n",
       "      <td>an information processing system comprising a...</td>\n",
       "      <td>processing first processing second processing ...</td>\n",
       "      <td>processing first processing second processing ...</td>\n",
       "    </tr>\n",
       "    <tr>\n",
       "      <th>4</th>\n",
       "      <td>8930595</td>\n",
       "      <td>Memory switch for interconnecting server nodes</td>\n",
       "      <td>1. A computer-implemented method for transferr...</td>\n",
       "      <td>G06F,H04L</td>\n",
       "      <td>a computerimplemented method for transferring...</td>\n",
       "      <td>computerimplemented transferring electronic de...</td>\n",
       "      <td>computerimplemented transferring electronic de...</td>\n",
       "    </tr>\n",
       "  </tbody>\n",
       "</table>\n",
       "</div>"
      ],
      "text/plain": [
       "        ID                                              Title  \\\n",
       "0  8930992                      TV social network advertising   \n",
       "1  8929358  Call flow system and method for use in a legac...   \n",
       "2  8927955                           Resistance change memory   \n",
       "3  8928653  Information processing system, information pro...   \n",
       "4  8930595     Memory switch for interconnecting server nodes   \n",
       "\n",
       "                                               Claim  \\\n",
       "0  1. An advertising method, comprising: displayi...   \n",
       "1  1. A method, comprising: receiving, from a mob...   \n",
       "2  1. A resistance change memory comprising: a fi...   \n",
       "3  1. An information processing system comprising...   \n",
       "4  1. A computer-implemented method for transferr...   \n",
       "\n",
       "               cpc_subclass  \\\n",
       "0                 G06Q,H04N   \n",
       "1  H04L,H04M,H04Q,H04W,H05K   \n",
       "2            B82Y,G11C,H01L   \n",
       "3            A63F,G06F,H04N   \n",
       "4                 G06F,H04L   \n",
       "\n",
       "                                 cleaned_claims_text  \\\n",
       "0   an advertising method comprising displaying a...   \n",
       "1   a method comprising receiving from a mobile s...   \n",
       "2   a resistance change memory comprising a first...   \n",
       "3   an information processing system comprising a...   \n",
       "4   a computerimplemented method for transferring...   \n",
       "\n",
       "                 cleaned_claim_text_without_Stopwprd  \\\n",
       "0  advertising displaying television program vide...   \n",
       "1  receiving mobile switching network carrier gat...   \n",
       "2  resistance change memory first interconnect li...   \n",
       "3  processing first processing second processing ...   \n",
       "4  computerimplemented transferring electronic de...   \n",
       "\n",
       "                                    Lemmatized-Claim  \n",
       "0  advertising displaying television program vide...  \n",
       "1  receiving mobile switching network carrier gat...  \n",
       "2  resistance change memory first interconnect li...  \n",
       "3  processing first processing second processing ...  \n",
       "4  computerimplemented transferring electronic de...  "
      ]
     },
     "execution_count": 8,
     "metadata": {},
     "output_type": "execute_result"
    }
   ],
   "source": [
    "# Import the necessary library\n",
    "from nltk.stem import WordNetLemmatizer\n",
    "\n",
    "# Create an instance of WordNetLemmatizer\n",
    "lemmatizer = WordNetLemmatizer()\n",
    "\n",
    "# Define a function to lemmatize each word in a given text\n",
    "def lemmatize_words(text):\n",
    "    # Split the text into individual words\n",
    "    words = text.split()\n",
    "    # Apply lemmatization to each word and join them back into a string\n",
    "    return \" \".join([lemmatizer.lemmatize(word) for word in words])\n",
    "\n",
    "# Apply the lemmatize_words function to the 'cleaned_claim_text_without_Stopwprd' column of the dataframe\n",
    "df_claim_uspto[\"Lemmatized-Claim\"] = df_claim_uspto[\"cleaned_claim_text_without_Stopwprd\"].apply(lambda text: lemmatize_words(text))\n",
    "\n",
    "# Print the resulting dataframe with the added 'Lemmatized-Cliam' column\n",
    "df_claim_uspto.head()"
   ]
  },
  {
   "cell_type": "code",
   "execution_count": 9,
   "id": "d002ec6e",
   "metadata": {},
   "outputs": [
    {
     "name": "stderr",
     "output_type": "stream",
     "text": [
      "[nltk_data] Downloading package punkt to\n",
      "[nltk_data]     C:\\Users\\admin\\AppData\\Roaming\\nltk_data...\n",
      "[nltk_data]   Package punkt is already up-to-date!\n"
     ]
    },
    {
     "data": {
      "text/html": [
       "<div>\n",
       "<style scoped>\n",
       "    .dataframe tbody tr th:only-of-type {\n",
       "        vertical-align: middle;\n",
       "    }\n",
       "\n",
       "    .dataframe tbody tr th {\n",
       "        vertical-align: top;\n",
       "    }\n",
       "\n",
       "    .dataframe thead th {\n",
       "        text-align: right;\n",
       "    }\n",
       "</style>\n",
       "<table border=\"1\" class=\"dataframe\">\n",
       "  <thead>\n",
       "    <tr style=\"text-align: right;\">\n",
       "      <th></th>\n",
       "      <th>ID</th>\n",
       "      <th>Title</th>\n",
       "      <th>Claim</th>\n",
       "      <th>cpc_subclass</th>\n",
       "      <th>cleaned_claims_text</th>\n",
       "      <th>cleaned_claim_text_without_Stopwprd</th>\n",
       "      <th>Lemmatized-Claim</th>\n",
       "      <th>Claim_tokens</th>\n",
       "    </tr>\n",
       "  </thead>\n",
       "  <tbody>\n",
       "    <tr>\n",
       "      <th>0</th>\n",
       "      <td>8930992</td>\n",
       "      <td>TV social network advertising</td>\n",
       "      <td>1. An advertising method, comprising: displayi...</td>\n",
       "      <td>G06Q,H04N</td>\n",
       "      <td>an advertising method comprising displaying a...</td>\n",
       "      <td>advertising displaying television program vide...</td>\n",
       "      <td>advertising displaying television program vide...</td>\n",
       "      <td>[advertising, displaying, television, program,...</td>\n",
       "    </tr>\n",
       "    <tr>\n",
       "      <th>1</th>\n",
       "      <td>8929358</td>\n",
       "      <td>Call flow system and method for use in a legac...</td>\n",
       "      <td>1. A method, comprising: receiving, from a mob...</td>\n",
       "      <td>H04L,H04M,H04Q,H04W,H05K</td>\n",
       "      <td>a method comprising receiving from a mobile s...</td>\n",
       "      <td>receiving mobile switching network carrier gat...</td>\n",
       "      <td>receiving mobile switching network carrier gat...</td>\n",
       "      <td>[receiving, mobile, switching, network, carrie...</td>\n",
       "    </tr>\n",
       "    <tr>\n",
       "      <th>2</th>\n",
       "      <td>8927955</td>\n",
       "      <td>Resistance change memory</td>\n",
       "      <td>1. A resistance change memory comprising: a fi...</td>\n",
       "      <td>B82Y,G11C,H01L</td>\n",
       "      <td>a resistance change memory comprising a first...</td>\n",
       "      <td>resistance change memory first interconnect li...</td>\n",
       "      <td>resistance change memory first interconnect li...</td>\n",
       "      <td>[resistance, change, memory, first, interconne...</td>\n",
       "    </tr>\n",
       "    <tr>\n",
       "      <th>3</th>\n",
       "      <td>8928653</td>\n",
       "      <td>Information processing system, information pro...</td>\n",
       "      <td>1. An information processing system comprising...</td>\n",
       "      <td>A63F,G06F,H04N</td>\n",
       "      <td>an information processing system comprising a...</td>\n",
       "      <td>processing first processing second processing ...</td>\n",
       "      <td>processing first processing second processing ...</td>\n",
       "      <td>[processing, first, processing, second, proces...</td>\n",
       "    </tr>\n",
       "    <tr>\n",
       "      <th>4</th>\n",
       "      <td>8930595</td>\n",
       "      <td>Memory switch for interconnecting server nodes</td>\n",
       "      <td>1. A computer-implemented method for transferr...</td>\n",
       "      <td>G06F,H04L</td>\n",
       "      <td>a computerimplemented method for transferring...</td>\n",
       "      <td>computerimplemented transferring electronic de...</td>\n",
       "      <td>computerimplemented transferring electronic de...</td>\n",
       "      <td>[computerimplemented, transferring, electronic...</td>\n",
       "    </tr>\n",
       "  </tbody>\n",
       "</table>\n",
       "</div>"
      ],
      "text/plain": [
       "        ID                                              Title  \\\n",
       "0  8930992                      TV social network advertising   \n",
       "1  8929358  Call flow system and method for use in a legac...   \n",
       "2  8927955                           Resistance change memory   \n",
       "3  8928653  Information processing system, information pro...   \n",
       "4  8930595     Memory switch for interconnecting server nodes   \n",
       "\n",
       "                                               Claim  \\\n",
       "0  1. An advertising method, comprising: displayi...   \n",
       "1  1. A method, comprising: receiving, from a mob...   \n",
       "2  1. A resistance change memory comprising: a fi...   \n",
       "3  1. An information processing system comprising...   \n",
       "4  1. A computer-implemented method for transferr...   \n",
       "\n",
       "               cpc_subclass  \\\n",
       "0                 G06Q,H04N   \n",
       "1  H04L,H04M,H04Q,H04W,H05K   \n",
       "2            B82Y,G11C,H01L   \n",
       "3            A63F,G06F,H04N   \n",
       "4                 G06F,H04L   \n",
       "\n",
       "                                 cleaned_claims_text  \\\n",
       "0   an advertising method comprising displaying a...   \n",
       "1   a method comprising receiving from a mobile s...   \n",
       "2   a resistance change memory comprising a first...   \n",
       "3   an information processing system comprising a...   \n",
       "4   a computerimplemented method for transferring...   \n",
       "\n",
       "                 cleaned_claim_text_without_Stopwprd  \\\n",
       "0  advertising displaying television program vide...   \n",
       "1  receiving mobile switching network carrier gat...   \n",
       "2  resistance change memory first interconnect li...   \n",
       "3  processing first processing second processing ...   \n",
       "4  computerimplemented transferring electronic de...   \n",
       "\n",
       "                                    Lemmatized-Claim  \\\n",
       "0  advertising displaying television program vide...   \n",
       "1  receiving mobile switching network carrier gat...   \n",
       "2  resistance change memory first interconnect li...   \n",
       "3  processing first processing second processing ...   \n",
       "4  computerimplemented transferring electronic de...   \n",
       "\n",
       "                                        Claim_tokens  \n",
       "0  [advertising, displaying, television, program,...  \n",
       "1  [receiving, mobile, switching, network, carrie...  \n",
       "2  [resistance, change, memory, first, interconne...  \n",
       "3  [processing, first, processing, second, proces...  \n",
       "4  [computerimplemented, transferring, electronic...  "
      ]
     },
     "execution_count": 9,
     "metadata": {},
     "output_type": "execute_result"
    }
   ],
   "source": [
    "#tokenize corpus\n",
    "nltk.download('punkt')\n",
    "\n",
    "#tokenize a string into words\n",
    "def tokenize_text(text):\n",
    "    tokens = nltk.word_tokenize(text)\n",
    "    return tokens\n",
    "\n",
    "# Apply the tokenization function to each row of the 'Lemmatized-Claim' column\n",
    "df_claim_uspto['Claim_tokens'] = df_claim_uspto[\"Lemmatized-Claim\"].apply(tokenize_text)\n",
    "df_claim_uspto.head()"
   ]
  },
  {
   "cell_type": "markdown",
   "id": "7772da57",
   "metadata": {},
   "source": [
    "# divide the dataset"
   ]
  },
  {
   "cell_type": "code",
   "execution_count": 10,
   "id": "102ef6b3",
   "metadata": {},
   "outputs": [
    {
     "data": {
      "text/html": [
       "<div>\n",
       "<style scoped>\n",
       "    .dataframe tbody tr th:only-of-type {\n",
       "        vertical-align: middle;\n",
       "    }\n",
       "\n",
       "    .dataframe tbody tr th {\n",
       "        vertical-align: top;\n",
       "    }\n",
       "\n",
       "    .dataframe thead th {\n",
       "        text-align: right;\n",
       "    }\n",
       "</style>\n",
       "<table border=\"1\" class=\"dataframe\">\n",
       "  <thead>\n",
       "    <tr style=\"text-align: right;\">\n",
       "      <th></th>\n",
       "      <th>ID</th>\n",
       "      <th>Title</th>\n",
       "      <th>Claim</th>\n",
       "      <th>cpc_subclass</th>\n",
       "      <th>cleaned_claims_text</th>\n",
       "      <th>cleaned_claim_text_without_Stopwprd</th>\n",
       "      <th>Lemmatized-Claim</th>\n",
       "      <th>Claim_tokens</th>\n",
       "    </tr>\n",
       "  </thead>\n",
       "  <tbody>\n",
       "    <tr>\n",
       "      <th>0</th>\n",
       "      <td>8930992</td>\n",
       "      <td>TV social network advertising</td>\n",
       "      <td>1. An advertising method, comprising: displayi...</td>\n",
       "      <td>G06Q,H04N</td>\n",
       "      <td>an advertising method comprising displaying a...</td>\n",
       "      <td>advertising displaying television program vide...</td>\n",
       "      <td>advertising displaying television program vide...</td>\n",
       "      <td>[advertising, displaying, television, program,...</td>\n",
       "    </tr>\n",
       "    <tr>\n",
       "      <th>1</th>\n",
       "      <td>8929358</td>\n",
       "      <td>Call flow system and method for use in a legac...</td>\n",
       "      <td>1. A method, comprising: receiving, from a mob...</td>\n",
       "      <td>H04L,H04M,H04Q,H04W,H05K</td>\n",
       "      <td>a method comprising receiving from a mobile s...</td>\n",
       "      <td>receiving mobile switching network carrier gat...</td>\n",
       "      <td>receiving mobile switching network carrier gat...</td>\n",
       "      <td>[receiving, mobile, switching, network, carrie...</td>\n",
       "    </tr>\n",
       "    <tr>\n",
       "      <th>2</th>\n",
       "      <td>8927955</td>\n",
       "      <td>Resistance change memory</td>\n",
       "      <td>1. A resistance change memory comprising: a fi...</td>\n",
       "      <td>B82Y,G11C,H01L</td>\n",
       "      <td>a resistance change memory comprising a first...</td>\n",
       "      <td>resistance change memory first interconnect li...</td>\n",
       "      <td>resistance change memory first interconnect li...</td>\n",
       "      <td>[resistance, change, memory, first, interconne...</td>\n",
       "    </tr>\n",
       "    <tr>\n",
       "      <th>3</th>\n",
       "      <td>8928653</td>\n",
       "      <td>Information processing system, information pro...</td>\n",
       "      <td>1. An information processing system comprising...</td>\n",
       "      <td>A63F,G06F,H04N</td>\n",
       "      <td>an information processing system comprising a...</td>\n",
       "      <td>processing first processing second processing ...</td>\n",
       "      <td>processing first processing second processing ...</td>\n",
       "      <td>[processing, first, processing, second, proces...</td>\n",
       "    </tr>\n",
       "    <tr>\n",
       "      <th>4</th>\n",
       "      <td>8930595</td>\n",
       "      <td>Memory switch for interconnecting server nodes</td>\n",
       "      <td>1. A computer-implemented method for transferr...</td>\n",
       "      <td>G06F,H04L</td>\n",
       "      <td>a computerimplemented method for transferring...</td>\n",
       "      <td>computerimplemented transferring electronic de...</td>\n",
       "      <td>computerimplemented transferring electronic de...</td>\n",
       "      <td>[computerimplemented, transferring, electronic...</td>\n",
       "    </tr>\n",
       "    <tr>\n",
       "      <th>...</th>\n",
       "      <td>...</td>\n",
       "      <td>...</td>\n",
       "      <td>...</td>\n",
       "      <td>...</td>\n",
       "      <td>...</td>\n",
       "      <td>...</td>\n",
       "      <td>...</td>\n",
       "      <td>...</td>\n",
       "    </tr>\n",
       "    <tr>\n",
       "      <th>29995</th>\n",
       "      <td>9008081</td>\n",
       "      <td>Serving gateway proxies for non-SIP speakers i...</td>\n",
       "      <td>1. In a communication network in which Session...</td>\n",
       "      <td>H04L</td>\n",
       "      <td>in a communication network in which session i...</td>\n",
       "      <td>communication network session initiation proto...</td>\n",
       "      <td>communication network session initiation proto...</td>\n",
       "      <td>[communication, network, session, initiation, ...</td>\n",
       "    </tr>\n",
       "    <tr>\n",
       "      <th>29996</th>\n",
       "      <td>9004937</td>\n",
       "      <td>Surface mount/through-hole crimp piercing zipc...</td>\n",
       "      <td>1. A through-the-hole (TTH)/surface mount (SMT...</td>\n",
       "      <td>H01R,Y10T</td>\n",
       "      <td>a throughthehole tthsurface mount smt insulat...</td>\n",
       "      <td>throughthehole tthsurface mount smt insulation...</td>\n",
       "      <td>throughthehole tthsurface mount smt insulation...</td>\n",
       "      <td>[throughthehole, tthsurface, mount, smt, insul...</td>\n",
       "    </tr>\n",
       "    <tr>\n",
       "      <th>29997</th>\n",
       "      <td>9008606</td>\n",
       "      <td>Method for requesting emergency service at mob...</td>\n",
       "      <td>1. A communication method by a mobile station ...</td>\n",
       "      <td>H04W</td>\n",
       "      <td>a communication method by a mobile station in...</td>\n",
       "      <td>communication mobile station mobile communicat...</td>\n",
       "      <td>communication mobile station mobile communicat...</td>\n",
       "      <td>[communication, mobile, station, mobile, commu...</td>\n",
       "    </tr>\n",
       "    <tr>\n",
       "      <th>29998</th>\n",
       "      <td>9007145</td>\n",
       "      <td>High-frequency signal balancing multiplexer</td>\n",
       "      <td>1. A high-frequency module comprising: a frequ...</td>\n",
       "      <td>H03H</td>\n",
       "      <td>a highfrequency module comprising a frequency...</td>\n",
       "      <td>highfrequency module frequency selector provid...</td>\n",
       "      <td>highfrequency module frequency selector provid...</td>\n",
       "      <td>[highfrequency, module, frequency, selector, p...</td>\n",
       "    </tr>\n",
       "    <tr>\n",
       "      <th>29999</th>\n",
       "      <td>9008692</td>\n",
       "      <td>Method for handling position data in a mobile ...</td>\n",
       "      <td>1. A method for generating position informatio...</td>\n",
       "      <td>G01S,H04L,H04M,H04W,Y02D</td>\n",
       "      <td>a method for generating position information ...</td>\n",
       "      <td>generating position mobile equipment provided ...</td>\n",
       "      <td>generating position mobile equipment provided ...</td>\n",
       "      <td>[generating, position, mobile, equipment, prov...</td>\n",
       "    </tr>\n",
       "  </tbody>\n",
       "</table>\n",
       "<p>30000 rows × 8 columns</p>\n",
       "</div>"
      ],
      "text/plain": [
       "            ID                                              Title  \\\n",
       "0      8930992                      TV social network advertising   \n",
       "1      8929358  Call flow system and method for use in a legac...   \n",
       "2      8927955                           Resistance change memory   \n",
       "3      8928653  Information processing system, information pro...   \n",
       "4      8930595     Memory switch for interconnecting server nodes   \n",
       "...        ...                                                ...   \n",
       "29995  9008081  Serving gateway proxies for non-SIP speakers i...   \n",
       "29996  9004937  Surface mount/through-hole crimp piercing zipc...   \n",
       "29997  9008606  Method for requesting emergency service at mob...   \n",
       "29998  9007145        High-frequency signal balancing multiplexer   \n",
       "29999  9008692  Method for handling position data in a mobile ...   \n",
       "\n",
       "                                                   Claim  \\\n",
       "0      1. An advertising method, comprising: displayi...   \n",
       "1      1. A method, comprising: receiving, from a mob...   \n",
       "2      1. A resistance change memory comprising: a fi...   \n",
       "3      1. An information processing system comprising...   \n",
       "4      1. A computer-implemented method for transferr...   \n",
       "...                                                  ...   \n",
       "29995  1. In a communication network in which Session...   \n",
       "29996  1. A through-the-hole (TTH)/surface mount (SMT...   \n",
       "29997  1. A communication method by a mobile station ...   \n",
       "29998  1. A high-frequency module comprising: a frequ...   \n",
       "29999  1. A method for generating position informatio...   \n",
       "\n",
       "                   cpc_subclass  \\\n",
       "0                     G06Q,H04N   \n",
       "1      H04L,H04M,H04Q,H04W,H05K   \n",
       "2                B82Y,G11C,H01L   \n",
       "3                A63F,G06F,H04N   \n",
       "4                     G06F,H04L   \n",
       "...                         ...   \n",
       "29995                      H04L   \n",
       "29996                 H01R,Y10T   \n",
       "29997                      H04W   \n",
       "29998                      H03H   \n",
       "29999  G01S,H04L,H04M,H04W,Y02D   \n",
       "\n",
       "                                     cleaned_claims_text  \\\n",
       "0       an advertising method comprising displaying a...   \n",
       "1       a method comprising receiving from a mobile s...   \n",
       "2       a resistance change memory comprising a first...   \n",
       "3       an information processing system comprising a...   \n",
       "4       a computerimplemented method for transferring...   \n",
       "...                                                  ...   \n",
       "29995   in a communication network in which session i...   \n",
       "29996   a throughthehole tthsurface mount smt insulat...   \n",
       "29997   a communication method by a mobile station in...   \n",
       "29998   a highfrequency module comprising a frequency...   \n",
       "29999   a method for generating position information ...   \n",
       "\n",
       "                     cleaned_claim_text_without_Stopwprd  \\\n",
       "0      advertising displaying television program vide...   \n",
       "1      receiving mobile switching network carrier gat...   \n",
       "2      resistance change memory first interconnect li...   \n",
       "3      processing first processing second processing ...   \n",
       "4      computerimplemented transferring electronic de...   \n",
       "...                                                  ...   \n",
       "29995  communication network session initiation proto...   \n",
       "29996  throughthehole tthsurface mount smt insulation...   \n",
       "29997  communication mobile station mobile communicat...   \n",
       "29998  highfrequency module frequency selector provid...   \n",
       "29999  generating position mobile equipment provided ...   \n",
       "\n",
       "                                        Lemmatized-Claim  \\\n",
       "0      advertising displaying television program vide...   \n",
       "1      receiving mobile switching network carrier gat...   \n",
       "2      resistance change memory first interconnect li...   \n",
       "3      processing first processing second processing ...   \n",
       "4      computerimplemented transferring electronic de...   \n",
       "...                                                  ...   \n",
       "29995  communication network session initiation proto...   \n",
       "29996  throughthehole tthsurface mount smt insulation...   \n",
       "29997  communication mobile station mobile communicat...   \n",
       "29998  highfrequency module frequency selector provid...   \n",
       "29999  generating position mobile equipment provided ...   \n",
       "\n",
       "                                            Claim_tokens  \n",
       "0      [advertising, displaying, television, program,...  \n",
       "1      [receiving, mobile, switching, network, carrie...  \n",
       "2      [resistance, change, memory, first, interconne...  \n",
       "3      [processing, first, processing, second, proces...  \n",
       "4      [computerimplemented, transferring, electronic...  \n",
       "...                                                  ...  \n",
       "29995  [communication, network, session, initiation, ...  \n",
       "29996  [throughthehole, tthsurface, mount, smt, insul...  \n",
       "29997  [communication, mobile, station, mobile, commu...  \n",
       "29998  [highfrequency, module, frequency, selector, p...  \n",
       "29999  [generating, position, mobile, equipment, prov...  \n",
       "\n",
       "[30000 rows x 8 columns]"
      ]
     },
     "execution_count": 10,
     "metadata": {},
     "output_type": "execute_result"
    }
   ],
   "source": [
    "df_claim_30K=df_claim_uspto[:30000]\n",
    "df_claim_30K"
   ]
  },
  {
   "cell_type": "markdown",
   "id": "db2d88b3",
   "metadata": {},
   "source": [
    "# Bertopic for 30k patent"
   ]
  },
  {
   "cell_type": "code",
   "execution_count": 11,
   "id": "d04feacd",
   "metadata": {},
   "outputs": [
    {
     "data": {
      "application/vnd.jupyter.widget-view+json": {
       "model_id": "5b8e125a735741338078f633ac26ae41",
       "version_major": 2,
       "version_minor": 0
      },
      "text/plain": [
       "Batches:   0%|          | 0/938 [00:00<?, ?it/s]"
      ]
     },
     "metadata": {},
     "output_type": "display_data"
    },
    {
     "name": "stderr",
     "output_type": "stream",
     "text": [
      "2023-04-01 17:33:23,740 - BERTopic - Transformed documents to Embeddings\n",
      "2023-04-01 17:34:48,125 - BERTopic - Reduced dimensionality\n",
      "2023-04-01 17:34:51,868 - BERTopic - Clustered reduced embeddings\n"
     ]
    }
   ],
   "source": [
    "# set CountVetorizer, c-TF-IDF\n",
    "from bertopic import BERTopic\n",
    "from hdbscan import HDBSCAN\n",
    "from umap import UMAP\n",
    "from sentence_transformers import SentenceTransformer\n",
    "from sklearn.feature_extraction.text import CountVectorizer\n",
    "from bertopic.vectorizers import ClassTfidfTransformer\n",
    "\n",
    "sentence_model = SentenceTransformer('AI-Growth-Lab/PatentSBERTa')\n",
    "#sentence_model = SentenceTransformer(\"all-MiniLM-L6-v2\")\n",
    "\n",
    "# Adjust UMAP hyperparameters\n",
    "umap_model = UMAP(n_neighbors=55, \n",
    "                  n_components=10, \n",
    "                  min_dist=0.1, \n",
    "                  metric='cosine', \n",
    "                  random_state=100)\n",
    "\n",
    "# Adjust HDBSCAN hyperparameters\n",
    "hdbscan_model = HDBSCAN(min_cluster_size=40, \n",
    "                        min_samples=5, \n",
    "                        metric='euclidean', \n",
    "                        cluster_selection_method='eom', \n",
    "                        prediction_data=True)\n",
    "\n",
    "# Adjust CountVectorizer hyperparameters\n",
    "vectorizer_model = CountVectorizer(ngram_range=(1, 3), \n",
    "                                   min_df=10, \n",
    "                                   max_df=0.5)\n",
    "\n",
    "# Adjust ClassTfidfTransformer hyperparameters\n",
    "ctfidf_model = ClassTfidfTransformer(reduce_frequent_words=False)\n",
    "\n",
    "# Initialize and fit BERTopic with fine-tuned hyperparameters\n",
    "topic_model = BERTopic(umap_model=umap_model,\n",
    "                       embedding_model=sentence_model, \n",
    "                       hdbscan_model=hdbscan_model, \n",
    "                       vectorizer_model=vectorizer_model,\n",
    "                       ctfidf_model=ctfidf_model,\n",
    "                       diversity=None,\n",
    "                       verbose=True)\n",
    "\n",
    "topics, probabilities = topic_model.fit_transform(df_claim_30K['Lemmatized-Claim'])"
   ]
  },
  {
   "cell_type": "code",
   "execution_count": 12,
   "id": "1cbb3eca",
   "metadata": {},
   "outputs": [],
   "source": [
    "#evaluation"
   ]
  },
  {
   "cell_type": "code",
   "execution_count": 13,
   "id": "e941c873",
   "metadata": {},
   "outputs": [
    {
     "name": "stdout",
     "output_type": "stream",
     "text": [
      "c_npmi is:  0.025993540686161956\n"
     ]
    }
   ],
   "source": [
    "import gensim.corpora as corpora\n",
    "from gensim.models.coherencemodel import CoherenceModel\n",
    "\n",
    "documents = pd.DataFrame({\"Document\": df_claim_30K['Lemmatized-Claim'],\n",
    "                          \"ID\": range(len(df_claim_30K['Lemmatized-Claim'])),\n",
    "                          \"Topic\": topics})\n",
    "\n",
    "documents_per_topic = documents.groupby(['Topic'], as_index=False).agg({'Document': ' '.join})\n",
    "cleaned_docs = topic_model._preprocess_text(documents_per_topic.Document.values)\n",
    "\n",
    "# Extract vectorizer and analyzer from BERTopic\n",
    "vectorizer = topic_model.vectorizer_model\n",
    "analyzer = vectorizer.build_analyzer()\n",
    "\n",
    "# Extract features for Topic Coherence evaluation\n",
    "words = vectorizer.get_feature_names_out()\n",
    "tokens = [analyzer(doc) for doc in cleaned_docs]\n",
    "dictionary = corpora.Dictionary(tokens)\n",
    "corpus = [dictionary.doc2bow(token) for token in tokens]\n",
    "topic_words = [[words for words, _ in topic_model.get_topic(topic)] for topic in range(len(set(topics))-1)]\n",
    "\n",
    "\n",
    "# Evaluate\n",
    "coherence_model = CoherenceModel(topics=topic_words, \n",
    "                                 texts=tokens, \n",
    "                                 corpus=corpus,\n",
    "                                 dictionary=dictionary, \n",
    "                                 coherence='c_npmi')\n",
    "coherence_c_nmpi = coherence_model.get_coherence()\n",
    "print(\"c_npmi is: \",coherence_c_nmpi)"
   ]
  },
  {
   "cell_type": "code",
   "execution_count": 14,
   "id": "45844b5f",
   "metadata": {},
   "outputs": [
    {
     "name": "stdout",
     "output_type": "stream",
     "text": [
      "C_V is:  0.5592014471303033\n"
     ]
    }
   ],
   "source": [
    "import gensim.corpora as corpora\n",
    "from gensim.models.coherencemodel import CoherenceModel\n",
    "\n",
    "documents = pd.DataFrame({\"Document\": df_claim_30K['Lemmatized-Claim'],\n",
    "                          \"ID\": range(len(df_claim_30K['Lemmatized-Claim'])),\n",
    "                          \"Topic\": topics})\n",
    "documents_per_topic = documents.groupby(['Topic'], as_index=False).agg({'Document': ' '.join})\n",
    "cleaned_docs = topic_model._preprocess_text(documents_per_topic.Document.values)\n",
    "\n",
    "# Extract vectorizer and analyzer from BERTopic\n",
    "vectorizer = topic_model.vectorizer_model\n",
    "analyzer = vectorizer.build_analyzer()\n",
    "\n",
    "# Extract features for Topic Coherence evaluation\n",
    "words = vectorizer.get_feature_names_out()\n",
    "tokens = [analyzer(doc) for doc in cleaned_docs]\n",
    "dictionary = corpora.Dictionary(tokens)\n",
    "corpus = [dictionary.doc2bow(token) for token in tokens]\n",
    "topic_words = [[words for words, _ in topic_model.get_topic(topic)] \n",
    "               for topic in range(len(set(topics))-1)]\n",
    "\n",
    "# Evaluate\n",
    "coherence_model = CoherenceModel(topics=topic_words, \n",
    "                                 texts=tokens, \n",
    "                                 corpus=corpus,\n",
    "                                 dictionary=dictionary, \n",
    "                                 coherence='c_v')\n",
    "coherence_CV= coherence_model.get_coherence()\n",
    "print(\"C_V is: \", coherence_CV)"
   ]
  },
  {
   "cell_type": "code",
   "execution_count": 15,
   "id": "fd99c930",
   "metadata": {},
   "outputs": [
    {
     "name": "stdout",
     "output_type": "stream",
     "text": [
      "u_mass is:  -0.6048500228415797\n"
     ]
    }
   ],
   "source": [
    "import gensim.corpora as corpora\n",
    "from gensim.models.coherencemodel import CoherenceModel\n",
    "\n",
    "documents = pd.DataFrame({\"Document\": df_claim_30K['Lemmatized-Claim'],\n",
    "                          \"ID\": range(len(df_claim_30K['Lemmatized-Claim'])),\n",
    "                          \"Topic\": topics})\n",
    "documents_per_topic = documents.groupby(['Topic'], as_index=False).agg({'Document': ' '.join})\n",
    "cleaned_docs = topic_model._preprocess_text(documents_per_topic.Document.values)\n",
    "\n",
    "# Extract vectorizer and analyzer from BERTopic\n",
    "vectorizer = topic_model.vectorizer_model\n",
    "analyzer = vectorizer.build_analyzer()\n",
    "\n",
    "# Extract features for Topic Coherence evaluation\n",
    "words = vectorizer.get_feature_names_out()\n",
    "tokens = [analyzer(doc) for doc in cleaned_docs]\n",
    "dictionary = corpora.Dictionary(tokens)\n",
    "corpus = [dictionary.doc2bow(token) for token in tokens]\n",
    "topic_words = [[words for words, _ in topic_model.get_topic(topic)] \n",
    "               for topic in range(len(set(topics))-1)]\n",
    "\n",
    "# Evaluate\n",
    "coherence_model = CoherenceModel(topics=topic_words, \n",
    "                                 texts=tokens, \n",
    "                                 corpus=corpus,\n",
    "                                 dictionary=dictionary, \n",
    "                                 coherence='u_mass')\n",
    "coherence_u_mass= coherence_model.get_coherence()\n",
    "print(\"u_mass is: \", coherence_u_mass)"
   ]
  },
  {
   "cell_type": "code",
   "execution_count": 16,
   "id": "8028939e",
   "metadata": {},
   "outputs": [
    {
     "data": {
      "text/html": [
       "<div>\n",
       "<style scoped>\n",
       "    .dataframe tbody tr th:only-of-type {\n",
       "        vertical-align: middle;\n",
       "    }\n",
       "\n",
       "    .dataframe tbody tr th {\n",
       "        vertical-align: top;\n",
       "    }\n",
       "\n",
       "    .dataframe thead th {\n",
       "        text-align: right;\n",
       "    }\n",
       "</style>\n",
       "<table border=\"1\" class=\"dataframe\">\n",
       "  <thead>\n",
       "    <tr style=\"text-align: right;\">\n",
       "      <th></th>\n",
       "      <th>Topic</th>\n",
       "      <th>Count</th>\n",
       "      <th>Name</th>\n",
       "    </tr>\n",
       "  </thead>\n",
       "  <tbody>\n",
       "    <tr>\n",
       "      <th>0</th>\n",
       "      <td>-1</td>\n",
       "      <td>16500</td>\n",
       "      <td>-1_server_message_wireless_request</td>\n",
       "    </tr>\n",
       "    <tr>\n",
       "      <th>1</th>\n",
       "      <td>0</td>\n",
       "      <td>1186</td>\n",
       "      <td>0_pixel_color_imaging_printing</td>\n",
       "    </tr>\n",
       "    <tr>\n",
       "      <th>2</th>\n",
       "      <td>1</td>\n",
       "      <td>602</td>\n",
       "      <td>1_station_base station_radio_mobile</td>\n",
       "    </tr>\n",
       "    <tr>\n",
       "      <th>3</th>\n",
       "      <td>2</td>\n",
       "      <td>572</td>\n",
       "      <td>2_key_authentication_security_token</td>\n",
       "    </tr>\n",
       "    <tr>\n",
       "      <th>4</th>\n",
       "      <td>3</td>\n",
       "      <td>494</td>\n",
       "      <td>3_connector_plug_cable_housing</td>\n",
       "    </tr>\n",
       "    <tr>\n",
       "      <th>...</th>\n",
       "      <td>...</td>\n",
       "      <td>...</td>\n",
       "      <td>...</td>\n",
       "    </tr>\n",
       "    <tr>\n",
       "      <th>61</th>\n",
       "      <td>60</td>\n",
       "      <td>46</td>\n",
       "      <td>60_gas_etching_plasma_chamber</td>\n",
       "    </tr>\n",
       "    <tr>\n",
       "      <th>62</th>\n",
       "      <td>61</td>\n",
       "      <td>46</td>\n",
       "      <td>61_chip_wafer_adhesive_adhesive layer</td>\n",
       "    </tr>\n",
       "    <tr>\n",
       "      <th>63</th>\n",
       "      <td>62</td>\n",
       "      <td>46</td>\n",
       "      <td>62_interference_quality_wireless_noise</td>\n",
       "    </tr>\n",
       "    <tr>\n",
       "      <th>64</th>\n",
       "      <td>63</td>\n",
       "      <td>44</td>\n",
       "      <td>63_pixel_signal line_scan_panel</td>\n",
       "    </tr>\n",
       "    <tr>\n",
       "      <th>65</th>\n",
       "      <td>64</td>\n",
       "      <td>40</td>\n",
       "      <td>64_source electrode_drain electrode_gate elect...</td>\n",
       "    </tr>\n",
       "  </tbody>\n",
       "</table>\n",
       "<p>66 rows × 3 columns</p>\n",
       "</div>"
      ],
      "text/plain": [
       "    Topic  Count                                               Name\n",
       "0      -1  16500                 -1_server_message_wireless_request\n",
       "1       0   1186                     0_pixel_color_imaging_printing\n",
       "2       1    602                1_station_base station_radio_mobile\n",
       "3       2    572                2_key_authentication_security_token\n",
       "4       3    494                     3_connector_plug_cable_housing\n",
       "..    ...    ...                                                ...\n",
       "61     60     46                      60_gas_etching_plasma_chamber\n",
       "62     61     46              61_chip_wafer_adhesive_adhesive layer\n",
       "63     62     46             62_interference_quality_wireless_noise\n",
       "64     63     44                    63_pixel_signal line_scan_panel\n",
       "65     64     40  64_source electrode_drain electrode_gate elect...\n",
       "\n",
       "[66 rows x 3 columns]"
      ]
     },
     "execution_count": 16,
     "metadata": {},
     "output_type": "execute_result"
    }
   ],
   "source": [
    "topic_model.get_topic_info()"
   ]
  },
  {
   "cell_type": "code",
   "execution_count": 25,
   "id": "36073f42",
   "metadata": {},
   "outputs": [
    {
     "data": {
      "application/vnd.plotly.v1+json": {
       "config": {
        "plotlyServerURL": "https://plot.ly"
       },
       "data": [
        {
         "hoverinfo": "text",
         "marker": {
          "color": "rgb(61,153,112)"
         },
         "mode": "lines",
         "type": "scatter",
         "x": [
          0,
          0.932132562736502,
          0.932132562736502,
          0
         ],
         "xaxis": "x",
         "y": [
          -5,
          -5,
          -15,
          -15
         ],
         "yaxis": "y"
        },
        {
         "hoverinfo": "text",
         "marker": {
          "color": "rgb(0,116,217)"
         },
         "mode": "lines",
         "type": "scatter",
         "x": [
          0.932132562736502,
          1.0795359916037386,
          1.0795359916037386,
          0
         ],
         "xaxis": "x",
         "y": [
          -10,
          -10,
          -25,
          -25
         ],
         "yaxis": "y"
        },
        {
         "hoverinfo": "text",
         "marker": {
          "color": "rgb(0,116,217)"
         },
         "mode": "lines",
         "type": "scatter",
         "x": [
          0,
          1.0843358579082991,
          1.0843358579082991,
          0
         ],
         "xaxis": "x",
         "y": [
          -45,
          -45,
          -55,
          -55
         ],
         "yaxis": "y"
        },
        {
         "hoverinfo": "text",
         "marker": {
          "color": "rgb(0,116,217)"
         },
         "mode": "lines",
         "type": "scatter",
         "x": [
          0,
          1.3488106464501435,
          1.3488106464501435,
          1.0843358579082991
         ],
         "xaxis": "x",
         "y": [
          -35,
          -35,
          -50,
          -50
         ],
         "yaxis": "y"
        },
        {
         "hoverinfo": "text",
         "marker": {
          "color": "rgb(0,116,217)"
         },
         "mode": "lines",
         "type": "scatter",
         "x": [
          1.3488106464501435,
          1.401820648247107,
          1.401820648247107,
          0
         ],
         "xaxis": "x",
         "y": [
          -42.5,
          -42.5,
          -65,
          -65
         ],
         "yaxis": "y"
        },
        {
         "hoverinfo": "text",
         "marker": {
          "color": "rgb(0,116,217)"
         },
         "mode": "lines",
         "type": "scatter",
         "x": [
          1.0795359916037386,
          1.9119961123505267,
          1.9119961123505267,
          1.401820648247107
         ],
         "xaxis": "x",
         "y": [
          -17.5,
          -17.5,
          -53.75,
          -53.75
         ],
         "yaxis": "y"
        },
        {
         "hoverinfo": "text",
         "marker": {
          "color": "rgb(0,116,217)"
         },
         "mode": "lines",
         "type": "scatter",
         "x": [
          0,
          1.4317460672169122,
          1.4317460672169122,
          0
         ],
         "xaxis": "x",
         "y": [
          -75,
          -75,
          -85,
          -85
         ],
         "yaxis": "y"
        },
        {
         "hoverinfo": "text",
         "marker": {
          "color": "rgb(255,65,54)"
         },
         "mode": "lines",
         "type": "scatter",
         "x": [
          0,
          0.9327611851065127,
          0.9327611851065127,
          0
         ],
         "xaxis": "x",
         "y": [
          -105,
          -105,
          -115,
          -115
         ],
         "yaxis": "y"
        },
        {
         "hoverinfo": "text",
         "marker": {
          "color": "rgb(0,116,217)"
         },
         "mode": "lines",
         "type": "scatter",
         "x": [
          0,
          1.2277660451112287,
          1.2277660451112287,
          0.9327611851065127
         ],
         "xaxis": "x",
         "y": [
          -95,
          -95,
          -110,
          -110
         ],
         "yaxis": "y"
        },
        {
         "hoverinfo": "text",
         "marker": {
          "color": "rgb(0,116,217)"
         },
         "mode": "lines",
         "type": "scatter",
         "x": [
          1.4317460672169122,
          1.6364890673703891,
          1.6364890673703891,
          1.2277660451112287
         ],
         "xaxis": "x",
         "y": [
          -80,
          -80,
          -102.5,
          -102.5
         ],
         "yaxis": "y"
        },
        {
         "hoverinfo": "text",
         "marker": {
          "color": "rgb(35,205,205)"
         },
         "mode": "lines",
         "type": "scatter",
         "x": [
          0,
          0.9978920049772598,
          0.9978920049772598,
          0
         ],
         "xaxis": "x",
         "y": [
          -125,
          -125,
          -135,
          -135
         ],
         "yaxis": "y"
        },
        {
         "hoverinfo": "text",
         "marker": {
          "color": "rgb(133,20,75)"
         },
         "mode": "lines",
         "type": "scatter",
         "x": [
          0,
          0.7881143548928287,
          0.7881143548928287,
          0
         ],
         "xaxis": "x",
         "y": [
          -145,
          -145,
          -155,
          -155
         ],
         "yaxis": "y"
        },
        {
         "hoverinfo": "text",
         "marker": {
          "color": "rgb(0,116,217)"
         },
         "mode": "lines",
         "type": "scatter",
         "x": [
          0.9978920049772598,
          1.2417639141394283,
          1.2417639141394283,
          0.7881143548928287
         ],
         "xaxis": "x",
         "y": [
          -130,
          -130,
          -150,
          -150
         ],
         "yaxis": "y"
        },
        {
         "hoverinfo": "text",
         "marker": {
          "color": "rgb(0,116,217)"
         },
         "mode": "lines",
         "type": "scatter",
         "x": [
          1.6364890673703891,
          1.804033766634713,
          1.804033766634713,
          1.2417639141394283
         ],
         "xaxis": "x",
         "y": [
          -91.25,
          -91.25,
          -140,
          -140
         ],
         "yaxis": "y"
        },
        {
         "hoverinfo": "text",
         "marker": {
          "color": "rgb(0,116,217)"
         },
         "mode": "lines",
         "type": "scatter",
         "x": [
          1.9119961123505267,
          2.7773768296972827,
          2.7773768296972827,
          1.804033766634713
         ],
         "xaxis": "x",
         "y": [
          -35.625,
          -35.625,
          -115.625,
          -115.625
         ],
         "yaxis": "y"
        },
        {
         "hoverinfo": "text",
         "marker": {
          "color": "rgb(0,116,217)"
         },
         "mode": "lines",
         "type": "scatter",
         "x": [
          0,
          1.0144709511110002,
          1.0144709511110002,
          0
         ],
         "xaxis": "x",
         "y": [
          -175,
          -175,
          -185,
          -185
         ],
         "yaxis": "y"
        },
        {
         "hoverinfo": "text",
         "marker": {
          "color": "rgb(0,116,217)"
         },
         "mode": "lines",
         "type": "scatter",
         "x": [
          0,
          1.3505686868719575,
          1.3505686868719575,
          1.0144709511110002
         ],
         "xaxis": "x",
         "y": [
          -165,
          -165,
          -180,
          -180
         ],
         "yaxis": "y"
        },
        {
         "hoverinfo": "text",
         "marker": {
          "color": "rgb(255,220,0)"
         },
         "mode": "lines",
         "type": "scatter",
         "x": [
          0,
          0.7431594994579543,
          0.7431594994579543,
          0
         ],
         "xaxis": "x",
         "y": [
          -195,
          -195,
          -205,
          -205
         ],
         "yaxis": "y"
        },
        {
         "hoverinfo": "text",
         "marker": {
          "color": "rgb(0,116,217)"
         },
         "mode": "lines",
         "type": "scatter",
         "x": [
          0.7431594994579543,
          1.044385694573755,
          1.044385694573755,
          0
         ],
         "xaxis": "x",
         "y": [
          -200,
          -200,
          -215,
          -215
         ],
         "yaxis": "y"
        },
        {
         "hoverinfo": "text",
         "marker": {
          "color": "rgb(0,116,217)"
         },
         "mode": "lines",
         "type": "scatter",
         "x": [
          1.3505686868719575,
          1.722675244718996,
          1.722675244718996,
          1.044385694573755
         ],
         "xaxis": "x",
         "y": [
          -172.5,
          -172.5,
          -207.5,
          -207.5
         ],
         "yaxis": "y"
        },
        {
         "hoverinfo": "text",
         "marker": {
          "color": "rgb(0,116,217)"
         },
         "mode": "lines",
         "type": "scatter",
         "x": [
          0,
          1.3131890260131276,
          1.3131890260131276,
          0
         ],
         "xaxis": "x",
         "y": [
          -225,
          -225,
          -235,
          -235
         ],
         "yaxis": "y"
        },
        {
         "hoverinfo": "text",
         "marker": {
          "color": "rgb(0,116,217)"
         },
         "mode": "lines",
         "type": "scatter",
         "x": [
          0,
          1.3957658663038046,
          1.3957658663038046,
          0
         ],
         "xaxis": "x",
         "y": [
          -245,
          -245,
          -255,
          -255
         ],
         "yaxis": "y"
        },
        {
         "hoverinfo": "text",
         "marker": {
          "color": "rgb(0,116,217)"
         },
         "mode": "lines",
         "type": "scatter",
         "x": [
          1.3131890260131276,
          1.4615194657522408,
          1.4615194657522408,
          1.3957658663038046
         ],
         "xaxis": "x",
         "y": [
          -230,
          -230,
          -250,
          -250
         ],
         "yaxis": "y"
        },
        {
         "hoverinfo": "text",
         "marker": {
          "color": "rgb(0,116,217)"
         },
         "mode": "lines",
         "type": "scatter",
         "x": [
          0,
          1.07406033819919,
          1.07406033819919,
          0
         ],
         "xaxis": "x",
         "y": [
          -265,
          -265,
          -275,
          -275
         ],
         "yaxis": "y"
        },
        {
         "hoverinfo": "text",
         "marker": {
          "color": "rgb(40,35,35)"
         },
         "mode": "lines",
         "type": "scatter",
         "x": [
          0,
          0.9471338092016636,
          0.9471338092016636,
          0
         ],
         "xaxis": "x",
         "y": [
          -285,
          -285,
          -295,
          -295
         ],
         "yaxis": "y"
        },
        {
         "hoverinfo": "text",
         "marker": {
          "color": "rgb(0,116,217)"
         },
         "mode": "lines",
         "type": "scatter",
         "x": [
          0.9471338092016636,
          1.1044006504240735,
          1.1044006504240735,
          0
         ],
         "xaxis": "x",
         "y": [
          -290,
          -290,
          -305,
          -305
         ],
         "yaxis": "y"
        },
        {
         "hoverinfo": "text",
         "marker": {
          "color": "rgb(0,116,217)"
         },
         "mode": "lines",
         "type": "scatter",
         "x": [
          1.07406033819919,
          1.2438244980027224,
          1.2438244980027224,
          1.1044006504240735
         ],
         "xaxis": "x",
         "y": [
          -270,
          -270,
          -297.5,
          -297.5
         ],
         "yaxis": "y"
        },
        {
         "hoverinfo": "text",
         "marker": {
          "color": "rgb(0,116,217)"
         },
         "mode": "lines",
         "type": "scatter",
         "x": [
          1.4615194657522408,
          1.5171603918507333,
          1.5171603918507333,
          1.2438244980027224
         ],
         "xaxis": "x",
         "y": [
          -240,
          -240,
          -283.75,
          -283.75
         ],
         "yaxis": "y"
        },
        {
         "hoverinfo": "text",
         "marker": {
          "color": "rgb(0,116,217)"
         },
         "mode": "lines",
         "type": "scatter",
         "x": [
          0,
          1.2036823044126816,
          1.2036823044126816,
          0
         ],
         "xaxis": "x",
         "y": [
          -315,
          -315,
          -325,
          -325
         ],
         "yaxis": "y"
        },
        {
         "hoverinfo": "text",
         "marker": {
          "color": "rgb(0,116,217)"
         },
         "mode": "lines",
         "type": "scatter",
         "x": [
          1.2036823044126816,
          1.332253050085194,
          1.332253050085194,
          0
         ],
         "xaxis": "x",
         "y": [
          -320,
          -320,
          -335,
          -335
         ],
         "yaxis": "y"
        },
        {
         "hoverinfo": "text",
         "marker": {
          "color": "rgb(0,116,217)"
         },
         "mode": "lines",
         "type": "scatter",
         "x": [
          1.5171603918507333,
          1.7111454874143708,
          1.7111454874143708,
          1.332253050085194
         ],
         "xaxis": "x",
         "y": [
          -261.875,
          -261.875,
          -327.5,
          -327.5
         ],
         "yaxis": "y"
        },
        {
         "hoverinfo": "text",
         "marker": {
          "color": "rgb(0,116,217)"
         },
         "mode": "lines",
         "type": "scatter",
         "x": [
          1.722675244718996,
          2.445882741710989,
          2.445882741710989,
          1.7111454874143708
         ],
         "xaxis": "x",
         "y": [
          -190,
          -190,
          -294.6875,
          -294.6875
         ],
         "yaxis": "y"
        },
        {
         "hoverinfo": "text",
         "marker": {
          "color": "rgb(0,116,217)"
         },
         "mode": "lines",
         "type": "scatter",
         "x": [
          2.7773768296972827,
          3.3205482695082367,
          3.3205482695082367,
          2.445882741710989
         ],
         "xaxis": "x",
         "y": [
          -75.625,
          -75.625,
          -242.34375,
          -242.34375
         ],
         "yaxis": "y"
        },
        {
         "hoverinfo": "text",
         "marker": {
          "color": "rgb(61,153,112)"
         },
         "mode": "lines",
         "type": "scatter",
         "x": [
          0,
          0.5779306580533495,
          0.5779306580533495,
          0
         ],
         "xaxis": "x",
         "y": [
          -345,
          -345,
          -355,
          -355
         ],
         "yaxis": "y"
        },
        {
         "hoverinfo": "text",
         "marker": {
          "color": "rgb(0,116,217)"
         },
         "mode": "lines",
         "type": "scatter",
         "x": [
          0.5779306580533495,
          1.2764066754532937,
          1.2764066754532937,
          0
         ],
         "xaxis": "x",
         "y": [
          -350,
          -350,
          -365,
          -365
         ],
         "yaxis": "y"
        },
        {
         "hoverinfo": "text",
         "marker": {
          "color": "rgb(0,116,217)"
         },
         "mode": "lines",
         "type": "scatter",
         "x": [
          0,
          1.2131788175362856,
          1.2131788175362856,
          0
         ],
         "xaxis": "x",
         "y": [
          -375,
          -375,
          -385,
          -385
         ],
         "yaxis": "y"
        },
        {
         "hoverinfo": "text",
         "marker": {
          "color": "rgb(0,116,217)"
         },
         "mode": "lines",
         "type": "scatter",
         "x": [
          1.2131788175362856,
          1.4933263817720075,
          1.4933263817720075,
          0
         ],
         "xaxis": "x",
         "y": [
          -380,
          -380,
          -395,
          -395
         ],
         "yaxis": "y"
        },
        {
         "hoverinfo": "text",
         "marker": {
          "color": "rgb(0,116,217)"
         },
         "mode": "lines",
         "type": "scatter",
         "x": [
          1.2764066754532937,
          1.718792787401637,
          1.718792787401637,
          1.4933263817720075
         ],
         "xaxis": "x",
         "y": [
          -357.5,
          -357.5,
          -387.5,
          -387.5
         ],
         "yaxis": "y"
        },
        {
         "hoverinfo": "text",
         "marker": {
          "color": "rgb(255,65,54)"
         },
         "mode": "lines",
         "type": "scatter",
         "x": [
          0,
          0.6876957509715785,
          0.6876957509715785,
          0
         ],
         "xaxis": "x",
         "y": [
          -415,
          -415,
          -425,
          -425
         ],
         "yaxis": "y"
        },
        {
         "hoverinfo": "text",
         "marker": {
          "color": "rgb(255,65,54)"
         },
         "mode": "lines",
         "type": "scatter",
         "x": [
          0,
          0.8383396877123426,
          0.8383396877123426,
          0.6876957509715785
         ],
         "xaxis": "x",
         "y": [
          -405,
          -405,
          -420,
          -420
         ],
         "yaxis": "y"
        },
        {
         "hoverinfo": "text",
         "marker": {
          "color": "rgb(0,116,217)"
         },
         "mode": "lines",
         "type": "scatter",
         "x": [
          0,
          1.0391467071983072,
          1.0391467071983072,
          0
         ],
         "xaxis": "x",
         "y": [
          -435,
          -435,
          -445,
          -445
         ],
         "yaxis": "y"
        },
        {
         "hoverinfo": "text",
         "marker": {
          "color": "rgb(0,116,217)"
         },
         "mode": "lines",
         "type": "scatter",
         "x": [
          0.8383396877123426,
          1.259965429118151,
          1.259965429118151,
          1.0391467071983072
         ],
         "xaxis": "x",
         "y": [
          -412.5,
          -412.5,
          -440,
          -440
         ],
         "yaxis": "y"
        },
        {
         "hoverinfo": "text",
         "marker": {
          "color": "rgb(0,116,217)"
         },
         "mode": "lines",
         "type": "scatter",
         "x": [
          1.718792787401637,
          2.0884288741386743,
          2.0884288741386743,
          1.259965429118151
         ],
         "xaxis": "x",
         "y": [
          -372.5,
          -372.5,
          -426.25,
          -426.25
         ],
         "yaxis": "y"
        },
        {
         "hoverinfo": "text",
         "marker": {
          "color": "rgb(0,116,217)"
         },
         "mode": "lines",
         "type": "scatter",
         "x": [
          0,
          1.0602594299175998,
          1.0602594299175998,
          0
         ],
         "xaxis": "x",
         "y": [
          -455,
          -455,
          -465,
          -465
         ],
         "yaxis": "y"
        },
        {
         "hoverinfo": "text",
         "marker": {
          "color": "rgb(35,205,205)"
         },
         "mode": "lines",
         "type": "scatter",
         "x": [
          0,
          0.9248971901505361,
          0.9248971901505361,
          0
         ],
         "xaxis": "x",
         "y": [
          -475,
          -475,
          -485,
          -485
         ],
         "yaxis": "y"
        },
        {
         "hoverinfo": "text",
         "marker": {
          "color": "rgb(0,116,217)"
         },
         "mode": "lines",
         "type": "scatter",
         "x": [
          0.9248971901505361,
          1.1655416234109992,
          1.1655416234109992,
          0
         ],
         "xaxis": "x",
         "y": [
          -480,
          -480,
          -495,
          -495
         ],
         "yaxis": "y"
        },
        {
         "hoverinfo": "text",
         "marker": {
          "color": "rgb(0,116,217)"
         },
         "mode": "lines",
         "type": "scatter",
         "x": [
          1.0602594299175998,
          1.596057975875987,
          1.596057975875987,
          1.1655416234109992
         ],
         "xaxis": "x",
         "y": [
          -460,
          -460,
          -487.5,
          -487.5
         ],
         "yaxis": "y"
        },
        {
         "hoverinfo": "text",
         "marker": {
          "color": "rgb(0,116,217)"
         },
         "mode": "lines",
         "type": "scatter",
         "x": [
          2.0884288741386743,
          2.313367199730759,
          2.313367199730759,
          1.596057975875987
         ],
         "xaxis": "x",
         "y": [
          -399.375,
          -399.375,
          -473.75,
          -473.75
         ],
         "yaxis": "y"
        },
        {
         "hoverinfo": "text",
         "marker": {
          "color": "rgb(61,153,112)"
         },
         "mode": "lines",
         "type": "scatter",
         "x": [
          0,
          0.5509068538690247,
          0.5509068538690247,
          0
         ],
         "xaxis": "x",
         "y": [
          -505,
          -505,
          -515,
          -515
         ],
         "yaxis": "y"
        },
        {
         "hoverinfo": "text",
         "marker": {
          "color": "rgb(0,116,217)"
         },
         "mode": "lines",
         "type": "scatter",
         "x": [
          0.5509068538690247,
          1.2163684748159713,
          1.2163684748159713,
          0
         ],
         "xaxis": "x",
         "y": [
          -510,
          -510,
          -525,
          -525
         ],
         "yaxis": "y"
        },
        {
         "hoverinfo": "text",
         "marker": {
          "color": "rgb(255,65,54)"
         },
         "mode": "lines",
         "type": "scatter",
         "x": [
          0,
          0.8283245164822861,
          0.8283245164822861,
          0
         ],
         "xaxis": "x",
         "y": [
          -535,
          -535,
          -545,
          -545
         ],
         "yaxis": "y"
        },
        {
         "hoverinfo": "text",
         "marker": {
          "color": "rgb(35,205,205)"
         },
         "mode": "lines",
         "type": "scatter",
         "x": [
          0,
          0.6707528837954232,
          0.6707528837954232,
          0
         ],
         "xaxis": "x",
         "y": [
          -555,
          -555,
          -565,
          -565
         ],
         "yaxis": "y"
        },
        {
         "hoverinfo": "text",
         "marker": {
          "color": "rgb(0,116,217)"
         },
         "mode": "lines",
         "type": "scatter",
         "x": [
          0.8283245164822861,
          1.4116852948705096,
          1.4116852948705096,
          0.6707528837954232
         ],
         "xaxis": "x",
         "y": [
          -540,
          -540,
          -560,
          -560
         ],
         "yaxis": "y"
        },
        {
         "hoverinfo": "text",
         "marker": {
          "color": "rgb(0,116,217)"
         },
         "mode": "lines",
         "type": "scatter",
         "x": [
          1.2163684748159713,
          2.5541078706969826,
          2.5541078706969826,
          1.4116852948705096
         ],
         "xaxis": "x",
         "y": [
          -517.5,
          -517.5,
          -550,
          -550
         ],
         "yaxis": "y"
        },
        {
         "hoverinfo": "text",
         "marker": {
          "color": "rgb(133,20,75)"
         },
         "mode": "lines",
         "type": "scatter",
         "x": [
          0,
          0.991901177343117,
          0.991901177343117,
          0
         ],
         "xaxis": "x",
         "y": [
          -585,
          -585,
          -595,
          -595
         ],
         "yaxis": "y"
        },
        {
         "hoverinfo": "text",
         "marker": {
          "color": "rgb(255,220,0)"
         },
         "mode": "lines",
         "type": "scatter",
         "x": [
          0,
          0.7781461294687396,
          0.7781461294687396,
          0
         ],
         "xaxis": "x",
         "y": [
          -605,
          -605,
          -615,
          -615
         ],
         "yaxis": "y"
        },
        {
         "hoverinfo": "text",
         "marker": {
          "color": "rgb(0,116,217)"
         },
         "mode": "lines",
         "type": "scatter",
         "x": [
          0.7781461294687396,
          1.1368204553484134,
          1.1368204553484134,
          0
         ],
         "xaxis": "x",
         "y": [
          -610,
          -610,
          -625,
          -625
         ],
         "yaxis": "y"
        },
        {
         "hoverinfo": "text",
         "marker": {
          "color": "rgb(0,116,217)"
         },
         "mode": "lines",
         "type": "scatter",
         "x": [
          0.991901177343117,
          1.257064303906163,
          1.257064303906163,
          1.1368204553484134
         ],
         "xaxis": "x",
         "y": [
          -590,
          -590,
          -617.5,
          -617.5
         ],
         "yaxis": "y"
        },
        {
         "hoverinfo": "text",
         "marker": {
          "color": "rgb(0,116,217)"
         },
         "mode": "lines",
         "type": "scatter",
         "x": [
          0,
          1.2980083040237191,
          1.2980083040237191,
          1.257064303906163
         ],
         "xaxis": "x",
         "y": [
          -575,
          -575,
          -603.75,
          -603.75
         ],
         "yaxis": "y"
        },
        {
         "hoverinfo": "text",
         "marker": {
          "color": "rgb(40,35,35)"
         },
         "mode": "lines",
         "type": "scatter",
         "x": [
          0,
          0.9840265530483722,
          0.9840265530483722,
          0
         ],
         "xaxis": "x",
         "y": [
          -635,
          -635,
          -645,
          -645
         ],
         "yaxis": "y"
        },
        {
         "hoverinfo": "text",
         "marker": {
          "color": "rgb(0,116,217)"
         },
         "mode": "lines",
         "type": "scatter",
         "x": [
          1.2980083040237191,
          2.0012574224661854,
          2.0012574224661854,
          0.9840265530483722
         ],
         "xaxis": "x",
         "y": [
          -589.375,
          -589.375,
          -640,
          -640
         ],
         "yaxis": "y"
        },
        {
         "hoverinfo": "text",
         "marker": {
          "color": "rgb(0,116,217)"
         },
         "mode": "lines",
         "type": "scatter",
         "x": [
          2.5541078706969826,
          3.028227852445291,
          3.028227852445291,
          2.0012574224661854
         ],
         "xaxis": "x",
         "y": [
          -533.75,
          -533.75,
          -614.6875,
          -614.6875
         ],
         "yaxis": "y"
        },
        {
         "hoverinfo": "text",
         "marker": {
          "color": "rgb(0,116,217)"
         },
         "mode": "lines",
         "type": "scatter",
         "x": [
          2.313367199730759,
          3.6495438198636907,
          3.6495438198636907,
          3.028227852445291
         ],
         "xaxis": "x",
         "y": [
          -436.5625,
          -436.5625,
          -574.21875,
          -574.21875
         ],
         "yaxis": "y"
        },
        {
         "hoverinfo": "text",
         "marker": {
          "color": "rgb(0,116,217)"
         },
         "mode": "lines",
         "type": "scatter",
         "x": [
          3.3205482695082367,
          5.166204473167664,
          5.166204473167664,
          3.6495438198636907
         ],
         "xaxis": "x",
         "y": [
          -158.984375,
          -158.984375,
          -505.390625,
          -505.390625
         ],
         "yaxis": "y"
        }
       ],
       "layout": {
        "autosize": false,
        "height": 1175,
        "hoverlabel": {
         "bgcolor": "white",
         "font": {
          "family": "Rockwell",
          "size": 16
         }
        },
        "hovermode": "closest",
        "plot_bgcolor": "#ECEFF1",
        "showlegend": false,
        "template": {
         "data": {
          "bar": [
           {
            "error_x": {
             "color": "#2a3f5f"
            },
            "error_y": {
             "color": "#2a3f5f"
            },
            "marker": {
             "line": {
              "color": "white",
              "width": 0.5
             },
             "pattern": {
              "fillmode": "overlay",
              "size": 10,
              "solidity": 0.2
             }
            },
            "type": "bar"
           }
          ],
          "barpolar": [
           {
            "marker": {
             "line": {
              "color": "white",
              "width": 0.5
             },
             "pattern": {
              "fillmode": "overlay",
              "size": 10,
              "solidity": 0.2
             }
            },
            "type": "barpolar"
           }
          ],
          "carpet": [
           {
            "aaxis": {
             "endlinecolor": "#2a3f5f",
             "gridcolor": "#C8D4E3",
             "linecolor": "#C8D4E3",
             "minorgridcolor": "#C8D4E3",
             "startlinecolor": "#2a3f5f"
            },
            "baxis": {
             "endlinecolor": "#2a3f5f",
             "gridcolor": "#C8D4E3",
             "linecolor": "#C8D4E3",
             "minorgridcolor": "#C8D4E3",
             "startlinecolor": "#2a3f5f"
            },
            "type": "carpet"
           }
          ],
          "choropleth": [
           {
            "colorbar": {
             "outlinewidth": 0,
             "ticks": ""
            },
            "type": "choropleth"
           }
          ],
          "contour": [
           {
            "colorbar": {
             "outlinewidth": 0,
             "ticks": ""
            },
            "colorscale": [
             [
              0,
              "#0d0887"
             ],
             [
              0.1111111111111111,
              "#46039f"
             ],
             [
              0.2222222222222222,
              "#7201a8"
             ],
             [
              0.3333333333333333,
              "#9c179e"
             ],
             [
              0.4444444444444444,
              "#bd3786"
             ],
             [
              0.5555555555555556,
              "#d8576b"
             ],
             [
              0.6666666666666666,
              "#ed7953"
             ],
             [
              0.7777777777777778,
              "#fb9f3a"
             ],
             [
              0.8888888888888888,
              "#fdca26"
             ],
             [
              1,
              "#f0f921"
             ]
            ],
            "type": "contour"
           }
          ],
          "contourcarpet": [
           {
            "colorbar": {
             "outlinewidth": 0,
             "ticks": ""
            },
            "type": "contourcarpet"
           }
          ],
          "heatmap": [
           {
            "colorbar": {
             "outlinewidth": 0,
             "ticks": ""
            },
            "colorscale": [
             [
              0,
              "#0d0887"
             ],
             [
              0.1111111111111111,
              "#46039f"
             ],
             [
              0.2222222222222222,
              "#7201a8"
             ],
             [
              0.3333333333333333,
              "#9c179e"
             ],
             [
              0.4444444444444444,
              "#bd3786"
             ],
             [
              0.5555555555555556,
              "#d8576b"
             ],
             [
              0.6666666666666666,
              "#ed7953"
             ],
             [
              0.7777777777777778,
              "#fb9f3a"
             ],
             [
              0.8888888888888888,
              "#fdca26"
             ],
             [
              1,
              "#f0f921"
             ]
            ],
            "type": "heatmap"
           }
          ],
          "heatmapgl": [
           {
            "colorbar": {
             "outlinewidth": 0,
             "ticks": ""
            },
            "colorscale": [
             [
              0,
              "#0d0887"
             ],
             [
              0.1111111111111111,
              "#46039f"
             ],
             [
              0.2222222222222222,
              "#7201a8"
             ],
             [
              0.3333333333333333,
              "#9c179e"
             ],
             [
              0.4444444444444444,
              "#bd3786"
             ],
             [
              0.5555555555555556,
              "#d8576b"
             ],
             [
              0.6666666666666666,
              "#ed7953"
             ],
             [
              0.7777777777777778,
              "#fb9f3a"
             ],
             [
              0.8888888888888888,
              "#fdca26"
             ],
             [
              1,
              "#f0f921"
             ]
            ],
            "type": "heatmapgl"
           }
          ],
          "histogram": [
           {
            "marker": {
             "pattern": {
              "fillmode": "overlay",
              "size": 10,
              "solidity": 0.2
             }
            },
            "type": "histogram"
           }
          ],
          "histogram2d": [
           {
            "colorbar": {
             "outlinewidth": 0,
             "ticks": ""
            },
            "colorscale": [
             [
              0,
              "#0d0887"
             ],
             [
              0.1111111111111111,
              "#46039f"
             ],
             [
              0.2222222222222222,
              "#7201a8"
             ],
             [
              0.3333333333333333,
              "#9c179e"
             ],
             [
              0.4444444444444444,
              "#bd3786"
             ],
             [
              0.5555555555555556,
              "#d8576b"
             ],
             [
              0.6666666666666666,
              "#ed7953"
             ],
             [
              0.7777777777777778,
              "#fb9f3a"
             ],
             [
              0.8888888888888888,
              "#fdca26"
             ],
             [
              1,
              "#f0f921"
             ]
            ],
            "type": "histogram2d"
           }
          ],
          "histogram2dcontour": [
           {
            "colorbar": {
             "outlinewidth": 0,
             "ticks": ""
            },
            "colorscale": [
             [
              0,
              "#0d0887"
             ],
             [
              0.1111111111111111,
              "#46039f"
             ],
             [
              0.2222222222222222,
              "#7201a8"
             ],
             [
              0.3333333333333333,
              "#9c179e"
             ],
             [
              0.4444444444444444,
              "#bd3786"
             ],
             [
              0.5555555555555556,
              "#d8576b"
             ],
             [
              0.6666666666666666,
              "#ed7953"
             ],
             [
              0.7777777777777778,
              "#fb9f3a"
             ],
             [
              0.8888888888888888,
              "#fdca26"
             ],
             [
              1,
              "#f0f921"
             ]
            ],
            "type": "histogram2dcontour"
           }
          ],
          "mesh3d": [
           {
            "colorbar": {
             "outlinewidth": 0,
             "ticks": ""
            },
            "type": "mesh3d"
           }
          ],
          "parcoords": [
           {
            "line": {
             "colorbar": {
              "outlinewidth": 0,
              "ticks": ""
             }
            },
            "type": "parcoords"
           }
          ],
          "pie": [
           {
            "automargin": true,
            "type": "pie"
           }
          ],
          "scatter": [
           {
            "fillpattern": {
             "fillmode": "overlay",
             "size": 10,
             "solidity": 0.2
            },
            "type": "scatter"
           }
          ],
          "scatter3d": [
           {
            "line": {
             "colorbar": {
              "outlinewidth": 0,
              "ticks": ""
             }
            },
            "marker": {
             "colorbar": {
              "outlinewidth": 0,
              "ticks": ""
             }
            },
            "type": "scatter3d"
           }
          ],
          "scattercarpet": [
           {
            "marker": {
             "colorbar": {
              "outlinewidth": 0,
              "ticks": ""
             }
            },
            "type": "scattercarpet"
           }
          ],
          "scattergeo": [
           {
            "marker": {
             "colorbar": {
              "outlinewidth": 0,
              "ticks": ""
             }
            },
            "type": "scattergeo"
           }
          ],
          "scattergl": [
           {
            "marker": {
             "colorbar": {
              "outlinewidth": 0,
              "ticks": ""
             }
            },
            "type": "scattergl"
           }
          ],
          "scattermapbox": [
           {
            "marker": {
             "colorbar": {
              "outlinewidth": 0,
              "ticks": ""
             }
            },
            "type": "scattermapbox"
           }
          ],
          "scatterpolar": [
           {
            "marker": {
             "colorbar": {
              "outlinewidth": 0,
              "ticks": ""
             }
            },
            "type": "scatterpolar"
           }
          ],
          "scatterpolargl": [
           {
            "marker": {
             "colorbar": {
              "outlinewidth": 0,
              "ticks": ""
             }
            },
            "type": "scatterpolargl"
           }
          ],
          "scatterternary": [
           {
            "marker": {
             "colorbar": {
              "outlinewidth": 0,
              "ticks": ""
             }
            },
            "type": "scatterternary"
           }
          ],
          "surface": [
           {
            "colorbar": {
             "outlinewidth": 0,
             "ticks": ""
            },
            "colorscale": [
             [
              0,
              "#0d0887"
             ],
             [
              0.1111111111111111,
              "#46039f"
             ],
             [
              0.2222222222222222,
              "#7201a8"
             ],
             [
              0.3333333333333333,
              "#9c179e"
             ],
             [
              0.4444444444444444,
              "#bd3786"
             ],
             [
              0.5555555555555556,
              "#d8576b"
             ],
             [
              0.6666666666666666,
              "#ed7953"
             ],
             [
              0.7777777777777778,
              "#fb9f3a"
             ],
             [
              0.8888888888888888,
              "#fdca26"
             ],
             [
              1,
              "#f0f921"
             ]
            ],
            "type": "surface"
           }
          ],
          "table": [
           {
            "cells": {
             "fill": {
              "color": "#EBF0F8"
             },
             "line": {
              "color": "white"
             }
            },
            "header": {
             "fill": {
              "color": "#C8D4E3"
             },
             "line": {
              "color": "white"
             }
            },
            "type": "table"
           }
          ]
         },
         "layout": {
          "annotationdefaults": {
           "arrowcolor": "#2a3f5f",
           "arrowhead": 0,
           "arrowwidth": 1
          },
          "autotypenumbers": "strict",
          "coloraxis": {
           "colorbar": {
            "outlinewidth": 0,
            "ticks": ""
           }
          },
          "colorscale": {
           "diverging": [
            [
             0,
             "#8e0152"
            ],
            [
             0.1,
             "#c51b7d"
            ],
            [
             0.2,
             "#de77ae"
            ],
            [
             0.3,
             "#f1b6da"
            ],
            [
             0.4,
             "#fde0ef"
            ],
            [
             0.5,
             "#f7f7f7"
            ],
            [
             0.6,
             "#e6f5d0"
            ],
            [
             0.7,
             "#b8e186"
            ],
            [
             0.8,
             "#7fbc41"
            ],
            [
             0.9,
             "#4d9221"
            ],
            [
             1,
             "#276419"
            ]
           ],
           "sequential": [
            [
             0,
             "#0d0887"
            ],
            [
             0.1111111111111111,
             "#46039f"
            ],
            [
             0.2222222222222222,
             "#7201a8"
            ],
            [
             0.3333333333333333,
             "#9c179e"
            ],
            [
             0.4444444444444444,
             "#bd3786"
            ],
            [
             0.5555555555555556,
             "#d8576b"
            ],
            [
             0.6666666666666666,
             "#ed7953"
            ],
            [
             0.7777777777777778,
             "#fb9f3a"
            ],
            [
             0.8888888888888888,
             "#fdca26"
            ],
            [
             1,
             "#f0f921"
            ]
           ],
           "sequentialminus": [
            [
             0,
             "#0d0887"
            ],
            [
             0.1111111111111111,
             "#46039f"
            ],
            [
             0.2222222222222222,
             "#7201a8"
            ],
            [
             0.3333333333333333,
             "#9c179e"
            ],
            [
             0.4444444444444444,
             "#bd3786"
            ],
            [
             0.5555555555555556,
             "#d8576b"
            ],
            [
             0.6666666666666666,
             "#ed7953"
            ],
            [
             0.7777777777777778,
             "#fb9f3a"
            ],
            [
             0.8888888888888888,
             "#fdca26"
            ],
            [
             1,
             "#f0f921"
            ]
           ]
          },
          "colorway": [
           "#636efa",
           "#EF553B",
           "#00cc96",
           "#ab63fa",
           "#FFA15A",
           "#19d3f3",
           "#FF6692",
           "#B6E880",
           "#FF97FF",
           "#FECB52"
          ],
          "font": {
           "color": "#2a3f5f"
          },
          "geo": {
           "bgcolor": "white",
           "lakecolor": "white",
           "landcolor": "white",
           "showlakes": true,
           "showland": true,
           "subunitcolor": "#C8D4E3"
          },
          "hoverlabel": {
           "align": "left"
          },
          "hovermode": "closest",
          "mapbox": {
           "style": "light"
          },
          "paper_bgcolor": "white",
          "plot_bgcolor": "white",
          "polar": {
           "angularaxis": {
            "gridcolor": "#EBF0F8",
            "linecolor": "#EBF0F8",
            "ticks": ""
           },
           "bgcolor": "white",
           "radialaxis": {
            "gridcolor": "#EBF0F8",
            "linecolor": "#EBF0F8",
            "ticks": ""
           }
          },
          "scene": {
           "xaxis": {
            "backgroundcolor": "white",
            "gridcolor": "#DFE8F3",
            "gridwidth": 2,
            "linecolor": "#EBF0F8",
            "showbackground": true,
            "ticks": "",
            "zerolinecolor": "#EBF0F8"
           },
           "yaxis": {
            "backgroundcolor": "white",
            "gridcolor": "#DFE8F3",
            "gridwidth": 2,
            "linecolor": "#EBF0F8",
            "showbackground": true,
            "ticks": "",
            "zerolinecolor": "#EBF0F8"
           },
           "zaxis": {
            "backgroundcolor": "white",
            "gridcolor": "#DFE8F3",
            "gridwidth": 2,
            "linecolor": "#EBF0F8",
            "showbackground": true,
            "ticks": "",
            "zerolinecolor": "#EBF0F8"
           }
          },
          "shapedefaults": {
           "line": {
            "color": "#2a3f5f"
           }
          },
          "ternary": {
           "aaxis": {
            "gridcolor": "#DFE8F3",
            "linecolor": "#A2B1C6",
            "ticks": ""
           },
           "baxis": {
            "gridcolor": "#DFE8F3",
            "linecolor": "#A2B1C6",
            "ticks": ""
           },
           "bgcolor": "white",
           "caxis": {
            "gridcolor": "#DFE8F3",
            "linecolor": "#A2B1C6",
            "ticks": ""
           }
          },
          "title": {
           "x": 0.05
          },
          "xaxis": {
           "automargin": true,
           "gridcolor": "#EBF0F8",
           "linecolor": "#EBF0F8",
           "ticks": "",
           "title": {
            "standoff": 15
           },
           "zerolinecolor": "#EBF0F8",
           "zerolinewidth": 2
          },
          "yaxis": {
           "automargin": true,
           "gridcolor": "#EBF0F8",
           "linecolor": "#EBF0F8",
           "ticks": "",
           "title": {
            "standoff": 15
           },
           "zerolinecolor": "#EBF0F8",
           "zerolinewidth": 2
          }
         }
        },
        "title": {
         "font": {
          "color": "Black",
          "size": 22
         },
         "text": "<b>Hierarchical Clustering",
         "x": 0.5,
         "xanchor": "center",
         "yanchor": "top"
        },
        "width": 1000,
        "xaxis": {
         "mirror": "allticks",
         "rangemode": "tozero",
         "showgrid": false,
         "showline": true,
         "showticklabels": true,
         "ticks": "outside",
         "type": "linear",
         "zeroline": false
        },
        "yaxis": {
         "mirror": "allticks",
         "range": [
          -650,
          0
         ],
         "rangemode": "tozero",
         "showgrid": false,
         "showline": true,
         "showticklabels": true,
         "tickmode": "array",
         "ticks": "outside",
         "ticktext": [
          "63_pixel_signal line_scan",
          "59_panel_view_pixel",
          "0_pixel_color_imaging",
          "38_reading_sheet_lens",
          "52_projection_light source_...",
          "9_optical_laser_wavelength",
          "22_ion_beam_electron",
          "27_sound_audio_noise",
          "34_motor_winding_command",
          "11_led_lighting_light source",
          "15_converter_output voltage...",
          "18_transistor_amplifier_sec...",
          "23_clock_clock signal_delay",
          "44_analog_converter_digital",
          "36_amplifier_rf_input signal",
          "45_digital_rf_complex",
          "13_antenna_radiating_ground",
          "32_symbol_antenna_modulation",
          "62_interference_quality_wir...",
          "16_user equipment_equipment...",
          "1_station_base station_radio",
          "46_wireless_mobile_access p...",
          "42_touch_screen_item",
          "48_vehicle_mobile_character...",
          "14_instruction_processor me...",
          "58_slave_relay_clock",
          "5_packet_virtual_routing",
          "10_call_telephone_phone",
          "54_video_stream_server",
          "2_key_authentication_security",
          "41_first user_item_search",
          "8_video_motion_prediction",
          "40_error_bit_check",
          "57_attribute_repetition_table",
          "61_chip_wafer_adhesive",
          "19_chip_semiconductor chip_...",
          "50_insulation layer_insulat...",
          "49_vibration_resonator_arm",
          "56_ceramic_capacitor_dielec...",
          "55_fin_dielectric_isolation",
          "4_word_nonvolatile_resistive",
          "7_conductivity type_conduct...",
          "6_trench_mask_sidewall",
          "35_emitter_doped_electrode ...",
          "28_photoelectric_solidstate...",
          "64_source electrode_drain e...",
          "31_pixel_liquid crystal_cry...",
          "17_light emitting_emitting_...",
          "37_organic_emitting_light e...",
          "43_organic_lightemitting_atom",
          "39_formula_atom_represented",
          "33_formula_composition_comp...",
          "24_negative electrode_elect...",
          "51_anode_gas_cathode",
          "47_gas_water_hydrogen",
          "60_gas_etching_plasma",
          "25_chamber_plasma_gas",
          "26_heat_cooling_air",
          "30_sound_housing_vibration",
          "12_magnet_shaft_motor",
          "29_sliding_rack_slide",
          "3_connector_plug_cable",
          "53_panel_bracket_sheet",
          "20_battery_negative electro...",
          "21_battery_charging_vehicle"
         ],
         "tickvals": [
          -5,
          -15,
          -25,
          -35,
          -45,
          -55,
          -65,
          -75,
          -85,
          -95,
          -105,
          -115,
          -125,
          -135,
          -145,
          -155,
          -165,
          -175,
          -185,
          -195,
          -205,
          -215,
          -225,
          -235,
          -245,
          -255,
          -265,
          -275,
          -285,
          -295,
          -305,
          -315,
          -325,
          -335,
          -345,
          -355,
          -365,
          -375,
          -385,
          -395,
          -405,
          -415,
          -425,
          -435,
          -445,
          -455,
          -465,
          -475,
          -485,
          -495,
          -505,
          -515,
          -525,
          -535,
          -545,
          -555,
          -565,
          -575,
          -585,
          -595,
          -605,
          -615,
          -625,
          -635,
          -645
         ],
         "type": "linear",
         "zeroline": false
        }
       }
      },
      "text/html": [
       "<div>                            <div id=\"6b0e2c8f-d967-41b7-8b12-6383f787f6e0\" class=\"plotly-graph-div\" style=\"height:1175px; width:1000px;\"></div>            <script type=\"text/javascript\">                require([\"plotly\"], function(Plotly) {                    window.PLOTLYENV=window.PLOTLYENV || {};                                    if (document.getElementById(\"6b0e2c8f-d967-41b7-8b12-6383f787f6e0\")) {                    Plotly.newPlot(                        \"6b0e2c8f-d967-41b7-8b12-6383f787f6e0\",                        [{\"hoverinfo\":\"text\",\"marker\":{\"color\":\"rgb(61,153,112)\"},\"mode\":\"lines\",\"x\":[0.0,0.932132562736502,0.932132562736502,0.0],\"xaxis\":\"x\",\"y\":[-5.0,-5.0,-15.0,-15.0],\"yaxis\":\"y\",\"type\":\"scatter\"},{\"hoverinfo\":\"text\",\"marker\":{\"color\":\"rgb(0,116,217)\"},\"mode\":\"lines\",\"x\":[0.932132562736502,1.0795359916037386,1.0795359916037386,0.0],\"xaxis\":\"x\",\"y\":[-10.0,-10.0,-25.0,-25.0],\"yaxis\":\"y\",\"type\":\"scatter\"},{\"hoverinfo\":\"text\",\"marker\":{\"color\":\"rgb(0,116,217)\"},\"mode\":\"lines\",\"x\":[0.0,1.0843358579082991,1.0843358579082991,0.0],\"xaxis\":\"x\",\"y\":[-45.0,-45.0,-55.0,-55.0],\"yaxis\":\"y\",\"type\":\"scatter\"},{\"hoverinfo\":\"text\",\"marker\":{\"color\":\"rgb(0,116,217)\"},\"mode\":\"lines\",\"x\":[0.0,1.3488106464501435,1.3488106464501435,1.0843358579082991],\"xaxis\":\"x\",\"y\":[-35.0,-35.0,-50.0,-50.0],\"yaxis\":\"y\",\"type\":\"scatter\"},{\"hoverinfo\":\"text\",\"marker\":{\"color\":\"rgb(0,116,217)\"},\"mode\":\"lines\",\"x\":[1.3488106464501435,1.401820648247107,1.401820648247107,0.0],\"xaxis\":\"x\",\"y\":[-42.5,-42.5,-65.0,-65.0],\"yaxis\":\"y\",\"type\":\"scatter\"},{\"hoverinfo\":\"text\",\"marker\":{\"color\":\"rgb(0,116,217)\"},\"mode\":\"lines\",\"x\":[1.0795359916037386,1.9119961123505267,1.9119961123505267,1.401820648247107],\"xaxis\":\"x\",\"y\":[-17.5,-17.5,-53.75,-53.75],\"yaxis\":\"y\",\"type\":\"scatter\"},{\"hoverinfo\":\"text\",\"marker\":{\"color\":\"rgb(0,116,217)\"},\"mode\":\"lines\",\"x\":[0.0,1.4317460672169122,1.4317460672169122,0.0],\"xaxis\":\"x\",\"y\":[-75.0,-75.0,-85.0,-85.0],\"yaxis\":\"y\",\"type\":\"scatter\"},{\"hoverinfo\":\"text\",\"marker\":{\"color\":\"rgb(255,65,54)\"},\"mode\":\"lines\",\"x\":[0.0,0.9327611851065127,0.9327611851065127,0.0],\"xaxis\":\"x\",\"y\":[-105.0,-105.0,-115.0,-115.0],\"yaxis\":\"y\",\"type\":\"scatter\"},{\"hoverinfo\":\"text\",\"marker\":{\"color\":\"rgb(0,116,217)\"},\"mode\":\"lines\",\"x\":[0.0,1.2277660451112287,1.2277660451112287,0.9327611851065127],\"xaxis\":\"x\",\"y\":[-95.0,-95.0,-110.0,-110.0],\"yaxis\":\"y\",\"type\":\"scatter\"},{\"hoverinfo\":\"text\",\"marker\":{\"color\":\"rgb(0,116,217)\"},\"mode\":\"lines\",\"x\":[1.4317460672169122,1.6364890673703891,1.6364890673703891,1.2277660451112287],\"xaxis\":\"x\",\"y\":[-80.0,-80.0,-102.5,-102.5],\"yaxis\":\"y\",\"type\":\"scatter\"},{\"hoverinfo\":\"text\",\"marker\":{\"color\":\"rgb(35,205,205)\"},\"mode\":\"lines\",\"x\":[0.0,0.9978920049772598,0.9978920049772598,0.0],\"xaxis\":\"x\",\"y\":[-125.0,-125.0,-135.0,-135.0],\"yaxis\":\"y\",\"type\":\"scatter\"},{\"hoverinfo\":\"text\",\"marker\":{\"color\":\"rgb(133,20,75)\"},\"mode\":\"lines\",\"x\":[0.0,0.7881143548928287,0.7881143548928287,0.0],\"xaxis\":\"x\",\"y\":[-145.0,-145.0,-155.0,-155.0],\"yaxis\":\"y\",\"type\":\"scatter\"},{\"hoverinfo\":\"text\",\"marker\":{\"color\":\"rgb(0,116,217)\"},\"mode\":\"lines\",\"x\":[0.9978920049772598,1.2417639141394283,1.2417639141394283,0.7881143548928287],\"xaxis\":\"x\",\"y\":[-130.0,-130.0,-150.0,-150.0],\"yaxis\":\"y\",\"type\":\"scatter\"},{\"hoverinfo\":\"text\",\"marker\":{\"color\":\"rgb(0,116,217)\"},\"mode\":\"lines\",\"x\":[1.6364890673703891,1.804033766634713,1.804033766634713,1.2417639141394283],\"xaxis\":\"x\",\"y\":[-91.25,-91.25,-140.0,-140.0],\"yaxis\":\"y\",\"type\":\"scatter\"},{\"hoverinfo\":\"text\",\"marker\":{\"color\":\"rgb(0,116,217)\"},\"mode\":\"lines\",\"x\":[1.9119961123505267,2.7773768296972827,2.7773768296972827,1.804033766634713],\"xaxis\":\"x\",\"y\":[-35.625,-35.625,-115.625,-115.625],\"yaxis\":\"y\",\"type\":\"scatter\"},{\"hoverinfo\":\"text\",\"marker\":{\"color\":\"rgb(0,116,217)\"},\"mode\":\"lines\",\"x\":[0.0,1.0144709511110002,1.0144709511110002,0.0],\"xaxis\":\"x\",\"y\":[-175.0,-175.0,-185.0,-185.0],\"yaxis\":\"y\",\"type\":\"scatter\"},{\"hoverinfo\":\"text\",\"marker\":{\"color\":\"rgb(0,116,217)\"},\"mode\":\"lines\",\"x\":[0.0,1.3505686868719575,1.3505686868719575,1.0144709511110002],\"xaxis\":\"x\",\"y\":[-165.0,-165.0,-180.0,-180.0],\"yaxis\":\"y\",\"type\":\"scatter\"},{\"hoverinfo\":\"text\",\"marker\":{\"color\":\"rgb(255,220,0)\"},\"mode\":\"lines\",\"x\":[0.0,0.7431594994579543,0.7431594994579543,0.0],\"xaxis\":\"x\",\"y\":[-195.0,-195.0,-205.0,-205.0],\"yaxis\":\"y\",\"type\":\"scatter\"},{\"hoverinfo\":\"text\",\"marker\":{\"color\":\"rgb(0,116,217)\"},\"mode\":\"lines\",\"x\":[0.7431594994579543,1.044385694573755,1.044385694573755,0.0],\"xaxis\":\"x\",\"y\":[-200.0,-200.0,-215.0,-215.0],\"yaxis\":\"y\",\"type\":\"scatter\"},{\"hoverinfo\":\"text\",\"marker\":{\"color\":\"rgb(0,116,217)\"},\"mode\":\"lines\",\"x\":[1.3505686868719575,1.722675244718996,1.722675244718996,1.044385694573755],\"xaxis\":\"x\",\"y\":[-172.5,-172.5,-207.5,-207.5],\"yaxis\":\"y\",\"type\":\"scatter\"},{\"hoverinfo\":\"text\",\"marker\":{\"color\":\"rgb(0,116,217)\"},\"mode\":\"lines\",\"x\":[0.0,1.3131890260131276,1.3131890260131276,0.0],\"xaxis\":\"x\",\"y\":[-225.0,-225.0,-235.0,-235.0],\"yaxis\":\"y\",\"type\":\"scatter\"},{\"hoverinfo\":\"text\",\"marker\":{\"color\":\"rgb(0,116,217)\"},\"mode\":\"lines\",\"x\":[0.0,1.3957658663038046,1.3957658663038046,0.0],\"xaxis\":\"x\",\"y\":[-245.0,-245.0,-255.0,-255.0],\"yaxis\":\"y\",\"type\":\"scatter\"},{\"hoverinfo\":\"text\",\"marker\":{\"color\":\"rgb(0,116,217)\"},\"mode\":\"lines\",\"x\":[1.3131890260131276,1.4615194657522408,1.4615194657522408,1.3957658663038046],\"xaxis\":\"x\",\"y\":[-230.0,-230.0,-250.0,-250.0],\"yaxis\":\"y\",\"type\":\"scatter\"},{\"hoverinfo\":\"text\",\"marker\":{\"color\":\"rgb(0,116,217)\"},\"mode\":\"lines\",\"x\":[0.0,1.07406033819919,1.07406033819919,0.0],\"xaxis\":\"x\",\"y\":[-265.0,-265.0,-275.0,-275.0],\"yaxis\":\"y\",\"type\":\"scatter\"},{\"hoverinfo\":\"text\",\"marker\":{\"color\":\"rgb(40,35,35)\"},\"mode\":\"lines\",\"x\":[0.0,0.9471338092016636,0.9471338092016636,0.0],\"xaxis\":\"x\",\"y\":[-285.0,-285.0,-295.0,-295.0],\"yaxis\":\"y\",\"type\":\"scatter\"},{\"hoverinfo\":\"text\",\"marker\":{\"color\":\"rgb(0,116,217)\"},\"mode\":\"lines\",\"x\":[0.9471338092016636,1.1044006504240735,1.1044006504240735,0.0],\"xaxis\":\"x\",\"y\":[-290.0,-290.0,-305.0,-305.0],\"yaxis\":\"y\",\"type\":\"scatter\"},{\"hoverinfo\":\"text\",\"marker\":{\"color\":\"rgb(0,116,217)\"},\"mode\":\"lines\",\"x\":[1.07406033819919,1.2438244980027224,1.2438244980027224,1.1044006504240735],\"xaxis\":\"x\",\"y\":[-270.0,-270.0,-297.5,-297.5],\"yaxis\":\"y\",\"type\":\"scatter\"},{\"hoverinfo\":\"text\",\"marker\":{\"color\":\"rgb(0,116,217)\"},\"mode\":\"lines\",\"x\":[1.4615194657522408,1.5171603918507333,1.5171603918507333,1.2438244980027224],\"xaxis\":\"x\",\"y\":[-240.0,-240.0,-283.75,-283.75],\"yaxis\":\"y\",\"type\":\"scatter\"},{\"hoverinfo\":\"text\",\"marker\":{\"color\":\"rgb(0,116,217)\"},\"mode\":\"lines\",\"x\":[0.0,1.2036823044126816,1.2036823044126816,0.0],\"xaxis\":\"x\",\"y\":[-315.0,-315.0,-325.0,-325.0],\"yaxis\":\"y\",\"type\":\"scatter\"},{\"hoverinfo\":\"text\",\"marker\":{\"color\":\"rgb(0,116,217)\"},\"mode\":\"lines\",\"x\":[1.2036823044126816,1.332253050085194,1.332253050085194,0.0],\"xaxis\":\"x\",\"y\":[-320.0,-320.0,-335.0,-335.0],\"yaxis\":\"y\",\"type\":\"scatter\"},{\"hoverinfo\":\"text\",\"marker\":{\"color\":\"rgb(0,116,217)\"},\"mode\":\"lines\",\"x\":[1.5171603918507333,1.7111454874143708,1.7111454874143708,1.332253050085194],\"xaxis\":\"x\",\"y\":[-261.875,-261.875,-327.5,-327.5],\"yaxis\":\"y\",\"type\":\"scatter\"},{\"hoverinfo\":\"text\",\"marker\":{\"color\":\"rgb(0,116,217)\"},\"mode\":\"lines\",\"x\":[1.722675244718996,2.445882741710989,2.445882741710989,1.7111454874143708],\"xaxis\":\"x\",\"y\":[-190.0,-190.0,-294.6875,-294.6875],\"yaxis\":\"y\",\"type\":\"scatter\"},{\"hoverinfo\":\"text\",\"marker\":{\"color\":\"rgb(0,116,217)\"},\"mode\":\"lines\",\"x\":[2.7773768296972827,3.3205482695082367,3.3205482695082367,2.445882741710989],\"xaxis\":\"x\",\"y\":[-75.625,-75.625,-242.34375,-242.34375],\"yaxis\":\"y\",\"type\":\"scatter\"},{\"hoverinfo\":\"text\",\"marker\":{\"color\":\"rgb(61,153,112)\"},\"mode\":\"lines\",\"x\":[0.0,0.5779306580533495,0.5779306580533495,0.0],\"xaxis\":\"x\",\"y\":[-345.0,-345.0,-355.0,-355.0],\"yaxis\":\"y\",\"type\":\"scatter\"},{\"hoverinfo\":\"text\",\"marker\":{\"color\":\"rgb(0,116,217)\"},\"mode\":\"lines\",\"x\":[0.5779306580533495,1.2764066754532937,1.2764066754532937,0.0],\"xaxis\":\"x\",\"y\":[-350.0,-350.0,-365.0,-365.0],\"yaxis\":\"y\",\"type\":\"scatter\"},{\"hoverinfo\":\"text\",\"marker\":{\"color\":\"rgb(0,116,217)\"},\"mode\":\"lines\",\"x\":[0.0,1.2131788175362856,1.2131788175362856,0.0],\"xaxis\":\"x\",\"y\":[-375.0,-375.0,-385.0,-385.0],\"yaxis\":\"y\",\"type\":\"scatter\"},{\"hoverinfo\":\"text\",\"marker\":{\"color\":\"rgb(0,116,217)\"},\"mode\":\"lines\",\"x\":[1.2131788175362856,1.4933263817720075,1.4933263817720075,0.0],\"xaxis\":\"x\",\"y\":[-380.0,-380.0,-395.0,-395.0],\"yaxis\":\"y\",\"type\":\"scatter\"},{\"hoverinfo\":\"text\",\"marker\":{\"color\":\"rgb(0,116,217)\"},\"mode\":\"lines\",\"x\":[1.2764066754532937,1.718792787401637,1.718792787401637,1.4933263817720075],\"xaxis\":\"x\",\"y\":[-357.5,-357.5,-387.5,-387.5],\"yaxis\":\"y\",\"type\":\"scatter\"},{\"hoverinfo\":\"text\",\"marker\":{\"color\":\"rgb(255,65,54)\"},\"mode\":\"lines\",\"x\":[0.0,0.6876957509715785,0.6876957509715785,0.0],\"xaxis\":\"x\",\"y\":[-415.0,-415.0,-425.0,-425.0],\"yaxis\":\"y\",\"type\":\"scatter\"},{\"hoverinfo\":\"text\",\"marker\":{\"color\":\"rgb(255,65,54)\"},\"mode\":\"lines\",\"x\":[0.0,0.8383396877123426,0.8383396877123426,0.6876957509715785],\"xaxis\":\"x\",\"y\":[-405.0,-405.0,-420.0,-420.0],\"yaxis\":\"y\",\"type\":\"scatter\"},{\"hoverinfo\":\"text\",\"marker\":{\"color\":\"rgb(0,116,217)\"},\"mode\":\"lines\",\"x\":[0.0,1.0391467071983072,1.0391467071983072,0.0],\"xaxis\":\"x\",\"y\":[-435.0,-435.0,-445.0,-445.0],\"yaxis\":\"y\",\"type\":\"scatter\"},{\"hoverinfo\":\"text\",\"marker\":{\"color\":\"rgb(0,116,217)\"},\"mode\":\"lines\",\"x\":[0.8383396877123426,1.259965429118151,1.259965429118151,1.0391467071983072],\"xaxis\":\"x\",\"y\":[-412.5,-412.5,-440.0,-440.0],\"yaxis\":\"y\",\"type\":\"scatter\"},{\"hoverinfo\":\"text\",\"marker\":{\"color\":\"rgb(0,116,217)\"},\"mode\":\"lines\",\"x\":[1.718792787401637,2.0884288741386743,2.0884288741386743,1.259965429118151],\"xaxis\":\"x\",\"y\":[-372.5,-372.5,-426.25,-426.25],\"yaxis\":\"y\",\"type\":\"scatter\"},{\"hoverinfo\":\"text\",\"marker\":{\"color\":\"rgb(0,116,217)\"},\"mode\":\"lines\",\"x\":[0.0,1.0602594299175998,1.0602594299175998,0.0],\"xaxis\":\"x\",\"y\":[-455.0,-455.0,-465.0,-465.0],\"yaxis\":\"y\",\"type\":\"scatter\"},{\"hoverinfo\":\"text\",\"marker\":{\"color\":\"rgb(35,205,205)\"},\"mode\":\"lines\",\"x\":[0.0,0.9248971901505361,0.9248971901505361,0.0],\"xaxis\":\"x\",\"y\":[-475.0,-475.0,-485.0,-485.0],\"yaxis\":\"y\",\"type\":\"scatter\"},{\"hoverinfo\":\"text\",\"marker\":{\"color\":\"rgb(0,116,217)\"},\"mode\":\"lines\",\"x\":[0.9248971901505361,1.1655416234109992,1.1655416234109992,0.0],\"xaxis\":\"x\",\"y\":[-480.0,-480.0,-495.0,-495.0],\"yaxis\":\"y\",\"type\":\"scatter\"},{\"hoverinfo\":\"text\",\"marker\":{\"color\":\"rgb(0,116,217)\"},\"mode\":\"lines\",\"x\":[1.0602594299175998,1.596057975875987,1.596057975875987,1.1655416234109992],\"xaxis\":\"x\",\"y\":[-460.0,-460.0,-487.5,-487.5],\"yaxis\":\"y\",\"type\":\"scatter\"},{\"hoverinfo\":\"text\",\"marker\":{\"color\":\"rgb(0,116,217)\"},\"mode\":\"lines\",\"x\":[2.0884288741386743,2.313367199730759,2.313367199730759,1.596057975875987],\"xaxis\":\"x\",\"y\":[-399.375,-399.375,-473.75,-473.75],\"yaxis\":\"y\",\"type\":\"scatter\"},{\"hoverinfo\":\"text\",\"marker\":{\"color\":\"rgb(61,153,112)\"},\"mode\":\"lines\",\"x\":[0.0,0.5509068538690247,0.5509068538690247,0.0],\"xaxis\":\"x\",\"y\":[-505.0,-505.0,-515.0,-515.0],\"yaxis\":\"y\",\"type\":\"scatter\"},{\"hoverinfo\":\"text\",\"marker\":{\"color\":\"rgb(0,116,217)\"},\"mode\":\"lines\",\"x\":[0.5509068538690247,1.2163684748159713,1.2163684748159713,0.0],\"xaxis\":\"x\",\"y\":[-510.0,-510.0,-525.0,-525.0],\"yaxis\":\"y\",\"type\":\"scatter\"},{\"hoverinfo\":\"text\",\"marker\":{\"color\":\"rgb(255,65,54)\"},\"mode\":\"lines\",\"x\":[0.0,0.8283245164822861,0.8283245164822861,0.0],\"xaxis\":\"x\",\"y\":[-535.0,-535.0,-545.0,-545.0],\"yaxis\":\"y\",\"type\":\"scatter\"},{\"hoverinfo\":\"text\",\"marker\":{\"color\":\"rgb(35,205,205)\"},\"mode\":\"lines\",\"x\":[0.0,0.6707528837954232,0.6707528837954232,0.0],\"xaxis\":\"x\",\"y\":[-555.0,-555.0,-565.0,-565.0],\"yaxis\":\"y\",\"type\":\"scatter\"},{\"hoverinfo\":\"text\",\"marker\":{\"color\":\"rgb(0,116,217)\"},\"mode\":\"lines\",\"x\":[0.8283245164822861,1.4116852948705096,1.4116852948705096,0.6707528837954232],\"xaxis\":\"x\",\"y\":[-540.0,-540.0,-560.0,-560.0],\"yaxis\":\"y\",\"type\":\"scatter\"},{\"hoverinfo\":\"text\",\"marker\":{\"color\":\"rgb(0,116,217)\"},\"mode\":\"lines\",\"x\":[1.2163684748159713,2.5541078706969826,2.5541078706969826,1.4116852948705096],\"xaxis\":\"x\",\"y\":[-517.5,-517.5,-550.0,-550.0],\"yaxis\":\"y\",\"type\":\"scatter\"},{\"hoverinfo\":\"text\",\"marker\":{\"color\":\"rgb(133,20,75)\"},\"mode\":\"lines\",\"x\":[0.0,0.991901177343117,0.991901177343117,0.0],\"xaxis\":\"x\",\"y\":[-585.0,-585.0,-595.0,-595.0],\"yaxis\":\"y\",\"type\":\"scatter\"},{\"hoverinfo\":\"text\",\"marker\":{\"color\":\"rgb(255,220,0)\"},\"mode\":\"lines\",\"x\":[0.0,0.7781461294687396,0.7781461294687396,0.0],\"xaxis\":\"x\",\"y\":[-605.0,-605.0,-615.0,-615.0],\"yaxis\":\"y\",\"type\":\"scatter\"},{\"hoverinfo\":\"text\",\"marker\":{\"color\":\"rgb(0,116,217)\"},\"mode\":\"lines\",\"x\":[0.7781461294687396,1.1368204553484134,1.1368204553484134,0.0],\"xaxis\":\"x\",\"y\":[-610.0,-610.0,-625.0,-625.0],\"yaxis\":\"y\",\"type\":\"scatter\"},{\"hoverinfo\":\"text\",\"marker\":{\"color\":\"rgb(0,116,217)\"},\"mode\":\"lines\",\"x\":[0.991901177343117,1.257064303906163,1.257064303906163,1.1368204553484134],\"xaxis\":\"x\",\"y\":[-590.0,-590.0,-617.5,-617.5],\"yaxis\":\"y\",\"type\":\"scatter\"},{\"hoverinfo\":\"text\",\"marker\":{\"color\":\"rgb(0,116,217)\"},\"mode\":\"lines\",\"x\":[0.0,1.2980083040237191,1.2980083040237191,1.257064303906163],\"xaxis\":\"x\",\"y\":[-575.0,-575.0,-603.75,-603.75],\"yaxis\":\"y\",\"type\":\"scatter\"},{\"hoverinfo\":\"text\",\"marker\":{\"color\":\"rgb(40,35,35)\"},\"mode\":\"lines\",\"x\":[0.0,0.9840265530483722,0.9840265530483722,0.0],\"xaxis\":\"x\",\"y\":[-635.0,-635.0,-645.0,-645.0],\"yaxis\":\"y\",\"type\":\"scatter\"},{\"hoverinfo\":\"text\",\"marker\":{\"color\":\"rgb(0,116,217)\"},\"mode\":\"lines\",\"x\":[1.2980083040237191,2.0012574224661854,2.0012574224661854,0.9840265530483722],\"xaxis\":\"x\",\"y\":[-589.375,-589.375,-640.0,-640.0],\"yaxis\":\"y\",\"type\":\"scatter\"},{\"hoverinfo\":\"text\",\"marker\":{\"color\":\"rgb(0,116,217)\"},\"mode\":\"lines\",\"x\":[2.5541078706969826,3.028227852445291,3.028227852445291,2.0012574224661854],\"xaxis\":\"x\",\"y\":[-533.75,-533.75,-614.6875,-614.6875],\"yaxis\":\"y\",\"type\":\"scatter\"},{\"hoverinfo\":\"text\",\"marker\":{\"color\":\"rgb(0,116,217)\"},\"mode\":\"lines\",\"x\":[2.313367199730759,3.6495438198636907,3.6495438198636907,3.028227852445291],\"xaxis\":\"x\",\"y\":[-436.5625,-436.5625,-574.21875,-574.21875],\"yaxis\":\"y\",\"type\":\"scatter\"},{\"hoverinfo\":\"text\",\"marker\":{\"color\":\"rgb(0,116,217)\"},\"mode\":\"lines\",\"x\":[3.3205482695082367,5.166204473167664,5.166204473167664,3.6495438198636907],\"xaxis\":\"x\",\"y\":[-158.984375,-158.984375,-505.390625,-505.390625],\"yaxis\":\"y\",\"type\":\"scatter\"}],                        {\"autosize\":false,\"height\":1175,\"hovermode\":\"closest\",\"showlegend\":false,\"width\":1000,\"xaxis\":{\"mirror\":\"allticks\",\"rangemode\":\"tozero\",\"showgrid\":false,\"showline\":true,\"showticklabels\":true,\"ticks\":\"outside\",\"type\":\"linear\",\"zeroline\":false},\"yaxis\":{\"mirror\":\"allticks\",\"rangemode\":\"tozero\",\"showgrid\":false,\"showline\":true,\"showticklabels\":true,\"tickmode\":\"array\",\"ticks\":\"outside\",\"ticktext\":[\"63_pixel_signal line_scan\",\"59_panel_view_pixel\",\"0_pixel_color_imaging\",\"38_reading_sheet_lens\",\"52_projection_light source_...\",\"9_optical_laser_wavelength\",\"22_ion_beam_electron\",\"27_sound_audio_noise\",\"34_motor_winding_command\",\"11_led_lighting_light source\",\"15_converter_output voltage...\",\"18_transistor_amplifier_sec...\",\"23_clock_clock signal_delay\",\"44_analog_converter_digital\",\"36_amplifier_rf_input signal\",\"45_digital_rf_complex\",\"13_antenna_radiating_ground\",\"32_symbol_antenna_modulation\",\"62_interference_quality_wir...\",\"16_user equipment_equipment...\",\"1_station_base station_radio\",\"46_wireless_mobile_access p...\",\"42_touch_screen_item\",\"48_vehicle_mobile_character...\",\"14_instruction_processor me...\",\"58_slave_relay_clock\",\"5_packet_virtual_routing\",\"10_call_telephone_phone\",\"54_video_stream_server\",\"2_key_authentication_security\",\"41_first user_item_search\",\"8_video_motion_prediction\",\"40_error_bit_check\",\"57_attribute_repetition_table\",\"61_chip_wafer_adhesive\",\"19_chip_semiconductor chip_...\",\"50_insulation layer_insulat...\",\"49_vibration_resonator_arm\",\"56_ceramic_capacitor_dielec...\",\"55_fin_dielectric_isolation\",\"4_word_nonvolatile_resistive\",\"7_conductivity type_conduct...\",\"6_trench_mask_sidewall\",\"35_emitter_doped_electrode ...\",\"28_photoelectric_solidstate...\",\"64_source electrode_drain e...\",\"31_pixel_liquid crystal_cry...\",\"17_light emitting_emitting_...\",\"37_organic_emitting_light e...\",\"43_organic_lightemitting_atom\",\"39_formula_atom_represented\",\"33_formula_composition_comp...\",\"24_negative electrode_elect...\",\"51_anode_gas_cathode\",\"47_gas_water_hydrogen\",\"60_gas_etching_plasma\",\"25_chamber_plasma_gas\",\"26_heat_cooling_air\",\"30_sound_housing_vibration\",\"12_magnet_shaft_motor\",\"29_sliding_rack_slide\",\"3_connector_plug_cable\",\"53_panel_bracket_sheet\",\"20_battery_negative electro...\",\"21_battery_charging_vehicle\"],\"tickvals\":[-5.0,-15.0,-25.0,-35.0,-45.0,-55.0,-65.0,-75.0,-85.0,-95.0,-105.0,-115.0,-125.0,-135.0,-145.0,-155.0,-165.0,-175.0,-185.0,-195.0,-205.0,-215.0,-225.0,-235.0,-245.0,-255.0,-265.0,-275.0,-285.0,-295.0,-305.0,-315.0,-325.0,-335.0,-345.0,-355.0,-365.0,-375.0,-385.0,-395.0,-405.0,-415.0,-425.0,-435.0,-445.0,-455.0,-465.0,-475.0,-485.0,-495.0,-505.0,-515.0,-525.0,-535.0,-545.0,-555.0,-565.0,-575.0,-585.0,-595.0,-605.0,-615.0,-625.0,-635.0,-645.0],\"type\":\"linear\",\"zeroline\":false,\"range\":[-650.0,0.0]},\"template\":{\"data\":{\"barpolar\":[{\"marker\":{\"line\":{\"color\":\"white\",\"width\":0.5},\"pattern\":{\"fillmode\":\"overlay\",\"size\":10,\"solidity\":0.2}},\"type\":\"barpolar\"}],\"bar\":[{\"error_x\":{\"color\":\"#2a3f5f\"},\"error_y\":{\"color\":\"#2a3f5f\"},\"marker\":{\"line\":{\"color\":\"white\",\"width\":0.5},\"pattern\":{\"fillmode\":\"overlay\",\"size\":10,\"solidity\":0.2}},\"type\":\"bar\"}],\"carpet\":[{\"aaxis\":{\"endlinecolor\":\"#2a3f5f\",\"gridcolor\":\"#C8D4E3\",\"linecolor\":\"#C8D4E3\",\"minorgridcolor\":\"#C8D4E3\",\"startlinecolor\":\"#2a3f5f\"},\"baxis\":{\"endlinecolor\":\"#2a3f5f\",\"gridcolor\":\"#C8D4E3\",\"linecolor\":\"#C8D4E3\",\"minorgridcolor\":\"#C8D4E3\",\"startlinecolor\":\"#2a3f5f\"},\"type\":\"carpet\"}],\"choropleth\":[{\"colorbar\":{\"outlinewidth\":0,\"ticks\":\"\"},\"type\":\"choropleth\"}],\"contourcarpet\":[{\"colorbar\":{\"outlinewidth\":0,\"ticks\":\"\"},\"type\":\"contourcarpet\"}],\"contour\":[{\"colorbar\":{\"outlinewidth\":0,\"ticks\":\"\"},\"colorscale\":[[0.0,\"#0d0887\"],[0.1111111111111111,\"#46039f\"],[0.2222222222222222,\"#7201a8\"],[0.3333333333333333,\"#9c179e\"],[0.4444444444444444,\"#bd3786\"],[0.5555555555555556,\"#d8576b\"],[0.6666666666666666,\"#ed7953\"],[0.7777777777777778,\"#fb9f3a\"],[0.8888888888888888,\"#fdca26\"],[1.0,\"#f0f921\"]],\"type\":\"contour\"}],\"heatmapgl\":[{\"colorbar\":{\"outlinewidth\":0,\"ticks\":\"\"},\"colorscale\":[[0.0,\"#0d0887\"],[0.1111111111111111,\"#46039f\"],[0.2222222222222222,\"#7201a8\"],[0.3333333333333333,\"#9c179e\"],[0.4444444444444444,\"#bd3786\"],[0.5555555555555556,\"#d8576b\"],[0.6666666666666666,\"#ed7953\"],[0.7777777777777778,\"#fb9f3a\"],[0.8888888888888888,\"#fdca26\"],[1.0,\"#f0f921\"]],\"type\":\"heatmapgl\"}],\"heatmap\":[{\"colorbar\":{\"outlinewidth\":0,\"ticks\":\"\"},\"colorscale\":[[0.0,\"#0d0887\"],[0.1111111111111111,\"#46039f\"],[0.2222222222222222,\"#7201a8\"],[0.3333333333333333,\"#9c179e\"],[0.4444444444444444,\"#bd3786\"],[0.5555555555555556,\"#d8576b\"],[0.6666666666666666,\"#ed7953\"],[0.7777777777777778,\"#fb9f3a\"],[0.8888888888888888,\"#fdca26\"],[1.0,\"#f0f921\"]],\"type\":\"heatmap\"}],\"histogram2dcontour\":[{\"colorbar\":{\"outlinewidth\":0,\"ticks\":\"\"},\"colorscale\":[[0.0,\"#0d0887\"],[0.1111111111111111,\"#46039f\"],[0.2222222222222222,\"#7201a8\"],[0.3333333333333333,\"#9c179e\"],[0.4444444444444444,\"#bd3786\"],[0.5555555555555556,\"#d8576b\"],[0.6666666666666666,\"#ed7953\"],[0.7777777777777778,\"#fb9f3a\"],[0.8888888888888888,\"#fdca26\"],[1.0,\"#f0f921\"]],\"type\":\"histogram2dcontour\"}],\"histogram2d\":[{\"colorbar\":{\"outlinewidth\":0,\"ticks\":\"\"},\"colorscale\":[[0.0,\"#0d0887\"],[0.1111111111111111,\"#46039f\"],[0.2222222222222222,\"#7201a8\"],[0.3333333333333333,\"#9c179e\"],[0.4444444444444444,\"#bd3786\"],[0.5555555555555556,\"#d8576b\"],[0.6666666666666666,\"#ed7953\"],[0.7777777777777778,\"#fb9f3a\"],[0.8888888888888888,\"#fdca26\"],[1.0,\"#f0f921\"]],\"type\":\"histogram2d\"}],\"histogram\":[{\"marker\":{\"pattern\":{\"fillmode\":\"overlay\",\"size\":10,\"solidity\":0.2}},\"type\":\"histogram\"}],\"mesh3d\":[{\"colorbar\":{\"outlinewidth\":0,\"ticks\":\"\"},\"type\":\"mesh3d\"}],\"parcoords\":[{\"line\":{\"colorbar\":{\"outlinewidth\":0,\"ticks\":\"\"}},\"type\":\"parcoords\"}],\"pie\":[{\"automargin\":true,\"type\":\"pie\"}],\"scatter3d\":[{\"line\":{\"colorbar\":{\"outlinewidth\":0,\"ticks\":\"\"}},\"marker\":{\"colorbar\":{\"outlinewidth\":0,\"ticks\":\"\"}},\"type\":\"scatter3d\"}],\"scattercarpet\":[{\"marker\":{\"colorbar\":{\"outlinewidth\":0,\"ticks\":\"\"}},\"type\":\"scattercarpet\"}],\"scattergeo\":[{\"marker\":{\"colorbar\":{\"outlinewidth\":0,\"ticks\":\"\"}},\"type\":\"scattergeo\"}],\"scattergl\":[{\"marker\":{\"colorbar\":{\"outlinewidth\":0,\"ticks\":\"\"}},\"type\":\"scattergl\"}],\"scattermapbox\":[{\"marker\":{\"colorbar\":{\"outlinewidth\":0,\"ticks\":\"\"}},\"type\":\"scattermapbox\"}],\"scatterpolargl\":[{\"marker\":{\"colorbar\":{\"outlinewidth\":0,\"ticks\":\"\"}},\"type\":\"scatterpolargl\"}],\"scatterpolar\":[{\"marker\":{\"colorbar\":{\"outlinewidth\":0,\"ticks\":\"\"}},\"type\":\"scatterpolar\"}],\"scatter\":[{\"fillpattern\":{\"fillmode\":\"overlay\",\"size\":10,\"solidity\":0.2},\"type\":\"scatter\"}],\"scatterternary\":[{\"marker\":{\"colorbar\":{\"outlinewidth\":0,\"ticks\":\"\"}},\"type\":\"scatterternary\"}],\"surface\":[{\"colorbar\":{\"outlinewidth\":0,\"ticks\":\"\"},\"colorscale\":[[0.0,\"#0d0887\"],[0.1111111111111111,\"#46039f\"],[0.2222222222222222,\"#7201a8\"],[0.3333333333333333,\"#9c179e\"],[0.4444444444444444,\"#bd3786\"],[0.5555555555555556,\"#d8576b\"],[0.6666666666666666,\"#ed7953\"],[0.7777777777777778,\"#fb9f3a\"],[0.8888888888888888,\"#fdca26\"],[1.0,\"#f0f921\"]],\"type\":\"surface\"}],\"table\":[{\"cells\":{\"fill\":{\"color\":\"#EBF0F8\"},\"line\":{\"color\":\"white\"}},\"header\":{\"fill\":{\"color\":\"#C8D4E3\"},\"line\":{\"color\":\"white\"}},\"type\":\"table\"}]},\"layout\":{\"annotationdefaults\":{\"arrowcolor\":\"#2a3f5f\",\"arrowhead\":0,\"arrowwidth\":1},\"autotypenumbers\":\"strict\",\"coloraxis\":{\"colorbar\":{\"outlinewidth\":0,\"ticks\":\"\"}},\"colorscale\":{\"diverging\":[[0,\"#8e0152\"],[0.1,\"#c51b7d\"],[0.2,\"#de77ae\"],[0.3,\"#f1b6da\"],[0.4,\"#fde0ef\"],[0.5,\"#f7f7f7\"],[0.6,\"#e6f5d0\"],[0.7,\"#b8e186\"],[0.8,\"#7fbc41\"],[0.9,\"#4d9221\"],[1,\"#276419\"]],\"sequential\":[[0.0,\"#0d0887\"],[0.1111111111111111,\"#46039f\"],[0.2222222222222222,\"#7201a8\"],[0.3333333333333333,\"#9c179e\"],[0.4444444444444444,\"#bd3786\"],[0.5555555555555556,\"#d8576b\"],[0.6666666666666666,\"#ed7953\"],[0.7777777777777778,\"#fb9f3a\"],[0.8888888888888888,\"#fdca26\"],[1.0,\"#f0f921\"]],\"sequentialminus\":[[0.0,\"#0d0887\"],[0.1111111111111111,\"#46039f\"],[0.2222222222222222,\"#7201a8\"],[0.3333333333333333,\"#9c179e\"],[0.4444444444444444,\"#bd3786\"],[0.5555555555555556,\"#d8576b\"],[0.6666666666666666,\"#ed7953\"],[0.7777777777777778,\"#fb9f3a\"],[0.8888888888888888,\"#fdca26\"],[1.0,\"#f0f921\"]]},\"colorway\":[\"#636efa\",\"#EF553B\",\"#00cc96\",\"#ab63fa\",\"#FFA15A\",\"#19d3f3\",\"#FF6692\",\"#B6E880\",\"#FF97FF\",\"#FECB52\"],\"font\":{\"color\":\"#2a3f5f\"},\"geo\":{\"bgcolor\":\"white\",\"lakecolor\":\"white\",\"landcolor\":\"white\",\"showlakes\":true,\"showland\":true,\"subunitcolor\":\"#C8D4E3\"},\"hoverlabel\":{\"align\":\"left\"},\"hovermode\":\"closest\",\"mapbox\":{\"style\":\"light\"},\"paper_bgcolor\":\"white\",\"plot_bgcolor\":\"white\",\"polar\":{\"angularaxis\":{\"gridcolor\":\"#EBF0F8\",\"linecolor\":\"#EBF0F8\",\"ticks\":\"\"},\"bgcolor\":\"white\",\"radialaxis\":{\"gridcolor\":\"#EBF0F8\",\"linecolor\":\"#EBF0F8\",\"ticks\":\"\"}},\"scene\":{\"xaxis\":{\"backgroundcolor\":\"white\",\"gridcolor\":\"#DFE8F3\",\"gridwidth\":2,\"linecolor\":\"#EBF0F8\",\"showbackground\":true,\"ticks\":\"\",\"zerolinecolor\":\"#EBF0F8\"},\"yaxis\":{\"backgroundcolor\":\"white\",\"gridcolor\":\"#DFE8F3\",\"gridwidth\":2,\"linecolor\":\"#EBF0F8\",\"showbackground\":true,\"ticks\":\"\",\"zerolinecolor\":\"#EBF0F8\"},\"zaxis\":{\"backgroundcolor\":\"white\",\"gridcolor\":\"#DFE8F3\",\"gridwidth\":2,\"linecolor\":\"#EBF0F8\",\"showbackground\":true,\"ticks\":\"\",\"zerolinecolor\":\"#EBF0F8\"}},\"shapedefaults\":{\"line\":{\"color\":\"#2a3f5f\"}},\"ternary\":{\"aaxis\":{\"gridcolor\":\"#DFE8F3\",\"linecolor\":\"#A2B1C6\",\"ticks\":\"\"},\"baxis\":{\"gridcolor\":\"#DFE8F3\",\"linecolor\":\"#A2B1C6\",\"ticks\":\"\"},\"bgcolor\":\"white\",\"caxis\":{\"gridcolor\":\"#DFE8F3\",\"linecolor\":\"#A2B1C6\",\"ticks\":\"\"}},\"title\":{\"x\":0.05},\"xaxis\":{\"automargin\":true,\"gridcolor\":\"#EBF0F8\",\"linecolor\":\"#EBF0F8\",\"ticks\":\"\",\"title\":{\"standoff\":15},\"zerolinecolor\":\"#EBF0F8\",\"zerolinewidth\":2},\"yaxis\":{\"automargin\":true,\"gridcolor\":\"#EBF0F8\",\"linecolor\":\"#EBF0F8\",\"ticks\":\"\",\"title\":{\"standoff\":15},\"zerolinecolor\":\"#EBF0F8\",\"zerolinewidth\":2}}},\"title\":{\"font\":{\"size\":22,\"color\":\"Black\"},\"text\":\"<b>Hierarchical Clustering\",\"x\":0.5,\"xanchor\":\"center\",\"yanchor\":\"top\"},\"hoverlabel\":{\"font\":{\"size\":16,\"family\":\"Rockwell\"},\"bgcolor\":\"white\"},\"plot_bgcolor\":\"#ECEFF1\"},                        {\"responsive\": true}                    ).then(function(){\n",
       "                            \n",
       "var gd = document.getElementById('6b0e2c8f-d967-41b7-8b12-6383f787f6e0');\n",
       "var x = new MutationObserver(function (mutations, observer) {{\n",
       "        var display = window.getComputedStyle(gd).display;\n",
       "        if (!display || display === 'none') {{\n",
       "            console.log([gd, 'removed!']);\n",
       "            Plotly.purge(gd);\n",
       "            observer.disconnect();\n",
       "        }}\n",
       "}});\n",
       "\n",
       "// Listen for the removal of the full notebook cells\n",
       "var notebookContainer = gd.closest('#notebook-container');\n",
       "if (notebookContainer) {{\n",
       "    x.observe(notebookContainer, {childList: true});\n",
       "}}\n",
       "\n",
       "// Listen for the clearing of the current output cell\n",
       "var outputEl = gd.closest('.output');\n",
       "if (outputEl) {{\n",
       "    x.observe(outputEl, {childList: true});\n",
       "}}\n",
       "\n",
       "                        })                };                });            </script>        </div>"
      ]
     },
     "metadata": {},
     "output_type": "display_data"
    }
   ],
   "source": [
    "topic_model.visualize_hierarchy()"
   ]
  },
  {
   "cell_type": "code",
   "execution_count": 22,
   "id": "e5c44977",
   "metadata": {},
   "outputs": [],
   "source": [
    "#prediction"
   ]
  },
  {
   "cell_type": "code",
   "execution_count": 18,
   "id": "c1d46887",
   "metadata": {},
   "outputs": [
    {
     "data": {
      "text/html": [
       "<div>\n",
       "<style scoped>\n",
       "    .dataframe tbody tr th:only-of-type {\n",
       "        vertical-align: middle;\n",
       "    }\n",
       "\n",
       "    .dataframe tbody tr th {\n",
       "        vertical-align: top;\n",
       "    }\n",
       "\n",
       "    .dataframe thead th {\n",
       "        text-align: right;\n",
       "    }\n",
       "</style>\n",
       "<table border=\"1\" class=\"dataframe\">\n",
       "  <thead>\n",
       "    <tr style=\"text-align: right;\">\n",
       "      <th></th>\n",
       "      <th>ID</th>\n",
       "      <th>Title</th>\n",
       "      <th>Claim</th>\n",
       "      <th>cpc_subclass</th>\n",
       "      <th>cleaned_claims_text</th>\n",
       "      <th>cleaned_claim_text_without_Stopwprd</th>\n",
       "      <th>Lemmatized-Claim</th>\n",
       "      <th>Claim_tokens</th>\n",
       "    </tr>\n",
       "  </thead>\n",
       "  <tbody>\n",
       "    <tr>\n",
       "      <th>59394</th>\n",
       "      <td>9083591</td>\n",
       "      <td>Communication apparatus and communication method</td>\n",
       "      <td>1. A communication apparatus for communicating...</td>\n",
       "      <td>H04L</td>\n",
       "      <td>a communication apparatus for communicating w...</td>\n",
       "      <td>communication communicating another orthogonal...</td>\n",
       "      <td>communication communicating another orthogonal...</td>\n",
       "      <td>[communication, communicating, another, orthog...</td>\n",
       "    </tr>\n",
       "  </tbody>\n",
       "</table>\n",
       "</div>"
      ],
      "text/plain": [
       "            ID                                             Title  \\\n",
       "59394  9083591  Communication apparatus and communication method   \n",
       "\n",
       "                                                   Claim cpc_subclass  \\\n",
       "59394  1. A communication apparatus for communicating...         H04L   \n",
       "\n",
       "                                     cleaned_claims_text  \\\n",
       "59394   a communication apparatus for communicating w...   \n",
       "\n",
       "                     cleaned_claim_text_without_Stopwprd  \\\n",
       "59394  communication communicating another orthogonal...   \n",
       "\n",
       "                                        Lemmatized-Claim  \\\n",
       "59394  communication communicating another orthogonal...   \n",
       "\n",
       "                                            Claim_tokens  \n",
       "59394  [communication, communicating, another, orthog...  "
      ]
     },
     "execution_count": 18,
     "metadata": {},
     "output_type": "execute_result"
    }
   ],
   "source": [
    "New_Sample = df_claim_uspto.iloc[59394:59395, :]\n",
    "New_Sample"
   ]
  },
  {
   "cell_type": "code",
   "execution_count": 19,
   "id": "d5f75960",
   "metadata": {},
   "outputs": [
    {
     "data": {
      "text/plain": [
       "'communication communicating another orthogonal frequencydivision multiplexing wireless communication communication modulator modulates input signal using predetermined modulation scheme assigns modulated input signal subcarriers frequency component orthogonal thereby generating subcarrier modulation signal inserter insert transmissionside series signal synthesis way element signal synthesis element transmissionside series alternately positioned thereby generating first signal synthesis generated multiplying subcarrier modulation signal predetermined signal amplitude coefficient transmissionside series generated multiplying series set whose quantity equal number subcarriers autocorrelation property autocorrelation value series whose shifted higher autocorrelation value series whose shifted predetermined series amplitude coefficient first transformer performs inverse fast fourier transformation first separator separate operation result first transformer first half second half element equal quantity element first half generates baseband signal based first half second half transmitter generates transmission signal baseband signal'"
      ]
     },
     "execution_count": 19,
     "metadata": {},
     "output_type": "execute_result"
    }
   ],
   "source": [
    "new_claim = str(New_Sample[\"Lemmatized-Claim\"].iloc[0])\n",
    "new_claim"
   ]
  },
  {
   "cell_type": "code",
   "execution_count": 20,
   "id": "7fbb889d",
   "metadata": {},
   "outputs": [
    {
     "data": {
      "text/plain": [
       "'1. A communication apparatus for communicating with another apparatus in orthogonal frequency-division multiplexing wireless communication, the communication apparatus comprising: a modulator that modulates an input signal using a predetermined modulation scheme, and assigns the modulated input signal to subcarriers with frequency components orthogonal to each other, thereby generating a subcarrier modulation signal; an inserter that inserts a transmission-side data series in a signal for synthesis in such a way that elements in the signal for synthesis and elements in the transmission-side data series are alternately positioned, thereby generating first data, the signal for synthesis being generated by multiplying the subcarrier modulation signal by a predetermined signal amplitude coefficient, the transmission-side data series being generated by multiplying a data series which is a set of data whose quantity is equal to a number of the subcarriers and which has an autocorrelation property such that an autocorrelation value with a data series whose data has not been shifted is higher than an autocorrelation value with a data series whose data has been shifted by a predetermined series amplitude coefficient; a first transformer that performs an inverse fast Fourier transformation on the first data; a separator that separates an operation result from the first transformer into first half data and second half data having elements equal in quantity to elements of the first half data, and generates a baseband signal based on the first half data or the second half data; and a transmitter that generates a transmission signal from the baseband signal.'"
      ]
     },
     "execution_count": 20,
     "metadata": {},
     "output_type": "execute_result"
    }
   ],
   "source": [
    "new_claim = str(New_Sample[\"Claim\"].iloc[0])\n",
    "new_claim"
   ]
  },
  {
   "cell_type": "code",
   "execution_count": 21,
   "id": "04dde000",
   "metadata": {},
   "outputs": [
    {
     "name": "stdout",
     "output_type": "stream",
     "text": [
      "The top 3 similar topics are [62, 32, 36], and the similarities are [0.6  0.59 0.57]\n"
     ]
    }
   ],
   "source": [
    "# New data for the review\n",
    "new_claim = str(New_Sample[\"Lemmatized-Claim\"].iloc[0])\n",
    "\n",
    "# Find topics\n",
    "num_of_topics = 3\n",
    "similar_topics, similarity = topic_model.find_topics(new_claim, top_n=num_of_topics); \n",
    "\n",
    "# Print results\n",
    "print(f'The top {num_of_topics} similar topics are {similar_topics}, and the similarities are {np.round(similarity,2)}')"
   ]
  },
  {
   "cell_type": "code",
   "execution_count": 22,
   "id": "9b4cb336",
   "metadata": {},
   "outputs": [
    {
     "data": {
      "text/plain": [
       "[('interference', 0.07933486322055254),\n",
       " ('quality', 0.058705709410361115),\n",
       " ('wireless', 0.05801334920195081),\n",
       " ('noise', 0.0558881941808524),\n",
       " ('wireless communication', 0.05561170066194854),\n",
       " ('antenna', 0.0489681943700249),\n",
       " ('stream', 0.04287374457223601),\n",
       " ('frequency band', 0.042096469530798826),\n",
       " ('band', 0.04168281788649465),\n",
       " ('estimating', 0.039547036983696195)]"
      ]
     },
     "execution_count": 22,
     "metadata": {},
     "output_type": "execute_result"
    }
   ],
   "source": [
    "topic1 = topic_model.get_topic(62)\n",
    "topic1"
   ]
  },
  {
   "cell_type": "code",
   "execution_count": 23,
   "id": "2497da16",
   "metadata": {},
   "outputs": [
    {
     "data": {
      "text/plain": [
       "[('symbol', 0.15857164643894456),\n",
       " ('antenna', 0.09385805801090374),\n",
       " ('modulation', 0.047789035110123355),\n",
       " ('multiplexing', 0.036933866223893906),\n",
       " ('transmitter', 0.03524054266938822),\n",
       " ('fast', 0.03239962226540764),\n",
       " ('division', 0.032319215570415845),\n",
       " ('mapping', 0.03230190195911378),\n",
       " ('vector', 0.03179629295435737),\n",
       " ('stream', 0.030325499914403375)]"
      ]
     },
     "execution_count": 23,
     "metadata": {},
     "output_type": "execute_result"
    }
   ],
   "source": [
    "topic2 = topic_model.get_topic(32)\n",
    "topic2"
   ]
  },
  {
   "cell_type": "code",
   "execution_count": 24,
   "id": "b7e0be04",
   "metadata": {},
   "outputs": [
    {
     "data": {
      "text/plain": [
       "[('amplifier', 0.08580635430860038),\n",
       " ('rf', 0.05160542450630134),\n",
       " ('input signal', 0.04626342794195847),\n",
       " ('sampling', 0.04499023882479904),\n",
       " ('sample', 0.041641311687384566),\n",
       " ('stage', 0.041288928944305546),\n",
       " ('output signal', 0.040259278285488954),\n",
       " ('gain', 0.03805978320154273),\n",
       " ('envelope', 0.03592141624522022),\n",
       " ('radio frequency', 0.033448353048100204)]"
      ]
     },
     "execution_count": 24,
     "metadata": {},
     "output_type": "execute_result"
    }
   ],
   "source": [
    "topic3 = topic_model.get_topic(36)\n",
    "topic3"
   ]
  },
  {
   "cell_type": "code",
   "execution_count": null,
   "id": "17e7af0f",
   "metadata": {},
   "outputs": [],
   "source": []
  }
 ],
 "metadata": {
  "kernelspec": {
   "display_name": "Python 3 (ipykernel)",
   "language": "python",
   "name": "python3"
  },
  "language_info": {
   "codemirror_mode": {
    "name": "ipython",
    "version": 3
   },
   "file_extension": ".py",
   "mimetype": "text/x-python",
   "name": "python",
   "nbconvert_exporter": "python",
   "pygments_lexer": "ipython3",
   "version": "3.9.7"
  }
 },
 "nbformat": 4,
 "nbformat_minor": 5
}
