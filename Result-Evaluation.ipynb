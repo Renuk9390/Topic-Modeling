{
 "cells": [
  {
   "cell_type": "code",
   "execution_count": 15,
   "id": "e05bf5e4",
   "metadata": {},
   "outputs": [],
   "source": [
    "from octis.models.LDA import LDA\n",
    "from octis.models.NeuralLDA import NeuralLDA\n",
    "from octis.models.ProdLDA import ProdLDA\n",
    "from octis.models.HDP import HDP\n",
    "from octis.models.LDA_tomopy import LDA_tomopy\n",
    "from octis.models.NMF import NMF\n",
    "from octis.dataset.dataset import Dataset\n",
    "from octis.evaluation_metrics.diversity_metrics import TopicDiversity\n",
    "from octis.evaluation_metrics.coherence_metrics import Coherence"
   ]
  },
  {
   "cell_type": "code",
   "execution_count": 26,
   "id": "9b3d97ad",
   "metadata": {},
   "outputs": [],
   "source": [
    "# our dataset \"U.S. Patents.csv\" that is renamed to corpus.tsv\n",
    "#Dataset without preprocessing \n",
    " \n",
    "dataset = Dataset()\n",
    "dataset.load_custom_dataset_from_folder(\"C:/Users/admin/Topic-Modeling/dataset\")"
   ]
  },
  {
   "cell_type": "code",
   "execution_count": 33,
   "id": "300adb2c",
   "metadata": {},
   "outputs": [
    {
     "name": "stdout",
     "output_type": "stream",
     "text": [
      "Current call:  0\n",
      "Current call:  1\n",
      "Current call:  2\n",
      "Current call:  3\n",
      "Current call:  4\n",
      "Current call:  5\n",
      "Current call:  6\n",
      "Current call:  7\n",
      "Current call:  8\n",
      "Current call:  9\n",
      "Current call:  10\n",
      "Current call:  11\n",
      "Current call:  12\n",
      "Current call:  13\n",
      "Current call:  14\n",
      "Current call:  15\n",
      "Current call:  16\n",
      "Current call:  17\n",
      "Current call:  18\n",
      "Current call:  19\n",
      "Current call:  20\n",
      "Current call:  21\n",
      "Current call:  22\n",
      "Current call:  23\n",
      "Current call:  24\n",
      "Current call:  25\n",
      "Current call:  26\n",
      "Current call:  27\n",
      "Current call:  28\n",
      "Current call:  29\n"
     ]
    }
   ],
   "source": [
    "from octis.optimization.optimizer import Optimizer\n",
    "\n",
    "model = LDA(num_topics=25)\n",
    "\n",
    "npmi = Coherence(texts=dataset.get_corpus())\n",
    "\n",
    "search_space = {\n",
    "\"alpha\": Real(low=0.001, high=5.0),\n",
    "\"eta\": Real(low=0.001, high=5.0)\n",
    "}\n",
    "\n",
    "optimization_runs=30\n",
    "model_runs=1\n",
    "\n",
    "optimizer=Optimizer()\n",
    "optimization_result = optimizer.optimize(\n",
    "    model, dataset, npmi, search_space, number_of_call=optimization_runs, \n",
    "    model_runs=model_runs, save_models=True, \n",
    "    extra_metrics=None, # to keep track of other metrics\n",
    "    save_path='C:/Users/admin/Topic-Modeling/dataset/results')\n"
   ]
  },
  {
   "cell_type": "code",
   "execution_count": 46,
   "id": "e001dcad",
   "metadata": {},
   "outputs": [],
   "source": [
    "#optimization_result.save_to_csv(\"results_lda.csv\")"
   ]
  },
  {
   "cell_type": "code",
   "execution_count": 50,
   "id": "3258682c",
   "metadata": {},
   "outputs": [
    {
     "data": {
      "text/plain": [
       "dict_keys(['dataset_name', 'dataset_path', 'is_cached', 'kernel', 'acq_func', 'surrogate_model', 'optimization_type', 'model_runs', 'save_models', 'save_step', 'save_name', 'save_path', 'early_stop', 'early_step', 'plot_model', 'plot_best_seen', 'plot_name', 'log_scale_plot', 'search_space', 'model_name', 'model_attributes', 'use_partitioning', 'metric_name', 'extra_metric_names', 'metric_attributes', 'extra_metric_attributes', 'current_call', 'number_of_call', 'random_state', 'x0', 'y0', 'n_random_starts', 'initial_point_generator', 'topk', 'time_eval', 'dict_model_runs', 'f_val', 'x_iters'])"
      ]
     },
     "execution_count": 50,
     "metadata": {},
     "output_type": "execute_result"
    }
   ],
   "source": [
    "import json\n",
    "res = json.load(open(\"C:/Users/admin/Topic-Modeling/dataset/results/result-lda.json\",'r'))\n",
    "res.keys()"
   ]
  },
  {
   "cell_type": "code",
   "execution_count": 51,
   "id": "f200d842",
   "metadata": {},
   "outputs": [
    {
     "data": {
      "text/plain": [
       "[2.43075056778473,\n",
       " 2.964630246506867,\n",
       " 4.277869229270085,\n",
       " 4.124810985717318,\n",
       " 3.0907360552309604,\n",
       " 2.0493847193483052,\n",
       " 1.605611750925235,\n",
       " 3.3442921604146236,\n",
       " 4.162560187140051,\n",
       " 4.590206089658596,\n",
       " 3.845459723579644,\n",
       " 3.6197177196189094,\n",
       " 3.3718798821241722,\n",
       " 3.4923513548595686,\n",
       " 3.3643941608084953,\n",
       " 3.4257803169515864,\n",
       " 3.3951196245691007,\n",
       " 3.399476337719672,\n",
       " 3.4120631797271503,\n",
       " 4.050787961657906,\n",
       " 4.490197206246457,\n",
       " 4.996308771283075,\n",
       " 3.414286055724979,\n",
       " 4.092678644239964,\n",
       " 3.013648035161445,\n",
       " 4.255540628061432,\n",
       " 4.730466056961888,\n",
       " 4.584572281983669,\n",
       " 4.371715274952334,\n",
       " 3.999737084163556]"
      ]
     },
     "execution_count": 51,
     "metadata": {},
     "output_type": "execute_result"
    }
   ],
   "source": [
    "res['x_iters']['alpha']"
   ]
  },
  {
   "cell_type": "code",
   "execution_count": 61,
   "id": "1f8e675a",
   "metadata": {},
   "outputs": [
    {
     "data": {
      "text/plain": [
       "Text(0, 0.5, 'NPMI')"
      ]
     },
     "execution_count": 61,
     "metadata": {},
     "output_type": "execute_result"
    },
    {
     "data": {
      "image/png": "[encoded data removed]",
      "text/plain": [
       "<Figure size 432x288 with 1 Axes>"
      ]
     },
     "metadata": {
      "needs_background": "light"
     },
     "output_type": "display_data"
    }
   ],
   "source": [
    "import matplotlib.pyplot as plt\n",
    "\n",
    "plt.plot(res[\"f_val\"])\n",
    "plt.title('Optimal alpha and beta for LDA')\n",
    "plt.xlabel('Optimization run')\n",
    "plt.ylabel('NPMI')"
   ]
  },
  {
   "cell_type": "code",
   "execution_count": 57,
   "id": "46f83e82",
   "metadata": {},
   "outputs": [
    {
     "data": {
      "text/html": [
       "<div>\n",
       "<style scoped>\n",
       "    .dataframe tbody tr th:only-of-type {\n",
       "        vertical-align: middle;\n",
       "    }\n",
       "\n",
       "    .dataframe tbody tr th {\n",
       "        vertical-align: top;\n",
       "    }\n",
       "\n",
       "    .dataframe thead th {\n",
       "        text-align: right;\n",
       "    }\n",
       "</style>\n",
       "<table border=\"1\" class=\"dataframe\">\n",
       "  <thead>\n",
       "    <tr style=\"text-align: right;\">\n",
       "      <th></th>\n",
       "      <th>f_val</th>\n",
       "      <th>x_iters__alpha</th>\n",
       "      <th>x_iters__eta</th>\n",
       "    </tr>\n",
       "  </thead>\n",
       "  <tbody>\n",
       "    <tr>\n",
       "      <th>25</th>\n",
       "      <td>-0.010366</td>\n",
       "      <td>4.255541</td>\n",
       "      <td>4.057614</td>\n",
       "    </tr>\n",
       "    <tr>\n",
       "      <th>3</th>\n",
       "      <td>-0.013049</td>\n",
       "      <td>4.124811</td>\n",
       "      <td>4.059226</td>\n",
       "    </tr>\n",
       "    <tr>\n",
       "      <th>29</th>\n",
       "      <td>-0.013971</td>\n",
       "      <td>3.999737</td>\n",
       "      <td>4.063865</td>\n",
       "    </tr>\n",
       "    <tr>\n",
       "      <th>7</th>\n",
       "      <td>-0.015196</td>\n",
       "      <td>3.344292</td>\n",
       "      <td>3.965610</td>\n",
       "    </tr>\n",
       "    <tr>\n",
       "      <th>1</th>\n",
       "      <td>-0.015354</td>\n",
       "      <td>2.964630</td>\n",
       "      <td>1.919866</td>\n",
       "    </tr>\n",
       "    <tr>\n",
       "      <th>5</th>\n",
       "      <td>-0.015690</td>\n",
       "      <td>2.049385</td>\n",
       "      <td>2.843887</td>\n",
       "    </tr>\n",
       "    <tr>\n",
       "      <th>4</th>\n",
       "      <td>-0.016801</td>\n",
       "      <td>3.090736</td>\n",
       "      <td>4.235821</td>\n",
       "    </tr>\n",
       "    <tr>\n",
       "      <th>16</th>\n",
       "      <td>-0.017013</td>\n",
       "      <td>3.395120</td>\n",
       "      <td>2.700880</td>\n",
       "    </tr>\n",
       "    <tr>\n",
       "      <th>0</th>\n",
       "      <td>-0.017015</td>\n",
       "      <td>2.430751</td>\n",
       "      <td>3.428876</td>\n",
       "    </tr>\n",
       "    <tr>\n",
       "      <th>26</th>\n",
       "      <td>-0.017575</td>\n",
       "      <td>4.730466</td>\n",
       "      <td>4.055506</td>\n",
       "    </tr>\n",
       "    <tr>\n",
       "      <th>9</th>\n",
       "      <td>-0.017840</td>\n",
       "      <td>4.590206</td>\n",
       "      <td>4.063550</td>\n",
       "    </tr>\n",
       "    <tr>\n",
       "      <th>18</th>\n",
       "      <td>-0.017904</td>\n",
       "      <td>3.412063</td>\n",
       "      <td>1.578169</td>\n",
       "    </tr>\n",
       "    <tr>\n",
       "      <th>28</th>\n",
       "      <td>-0.017999</td>\n",
       "      <td>4.371715</td>\n",
       "      <td>4.059144</td>\n",
       "    </tr>\n",
       "    <tr>\n",
       "      <th>14</th>\n",
       "      <td>-0.018047</td>\n",
       "      <td>3.364394</td>\n",
       "      <td>3.678269</td>\n",
       "    </tr>\n",
       "    <tr>\n",
       "      <th>20</th>\n",
       "      <td>-0.018102</td>\n",
       "      <td>4.490197</td>\n",
       "      <td>4.059953</td>\n",
       "    </tr>\n",
       "    <tr>\n",
       "      <th>17</th>\n",
       "      <td>-0.018141</td>\n",
       "      <td>3.399476</td>\n",
       "      <td>3.092597</td>\n",
       "    </tr>\n",
       "    <tr>\n",
       "      <th>12</th>\n",
       "      <td>-0.018321</td>\n",
       "      <td>3.371880</td>\n",
       "      <td>3.936791</td>\n",
       "    </tr>\n",
       "    <tr>\n",
       "      <th>23</th>\n",
       "      <td>-0.019281</td>\n",
       "      <td>4.092679</td>\n",
       "      <td>4.068548</td>\n",
       "    </tr>\n",
       "    <tr>\n",
       "      <th>22</th>\n",
       "      <td>-0.019792</td>\n",
       "      <td>3.414286</td>\n",
       "      <td>2.520083</td>\n",
       "    </tr>\n",
       "    <tr>\n",
       "      <th>27</th>\n",
       "      <td>-0.020870</td>\n",
       "      <td>4.584572</td>\n",
       "      <td>4.057324</td>\n",
       "    </tr>\n",
       "    <tr>\n",
       "      <th>8</th>\n",
       "      <td>-0.021068</td>\n",
       "      <td>4.162560</td>\n",
       "      <td>4.122186</td>\n",
       "    </tr>\n",
       "    <tr>\n",
       "      <th>24</th>\n",
       "      <td>-0.022025</td>\n",
       "      <td>3.013648</td>\n",
       "      <td>4.568687</td>\n",
       "    </tr>\n",
       "    <tr>\n",
       "      <th>21</th>\n",
       "      <td>-0.022375</td>\n",
       "      <td>4.996309</td>\n",
       "      <td>4.052059</td>\n",
       "    </tr>\n",
       "    <tr>\n",
       "      <th>15</th>\n",
       "      <td>-0.022747</td>\n",
       "      <td>3.425780</td>\n",
       "      <td>0.414967</td>\n",
       "    </tr>\n",
       "    <tr>\n",
       "      <th>6</th>\n",
       "      <td>-0.022753</td>\n",
       "      <td>1.605612</td>\n",
       "      <td>4.765354</td>\n",
       "    </tr>\n",
       "    <tr>\n",
       "      <th>2</th>\n",
       "      <td>-0.022893</td>\n",
       "      <td>4.277869</td>\n",
       "      <td>4.395104</td>\n",
       "    </tr>\n",
       "    <tr>\n",
       "      <th>10</th>\n",
       "      <td>-0.023359</td>\n",
       "      <td>3.845460</td>\n",
       "      <td>4.044717</td>\n",
       "    </tr>\n",
       "    <tr>\n",
       "      <th>13</th>\n",
       "      <td>-0.024703</td>\n",
       "      <td>3.492351</td>\n",
       "      <td>0.699010</td>\n",
       "    </tr>\n",
       "    <tr>\n",
       "      <th>19</th>\n",
       "      <td>-0.024760</td>\n",
       "      <td>4.050788</td>\n",
       "      <td>4.078048</td>\n",
       "    </tr>\n",
       "    <tr>\n",
       "      <th>11</th>\n",
       "      <td>-0.026730</td>\n",
       "      <td>3.619718</td>\n",
       "      <td>3.769717</td>\n",
       "    </tr>\n",
       "  </tbody>\n",
       "</table>\n",
       "</div>"
      ],
      "text/plain": [
       "       f_val  x_iters__alpha  x_iters__eta\n",
       "25 -0.010366        4.255541      4.057614\n",
       "3  -0.013049        4.124811      4.059226\n",
       "29 -0.013971        3.999737      4.063865\n",
       "7  -0.015196        3.344292      3.965610\n",
       "1  -0.015354        2.964630      1.919866\n",
       "5  -0.015690        2.049385      2.843887\n",
       "4  -0.016801        3.090736      4.235821\n",
       "16 -0.017013        3.395120      2.700880\n",
       "0  -0.017015        2.430751      3.428876\n",
       "26 -0.017575        4.730466      4.055506\n",
       "9  -0.017840        4.590206      4.063550\n",
       "18 -0.017904        3.412063      1.578169\n",
       "28 -0.017999        4.371715      4.059144\n",
       "14 -0.018047        3.364394      3.678269\n",
       "20 -0.018102        4.490197      4.059953\n",
       "17 -0.018141        3.399476      3.092597\n",
       "12 -0.018321        3.371880      3.936791\n",
       "23 -0.019281        4.092679      4.068548\n",
       "22 -0.019792        3.414286      2.520083\n",
       "27 -0.020870        4.584572      4.057324\n",
       "8  -0.021068        4.162560      4.122186\n",
       "24 -0.022025        3.013648      4.568687\n",
       "21 -0.022375        4.996309      4.052059\n",
       "15 -0.022747        3.425780      0.414967\n",
       "6  -0.022753        1.605612      4.765354\n",
       "2  -0.022893        4.277869      4.395104\n",
       "10 -0.023359        3.845460      4.044717\n",
       "13 -0.024703        3.492351      0.699010\n",
       "19 -0.024760        4.050788      4.078048\n",
       "11 -0.026730        3.619718      3.769717"
      ]
     },
     "execution_count": 57,
     "metadata": {},
     "output_type": "execute_result"
    }
   ],
   "source": [
    "\n",
    "import numpy as np  \n",
    "import pandas as pd\n",
    "\n",
    "parameter = pd.read_csv('C:/Users/admin/Topic-Modeling/dataset/results/result-lda.csv')\n",
    "parameter=parameter[[\"f_val\",\"x_iters__alpha\",\"x_iters__eta\"]]\n",
    "parameter = parameter.sort_values(by=['f_val'], ascending=False)\n",
    "parameter"
   ]
  },
  {
   "cell_type": "code",
   "execution_count": 4,
   "id": "05d79b02",
   "metadata": {},
   "outputs": [
    {
     "name": "stdout",
     "output_type": "stream",
     "text": [
      "The scikit-learn version is 0.24.2.\n"
     ]
    }
   ],
   "source": [
    "import sklearn\n",
    "print('The scikit-learn version is {}.'.format(sklearn.__version__))"
   ]
  },
  {
   "cell_type": "code",
   "execution_count": 58,
   "id": "1b2f166d",
   "metadata": {},
   "outputs": [
    {
     "name": "stdout",
     "output_type": "stream",
     "text": [
      "created vocab\n",
      "46546\n"
     ]
    }
   ],
   "source": [
    "#Dataset with preprocessing\n",
    "import os\n",
    "import string\n",
    "from octis.preprocessing.preprocessing import Preprocessing\n",
    "os.chdir(os.path.pardir)\n",
    "\n",
    "# Initialize preprocessing\n",
    "preprocessor = Preprocessing(vocabulary=None, max_features=None,\n",
    "                             remove_punctuation=True, punctuation=string.punctuation,\n",
    "                             lemmatize=True, stopword_list='english',\n",
    "                             min_chars=1, min_words_docs=0)\n",
    "\n",
    "# preprocess\n",
    "Preprocesed_dataset = preprocessor.preprocess_dataset(documents_path=r'C:\\Users\\admin\\Topic-Modeling\\dataset\\U.S. Patents.csv')"
   ]
  },
  {
   "cell_type": "code",
   "execution_count": null,
   "id": "002605cc",
   "metadata": {},
   "outputs": [],
   "source": [
    "##############  LDA  ######################################"
   ]
  },
  {
   "cell_type": "code",
   "execution_count": 62,
   "id": "94666aee",
   "metadata": {},
   "outputs": [
    {
     "name": "stdout",
     "output_type": "stream",
     "text": [
      "Topic diversity with Preprocessing: 0.208\n",
      "npmi_Coherence with Preprocessing: 0.011059150417424368\n",
      "cv_Coherence with Preprocessing: 0.3738534161377519\n",
      "umass_Coherence with Preprocessing: -0.9737610921701098\n"
     ]
    }
   ],
   "source": [
    "Pre_lda_model = LDA(num_topics=25,alpha=4,eta=4)  # Create model\n",
    "trained_Pre_Lda_model = Pre_lda_model.train_model(Preprocesed_dataset) # Train the model\n",
    "\n",
    "# Initialize metric\n",
    "npmi_Coherence = Coherence(texts=Preprocesed_dataset.get_corpus(), topk=10, measure='c_npmi') \n",
    "\n",
    "cv_Coherence = Coherence(texts=Preprocesed_dataset.get_corpus(), topk=10, measure='c_v')\n",
    "\n",
    "umass_Coherence = Coherence(texts=Preprocesed_dataset.get_corpus(), topk=10, measure='u_mass')\n",
    "\n",
    "topic_diversity = TopicDiversity(topk=10)\n",
    "\n",
    "# Retrieve metrics score\n",
    "topic_diversity_score = topic_diversity.score(trained_Pre_Lda_model)\n",
    "print(\"Topic diversity with Preprocessing: \"+str(topic_diversity_score))\n",
    "\n",
    "npmi_score = npmi_Coherence.score(trained_Pre_Lda_model)\n",
    "print(\"npmi_Coherence with Preprocessing: \"+str(npmi_score))\n",
    "\n",
    "CV_score = cv_Coherence.score(trained_Pre_Lda_model)\n",
    "print(\"cv_Coherence with Preprocessing: \"+str(CV_score))\n",
    "\n",
    "umass_score = umass_Coherence.score(trained_Pre_Lda_model)\n",
    "print(\"umass_Coherence with Preprocessing: \"+str(umass_score))"
   ]
  },
  {
   "cell_type": "code",
   "execution_count": null,
   "id": "42d98f51",
   "metadata": {},
   "outputs": [],
   "source": [
    "############## Default LDA  ######################################"
   ]
  },
  {
   "cell_type": "code",
   "execution_count": 63,
   "id": "564b087e",
   "metadata": {},
   "outputs": [
    {
     "name": "stdout",
     "output_type": "stream",
     "text": [
      "Topic diversity with Preprocessing: 0.184\n",
      "npmi_Coherence with Preprocessing: 0.0018848619192362455\n",
      "cv_Coherence with Preprocessing: 0.3613702621754562\n",
      "umass_Coherence with Preprocessing: -1.0890041522189338\n"
     ]
    }
   ],
   "source": [
    "lda_model = LDA(num_topics=25,alpha=4,eta=4)  # Create model\n",
    "trained_Lda_model = lda_model.train_model(Preprocesed_dataset) # Train the model\n",
    "\n",
    "# Initialize metric\n",
    "npmi_Coherence = Coherence(texts=Preprocesed_dataset.get_corpus(), topk=10, measure='c_npmi') \n",
    "\n",
    "cv_Coherence = Coherence(texts=Preprocesed_dataset.get_corpus(), topk=10, measure='c_v')\n",
    "\n",
    "umass_Coherence = Coherence(texts=Preprocesed_dataset.get_corpus(), topk=10, measure='u_mass')\n",
    "\n",
    "topic_diversity = TopicDiversity(topk=10)\n",
    "\n",
    "# Retrieve metrics score\n",
    "topic_diversity_score = topic_diversity.score(trained_Lda_model)\n",
    "print(\"Topic diversity with Preprocessing: \"+str(topic_diversity_score))\n",
    "\n",
    "npmi_score = npmi_Coherence.score(trained_Lda_model)\n",
    "print(\"npmi_Coherence with Preprocessing: \"+str(npmi_score))\n",
    "\n",
    "CV_score = cv_Coherence.score(trained_Lda_model)\n",
    "print(\"cv_Coherence with Preprocessing: \"+str(CV_score))\n",
    "\n",
    "umass_score = umass_Coherence.score(trained_Lda_model)\n",
    "print(\"umass_Coherence with Preprocessing: \"+str(umass_score))"
   ]
  },
  {
   "cell_type": "code",
   "execution_count": 64,
   "id": "f65b940a",
   "metadata": {},
   "outputs": [],
   "source": [
    "##################### NeuralLDA #############################"
   ]
  },
  {
   "cell_type": "code",
   "execution_count": 65,
   "id": "97bbbc00",
   "metadata": {},
   "outputs": [
    {
     "name": "stdout",
     "output_type": "stream",
     "text": [
      "Epoch: [1/100]\tSamples: [5583/558300]\tTrain Loss: 5977.603059790883\tTime: 0:00:09.543221\n",
      "Epoch: [1/100]\tSamples: [1197/119700]\tValidation Loss: 5613.176169590643\tTime: 0:00:00.752532\n",
      "Epoch: [2/100]\tSamples: [11166/558300]\tTrain Loss: 5625.036055324198\tTime: 0:00:08.192044\n",
      "Epoch: [2/100]\tSamples: [1197/119700]\tValidation Loss: 5479.247572055137\tTime: 0:00:00.616588\n",
      "Epoch: [3/100]\tSamples: [16749/558300]\tTrain Loss: 5509.47719360111\tTime: 0:00:07.303319\n",
      "Epoch: [3/100]\tSamples: [1197/119700]\tValidation Loss: 5403.9944000626565\tTime: 0:00:00.567834\n",
      "Epoch: [4/100]\tSamples: [22332/558300]\tTrain Loss: 5424.0144439593405\tTime: 0:00:07.068310\n",
      "Epoch: [4/100]\tSamples: [1197/119700]\tValidation Loss: 5347.779788011696\tTime: 0:00:00.602784\n",
      "Epoch: [5/100]\tSamples: [27915/558300]\tTrain Loss: 5359.2145715789\tTime: 0:00:07.599572\n",
      "Epoch: [5/100]\tSamples: [1197/119700]\tValidation Loss: 5385.743525480368\tTime: 0:00:00.623519\n",
      "Epoch: [6/100]\tSamples: [33498/558300]\tTrain Loss: 5330.251809343095\tTime: 0:00:09.112392\n",
      "Epoch: [6/100]\tSamples: [1197/119700]\tValidation Loss: 5325.480263157895\tTime: 0:00:00.742841\n",
      "Epoch: [7/100]\tSamples: [39081/558300]\tTrain Loss: 5321.29930774785\tTime: 0:00:08.567769\n",
      "Epoch: [7/100]\tSamples: [1197/119700]\tValidation Loss: 5267.020180659983\tTime: 0:00:00.658614\n",
      "Epoch: [8/100]\tSamples: [44664/558300]\tTrain Loss: 5298.747656110067\tTime: 0:00:07.583181\n",
      "Epoch: [8/100]\tSamples: [1197/119700]\tValidation Loss: 5393.899749373433\tTime: 0:00:00.877028\n",
      "Epoch: [9/100]\tSamples: [50247/558300]\tTrain Loss: 5289.647470557944\tTime: 0:00:08.896881\n",
      "Epoch: [9/100]\tSamples: [1197/119700]\tValidation Loss: 5289.974728487887\tTime: 0:00:00.753971\n",
      "Epoch: [10/100]\tSamples: [55830/558300]\tTrain Loss: 5333.105393885456\tTime: 0:00:08.006329\n",
      "Epoch: [10/100]\tSamples: [1197/119700]\tValidation Loss: 5276.35650323726\tTime: 0:00:00.812710\n",
      "Epoch: [11/100]\tSamples: [61413/558300]\tTrain Loss: 5276.580496177011\tTime: 0:00:08.413241\n",
      "Epoch: [11/100]\tSamples: [1197/119700]\tValidation Loss: 5253.554315476191\tTime: 0:00:00.762595\n",
      "Epoch: [12/100]\tSamples: [66996/558300]\tTrain Loss: 5277.433083691563\tTime: 0:00:08.699315\n",
      "Epoch: [12/100]\tSamples: [1197/119700]\tValidation Loss: 5256.91121031746\tTime: 0:00:00.756984\n",
      "Epoch: [13/100]\tSamples: [72579/558300]\tTrain Loss: 5246.431074243238\tTime: 0:00:08.575870\n",
      "Epoch: [13/100]\tSamples: [1197/119700]\tValidation Loss: 5262.453007518797\tTime: 0:00:00.676139\n",
      "Epoch: [14/100]\tSamples: [78162/558300]\tTrain Loss: 5243.283803790525\tTime: 0:00:09.464183\n",
      "Epoch: [14/100]\tSamples: [1197/119700]\tValidation Loss: 5263.28982612782\tTime: 0:00:00.747147\n",
      "Epoch: [15/100]\tSamples: [83745/558300]\tTrain Loss: 5229.437166957729\tTime: 0:00:09.167758\n",
      "Epoch: [15/100]\tSamples: [1197/119700]\tValidation Loss: 5249.9539865288225\tTime: 0:00:00.917025\n",
      "Epoch: [16/100]\tSamples: [89328/558300]\tTrain Loss: 5228.619826650099\tTime: 0:00:09.199510\n",
      "Epoch: [16/100]\tSamples: [1197/119700]\tValidation Loss: 5270.145924707603\tTime: 0:00:00.742563\n",
      "Epoch: [17/100]\tSamples: [94911/558300]\tTrain Loss: 5253.31186330154\tTime: 0:00:09.683081\n",
      "Epoch: [17/100]\tSamples: [1197/119700]\tValidation Loss: 5254.494178153717\tTime: 0:00:00.782982\n",
      "Epoch: [18/100]\tSamples: [100494/558300]\tTrain Loss: 5217.677529721924\tTime: 0:00:09.469833\n",
      "Epoch: [18/100]\tSamples: [1197/119700]\tValidation Loss: 5262.402059837093\tTime: 0:00:00.783019\n",
      "Epoch: [19/100]\tSamples: [106077/558300]\tTrain Loss: 5229.7063462744045\tTime: 0:00:09.143946\n",
      "Epoch: [19/100]\tSamples: [1197/119700]\tValidation Loss: 5275.173976608187\tTime: 0:00:00.708484\n",
      "Epoch: [20/100]\tSamples: [111660/558300]\tTrain Loss: 5293.937937992567\tTime: 0:00:08.003445\n",
      "Epoch: [20/100]\tSamples: [1197/119700]\tValidation Loss: 5982.176522034252\tTime: 0:00:00.702683\n",
      "Early stopping\n",
      "Topic diversity with Preprocessing: 1.0\n",
      "npmi_Coherence with Preprocessing: -0.22316805428765094\n",
      "cv_Coherence with Preprocessing: 0.3533377897562378\n",
      "umass_Coherence with Preprocessing: -6.408811004250266\n"
     ]
    }
   ],
   "source": [
    "NeuralLDA_model = NeuralLDA(num_topics=25)\n",
    "trained_NeuralLDA_model = NeuralLDA_model.train_model(Preprocesed_dataset)\n",
    "\n",
    "# Initialize metric\n",
    "npmi_Coherence = Coherence(texts=Preprocesed_dataset.get_corpus(), topk=10, measure='c_npmi') \n",
    "\n",
    "cv_Coherence = Coherence(texts=Preprocesed_dataset.get_corpus(), topk=10, measure='c_v')\n",
    "\n",
    "umass_Coherence = Coherence(texts=Preprocesed_dataset.get_corpus(), topk=10, measure='u_mass')\n",
    "\n",
    "topic_diversity = TopicDiversity(topk=10)\n",
    "\n",
    "# Retrieve metrics score\n",
    "topic_diversity_score = topic_diversity.score(trained_NeuralLDA_model)\n",
    "print(\"Topic diversity with Preprocessing: \"+str(topic_diversity_score))\n",
    "\n",
    "npmi_score = npmi_Coherence.score(trained_NeuralLDA_model)\n",
    "print(\"npmi_Coherence with Preprocessing: \"+str(npmi_score))\n",
    "\n",
    "CV_score = cv_Coherence.score(trained_NeuralLDA_model)\n",
    "print(\"cv_Coherence with Preprocessing: \"+str(CV_score))\n",
    "\n",
    "umass_score = umass_Coherence.score(trained_NeuralLDA_model)\n",
    "print(\"umass_Coherence with Preprocessing: \"+str(umass_score))"
   ]
  },
  {
   "cell_type": "code",
   "execution_count": 66,
   "id": "b9388d23",
   "metadata": {},
   "outputs": [],
   "source": [
    "################## ProdLDA  ###############################"
   ]
  },
  {
   "cell_type": "code",
   "execution_count": 68,
   "id": "dbb75969",
   "metadata": {},
   "outputs": [
    {
     "name": "stdout",
     "output_type": "stream",
     "text": [
      "Epoch: [1/100]\tSamples: [5583/558300]\tTrain Loss: 6264.081975976178\tTime: 0:00:09.231714\n",
      "Epoch: [1/100]\tSamples: [1197/119700]\tValidation Loss: 6116.140272556391\tTime: 0:00:00.765675\n",
      "Epoch: [2/100]\tSamples: [11166/558300]\tTrain Loss: 6036.259155863783\tTime: 0:00:09.231654\n",
      "Epoch: [2/100]\tSamples: [1197/119700]\tValidation Loss: 6054.640951336675\tTime: 0:00:00.842790\n",
      "Epoch: [3/100]\tSamples: [16749/558300]\tTrain Loss: 5957.903396751299\tTime: 0:00:08.873875\n",
      "Epoch: [3/100]\tSamples: [1197/119700]\tValidation Loss: 6042.394710735171\tTime: 0:00:00.664478\n",
      "Epoch: [4/100]\tSamples: [22332/558300]\tTrain Loss: 5906.923953015852\tTime: 0:00:08.096221\n",
      "Epoch: [4/100]\tSamples: [1197/119700]\tValidation Loss: 6046.334220969089\tTime: 0:00:00.665090\n",
      "Epoch: [5/100]\tSamples: [27915/558300]\tTrain Loss: 5863.806748723804\tTime: 0:00:08.203431\n",
      "Epoch: [5/100]\tSamples: [1197/119700]\tValidation Loss: 6114.917606516291\tTime: 0:00:00.683972\n",
      "Epoch: [6/100]\tSamples: [33498/558300]\tTrain Loss: 5842.324174670875\tTime: 0:00:08.410844\n",
      "Epoch: [6/100]\tSamples: [1197/119700]\tValidation Loss: 6019.166496971596\tTime: 0:00:00.730342\n",
      "Epoch: [7/100]\tSamples: [39081/558300]\tTrain Loss: 5818.589242734641\tTime: 0:00:09.615693\n",
      "Epoch: [7/100]\tSamples: [1197/119700]\tValidation Loss: 5935.075997284879\tTime: 0:00:00.795283\n",
      "Epoch: [8/100]\tSamples: [44664/558300]\tTrain Loss: 5797.875009795361\tTime: 0:00:08.932207\n",
      "Epoch: [8/100]\tSamples: [1197/119700]\tValidation Loss: 5974.028404344193\tTime: 0:00:00.785205\n",
      "Epoch: [9/100]\tSamples: [50247/558300]\tTrain Loss: 5773.64460331587\tTime: 0:00:09.197801\n",
      "Epoch: [9/100]\tSamples: [1197/119700]\tValidation Loss: 5976.5919486215535\tTime: 0:00:00.763753\n",
      "Epoch: [10/100]\tSamples: [55830/558300]\tTrain Loss: 5758.541912950027\tTime: 0:00:09.278036\n",
      "Epoch: [10/100]\tSamples: [1197/119700]\tValidation Loss: 6006.295112781955\tTime: 0:00:00.752841\n",
      "Epoch: [11/100]\tSamples: [61413/558300]\tTrain Loss: 5760.374808290793\tTime: 0:00:08.972485\n",
      "Epoch: [11/100]\tSamples: [1197/119700]\tValidation Loss: 5906.841074039265\tTime: 0:00:00.741346\n",
      "Epoch: [12/100]\tSamples: [66996/558300]\tTrain Loss: 5739.443873981282\tTime: 0:00:09.075859\n",
      "Epoch: [12/100]\tSamples: [1197/119700]\tValidation Loss: 5960.358291562239\tTime: 0:00:00.689218\n",
      "Epoch: [13/100]\tSamples: [72579/558300]\tTrain Loss: 5737.029419666846\tTime: 0:00:08.583841\n",
      "Epoch: [13/100]\tSamples: [1197/119700]\tValidation Loss: 5952.345603592315\tTime: 0:00:00.727304\n",
      "Epoch: [14/100]\tSamples: [78162/558300]\tTrain Loss: 5728.305159076661\tTime: 0:00:08.698082\n",
      "Epoch: [14/100]\tSamples: [1197/119700]\tValidation Loss: 5946.5442643066\tTime: 0:00:00.756036\n",
      "Epoch: [15/100]\tSamples: [83745/558300]\tTrain Loss: 5726.009981472775\tTime: 0:00:08.771042\n",
      "Epoch: [15/100]\tSamples: [1197/119700]\tValidation Loss: 5909.799707602339\tTime: 0:00:00.765850\n",
      "Epoch: [16/100]\tSamples: [89328/558300]\tTrain Loss: 5734.187954784614\tTime: 0:00:09.034359\n",
      "Epoch: [16/100]\tSamples: [1197/119700]\tValidation Loss: 5967.684328007519\tTime: 0:00:00.740856\n",
      "Early stopping\n",
      "Topic diversity with Preprocessing: 0.804\n",
      "npmi_Coherence with Preprocessing: 0.02711283381204358\n",
      "cv_Coherence with Preprocessing: 0.54537673077194\n",
      "umass_Coherence with Preprocessing: -6.230383813305694\n"
     ]
    }
   ],
   "source": [
    "ProdLDA_model = ProdLDA(num_topics=25)  # Create model\n",
    "trained_ProdLDA_model = ProdLDA_model.train_model(Preprocesed_dataset) # Train the model\n",
    "\n",
    "# Initialize metric\n",
    "npmi_Coherence = Coherence(texts=Preprocesed_dataset.get_corpus(), topk=10, measure='c_npmi') \n",
    "\n",
    "cv_Coherence = Coherence(texts=Preprocesed_dataset.get_corpus(), topk=10, measure='c_v')\n",
    "\n",
    "umass_Coherence = Coherence(texts=Preprocesed_dataset.get_corpus(), topk=10, measure='u_mass')\n",
    "\n",
    "topic_diversity = TopicDiversity(topk=10)\n",
    "\n",
    "# Retrieve metrics score\n",
    "topic_diversity_score = topic_diversity.score(trained_ProdLDA_model)\n",
    "print(\"Topic diversity with Preprocessing: \"+str(topic_diversity_score))\n",
    "\n",
    "npmi_score = npmi_Coherence.score(trained_ProdLDA_model)\n",
    "print(\"npmi_Coherence with Preprocessing: \"+str(npmi_score))\n",
    "\n",
    "CV_score = cv_Coherence.score(trained_ProdLDA_model)\n",
    "print(\"cv_Coherence with Preprocessing: \"+str(CV_score))\n",
    "\n",
    "umass_score = umass_Coherence.score(trained_ProdLDA_model)\n",
    "print(\"umass_Coherence with Preprocessing: \"+str(umass_score))"
   ]
  },
  {
   "cell_type": "code",
   "execution_count": 69,
   "id": "68c97c8b",
   "metadata": {},
   "outputs": [],
   "source": [
    "################### NMF #################################"
   ]
  },
  {
   "cell_type": "code",
   "execution_count": 70,
   "id": "772b13de",
   "metadata": {},
   "outputs": [
    {
     "name": "stdout",
     "output_type": "stream",
     "text": [
      "Topic diversity with Preprocessing: 0.448\n",
      "npmi_Coherence with Preprocessing: 0.12906142812440502\n",
      "cv_Coherence with Preprocessing: 0.52788290362679\n",
      "umass_Coherence with Preprocessing: -2.3602788740069696\n"
     ]
    }
   ],
   "source": [
    "Pre_NMF_model = NMF(num_topics=25)  # Create model\n",
    "trained_Pre_NMF_model = Pre_NMF_model.train_model(Preprocesed_dataset) # Train the model\n",
    "\n",
    "# Initialize metric\n",
    "npmi_Coherence = Coherence(texts=Preprocesed_dataset.get_corpus(), topk=10, measure='c_npmi') \n",
    "\n",
    "cv_Coherence = Coherence(texts=Preprocesed_dataset.get_corpus(), topk=10, measure='c_v')\n",
    "\n",
    "umass_Coherence = Coherence(texts=Preprocesed_dataset.get_corpus(), topk=10, measure='u_mass')\n",
    "\n",
    "topic_diversity = TopicDiversity(topk=10)\n",
    "\n",
    "# Retrieve metrics score\n",
    "topic_diversity_score = topic_diversity.score(trained_Pre_NMF_model)\n",
    "print(\"Topic diversity with Preprocessing: \"+str(topic_diversity_score))\n",
    "\n",
    "npmi_score = npmi_Coherence.score(trained_Pre_NMF_model)\n",
    "print(\"npmi_Coherence with Preprocessing: \"+str(npmi_score))\n",
    "\n",
    "CV_score = cv_Coherence.score(trained_Pre_NMF_model)\n",
    "print(\"cv_Coherence with Preprocessing: \"+str(CV_score))\n",
    "\n",
    "umass_score = umass_Coherence.score(trained_Pre_NMF_model)\n",
    "print(\"umass_Coherence with Preprocessing: \"+str(umass_score))"
   ]
  },
  {
   "cell_type": "code",
   "execution_count": null,
   "id": "50bf6a54",
   "metadata": {},
   "outputs": [],
   "source": []
  }
 ],
 "metadata": {
  "kernelspec": {
   "display_name": "Python 3 (ipykernel)",
   "language": "python",
   "name": "python3"
  },
  "language_info": {
   "codemirror_mode": {
    "name": "ipython",
    "version": 3
   },
   "file_extension": ".py",
   "mimetype": "text/x-python",
   "name": "python",
   "nbconvert_exporter": "python",
   "pygments_lexer": "ipython3",
   "version": "3.9.7"
  }
 },
 "nbformat": 4,
 "nbformat_minor": 5
}
